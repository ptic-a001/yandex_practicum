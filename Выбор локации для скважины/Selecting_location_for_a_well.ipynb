{
 "cells": [
  {
   "cell_type": "markdown",
   "metadata": {},
   "source": [
    "# Выбор локации для скважины"
   ]
  },
  {
   "cell_type": "markdown",
   "metadata": {},
   "source": [
    "Допустим, вы работаете в добывающей компании «ГлавРосГосНефть». Нужно решить, где бурить новую скважину.\n",
    "\n",
    "Вам предоставлены пробы нефти в трёх регионах: в каждом 10 000 месторождений, где измерили качество нефти и объём её запасов. Постройте модель машинного обучения, которая поможет определить регион, где добыча принесёт наибольшую прибыль. Проанализируйте возможную прибыль и риски техникой *Bootstrap.*\n",
    "\n",
    "Шаги для выбора локации:\n",
    "\n",
    "- В избранном регионе ищут месторождения, для каждого определяют значения признаков;\n",
    "- Строят модель и оценивают объём запасов;\n",
    "- Выбирают месторождения с самым высокими оценками значений. Количество месторождений зависит от бюджета компании и стоимости разработки одной скважины;\n",
    "- Прибыль равна суммарной прибыли отобранных месторождений."
   ]
  },
  {
   "cell_type": "code",
   "execution_count": 3,
   "metadata": {},
   "outputs": [],
   "source": [
    "import pandas as pd \n",
    "import numpy as np \n",
    "import seaborn as sns\n",
    "import matplotlib.pyplot as plt\n",
    "\n",
    "\n",
    "from sklearn.model_selection import StratifiedKFold, train_test_split\n",
    "from sklearn.pipeline import  make_pipeline\n",
    "from sklearn.model_selection import GridSearchCV, RandomizedSearchCV\n",
    "from sklearn.metrics import mean_squared_error, r2_score ,median_absolute_error\n",
    "from sklearn.linear_model  import LinearRegression, Ridge, Lasso, ElasticNet\n",
    "\n",
    "from sklearn.preprocessing import Normalizer,StandardScaler\n",
    "\n",
    "from sklearn.model_selection import KFold\n",
    "\n",
    "from sklearn.model_selection import PredefinedSplit\n",
    "\n",
    "from imblearn.pipeline import make_pipeline as make_imblearn_pipeline\n",
    "from sklearn.metrics import get_scorer_names"
   ]
  },
  {
   "cell_type": "code",
   "execution_count": 4,
   "metadata": {},
   "outputs": [],
   "source": [
    "np.random.seed(42)"
   ]
  },
  {
   "cell_type": "markdown",
   "metadata": {},
   "source": [
    "## Загрузка и подготовка данных"
   ]
  },
  {
   "cell_type": "code",
   "execution_count": 5,
   "metadata": {},
   "outputs": [],
   "source": [
    "def explore_dataframe_text(df):\n",
    "    # выводим первые 5 строк датафрейма\n",
    "    # выводим первые 5 строк датафрейма\n",
    "    print(\"*\" * 50)\n",
    "    print(\"Первые 5 строк датафрейма:\")\n",
    "    print(\"*\" * 50)\n",
    "    display(df.head())\n",
    "    print()\n",
    "    \n",
    "    # выводим информацию о типах данных и количестве пропущенных значений\n",
    "    print(\"*\" * 50)\n",
    "    print(\"Информация о данных:\")\n",
    "    print(\"*\" * 50)\n",
    "    print()\n",
    "    print(df.info())\n",
    "    print()\n",
    "    \n",
    "    # выводим описание статистических характеристик числовых столбцов\n",
    "    print(\"*\" * 50)\n",
    "    print(\"Статистические характеристики числовых столбцов:\")\n",
    "    print(\"*\" * 50)\n",
    "    print()\n",
    "\n",
    "    display(df.describe())\n",
    "    print()\n",
    "    \n",
    "    # выводим сколько дубликатов найдено\n",
    "    print(\"*\" * 50)\n",
    "    print(\"Кол-во дубликатов\")\n",
    "    print(\"*\" * 50)\n",
    "    print(df['id'].duplicated().sum())\n",
    "    print('\\n\\n')\n",
    "    \n",
    "    # выводим все дублирующиееся id\n",
    "    print(\"*\" * 50)\n",
    "    print(\"Вывод дублированных данных\")\n",
    "    print(\"*\" * 50)\n",
    "    duplicated_objects = df[df['id'].isin(df[df['id'].duplicated()]['id'])].sort_values(by='id')\n",
    "    display(duplicated_objects)\n",
    "    print()\n",
    "    \n",
    "    # Проверка на то являются ли они полными дубликатами\n",
    "    print(\"*\" * 50)\n",
    "    print(\"Кол-во строк являющихся полнымы дубликатами\\n\")\n",
    "    print(\"*\" * 50)\n",
    "    print(duplicated_objects.duplicated().sum())\n",
    "    \n",
    "    if duplicated_objects.duplicated().sum() == 0 : \n",
    "        print(\"Объекты не являются полными дубликатами\\n\")\n",
    "    else:\n",
    "        print(\"Есть полные дубликаты: \\n\")\n",
    "        display(duplicated_objects[duplicated_objects.duplicated()])\n",
    "    \n",
    "    print()\n",
    "    \n",
    "    \n",
    "    #выводим корреляцию между признаками \n",
    "    print(\"*\" * 50)\n",
    "    print(\"Корреляция между признаками \")\n",
    "    print(\"*\" * 50)\n",
    "    display(df.corr())\n",
    "    print()\n",
    "    \n",
    "    \n",
    "    "
   ]
  },
  {
   "cell_type": "code",
   "execution_count": 6,
   "metadata": {},
   "outputs": [],
   "source": [
    "def draw_boxplot_kde(df):\n",
    "    \n",
    "    plt.figure(figsize=(15,8))\n",
    "    sns.set_style(\"darkgrid\")\n",
    "    sns.despine()\n",
    "    \n",
    "    for i in df.select_dtypes(exclude='object'):\n",
    "        fig, axs = plt.subplots(ncols=2, figsize=(15, 7))\n",
    "        sns.boxplot(x=i, data=df, ax=axs[0],notch=True)\n",
    "        axs[0].set_title(\"Boxplot\")\n",
    "        sns.kdeplot(x=i, data=df, ax=axs[1])\n",
    "        axs[1].set_title(\"KDE\")\n",
    "        plt.show()"
   ]
  },
  {
   "cell_type": "code",
   "execution_count": 7,
   "metadata": {},
   "outputs": [],
   "source": [
    "def check_inter_duplication(df0,df1,df2):\n",
    "    ser= pd.Series(dtype='object')\n",
    "    \n",
    "    for i in range(3):   \n",
    "        if i == 0:\n",
    "            print(\"*\" * 60)\n",
    "            print(\"id из 0 региона, являющиеся дубликатами id из 1 региона\\n\")\n",
    "            print(\"*\" * 60)\n",
    "            unique_id = df0[df0['id'].isin(df1['id'].unique())]['id']\n",
    "            display(unique_id)\n",
    "            duplicated_id = df0[df0['id'].duplicated()]['id']\n",
    "            if df0[df0['id'].duplicated()].isin(unique_id).sum()[0] == 0:\n",
    "                print(\"Дубликаты внутри региона не пересекаются с дубликатами между регионами\\n\")\n",
    "            else:\n",
    "                print(\"Найдены дубликаты внутри региона, пересекающиеся с дубликатами между регионами\\n\")   \n",
    "            ser0 = pd.concat([ser,unique_id,duplicated_id])\n",
    "            \n",
    "        elif i == 1:\n",
    "            print(\"*\" * 60)\n",
    "            print(\"id из 1 региона, являющиеся дубликатами id из 2 региона\\n\")\n",
    "            print(\"*\" * 60)\n",
    "            unique_id = df1[df1['id'].isin(df2['id'].unique())]['id']\n",
    "            display(unique_id)\n",
    "            duplicated_id = df1[df1['id'].duplicated()]['id']\n",
    "            if df1[df1['id'].duplicated()].isin(unique_id).sum()[0] == 0:\n",
    "                print(\"Дубликаты внутри региона не пересекаются с дубликатами между регионами\\n\")\n",
    "            else:\n",
    "                print(\"Найдены дубликаты внутри региона, пересекающиеся с дубликатами между регионами\\n\")\n",
    "            ser1 = pd.concat([ser,unique_id,duplicated_id])\n",
    "        elif i == 2:\n",
    "            print(\"*\" * 60)\n",
    "            print(\"id из 2 региона, являющиеся дубликатами id из 0 региона\\n\")\n",
    "            print(\"*\" * 60)\n",
    "            unique_id = df2[df2['id'].isin(df0['id'].unique())]['id']\n",
    "            display(unique_id)\n",
    "            duplicated_id = df2[df2['id'].duplicated()]['id']\n",
    "            if df2[df2['id'].duplicated()].isin(unique_id).sum()[0] == 0:\n",
    "                print(\"Дубликаты внутри региона не пересекаются с дубликатами между регионами\\n\")\n",
    "            else:\n",
    "                print(\"Найдены дубликаты внутри региона, пересекающиеся с дубликатами между регионами\\n\")\n",
    "            ser2 = pd.concat([ser,unique_id,duplicated_id])\n",
    "    return [ser0,ser1,ser2]"
   ]
  },
  {
   "cell_type": "code",
   "execution_count": 8,
   "metadata": {},
   "outputs": [],
   "source": [
    "def replace_indexes(df0, df1, df2, mask0, mask1, mask2):\n",
    "    df0.loc[mask0, 'id'] = df0.loc[mask0,'id'] + '_d'\n",
    "    df1.loc[mask1, 'id'] = df1.loc[mask1,'id'] + '_d'\n",
    "    df2.loc[mask2, 'id'] = df2.loc[mask2,'id'] + '_d'\n",
    "    return df0, df1, df2"
   ]
  },
  {
   "cell_type": "code",
   "execution_count": 9,
   "metadata": {},
   "outputs": [],
   "source": [
    "df_geo_data_0 = pd.read_csv('/datasets/geo_data_0.csv')"
   ]
  },
  {
   "cell_type": "code",
   "execution_count": 10,
   "metadata": {},
   "outputs": [],
   "source": [
    "df_geo_data_1 = pd.read_csv('/datasets/geo_data_1.csv')"
   ]
  },
  {
   "cell_type": "code",
   "execution_count": 11,
   "metadata": {},
   "outputs": [],
   "source": [
    "df_geo_data_2 = pd.read_csv('/datasets/geo_data_2.csv')"
   ]
  },
  {
   "cell_type": "markdown",
   "metadata": {},
   "source": [
    "### Регион №0"
   ]
  },
  {
   "cell_type": "code",
   "execution_count": 12,
   "metadata": {
    "scrolled": false
   },
   "outputs": [
    {
     "name": "stdout",
     "output_type": "stream",
     "text": [
      "**************************************************\n",
      "Первые 5 строк датафрейма:\n",
      "**************************************************\n"
     ]
    },
    {
     "data": {
      "text/html": [
       "<div>\n",
       "<style scoped>\n",
       "    .dataframe tbody tr th:only-of-type {\n",
       "        vertical-align: middle;\n",
       "    }\n",
       "\n",
       "    .dataframe tbody tr th {\n",
       "        vertical-align: top;\n",
       "    }\n",
       "\n",
       "    .dataframe thead th {\n",
       "        text-align: right;\n",
       "    }\n",
       "</style>\n",
       "<table border=\"1\" class=\"dataframe\">\n",
       "  <thead>\n",
       "    <tr style=\"text-align: right;\">\n",
       "      <th></th>\n",
       "      <th>id</th>\n",
       "      <th>f0</th>\n",
       "      <th>f1</th>\n",
       "      <th>f2</th>\n",
       "      <th>product</th>\n",
       "    </tr>\n",
       "  </thead>\n",
       "  <tbody>\n",
       "    <tr>\n",
       "      <th>0</th>\n",
       "      <td>txEyH</td>\n",
       "      <td>0.705745</td>\n",
       "      <td>-0.497823</td>\n",
       "      <td>1.221170</td>\n",
       "      <td>105.280062</td>\n",
       "    </tr>\n",
       "    <tr>\n",
       "      <th>1</th>\n",
       "      <td>2acmU</td>\n",
       "      <td>1.334711</td>\n",
       "      <td>-0.340164</td>\n",
       "      <td>4.365080</td>\n",
       "      <td>73.037750</td>\n",
       "    </tr>\n",
       "    <tr>\n",
       "      <th>2</th>\n",
       "      <td>409Wp</td>\n",
       "      <td>1.022732</td>\n",
       "      <td>0.151990</td>\n",
       "      <td>1.419926</td>\n",
       "      <td>85.265647</td>\n",
       "    </tr>\n",
       "    <tr>\n",
       "      <th>3</th>\n",
       "      <td>iJLyR</td>\n",
       "      <td>-0.032172</td>\n",
       "      <td>0.139033</td>\n",
       "      <td>2.978566</td>\n",
       "      <td>168.620776</td>\n",
       "    </tr>\n",
       "    <tr>\n",
       "      <th>4</th>\n",
       "      <td>Xdl7t</td>\n",
       "      <td>1.988431</td>\n",
       "      <td>0.155413</td>\n",
       "      <td>4.751769</td>\n",
       "      <td>154.036647</td>\n",
       "    </tr>\n",
       "  </tbody>\n",
       "</table>\n",
       "</div>"
      ],
      "text/plain": [
       "      id        f0        f1        f2     product\n",
       "0  txEyH  0.705745 -0.497823  1.221170  105.280062\n",
       "1  2acmU  1.334711 -0.340164  4.365080   73.037750\n",
       "2  409Wp  1.022732  0.151990  1.419926   85.265647\n",
       "3  iJLyR -0.032172  0.139033  2.978566  168.620776\n",
       "4  Xdl7t  1.988431  0.155413  4.751769  154.036647"
      ]
     },
     "metadata": {},
     "output_type": "display_data"
    },
    {
     "name": "stdout",
     "output_type": "stream",
     "text": [
      "\n",
      "**************************************************\n",
      "Информация о данных:\n",
      "**************************************************\n",
      "\n",
      "<class 'pandas.core.frame.DataFrame'>\n",
      "RangeIndex: 100000 entries, 0 to 99999\n",
      "Data columns (total 5 columns):\n",
      " #   Column   Non-Null Count   Dtype  \n",
      "---  ------   --------------   -----  \n",
      " 0   id       100000 non-null  object \n",
      " 1   f0       100000 non-null  float64\n",
      " 2   f1       100000 non-null  float64\n",
      " 3   f2       100000 non-null  float64\n",
      " 4   product  100000 non-null  float64\n",
      "dtypes: float64(4), object(1)\n",
      "memory usage: 3.8+ MB\n",
      "None\n",
      "\n",
      "**************************************************\n",
      "Статистические характеристики числовых столбцов:\n",
      "**************************************************\n",
      "\n"
     ]
    },
    {
     "data": {
      "text/html": [
       "<div>\n",
       "<style scoped>\n",
       "    .dataframe tbody tr th:only-of-type {\n",
       "        vertical-align: middle;\n",
       "    }\n",
       "\n",
       "    .dataframe tbody tr th {\n",
       "        vertical-align: top;\n",
       "    }\n",
       "\n",
       "    .dataframe thead th {\n",
       "        text-align: right;\n",
       "    }\n",
       "</style>\n",
       "<table border=\"1\" class=\"dataframe\">\n",
       "  <thead>\n",
       "    <tr style=\"text-align: right;\">\n",
       "      <th></th>\n",
       "      <th>f0</th>\n",
       "      <th>f1</th>\n",
       "      <th>f2</th>\n",
       "      <th>product</th>\n",
       "    </tr>\n",
       "  </thead>\n",
       "  <tbody>\n",
       "    <tr>\n",
       "      <th>count</th>\n",
       "      <td>100000.000000</td>\n",
       "      <td>100000.000000</td>\n",
       "      <td>100000.000000</td>\n",
       "      <td>100000.000000</td>\n",
       "    </tr>\n",
       "    <tr>\n",
       "      <th>mean</th>\n",
       "      <td>0.500419</td>\n",
       "      <td>0.250143</td>\n",
       "      <td>2.502647</td>\n",
       "      <td>92.500000</td>\n",
       "    </tr>\n",
       "    <tr>\n",
       "      <th>std</th>\n",
       "      <td>0.871832</td>\n",
       "      <td>0.504433</td>\n",
       "      <td>3.248248</td>\n",
       "      <td>44.288691</td>\n",
       "    </tr>\n",
       "    <tr>\n",
       "      <th>min</th>\n",
       "      <td>-1.408605</td>\n",
       "      <td>-0.848218</td>\n",
       "      <td>-12.088328</td>\n",
       "      <td>0.000000</td>\n",
       "    </tr>\n",
       "    <tr>\n",
       "      <th>25%</th>\n",
       "      <td>-0.072580</td>\n",
       "      <td>-0.200881</td>\n",
       "      <td>0.287748</td>\n",
       "      <td>56.497507</td>\n",
       "    </tr>\n",
       "    <tr>\n",
       "      <th>50%</th>\n",
       "      <td>0.502360</td>\n",
       "      <td>0.250252</td>\n",
       "      <td>2.515969</td>\n",
       "      <td>91.849972</td>\n",
       "    </tr>\n",
       "    <tr>\n",
       "      <th>75%</th>\n",
       "      <td>1.073581</td>\n",
       "      <td>0.700646</td>\n",
       "      <td>4.715088</td>\n",
       "      <td>128.564089</td>\n",
       "    </tr>\n",
       "    <tr>\n",
       "      <th>max</th>\n",
       "      <td>2.362331</td>\n",
       "      <td>1.343769</td>\n",
       "      <td>16.003790</td>\n",
       "      <td>185.364347</td>\n",
       "    </tr>\n",
       "  </tbody>\n",
       "</table>\n",
       "</div>"
      ],
      "text/plain": [
       "                  f0             f1             f2        product\n",
       "count  100000.000000  100000.000000  100000.000000  100000.000000\n",
       "mean        0.500419       0.250143       2.502647      92.500000\n",
       "std         0.871832       0.504433       3.248248      44.288691\n",
       "min        -1.408605      -0.848218     -12.088328       0.000000\n",
       "25%        -0.072580      -0.200881       0.287748      56.497507\n",
       "50%         0.502360       0.250252       2.515969      91.849972\n",
       "75%         1.073581       0.700646       4.715088     128.564089\n",
       "max         2.362331       1.343769      16.003790     185.364347"
      ]
     },
     "metadata": {},
     "output_type": "display_data"
    },
    {
     "name": "stdout",
     "output_type": "stream",
     "text": [
      "\n",
      "**************************************************\n",
      "Кол-во дубликатов\n",
      "**************************************************\n",
      "10\n",
      "\n",
      "\n",
      "\n",
      "**************************************************\n",
      "Вывод дублированных данных\n",
      "**************************************************\n"
     ]
    },
    {
     "data": {
      "text/html": [
       "<div>\n",
       "<style scoped>\n",
       "    .dataframe tbody tr th:only-of-type {\n",
       "        vertical-align: middle;\n",
       "    }\n",
       "\n",
       "    .dataframe tbody tr th {\n",
       "        vertical-align: top;\n",
       "    }\n",
       "\n",
       "    .dataframe thead th {\n",
       "        text-align: right;\n",
       "    }\n",
       "</style>\n",
       "<table border=\"1\" class=\"dataframe\">\n",
       "  <thead>\n",
       "    <tr style=\"text-align: right;\">\n",
       "      <th></th>\n",
       "      <th>id</th>\n",
       "      <th>f0</th>\n",
       "      <th>f1</th>\n",
       "      <th>f2</th>\n",
       "      <th>product</th>\n",
       "    </tr>\n",
       "  </thead>\n",
       "  <tbody>\n",
       "    <tr>\n",
       "      <th>66136</th>\n",
       "      <td>74z30</td>\n",
       "      <td>1.084962</td>\n",
       "      <td>-0.312358</td>\n",
       "      <td>6.990771</td>\n",
       "      <td>127.643327</td>\n",
       "    </tr>\n",
       "    <tr>\n",
       "      <th>64022</th>\n",
       "      <td>74z30</td>\n",
       "      <td>0.741456</td>\n",
       "      <td>0.459229</td>\n",
       "      <td>5.153109</td>\n",
       "      <td>140.771492</td>\n",
       "    </tr>\n",
       "    <tr>\n",
       "      <th>51970</th>\n",
       "      <td>A5aEY</td>\n",
       "      <td>-0.180335</td>\n",
       "      <td>0.935548</td>\n",
       "      <td>-2.094773</td>\n",
       "      <td>33.020205</td>\n",
       "    </tr>\n",
       "    <tr>\n",
       "      <th>3389</th>\n",
       "      <td>A5aEY</td>\n",
       "      <td>-0.039949</td>\n",
       "      <td>0.156872</td>\n",
       "      <td>0.209861</td>\n",
       "      <td>89.249364</td>\n",
       "    </tr>\n",
       "    <tr>\n",
       "      <th>69163</th>\n",
       "      <td>AGS9W</td>\n",
       "      <td>-0.933795</td>\n",
       "      <td>0.116194</td>\n",
       "      <td>-3.655896</td>\n",
       "      <td>19.230453</td>\n",
       "    </tr>\n",
       "    <tr>\n",
       "      <th>42529</th>\n",
       "      <td>AGS9W</td>\n",
       "      <td>1.454747</td>\n",
       "      <td>-0.479651</td>\n",
       "      <td>0.683380</td>\n",
       "      <td>126.370504</td>\n",
       "    </tr>\n",
       "    <tr>\n",
       "      <th>931</th>\n",
       "      <td>HZww2</td>\n",
       "      <td>0.755284</td>\n",
       "      <td>0.368511</td>\n",
       "      <td>1.863211</td>\n",
       "      <td>30.681774</td>\n",
       "    </tr>\n",
       "    <tr>\n",
       "      <th>7530</th>\n",
       "      <td>HZww2</td>\n",
       "      <td>1.061194</td>\n",
       "      <td>-0.373969</td>\n",
       "      <td>10.430210</td>\n",
       "      <td>158.828695</td>\n",
       "    </tr>\n",
       "    <tr>\n",
       "      <th>63593</th>\n",
       "      <td>QcMuo</td>\n",
       "      <td>0.635635</td>\n",
       "      <td>-0.473422</td>\n",
       "      <td>0.862670</td>\n",
       "      <td>64.578675</td>\n",
       "    </tr>\n",
       "    <tr>\n",
       "      <th>1949</th>\n",
       "      <td>QcMuo</td>\n",
       "      <td>0.506563</td>\n",
       "      <td>-0.323775</td>\n",
       "      <td>-2.215583</td>\n",
       "      <td>75.496502</td>\n",
       "    </tr>\n",
       "    <tr>\n",
       "      <th>75715</th>\n",
       "      <td>Tdehs</td>\n",
       "      <td>0.112079</td>\n",
       "      <td>0.430296</td>\n",
       "      <td>3.218993</td>\n",
       "      <td>60.964018</td>\n",
       "    </tr>\n",
       "    <tr>\n",
       "      <th>21426</th>\n",
       "      <td>Tdehs</td>\n",
       "      <td>0.829407</td>\n",
       "      <td>0.298807</td>\n",
       "      <td>-0.049563</td>\n",
       "      <td>96.035308</td>\n",
       "    </tr>\n",
       "    <tr>\n",
       "      <th>92341</th>\n",
       "      <td>TtcGQ</td>\n",
       "      <td>0.110711</td>\n",
       "      <td>1.022689</td>\n",
       "      <td>0.911381</td>\n",
       "      <td>101.318008</td>\n",
       "    </tr>\n",
       "    <tr>\n",
       "      <th>60140</th>\n",
       "      <td>TtcGQ</td>\n",
       "      <td>0.569276</td>\n",
       "      <td>-0.104876</td>\n",
       "      <td>6.440215</td>\n",
       "      <td>85.350186</td>\n",
       "    </tr>\n",
       "    <tr>\n",
       "      <th>89582</th>\n",
       "      <td>bsk9y</td>\n",
       "      <td>0.398908</td>\n",
       "      <td>-0.400253</td>\n",
       "      <td>10.122376</td>\n",
       "      <td>163.433078</td>\n",
       "    </tr>\n",
       "    <tr>\n",
       "      <th>97785</th>\n",
       "      <td>bsk9y</td>\n",
       "      <td>0.378429</td>\n",
       "      <td>0.005837</td>\n",
       "      <td>0.160827</td>\n",
       "      <td>160.637302</td>\n",
       "    </tr>\n",
       "    <tr>\n",
       "      <th>41724</th>\n",
       "      <td>bxg6G</td>\n",
       "      <td>-0.823752</td>\n",
       "      <td>0.546319</td>\n",
       "      <td>3.630479</td>\n",
       "      <td>93.007798</td>\n",
       "    </tr>\n",
       "    <tr>\n",
       "      <th>1364</th>\n",
       "      <td>bxg6G</td>\n",
       "      <td>0.411645</td>\n",
       "      <td>0.856830</td>\n",
       "      <td>-3.653440</td>\n",
       "      <td>73.604260</td>\n",
       "    </tr>\n",
       "    <tr>\n",
       "      <th>16633</th>\n",
       "      <td>fiKDv</td>\n",
       "      <td>0.157341</td>\n",
       "      <td>1.028359</td>\n",
       "      <td>5.585586</td>\n",
       "      <td>95.817889</td>\n",
       "    </tr>\n",
       "    <tr>\n",
       "      <th>90815</th>\n",
       "      <td>fiKDv</td>\n",
       "      <td>0.049883</td>\n",
       "      <td>0.841313</td>\n",
       "      <td>6.394613</td>\n",
       "      <td>137.346586</td>\n",
       "    </tr>\n",
       "  </tbody>\n",
       "</table>\n",
       "</div>"
      ],
      "text/plain": [
       "          id        f0        f1         f2     product\n",
       "66136  74z30  1.084962 -0.312358   6.990771  127.643327\n",
       "64022  74z30  0.741456  0.459229   5.153109  140.771492\n",
       "51970  A5aEY -0.180335  0.935548  -2.094773   33.020205\n",
       "3389   A5aEY -0.039949  0.156872   0.209861   89.249364\n",
       "69163  AGS9W -0.933795  0.116194  -3.655896   19.230453\n",
       "42529  AGS9W  1.454747 -0.479651   0.683380  126.370504\n",
       "931    HZww2  0.755284  0.368511   1.863211   30.681774\n",
       "7530   HZww2  1.061194 -0.373969  10.430210  158.828695\n",
       "63593  QcMuo  0.635635 -0.473422   0.862670   64.578675\n",
       "1949   QcMuo  0.506563 -0.323775  -2.215583   75.496502\n",
       "75715  Tdehs  0.112079  0.430296   3.218993   60.964018\n",
       "21426  Tdehs  0.829407  0.298807  -0.049563   96.035308\n",
       "92341  TtcGQ  0.110711  1.022689   0.911381  101.318008\n",
       "60140  TtcGQ  0.569276 -0.104876   6.440215   85.350186\n",
       "89582  bsk9y  0.398908 -0.400253  10.122376  163.433078\n",
       "97785  bsk9y  0.378429  0.005837   0.160827  160.637302\n",
       "41724  bxg6G -0.823752  0.546319   3.630479   93.007798\n",
       "1364   bxg6G  0.411645  0.856830  -3.653440   73.604260\n",
       "16633  fiKDv  0.157341  1.028359   5.585586   95.817889\n",
       "90815  fiKDv  0.049883  0.841313   6.394613  137.346586"
      ]
     },
     "metadata": {},
     "output_type": "display_data"
    },
    {
     "name": "stdout",
     "output_type": "stream",
     "text": [
      "\n",
      "**************************************************\n",
      "Кол-во строк являющихся полнымы дубликатами\n",
      "\n",
      "**************************************************\n",
      "0\n",
      "Объекты не являются полными дубликатами\n",
      "\n",
      "\n",
      "**************************************************\n",
      "Корреляция между признаками \n",
      "**************************************************\n"
     ]
    },
    {
     "data": {
      "text/html": [
       "<div>\n",
       "<style scoped>\n",
       "    .dataframe tbody tr th:only-of-type {\n",
       "        vertical-align: middle;\n",
       "    }\n",
       "\n",
       "    .dataframe tbody tr th {\n",
       "        vertical-align: top;\n",
       "    }\n",
       "\n",
       "    .dataframe thead th {\n",
       "        text-align: right;\n",
       "    }\n",
       "</style>\n",
       "<table border=\"1\" class=\"dataframe\">\n",
       "  <thead>\n",
       "    <tr style=\"text-align: right;\">\n",
       "      <th></th>\n",
       "      <th>f0</th>\n",
       "      <th>f1</th>\n",
       "      <th>f2</th>\n",
       "      <th>product</th>\n",
       "    </tr>\n",
       "  </thead>\n",
       "  <tbody>\n",
       "    <tr>\n",
       "      <th>f0</th>\n",
       "      <td>1.000000</td>\n",
       "      <td>-0.440723</td>\n",
       "      <td>-0.003153</td>\n",
       "      <td>0.143536</td>\n",
       "    </tr>\n",
       "    <tr>\n",
       "      <th>f1</th>\n",
       "      <td>-0.440723</td>\n",
       "      <td>1.000000</td>\n",
       "      <td>0.001724</td>\n",
       "      <td>-0.192356</td>\n",
       "    </tr>\n",
       "    <tr>\n",
       "      <th>f2</th>\n",
       "      <td>-0.003153</td>\n",
       "      <td>0.001724</td>\n",
       "      <td>1.000000</td>\n",
       "      <td>0.483663</td>\n",
       "    </tr>\n",
       "    <tr>\n",
       "      <th>product</th>\n",
       "      <td>0.143536</td>\n",
       "      <td>-0.192356</td>\n",
       "      <td>0.483663</td>\n",
       "      <td>1.000000</td>\n",
       "    </tr>\n",
       "  </tbody>\n",
       "</table>\n",
       "</div>"
      ],
      "text/plain": [
       "               f0        f1        f2   product\n",
       "f0       1.000000 -0.440723 -0.003153  0.143536\n",
       "f1      -0.440723  1.000000  0.001724 -0.192356\n",
       "f2      -0.003153  0.001724  1.000000  0.483663\n",
       "product  0.143536 -0.192356  0.483663  1.000000"
      ]
     },
     "metadata": {},
     "output_type": "display_data"
    },
    {
     "name": "stdout",
     "output_type": "stream",
     "text": [
      "\n"
     ]
    }
   ],
   "source": [
    "explore_dataframe_text(df_geo_data_0)"
   ]
  },
  {
   "cell_type": "markdown",
   "metadata": {},
   "source": [
    "**Заметка 1**  \n",
    "- Посмотреть на f2, так как разброс куда сильнее чем у ф1 и ф2,  могут быть выбросы/аномалии  (+ нужно масштабирование )  \n",
    "- Есть 10 пар которые продублированы по id, так как в заданиb я не нашел ничего, что могло бы объяснить эти дублированные id, то я опираясь на логику делаю вывод что алгоритм присваивающий id не проверял на уникальность, так как за 100000 попасть всего 10 раз  -> поменять id на значения которых в дф нет. Но для возможности поиска я сделаю приставку _d что будет означать что этот ид являлася дубликатом \n",
    "- Есть умеренно отрицательная корреляция f0 и f1, f2 и product-> было бы разумно использовать регуляризацию   \n"
   ]
  },
  {
   "cell_type": "code",
   "execution_count": 13,
   "metadata": {
    "scrolled": false
   },
   "outputs": [
    {
     "data": {
      "text/plain": [
       "<Figure size 1080x576 with 0 Axes>"
      ]
     },
     "metadata": {},
     "output_type": "display_data"
    },
    {
     "data": {
      "image/png": "[encoded data removed]",
      "text/plain": [
       "<Figure size 1080x504 with 2 Axes>"
      ]
     },
     "metadata": {},
     "output_type": "display_data"
    },
    {
     "data": {
      "image/png": "[encoded data removed]",
      "text/plain": [
       "<Figure size 1080x504 with 2 Axes>"
      ]
     },
     "metadata": {},
     "output_type": "display_data"
    },
    {
     "data": {
      "image/png": "[encoded data removed]",
      "text/plain": [
       "<Figure size 1080x504 with 2 Axes>"
      ]
     },
     "metadata": {},
     "output_type": "display_data"
    },
    {
     "data": {
      "image/png": "[encoded data removed]",
      "text/plain": [
       "<Figure size 1080x504 with 2 Axes>"
      ]
     },
     "metadata": {},
     "output_type": "display_data"
    }
   ],
   "source": [
    "draw_boxplot_kde(df_geo_data_0)"
   ]
  },
  {
   "cell_type": "markdown",
   "metadata": {},
   "source": [
    "\n",
    "\n",
    "у продукта - нулевых не так много что может дать нам возможность использовать mape"
   ]
  },
  {
   "cell_type": "markdown",
   "metadata": {},
   "source": [
    "### Регион №1"
   ]
  },
  {
   "cell_type": "code",
   "execution_count": 14,
   "metadata": {
    "scrolled": false
   },
   "outputs": [
    {
     "name": "stdout",
     "output_type": "stream",
     "text": [
      "**************************************************\n",
      "Первые 5 строк датафрейма:\n",
      "**************************************************\n"
     ]
    },
    {
     "data": {
      "text/html": [
       "<div>\n",
       "<style scoped>\n",
       "    .dataframe tbody tr th:only-of-type {\n",
       "        vertical-align: middle;\n",
       "    }\n",
       "\n",
       "    .dataframe tbody tr th {\n",
       "        vertical-align: top;\n",
       "    }\n",
       "\n",
       "    .dataframe thead th {\n",
       "        text-align: right;\n",
       "    }\n",
       "</style>\n",
       "<table border=\"1\" class=\"dataframe\">\n",
       "  <thead>\n",
       "    <tr style=\"text-align: right;\">\n",
       "      <th></th>\n",
       "      <th>id</th>\n",
       "      <th>f0</th>\n",
       "      <th>f1</th>\n",
       "      <th>f2</th>\n",
       "      <th>product</th>\n",
       "    </tr>\n",
       "  </thead>\n",
       "  <tbody>\n",
       "    <tr>\n",
       "      <th>0</th>\n",
       "      <td>kBEdx</td>\n",
       "      <td>-15.001348</td>\n",
       "      <td>-8.276000</td>\n",
       "      <td>-0.005876</td>\n",
       "      <td>3.179103</td>\n",
       "    </tr>\n",
       "    <tr>\n",
       "      <th>1</th>\n",
       "      <td>62mP7</td>\n",
       "      <td>14.272088</td>\n",
       "      <td>-3.475083</td>\n",
       "      <td>0.999183</td>\n",
       "      <td>26.953261</td>\n",
       "    </tr>\n",
       "    <tr>\n",
       "      <th>2</th>\n",
       "      <td>vyE1P</td>\n",
       "      <td>6.263187</td>\n",
       "      <td>-5.948386</td>\n",
       "      <td>5.001160</td>\n",
       "      <td>134.766305</td>\n",
       "    </tr>\n",
       "    <tr>\n",
       "      <th>3</th>\n",
       "      <td>KcrkZ</td>\n",
       "      <td>-13.081196</td>\n",
       "      <td>-11.506057</td>\n",
       "      <td>4.999415</td>\n",
       "      <td>137.945408</td>\n",
       "    </tr>\n",
       "    <tr>\n",
       "      <th>4</th>\n",
       "      <td>AHL4O</td>\n",
       "      <td>12.702195</td>\n",
       "      <td>-8.147433</td>\n",
       "      <td>5.004363</td>\n",
       "      <td>134.766305</td>\n",
       "    </tr>\n",
       "  </tbody>\n",
       "</table>\n",
       "</div>"
      ],
      "text/plain": [
       "      id         f0         f1        f2     product\n",
       "0  kBEdx -15.001348  -8.276000 -0.005876    3.179103\n",
       "1  62mP7  14.272088  -3.475083  0.999183   26.953261\n",
       "2  vyE1P   6.263187  -5.948386  5.001160  134.766305\n",
       "3  KcrkZ -13.081196 -11.506057  4.999415  137.945408\n",
       "4  AHL4O  12.702195  -8.147433  5.004363  134.766305"
      ]
     },
     "metadata": {},
     "output_type": "display_data"
    },
    {
     "name": "stdout",
     "output_type": "stream",
     "text": [
      "\n",
      "**************************************************\n",
      "Информация о данных:\n",
      "**************************************************\n",
      "\n",
      "<class 'pandas.core.frame.DataFrame'>\n",
      "RangeIndex: 100000 entries, 0 to 99999\n",
      "Data columns (total 5 columns):\n",
      " #   Column   Non-Null Count   Dtype  \n",
      "---  ------   --------------   -----  \n",
      " 0   id       100000 non-null  object \n",
      " 1   f0       100000 non-null  float64\n",
      " 2   f1       100000 non-null  float64\n",
      " 3   f2       100000 non-null  float64\n",
      " 4   product  100000 non-null  float64\n",
      "dtypes: float64(4), object(1)\n",
      "memory usage: 3.8+ MB\n",
      "None\n",
      "\n",
      "**************************************************\n",
      "Статистические характеристики числовых столбцов:\n",
      "**************************************************\n",
      "\n"
     ]
    },
    {
     "data": {
      "text/html": [
       "<div>\n",
       "<style scoped>\n",
       "    .dataframe tbody tr th:only-of-type {\n",
       "        vertical-align: middle;\n",
       "    }\n",
       "\n",
       "    .dataframe tbody tr th {\n",
       "        vertical-align: top;\n",
       "    }\n",
       "\n",
       "    .dataframe thead th {\n",
       "        text-align: right;\n",
       "    }\n",
       "</style>\n",
       "<table border=\"1\" class=\"dataframe\">\n",
       "  <thead>\n",
       "    <tr style=\"text-align: right;\">\n",
       "      <th></th>\n",
       "      <th>f0</th>\n",
       "      <th>f1</th>\n",
       "      <th>f2</th>\n",
       "      <th>product</th>\n",
       "    </tr>\n",
       "  </thead>\n",
       "  <tbody>\n",
       "    <tr>\n",
       "      <th>count</th>\n",
       "      <td>100000.000000</td>\n",
       "      <td>100000.000000</td>\n",
       "      <td>100000.000000</td>\n",
       "      <td>100000.000000</td>\n",
       "    </tr>\n",
       "    <tr>\n",
       "      <th>mean</th>\n",
       "      <td>1.141296</td>\n",
       "      <td>-4.796579</td>\n",
       "      <td>2.494541</td>\n",
       "      <td>68.825000</td>\n",
       "    </tr>\n",
       "    <tr>\n",
       "      <th>std</th>\n",
       "      <td>8.965932</td>\n",
       "      <td>5.119872</td>\n",
       "      <td>1.703572</td>\n",
       "      <td>45.944423</td>\n",
       "    </tr>\n",
       "    <tr>\n",
       "      <th>min</th>\n",
       "      <td>-31.609576</td>\n",
       "      <td>-26.358598</td>\n",
       "      <td>-0.018144</td>\n",
       "      <td>0.000000</td>\n",
       "    </tr>\n",
       "    <tr>\n",
       "      <th>25%</th>\n",
       "      <td>-6.298551</td>\n",
       "      <td>-8.267985</td>\n",
       "      <td>1.000021</td>\n",
       "      <td>26.953261</td>\n",
       "    </tr>\n",
       "    <tr>\n",
       "      <th>50%</th>\n",
       "      <td>1.153055</td>\n",
       "      <td>-4.813172</td>\n",
       "      <td>2.011479</td>\n",
       "      <td>57.085625</td>\n",
       "    </tr>\n",
       "    <tr>\n",
       "      <th>75%</th>\n",
       "      <td>8.621015</td>\n",
       "      <td>-1.332816</td>\n",
       "      <td>3.999904</td>\n",
       "      <td>107.813044</td>\n",
       "    </tr>\n",
       "    <tr>\n",
       "      <th>max</th>\n",
       "      <td>29.421755</td>\n",
       "      <td>18.734063</td>\n",
       "      <td>5.019721</td>\n",
       "      <td>137.945408</td>\n",
       "    </tr>\n",
       "  </tbody>\n",
       "</table>\n",
       "</div>"
      ],
      "text/plain": [
       "                  f0             f1             f2        product\n",
       "count  100000.000000  100000.000000  100000.000000  100000.000000\n",
       "mean        1.141296      -4.796579       2.494541      68.825000\n",
       "std         8.965932       5.119872       1.703572      45.944423\n",
       "min       -31.609576     -26.358598      -0.018144       0.000000\n",
       "25%        -6.298551      -8.267985       1.000021      26.953261\n",
       "50%         1.153055      -4.813172       2.011479      57.085625\n",
       "75%         8.621015      -1.332816       3.999904     107.813044\n",
       "max        29.421755      18.734063       5.019721     137.945408"
      ]
     },
     "metadata": {},
     "output_type": "display_data"
    },
    {
     "name": "stdout",
     "output_type": "stream",
     "text": [
      "\n",
      "**************************************************\n",
      "Кол-во дубликатов\n",
      "**************************************************\n",
      "4\n",
      "\n",
      "\n",
      "\n",
      "**************************************************\n",
      "Вывод дублированных данных\n",
      "**************************************************\n"
     ]
    },
    {
     "data": {
      "text/html": [
       "<div>\n",
       "<style scoped>\n",
       "    .dataframe tbody tr th:only-of-type {\n",
       "        vertical-align: middle;\n",
       "    }\n",
       "\n",
       "    .dataframe tbody tr th {\n",
       "        vertical-align: top;\n",
       "    }\n",
       "\n",
       "    .dataframe thead th {\n",
       "        text-align: right;\n",
       "    }\n",
       "</style>\n",
       "<table border=\"1\" class=\"dataframe\">\n",
       "  <thead>\n",
       "    <tr style=\"text-align: right;\">\n",
       "      <th></th>\n",
       "      <th>id</th>\n",
       "      <th>f0</th>\n",
       "      <th>f1</th>\n",
       "      <th>f2</th>\n",
       "      <th>product</th>\n",
       "    </tr>\n",
       "  </thead>\n",
       "  <tbody>\n",
       "    <tr>\n",
       "      <th>5849</th>\n",
       "      <td>5ltQ6</td>\n",
       "      <td>-3.435401</td>\n",
       "      <td>-12.296043</td>\n",
       "      <td>1.999796</td>\n",
       "      <td>57.085625</td>\n",
       "    </tr>\n",
       "    <tr>\n",
       "      <th>84461</th>\n",
       "      <td>5ltQ6</td>\n",
       "      <td>18.213839</td>\n",
       "      <td>2.191999</td>\n",
       "      <td>3.993869</td>\n",
       "      <td>107.813044</td>\n",
       "    </tr>\n",
       "    <tr>\n",
       "      <th>1305</th>\n",
       "      <td>LHZR0</td>\n",
       "      <td>11.170835</td>\n",
       "      <td>-1.945066</td>\n",
       "      <td>3.002872</td>\n",
       "      <td>80.859783</td>\n",
       "    </tr>\n",
       "    <tr>\n",
       "      <th>41906</th>\n",
       "      <td>LHZR0</td>\n",
       "      <td>-8.989672</td>\n",
       "      <td>-4.286607</td>\n",
       "      <td>2.009139</td>\n",
       "      <td>57.085625</td>\n",
       "    </tr>\n",
       "    <tr>\n",
       "      <th>2721</th>\n",
       "      <td>bfPNe</td>\n",
       "      <td>-9.494442</td>\n",
       "      <td>-5.463692</td>\n",
       "      <td>4.006042</td>\n",
       "      <td>110.992147</td>\n",
       "    </tr>\n",
       "    <tr>\n",
       "      <th>82178</th>\n",
       "      <td>bfPNe</td>\n",
       "      <td>-6.202799</td>\n",
       "      <td>-4.820045</td>\n",
       "      <td>2.995107</td>\n",
       "      <td>84.038886</td>\n",
       "    </tr>\n",
       "    <tr>\n",
       "      <th>47591</th>\n",
       "      <td>wt4Uk</td>\n",
       "      <td>-9.091098</td>\n",
       "      <td>-8.109279</td>\n",
       "      <td>-0.002314</td>\n",
       "      <td>3.179103</td>\n",
       "    </tr>\n",
       "    <tr>\n",
       "      <th>82873</th>\n",
       "      <td>wt4Uk</td>\n",
       "      <td>10.259972</td>\n",
       "      <td>-9.376355</td>\n",
       "      <td>4.994297</td>\n",
       "      <td>134.766305</td>\n",
       "    </tr>\n",
       "  </tbody>\n",
       "</table>\n",
       "</div>"
      ],
      "text/plain": [
       "          id         f0         f1        f2     product\n",
       "5849   5ltQ6  -3.435401 -12.296043  1.999796   57.085625\n",
       "84461  5ltQ6  18.213839   2.191999  3.993869  107.813044\n",
       "1305   LHZR0  11.170835  -1.945066  3.002872   80.859783\n",
       "41906  LHZR0  -8.989672  -4.286607  2.009139   57.085625\n",
       "2721   bfPNe  -9.494442  -5.463692  4.006042  110.992147\n",
       "82178  bfPNe  -6.202799  -4.820045  2.995107   84.038886\n",
       "47591  wt4Uk  -9.091098  -8.109279 -0.002314    3.179103\n",
       "82873  wt4Uk  10.259972  -9.376355  4.994297  134.766305"
      ]
     },
     "metadata": {},
     "output_type": "display_data"
    },
    {
     "name": "stdout",
     "output_type": "stream",
     "text": [
      "\n",
      "**************************************************\n",
      "Кол-во строк являющихся полнымы дубликатами\n",
      "\n",
      "**************************************************\n",
      "0\n",
      "Объекты не являются полными дубликатами\n",
      "\n",
      "\n",
      "**************************************************\n",
      "Корреляция между признаками \n",
      "**************************************************\n"
     ]
    },
    {
     "data": {
      "text/html": [
       "<div>\n",
       "<style scoped>\n",
       "    .dataframe tbody tr th:only-of-type {\n",
       "        vertical-align: middle;\n",
       "    }\n",
       "\n",
       "    .dataframe tbody tr th {\n",
       "        vertical-align: top;\n",
       "    }\n",
       "\n",
       "    .dataframe thead th {\n",
       "        text-align: right;\n",
       "    }\n",
       "</style>\n",
       "<table border=\"1\" class=\"dataframe\">\n",
       "  <thead>\n",
       "    <tr style=\"text-align: right;\">\n",
       "      <th></th>\n",
       "      <th>f0</th>\n",
       "      <th>f1</th>\n",
       "      <th>f2</th>\n",
       "      <th>product</th>\n",
       "    </tr>\n",
       "  </thead>\n",
       "  <tbody>\n",
       "    <tr>\n",
       "      <th>f0</th>\n",
       "      <td>1.000000</td>\n",
       "      <td>0.182287</td>\n",
       "      <td>-0.001777</td>\n",
       "      <td>-0.030491</td>\n",
       "    </tr>\n",
       "    <tr>\n",
       "      <th>f1</th>\n",
       "      <td>0.182287</td>\n",
       "      <td>1.000000</td>\n",
       "      <td>-0.002595</td>\n",
       "      <td>-0.010155</td>\n",
       "    </tr>\n",
       "    <tr>\n",
       "      <th>f2</th>\n",
       "      <td>-0.001777</td>\n",
       "      <td>-0.002595</td>\n",
       "      <td>1.000000</td>\n",
       "      <td>0.999397</td>\n",
       "    </tr>\n",
       "    <tr>\n",
       "      <th>product</th>\n",
       "      <td>-0.030491</td>\n",
       "      <td>-0.010155</td>\n",
       "      <td>0.999397</td>\n",
       "      <td>1.000000</td>\n",
       "    </tr>\n",
       "  </tbody>\n",
       "</table>\n",
       "</div>"
      ],
      "text/plain": [
       "               f0        f1        f2   product\n",
       "f0       1.000000  0.182287 -0.001777 -0.030491\n",
       "f1       0.182287  1.000000 -0.002595 -0.010155\n",
       "f2      -0.001777 -0.002595  1.000000  0.999397\n",
       "product -0.030491 -0.010155  0.999397  1.000000"
      ]
     },
     "metadata": {},
     "output_type": "display_data"
    },
    {
     "name": "stdout",
     "output_type": "stream",
     "text": [
      "\n"
     ]
    }
   ],
   "source": [
    "explore_dataframe_text(df_geo_data_1)"
   ]
  },
  {
   "cell_type": "markdown",
   "metadata": {},
   "source": [
    "**Заметка 2**  \n",
    "- Посмотреть на f0  и f1  внимательно так как по describe шанс на выбросы очень велик  \n",
    "- Есть 4 пары которые продублированы по id, так как в заданиb я не нашел ничего, что могло бы объяснить эти дублированные id, то я опираясь на логику делаю вывод что алгоритм присваивающий id не проверял на уникальность, так как за 100000 попасть всего 4 раза  -> поменять id на значения которых в дф нет. Но для возможности поиска я сделаю приставку _d что будет означать что этот ид являлася дубликатом   \n",
    "-  f2 и product имеют очень сильную положительную корреляцию -> сделать проверку на валидации как модель поведет себя при избавлении от одного из признаков   \n",
    "\n"
   ]
  },
  {
   "cell_type": "code",
   "execution_count": 15,
   "metadata": {
    "scrolled": true
   },
   "outputs": [
    {
     "data": {
      "text/plain": [
       "<Figure size 1080x576 with 0 Axes>"
      ]
     },
     "metadata": {},
     "output_type": "display_data"
    },
    {
     "data": {
      "image/png": "[encoded data removed]",
      "text/plain": [
       "<Figure size 1080x504 with 2 Axes>"
      ]
     },
     "metadata": {},
     "output_type": "display_data"
    },
    {
     "data": {
      "image/png": "[encoded data removed]",
      "text/plain": [
       "<Figure size 1080x504 with 2 Axes>"
      ]
     },
     "metadata": {},
     "output_type": "display_data"
    },
    {
     "data": {
      "image/png": "[encoded data removed]",
      "text/plain": [
       "<Figure size 1080x504 with 2 Axes>"
      ]
     },
     "metadata": {},
     "output_type": "display_data"
    },
    {
     "data": {
      "image/png": "[encoded data removed]",
      "text/plain": [
       "<Figure size 1080x504 with 2 Axes>"
      ]
     },
     "metadata": {},
     "output_type": "display_data"
    }
   ],
   "source": [
    "draw_boxplot_kde(df_geo_data_1)"
   ]
  },
  {
   "cell_type": "markdown",
   "metadata": {},
   "source": [
    "а вот тут уже по продакту неприятно в 0 не мало значений"
   ]
  },
  {
   "cell_type": "markdown",
   "metadata": {},
   "source": [
    "### Регион №2"
   ]
  },
  {
   "cell_type": "code",
   "execution_count": 16,
   "metadata": {
    "scrolled": false
   },
   "outputs": [
    {
     "name": "stdout",
     "output_type": "stream",
     "text": [
      "**************************************************\n",
      "Первые 5 строк датафрейма:\n",
      "**************************************************\n"
     ]
    },
    {
     "data": {
      "text/html": [
       "<div>\n",
       "<style scoped>\n",
       "    .dataframe tbody tr th:only-of-type {\n",
       "        vertical-align: middle;\n",
       "    }\n",
       "\n",
       "    .dataframe tbody tr th {\n",
       "        vertical-align: top;\n",
       "    }\n",
       "\n",
       "    .dataframe thead th {\n",
       "        text-align: right;\n",
       "    }\n",
       "</style>\n",
       "<table border=\"1\" class=\"dataframe\">\n",
       "  <thead>\n",
       "    <tr style=\"text-align: right;\">\n",
       "      <th></th>\n",
       "      <th>id</th>\n",
       "      <th>f0</th>\n",
       "      <th>f1</th>\n",
       "      <th>f2</th>\n",
       "      <th>product</th>\n",
       "    </tr>\n",
       "  </thead>\n",
       "  <tbody>\n",
       "    <tr>\n",
       "      <th>0</th>\n",
       "      <td>fwXo0</td>\n",
       "      <td>-1.146987</td>\n",
       "      <td>0.963328</td>\n",
       "      <td>-0.828965</td>\n",
       "      <td>27.758673</td>\n",
       "    </tr>\n",
       "    <tr>\n",
       "      <th>1</th>\n",
       "      <td>WJtFt</td>\n",
       "      <td>0.262778</td>\n",
       "      <td>0.269839</td>\n",
       "      <td>-2.530187</td>\n",
       "      <td>56.069697</td>\n",
       "    </tr>\n",
       "    <tr>\n",
       "      <th>2</th>\n",
       "      <td>ovLUW</td>\n",
       "      <td>0.194587</td>\n",
       "      <td>0.289035</td>\n",
       "      <td>-5.586433</td>\n",
       "      <td>62.871910</td>\n",
       "    </tr>\n",
       "    <tr>\n",
       "      <th>3</th>\n",
       "      <td>q6cA6</td>\n",
       "      <td>2.236060</td>\n",
       "      <td>-0.553760</td>\n",
       "      <td>0.930038</td>\n",
       "      <td>114.572842</td>\n",
       "    </tr>\n",
       "    <tr>\n",
       "      <th>4</th>\n",
       "      <td>WPMUX</td>\n",
       "      <td>-0.515993</td>\n",
       "      <td>1.716266</td>\n",
       "      <td>5.899011</td>\n",
       "      <td>149.600746</td>\n",
       "    </tr>\n",
       "  </tbody>\n",
       "</table>\n",
       "</div>"
      ],
      "text/plain": [
       "      id        f0        f1        f2     product\n",
       "0  fwXo0 -1.146987  0.963328 -0.828965   27.758673\n",
       "1  WJtFt  0.262778  0.269839 -2.530187   56.069697\n",
       "2  ovLUW  0.194587  0.289035 -5.586433   62.871910\n",
       "3  q6cA6  2.236060 -0.553760  0.930038  114.572842\n",
       "4  WPMUX -0.515993  1.716266  5.899011  149.600746"
      ]
     },
     "metadata": {},
     "output_type": "display_data"
    },
    {
     "name": "stdout",
     "output_type": "stream",
     "text": [
      "\n",
      "**************************************************\n",
      "Информация о данных:\n",
      "**************************************************\n",
      "\n",
      "<class 'pandas.core.frame.DataFrame'>\n",
      "RangeIndex: 100000 entries, 0 to 99999\n",
      "Data columns (total 5 columns):\n",
      " #   Column   Non-Null Count   Dtype  \n",
      "---  ------   --------------   -----  \n",
      " 0   id       100000 non-null  object \n",
      " 1   f0       100000 non-null  float64\n",
      " 2   f1       100000 non-null  float64\n",
      " 3   f2       100000 non-null  float64\n",
      " 4   product  100000 non-null  float64\n",
      "dtypes: float64(4), object(1)\n",
      "memory usage: 3.8+ MB\n",
      "None\n",
      "\n",
      "**************************************************\n",
      "Статистические характеристики числовых столбцов:\n",
      "**************************************************\n",
      "\n"
     ]
    },
    {
     "data": {
      "text/html": [
       "<div>\n",
       "<style scoped>\n",
       "    .dataframe tbody tr th:only-of-type {\n",
       "        vertical-align: middle;\n",
       "    }\n",
       "\n",
       "    .dataframe tbody tr th {\n",
       "        vertical-align: top;\n",
       "    }\n",
       "\n",
       "    .dataframe thead th {\n",
       "        text-align: right;\n",
       "    }\n",
       "</style>\n",
       "<table border=\"1\" class=\"dataframe\">\n",
       "  <thead>\n",
       "    <tr style=\"text-align: right;\">\n",
       "      <th></th>\n",
       "      <th>f0</th>\n",
       "      <th>f1</th>\n",
       "      <th>f2</th>\n",
       "      <th>product</th>\n",
       "    </tr>\n",
       "  </thead>\n",
       "  <tbody>\n",
       "    <tr>\n",
       "      <th>count</th>\n",
       "      <td>100000.000000</td>\n",
       "      <td>100000.000000</td>\n",
       "      <td>100000.000000</td>\n",
       "      <td>100000.000000</td>\n",
       "    </tr>\n",
       "    <tr>\n",
       "      <th>mean</th>\n",
       "      <td>0.002023</td>\n",
       "      <td>-0.002081</td>\n",
       "      <td>2.495128</td>\n",
       "      <td>95.000000</td>\n",
       "    </tr>\n",
       "    <tr>\n",
       "      <th>std</th>\n",
       "      <td>1.732045</td>\n",
       "      <td>1.730417</td>\n",
       "      <td>3.473445</td>\n",
       "      <td>44.749921</td>\n",
       "    </tr>\n",
       "    <tr>\n",
       "      <th>min</th>\n",
       "      <td>-8.760004</td>\n",
       "      <td>-7.084020</td>\n",
       "      <td>-11.970335</td>\n",
       "      <td>0.000000</td>\n",
       "    </tr>\n",
       "    <tr>\n",
       "      <th>25%</th>\n",
       "      <td>-1.162288</td>\n",
       "      <td>-1.174820</td>\n",
       "      <td>0.130359</td>\n",
       "      <td>59.450441</td>\n",
       "    </tr>\n",
       "    <tr>\n",
       "      <th>50%</th>\n",
       "      <td>0.009424</td>\n",
       "      <td>-0.009482</td>\n",
       "      <td>2.484236</td>\n",
       "      <td>94.925613</td>\n",
       "    </tr>\n",
       "    <tr>\n",
       "      <th>75%</th>\n",
       "      <td>1.158535</td>\n",
       "      <td>1.163678</td>\n",
       "      <td>4.858794</td>\n",
       "      <td>130.595027</td>\n",
       "    </tr>\n",
       "    <tr>\n",
       "      <th>max</th>\n",
       "      <td>7.238262</td>\n",
       "      <td>7.844801</td>\n",
       "      <td>16.739402</td>\n",
       "      <td>190.029838</td>\n",
       "    </tr>\n",
       "  </tbody>\n",
       "</table>\n",
       "</div>"
      ],
      "text/plain": [
       "                  f0             f1             f2        product\n",
       "count  100000.000000  100000.000000  100000.000000  100000.000000\n",
       "mean        0.002023      -0.002081       2.495128      95.000000\n",
       "std         1.732045       1.730417       3.473445      44.749921\n",
       "min        -8.760004      -7.084020     -11.970335       0.000000\n",
       "25%        -1.162288      -1.174820       0.130359      59.450441\n",
       "50%         0.009424      -0.009482       2.484236      94.925613\n",
       "75%         1.158535       1.163678       4.858794     130.595027\n",
       "max         7.238262       7.844801      16.739402     190.029838"
      ]
     },
     "metadata": {},
     "output_type": "display_data"
    },
    {
     "name": "stdout",
     "output_type": "stream",
     "text": [
      "\n",
      "**************************************************\n",
      "Кол-во дубликатов\n",
      "**************************************************\n",
      "4\n",
      "\n",
      "\n",
      "\n",
      "**************************************************\n",
      "Вывод дублированных данных\n",
      "**************************************************\n"
     ]
    },
    {
     "data": {
      "text/html": [
       "<div>\n",
       "<style scoped>\n",
       "    .dataframe tbody tr th:only-of-type {\n",
       "        vertical-align: middle;\n",
       "    }\n",
       "\n",
       "    .dataframe tbody tr th {\n",
       "        vertical-align: top;\n",
       "    }\n",
       "\n",
       "    .dataframe thead th {\n",
       "        text-align: right;\n",
       "    }\n",
       "</style>\n",
       "<table border=\"1\" class=\"dataframe\">\n",
       "  <thead>\n",
       "    <tr style=\"text-align: right;\">\n",
       "      <th></th>\n",
       "      <th>id</th>\n",
       "      <th>f0</th>\n",
       "      <th>f1</th>\n",
       "      <th>f2</th>\n",
       "      <th>product</th>\n",
       "    </tr>\n",
       "  </thead>\n",
       "  <tbody>\n",
       "    <tr>\n",
       "      <th>45404</th>\n",
       "      <td>KUPhW</td>\n",
       "      <td>0.231846</td>\n",
       "      <td>-1.698941</td>\n",
       "      <td>4.990775</td>\n",
       "      <td>11.716299</td>\n",
       "    </tr>\n",
       "    <tr>\n",
       "      <th>55967</th>\n",
       "      <td>KUPhW</td>\n",
       "      <td>1.211150</td>\n",
       "      <td>3.176408</td>\n",
       "      <td>5.543540</td>\n",
       "      <td>132.831802</td>\n",
       "    </tr>\n",
       "    <tr>\n",
       "      <th>11449</th>\n",
       "      <td>VF7Jo</td>\n",
       "      <td>2.122656</td>\n",
       "      <td>-0.858275</td>\n",
       "      <td>5.746001</td>\n",
       "      <td>181.716817</td>\n",
       "    </tr>\n",
       "    <tr>\n",
       "      <th>49564</th>\n",
       "      <td>VF7Jo</td>\n",
       "      <td>-0.883115</td>\n",
       "      <td>0.560537</td>\n",
       "      <td>0.723601</td>\n",
       "      <td>136.233420</td>\n",
       "    </tr>\n",
       "    <tr>\n",
       "      <th>44378</th>\n",
       "      <td>Vcm5J</td>\n",
       "      <td>-1.229484</td>\n",
       "      <td>-2.439204</td>\n",
       "      <td>1.222909</td>\n",
       "      <td>137.968290</td>\n",
       "    </tr>\n",
       "    <tr>\n",
       "      <th>95090</th>\n",
       "      <td>Vcm5J</td>\n",
       "      <td>2.587702</td>\n",
       "      <td>1.986875</td>\n",
       "      <td>2.482245</td>\n",
       "      <td>92.327572</td>\n",
       "    </tr>\n",
       "    <tr>\n",
       "      <th>28039</th>\n",
       "      <td>xCHr8</td>\n",
       "      <td>1.633027</td>\n",
       "      <td>0.368135</td>\n",
       "      <td>-2.378367</td>\n",
       "      <td>6.120525</td>\n",
       "    </tr>\n",
       "    <tr>\n",
       "      <th>43233</th>\n",
       "      <td>xCHr8</td>\n",
       "      <td>-0.847066</td>\n",
       "      <td>2.101796</td>\n",
       "      <td>5.597130</td>\n",
       "      <td>184.388641</td>\n",
       "    </tr>\n",
       "  </tbody>\n",
       "</table>\n",
       "</div>"
      ],
      "text/plain": [
       "          id        f0        f1        f2     product\n",
       "45404  KUPhW  0.231846 -1.698941  4.990775   11.716299\n",
       "55967  KUPhW  1.211150  3.176408  5.543540  132.831802\n",
       "11449  VF7Jo  2.122656 -0.858275  5.746001  181.716817\n",
       "49564  VF7Jo -0.883115  0.560537  0.723601  136.233420\n",
       "44378  Vcm5J -1.229484 -2.439204  1.222909  137.968290\n",
       "95090  Vcm5J  2.587702  1.986875  2.482245   92.327572\n",
       "28039  xCHr8  1.633027  0.368135 -2.378367    6.120525\n",
       "43233  xCHr8 -0.847066  2.101796  5.597130  184.388641"
      ]
     },
     "metadata": {},
     "output_type": "display_data"
    },
    {
     "name": "stdout",
     "output_type": "stream",
     "text": [
      "\n",
      "**************************************************\n",
      "Кол-во строк являющихся полнымы дубликатами\n",
      "\n",
      "**************************************************\n",
      "0\n",
      "Объекты не являются полными дубликатами\n",
      "\n",
      "\n",
      "**************************************************\n",
      "Корреляция между признаками \n",
      "**************************************************\n"
     ]
    },
    {
     "data": {
      "text/html": [
       "<div>\n",
       "<style scoped>\n",
       "    .dataframe tbody tr th:only-of-type {\n",
       "        vertical-align: middle;\n",
       "    }\n",
       "\n",
       "    .dataframe tbody tr th {\n",
       "        vertical-align: top;\n",
       "    }\n",
       "\n",
       "    .dataframe thead th {\n",
       "        text-align: right;\n",
       "    }\n",
       "</style>\n",
       "<table border=\"1\" class=\"dataframe\">\n",
       "  <thead>\n",
       "    <tr style=\"text-align: right;\">\n",
       "      <th></th>\n",
       "      <th>f0</th>\n",
       "      <th>f1</th>\n",
       "      <th>f2</th>\n",
       "      <th>product</th>\n",
       "    </tr>\n",
       "  </thead>\n",
       "  <tbody>\n",
       "    <tr>\n",
       "      <th>f0</th>\n",
       "      <td>1.000000</td>\n",
       "      <td>0.000528</td>\n",
       "      <td>-0.000448</td>\n",
       "      <td>-0.001987</td>\n",
       "    </tr>\n",
       "    <tr>\n",
       "      <th>f1</th>\n",
       "      <td>0.000528</td>\n",
       "      <td>1.000000</td>\n",
       "      <td>0.000779</td>\n",
       "      <td>-0.001012</td>\n",
       "    </tr>\n",
       "    <tr>\n",
       "      <th>f2</th>\n",
       "      <td>-0.000448</td>\n",
       "      <td>0.000779</td>\n",
       "      <td>1.000000</td>\n",
       "      <td>0.445871</td>\n",
       "    </tr>\n",
       "    <tr>\n",
       "      <th>product</th>\n",
       "      <td>-0.001987</td>\n",
       "      <td>-0.001012</td>\n",
       "      <td>0.445871</td>\n",
       "      <td>1.000000</td>\n",
       "    </tr>\n",
       "  </tbody>\n",
       "</table>\n",
       "</div>"
      ],
      "text/plain": [
       "               f0        f1        f2   product\n",
       "f0       1.000000  0.000528 -0.000448 -0.001987\n",
       "f1       0.000528  1.000000  0.000779 -0.001012\n",
       "f2      -0.000448  0.000779  1.000000  0.445871\n",
       "product -0.001987 -0.001012  0.445871  1.000000"
      ]
     },
     "metadata": {},
     "output_type": "display_data"
    },
    {
     "name": "stdout",
     "output_type": "stream",
     "text": [
      "\n"
     ]
    }
   ],
   "source": [
    "explore_dataframe_text(df_geo_data_2)"
   ]
  },
  {
   "cell_type": "markdown",
   "metadata": {},
   "source": [
    "**Заметка 3**  \n",
    "- Построить boxplot, так как тоже есть аномальные значения\n",
    "- Есть 4 пары которые продублированы по id, так как в заданиb я не нашел ничего, что могло бы объяснить эти дублированные id, то я опираясь на логику делаю вывод что алгоритм присваивающий id не проверял на уникальность, так как за 100000 попасть всего 4 раза  -> поменять id на значения которых в дф нет. Но для возможности поиска я сделаю приставку _d что будет означать что этот ид являлася дубликатом   \n",
    "-  f2 и product имеют умеренно положительную корреляцию -> регуляризация  \n"
   ]
  },
  {
   "cell_type": "code",
   "execution_count": 17,
   "metadata": {
    "scrolled": true
   },
   "outputs": [
    {
     "data": {
      "text/plain": [
       "<Figure size 1080x576 with 0 Axes>"
      ]
     },
     "metadata": {},
     "output_type": "display_data"
    },
    {
     "data": {
      "image/png": "[encoded data removed]",
      "text/plain": [
       "<Figure size 1080x504 with 2 Axes>"
      ]
     },
     "metadata": {},
     "output_type": "display_data"
    },
    {
     "data": {
      "image/png": "[encoded data removed]",
      "text/plain": [
       "<Figure size 1080x504 with 2 Axes>"
      ]
     },
     "metadata": {},
     "output_type": "display_data"
    },
    {
     "data": {
      "image/png": "[encoded data removed]",
      "text/plain": [
       "<Figure size 1080x504 with 2 Axes>"
      ]
     },
     "metadata": {},
     "output_type": "display_data"
    },
    {
     "data": {
      "image/png": "[encoded data removed]",
      "text/plain": [
       "<Figure size 1080x504 with 2 Axes>"
      ]
     },
     "metadata": {},
     "output_type": "display_data"
    }
   ],
   "source": [
    "draw_boxplot_kde(df_geo_data_2)"
   ]
  },
  {
   "cell_type": "markdown",
   "metadata": {},
   "source": [
    "в 0 немного "
   ]
  },
  {
   "cell_type": "markdown",
   "metadata": {},
   "source": [
    "### Дубли между регионами"
   ]
  },
  {
   "cell_type": "code",
   "execution_count": 18,
   "metadata": {},
   "outputs": [
    {
     "name": "stdout",
     "output_type": "stream",
     "text": [
      "************************************************************\n",
      "id из 0 региона, являющиеся дубликатами id из 1 региона\n",
      "\n",
      "************************************************************\n"
     ]
    },
    {
     "data": {
      "text/plain": [
       "1419     Q64YW\n",
       "14777    CXJ2r\n",
       "44057    Y2udP\n",
       "44242    g3RRG\n",
       "66852    mpZhE\n",
       "71547    L1Fdm\n",
       "75589    it2OW\n",
       "86152    gnA83\n",
       "87474    Mp3uM\n",
       "93783    pGQRI\n",
       "Name: id, dtype: object"
      ]
     },
     "metadata": {},
     "output_type": "display_data"
    },
    {
     "name": "stdout",
     "output_type": "stream",
     "text": [
      "Дубликаты внутри региона не пересекаются с дубликатами между регионами\n",
      "\n",
      "************************************************************\n",
      "id из 1 региона, являющиеся дубликатами id из 2 региона\n",
      "\n",
      "************************************************************\n"
     ]
    },
    {
     "data": {
      "text/plain": [
       "28877    TAqwC\n",
       "38405    uMqiK\n",
       "44738    D8TNs\n",
       "92366    g2I86\n",
       "Name: id, dtype: object"
      ]
     },
     "metadata": {},
     "output_type": "display_data"
    },
    {
     "name": "stdout",
     "output_type": "stream",
     "text": [
      "Дубликаты внутри региона не пересекаются с дубликатами между регионами\n",
      "\n",
      "************************************************************\n",
      "id из 2 региона, являющиеся дубликатами id из 0 региона\n",
      "\n",
      "************************************************************\n"
     ]
    },
    {
     "data": {
      "text/plain": [
       "7260     uSye4\n",
       "9042     LhkAh\n",
       "13672    i2csb\n",
       "17551    TXPOv\n",
       "27380    2tyMi\n",
       "27885    wqgPo\n",
       "31306    H2jd8\n",
       "48472    scFN4\n",
       "49106    lFHA5\n",
       "50308    rAJA6\n",
       "57741    Suyut\n",
       "72896    5ssQt\n",
       "79311    kpKGs\n",
       "82577    eVdPR\n",
       "87965    tgOl6\n",
       "91259    G6k8A\n",
       "97706    PyNp5\n",
       "Name: id, dtype: object"
      ]
     },
     "metadata": {},
     "output_type": "display_data"
    },
    {
     "name": "stdout",
     "output_type": "stream",
     "text": [
      "Дубликаты внутри региона не пересекаются с дубликатами между регионами\n",
      "\n"
     ]
    }
   ],
   "source": [
    "exchange = check_inter_duplication(df_geo_data_0,df_geo_data_1,df_geo_data_2)\n"
   ]
  },
  {
   "cell_type": "code",
   "execution_count": 19,
   "metadata": {},
   "outputs": [],
   "source": [
    "indexes_0 = exchange[0].reset_index()['index']"
   ]
  },
  {
   "cell_type": "code",
   "execution_count": 20,
   "metadata": {},
   "outputs": [],
   "source": [
    "indexes_1 = exchange[1].reset_index()['index']"
   ]
  },
  {
   "cell_type": "code",
   "execution_count": 21,
   "metadata": {},
   "outputs": [],
   "source": [
    "indexes_2 = exchange[2].reset_index()['index']"
   ]
  },
  {
   "cell_type": "code",
   "execution_count": 22,
   "metadata": {},
   "outputs": [],
   "source": [
    "df0,df1,df2 = replace_indexes(df_geo_data_0,df_geo_data_1,df_geo_data_2,indexes_0,indexes_1,indexes_2)"
   ]
  },
  {
   "cell_type": "code",
   "execution_count": 23,
   "metadata": {
    "scrolled": false
   },
   "outputs": [
    {
     "name": "stdout",
     "output_type": "stream",
     "text": [
      "************************************************************\n",
      "id из 0 региона, являющиеся дубликатами id из 1 региона\n",
      "\n",
      "************************************************************\n"
     ]
    },
    {
     "data": {
      "text/plain": [
       "Series([], Name: id, dtype: object)"
      ]
     },
     "metadata": {},
     "output_type": "display_data"
    },
    {
     "name": "stdout",
     "output_type": "stream",
     "text": [
      "Дубликаты внутри региона не пересекаются с дубликатами между регионами\n",
      "\n",
      "************************************************************\n",
      "id из 1 региона, являющиеся дубликатами id из 2 региона\n",
      "\n",
      "************************************************************\n"
     ]
    },
    {
     "data": {
      "text/plain": [
       "Series([], Name: id, dtype: object)"
      ]
     },
     "metadata": {},
     "output_type": "display_data"
    },
    {
     "name": "stdout",
     "output_type": "stream",
     "text": [
      "Дубликаты внутри региона не пересекаются с дубликатами между регионами\n",
      "\n",
      "************************************************************\n",
      "id из 2 региона, являющиеся дубликатами id из 0 региона\n",
      "\n",
      "************************************************************\n"
     ]
    },
    {
     "data": {
      "text/plain": [
       "Series([], Name: id, dtype: object)"
      ]
     },
     "metadata": {},
     "output_type": "display_data"
    },
    {
     "name": "stdout",
     "output_type": "stream",
     "text": [
      "Дубликаты внутри региона не пересекаются с дубликатами между регионами\n",
      "\n"
     ]
    },
    {
     "data": {
      "text/plain": [
       "[Series([], dtype: object),\n",
       " Series([], dtype: object),\n",
       " Series([], dtype: object)]"
      ]
     },
     "execution_count": 23,
     "metadata": {},
     "output_type": "execute_result"
    }
   ],
   "source": [
    "check_inter_duplication(df0,df1,df2)"
   ]
  },
  {
   "cell_type": "markdown",
   "metadata": {},
   "source": [
    "Дубликаты убраны"
   ]
  },
  {
   "cell_type": "code",
   "execution_count": 24,
   "metadata": {},
   "outputs": [
    {
     "data": {
      "text/html": [
       "<div>\n",
       "<style scoped>\n",
       "    .dataframe tbody tr th:only-of-type {\n",
       "        vertical-align: middle;\n",
       "    }\n",
       "\n",
       "    .dataframe tbody tr th {\n",
       "        vertical-align: top;\n",
       "    }\n",
       "\n",
       "    .dataframe thead th {\n",
       "        text-align: right;\n",
       "    }\n",
       "</style>\n",
       "<table border=\"1\" class=\"dataframe\">\n",
       "  <thead>\n",
       "    <tr style=\"text-align: right;\">\n",
       "      <th></th>\n",
       "      <th>id</th>\n",
       "      <th>f0</th>\n",
       "      <th>f1</th>\n",
       "      <th>f2</th>\n",
       "      <th>product</th>\n",
       "    </tr>\n",
       "  </thead>\n",
       "  <tbody>\n",
       "    <tr>\n",
       "      <th>0</th>\n",
       "      <td>txEyH</td>\n",
       "      <td>0.705745</td>\n",
       "      <td>-0.497823</td>\n",
       "      <td>1.221170</td>\n",
       "      <td>105.280062</td>\n",
       "    </tr>\n",
       "    <tr>\n",
       "      <th>1</th>\n",
       "      <td>2acmU</td>\n",
       "      <td>1.334711</td>\n",
       "      <td>-0.340164</td>\n",
       "      <td>4.365080</td>\n",
       "      <td>73.037750</td>\n",
       "    </tr>\n",
       "    <tr>\n",
       "      <th>2</th>\n",
       "      <td>409Wp</td>\n",
       "      <td>1.022732</td>\n",
       "      <td>0.151990</td>\n",
       "      <td>1.419926</td>\n",
       "      <td>85.265647</td>\n",
       "    </tr>\n",
       "    <tr>\n",
       "      <th>3</th>\n",
       "      <td>iJLyR</td>\n",
       "      <td>-0.032172</td>\n",
       "      <td>0.139033</td>\n",
       "      <td>2.978566</td>\n",
       "      <td>168.620776</td>\n",
       "    </tr>\n",
       "    <tr>\n",
       "      <th>4</th>\n",
       "      <td>Xdl7t</td>\n",
       "      <td>1.988431</td>\n",
       "      <td>0.155413</td>\n",
       "      <td>4.751769</td>\n",
       "      <td>154.036647</td>\n",
       "    </tr>\n",
       "    <tr>\n",
       "      <th>...</th>\n",
       "      <td>...</td>\n",
       "      <td>...</td>\n",
       "      <td>...</td>\n",
       "      <td>...</td>\n",
       "      <td>...</td>\n",
       "    </tr>\n",
       "    <tr>\n",
       "      <th>99995</th>\n",
       "      <td>DLsed</td>\n",
       "      <td>0.971957</td>\n",
       "      <td>0.370953</td>\n",
       "      <td>6.075346</td>\n",
       "      <td>110.744026</td>\n",
       "    </tr>\n",
       "    <tr>\n",
       "      <th>99996</th>\n",
       "      <td>QKivN</td>\n",
       "      <td>1.392429</td>\n",
       "      <td>-0.382606</td>\n",
       "      <td>1.273912</td>\n",
       "      <td>122.346843</td>\n",
       "    </tr>\n",
       "    <tr>\n",
       "      <th>99997</th>\n",
       "      <td>3rnvd</td>\n",
       "      <td>1.029585</td>\n",
       "      <td>0.018787</td>\n",
       "      <td>-1.348308</td>\n",
       "      <td>64.375443</td>\n",
       "    </tr>\n",
       "    <tr>\n",
       "      <th>99998</th>\n",
       "      <td>7kl59</td>\n",
       "      <td>0.998163</td>\n",
       "      <td>-0.528582</td>\n",
       "      <td>1.583869</td>\n",
       "      <td>74.040764</td>\n",
       "    </tr>\n",
       "    <tr>\n",
       "      <th>99999</th>\n",
       "      <td>1CWhH</td>\n",
       "      <td>1.764754</td>\n",
       "      <td>-0.266417</td>\n",
       "      <td>5.722849</td>\n",
       "      <td>149.633246</td>\n",
       "    </tr>\n",
       "  </tbody>\n",
       "</table>\n",
       "<p>100000 rows × 5 columns</p>\n",
       "</div>"
      ],
      "text/plain": [
       "          id        f0        f1        f2     product\n",
       "0      txEyH  0.705745 -0.497823  1.221170  105.280062\n",
       "1      2acmU  1.334711 -0.340164  4.365080   73.037750\n",
       "2      409Wp  1.022732  0.151990  1.419926   85.265647\n",
       "3      iJLyR -0.032172  0.139033  2.978566  168.620776\n",
       "4      Xdl7t  1.988431  0.155413  4.751769  154.036647\n",
       "...      ...       ...       ...       ...         ...\n",
       "99995  DLsed  0.971957  0.370953  6.075346  110.744026\n",
       "99996  QKivN  1.392429 -0.382606  1.273912  122.346843\n",
       "99997  3rnvd  1.029585  0.018787 -1.348308   64.375443\n",
       "99998  7kl59  0.998163 -0.528582  1.583869   74.040764\n",
       "99999  1CWhH  1.764754 -0.266417  5.722849  149.633246\n",
       "\n",
       "[100000 rows x 5 columns]"
      ]
     },
     "execution_count": 24,
     "metadata": {},
     "output_type": "execute_result"
    }
   ],
   "source": [
    "df0"
   ]
  },
  {
   "cell_type": "code",
   "execution_count": 25,
   "metadata": {},
   "outputs": [],
   "source": [
    "df0.set_index('id', inplace=True)"
   ]
  },
  {
   "cell_type": "code",
   "execution_count": 26,
   "metadata": {},
   "outputs": [],
   "source": [
    "df1.set_index('id', inplace=True)"
   ]
  },
  {
   "cell_type": "code",
   "execution_count": 27,
   "metadata": {},
   "outputs": [],
   "source": [
    "df2.set_index('id', inplace=True)"
   ]
  },
  {
   "cell_type": "code",
   "execution_count": 28,
   "metadata": {},
   "outputs": [
    {
     "name": "stdout",
     "output_type": "stream",
     "text": [
      "<class 'pandas.core.frame.DataFrame'>\n",
      "Index: 100000 entries, txEyH to 1CWhH\n",
      "Data columns (total 4 columns):\n",
      " #   Column   Non-Null Count   Dtype  \n",
      "---  ------   --------------   -----  \n",
      " 0   f0       100000 non-null  float64\n",
      " 1   f1       100000 non-null  float64\n",
      " 2   f2       100000 non-null  float64\n",
      " 3   product  100000 non-null  float64\n",
      "dtypes: float64(4)\n",
      "memory usage: 3.8+ MB\n"
     ]
    }
   ],
   "source": [
    "df0.info()"
   ]
  },
  {
   "cell_type": "code",
   "execution_count": 29,
   "metadata": {},
   "outputs": [
    {
     "name": "stdout",
     "output_type": "stream",
     "text": [
      "<class 'pandas.core.frame.DataFrame'>\n",
      "Index: 100000 entries, kBEdx to relB0\n",
      "Data columns (total 4 columns):\n",
      " #   Column   Non-Null Count   Dtype  \n",
      "---  ------   --------------   -----  \n",
      " 0   f0       100000 non-null  float64\n",
      " 1   f1       100000 non-null  float64\n",
      " 2   f2       100000 non-null  float64\n",
      " 3   product  100000 non-null  float64\n",
      "dtypes: float64(4)\n",
      "memory usage: 3.8+ MB\n"
     ]
    }
   ],
   "source": [
    "df1.info()"
   ]
  },
  {
   "cell_type": "code",
   "execution_count": 30,
   "metadata": {
    "scrolled": true
   },
   "outputs": [
    {
     "name": "stdout",
     "output_type": "stream",
     "text": [
      "<class 'pandas.core.frame.DataFrame'>\n",
      "Index: 100000 entries, fwXo0 to V9kWn\n",
      "Data columns (total 4 columns):\n",
      " #   Column   Non-Null Count   Dtype  \n",
      "---  ------   --------------   -----  \n",
      " 0   f0       100000 non-null  float64\n",
      " 1   f1       100000 non-null  float64\n",
      " 2   f2       100000 non-null  float64\n",
      " 3   product  100000 non-null  float64\n",
      "dtypes: float64(4)\n",
      "memory usage: 3.8+ MB\n"
     ]
    }
   ],
   "source": [
    "df2.info()"
   ]
  },
  {
   "cell_type": "markdown",
   "metadata": {},
   "source": [
    "### Вывод"
   ]
  },
  {
   "cell_type": "markdown",
   "metadata": {},
   "source": [
    "\n",
    "1. Есть умеренно отрицательная корреляция f0 и f1, f2 и product-> было бы разумно использовать регуляризацию\n",
    "\n",
    "\n",
    "2. f2 и product имеют очень сильную положительную корреляцию -> сделать проверку на валидации как модель поведет себя при избавлении от одного из признаков\n",
    "\n",
    "\n",
    "3. f2 и product имеют умеренно положительную корреляцию \n",
    "\n",
    "По графикам можно заметить что есть значения выходящие за усы, трогать не зная что это конкретно за признаки - может привести к неожиданному результату , но использованеи регуляризации и масштабирования скорее всего смогут решить эту проблему, так же можно отчетливо наблюдать как корреляция в п.2 на них отображена  \n",
    "\n",
    "Так же столбец с индексами был перемещен в индексы после изменения дублирующихся индексов  на id + _d   \n",
    "  \n"
   ]
  },
  {
   "cell_type": "markdown",
   "metadata": {},
   "source": [
    "## Обучение и проверка модели"
   ]
  },
  {
   "cell_type": "code",
   "execution_count": 31,
   "metadata": {},
   "outputs": [],
   "source": [
    "def add_features(df, cols):\n",
    "    for col in cols:\n",
    "                \n",
    "        df[f'sin_{col}'] = np.cos(df[col])\n",
    "        \n",
    "        df[f'^2_{col}'] = (df[col])**2 * 0.3\n",
    "        \n",
    "        df[f'^3_{col}'] = (df[col])**3 * 0.191\n",
    "        \n",
    "        df[f'e_{col}'] = np.exp((df[col])) * np.sin(df[col])/(df[col]**2+1)\n",
    "    return df"
   ]
  },
  {
   "cell_type": "code",
   "execution_count": 32,
   "metadata": {},
   "outputs": [],
   "source": [
    "def my_train_test(df,list_col,key): \n",
    "    scaler = StandardScaler() #StandardScaler\n",
    "    model = LinearRegression()\n",
    "    X = df.drop('product',axis=1)\n",
    "    X = add_features(X, list_col)\n",
    "    y = df['product']\n",
    "    pipline = make_imblearn_pipeline(scaler, model)\n",
    "    X_train, X_test, y_train, y_test = train_test_split(X,y,train_size = 0.75,random_state=42)\n",
    "    X.info()\n",
    "    plt.figure(figsize=(12,7))\n",
    "    sns.heatmap(X.corr(), cmap=\"YlGnBu\")\n",
    "    plt.show()\n",
    "    \n",
    "    \n",
    "    if key:\n",
    "        alphas = np.linspace(30, 45, num=15)\n",
    "    else:\n",
    "        alphas = np.linspace(0.1, 0.9, num=9)\n",
    "\n",
    "    \n",
    "    param_grid = [\n",
    "    {'linearregression': [LinearRegression()] },\n",
    "    \n",
    "    {'linearregression': [Ridge(random_state=42)], \n",
    "                'linearregression__alpha': alphas }, \n",
    "    \n",
    "    {'linearregression': [Lasso(random_state=42)], \n",
    "             'linearregression__alpha': alphas },\n",
    "    {'linearregression': [ElasticNet(random_state=42)], \n",
    "             'linearregression__l1_ratio' : [0.3, 0.7]}\n",
    "    \n",
    "    ]\n",
    "    \n",
    "    \n",
    "    grid_search = GridSearchCV(pipline, \n",
    "                               param_grid, \n",
    "                               cv=5, \n",
    "                               scoring = ['neg_mean_squared_error', \n",
    "                                          'r2', \n",
    "                                          'neg_mean_absolute_error'],\n",
    "                               \n",
    "                               refit='neg_mean_squared_error'\n",
    "                              )\n",
    "    \n",
    "    grid_search.fit(X_train, y_train)\n",
    "    \n",
    "    \n",
    "    pred = grid_search.predict(X_test)\n",
    "\n",
    "    mse = mean_squared_error(y_test, pred)\n",
    "    rmse = mse**(1/2)\n",
    "    mae = median_absolute_error(y_test,pred)\n",
    "    \n",
    "    \n",
    "    return {'predictions' : {'data_predictions' : pred, 'mean_pred' : np.mean(pred)}, \n",
    "            'true_values' :{'data_y_test' : y_test, 'mean_y_test' : y_test.mean()},\n",
    "            'metrics': {'MSE': mse, 'RMSE':rmse, 'MAE':mae}, \n",
    "            'config': {'best_params' :grid_search.best_params_ , \n",
    "                       'best_score' : grid_search.best_score_, \n",
    "                       'cv_results_' : grid_search.cv_results_\n",
    "                      } \n",
    "           }"
   ]
  },
  {
   "cell_type": "code",
   "execution_count": 33,
   "metadata": {},
   "outputs": [
    {
     "name": "stdout",
     "output_type": "stream",
     "text": [
      "<class 'pandas.core.frame.DataFrame'>\n",
      "Index: 100000 entries, txEyH to 1CWhH\n",
      "Data columns (total 15 columns):\n",
      " #   Column  Non-Null Count   Dtype  \n",
      "---  ------  --------------   -----  \n",
      " 0   f0      100000 non-null  float64\n",
      " 1   f1      100000 non-null  float64\n",
      " 2   f2      100000 non-null  float64\n",
      " 3   sin_f0  100000 non-null  float64\n",
      " 4   ^2_f0   100000 non-null  float64\n",
      " 5   ^3_f0   100000 non-null  float64\n",
      " 6   e_f0    100000 non-null  float64\n",
      " 7   sin_f1  100000 non-null  float64\n",
      " 8   ^2_f1   100000 non-null  float64\n",
      " 9   ^3_f1   100000 non-null  float64\n",
      " 10  e_f1    100000 non-null  float64\n",
      " 11  sin_f2  100000 non-null  float64\n",
      " 12  ^2_f2   100000 non-null  float64\n",
      " 13  ^3_f2   100000 non-null  float64\n",
      " 14  e_f2    100000 non-null  float64\n",
      "dtypes: float64(15)\n",
      "memory usage: 14.2+ MB\n"
     ]
    },
    {
     "data": {
      "image/png": "[encoded data removed]",
      "text/plain": [
       "<Figure size 864x504 with 2 Axes>"
      ]
     },
     "metadata": {},
     "output_type": "display_data"
    }
   ],
   "source": [
    "region0_predict = my_train_test(df0, ['f0','f1','f2'], False)"
   ]
  },
  {
   "cell_type": "code",
   "execution_count": 34,
   "metadata": {
    "scrolled": true
   },
   "outputs": [
    {
     "data": {
      "text/plain": [
       "{'predictions': {'data_predictions': array([102.81259969,  75.69108137, 115.73802222, ...,  81.92942465,\n",
       "          87.74100742,  99.72689863]),\n",
       "  'mean_pred': 92.4510125909199},\n",
       " 'true_values': {'data_y_test': id\n",
       "  7C6bA    122.073350\n",
       "  dVxsn     48.738540\n",
       "  1Gm3l    131.338088\n",
       "  Nzg1t     88.327757\n",
       "  Z7b4F     36.959266\n",
       "              ...    \n",
       "  pXFCs    148.821520\n",
       "  tf6nq    123.454003\n",
       "  pv8T0     91.945213\n",
       "  nol4A    149.295563\n",
       "  MUye1     57.244039\n",
       "  Name: product, Length: 25000, dtype: float64,\n",
       "  'mean_y_test': 92.32595637084387},\n",
       " 'metrics': {'MSE': 1391.4767329115548,\n",
       "  'RMSE': 37.30250303815489,\n",
       "  'MAE': 27.397999691919633},\n",
       " 'config': {'best_params': {'linearregression': Ridge(alpha=0.6, random_state=42),\n",
       "   'linearregression__alpha': 0.6},\n",
       "  'best_score': -1385.1216254595693,\n",
       "  'cv_results_': {'mean_fit_time': array([0.14392262, 0.14470119, 0.12966805, 0.1312963 , 0.13166771,\n",
       "          0.12739596, 0.17694583, 0.13508286, 0.14008999, 0.12702923,\n",
       "          3.8198802 , 6.79777265, 2.03588166, 1.41418839, 1.73135648,\n",
       "          1.71787848, 0.77787189, 0.67487869, 0.92068343, 0.23459439,\n",
       "          0.19829044]),\n",
       "   'std_fit_time': array([5.01780282e-02, 3.31250922e-02, 1.38844731e-03, 5.71969364e-02,\n",
       "          3.75071352e-03, 5.03456545e-02, 3.40492733e-02, 2.80043170e-02,\n",
       "          5.87360877e-02, 8.81753675e-03, 3.98152633e-01, 1.78417540e+00,\n",
       "          3.81029070e-01, 3.62131526e-01, 6.90802241e-01, 8.56501818e-01,\n",
       "          3.18429588e-01, 9.60589204e-02, 6.47413812e-01, 7.47632572e-02,\n",
       "          5.89965421e-02]),\n",
       "   'mean_score_time': array([0.0773849 , 0.05871339, 0.05282016, 0.06513896, 0.02178998,\n",
       "          0.05661974, 0.03355184, 0.08257561, 0.06027656, 0.02228503,\n",
       "          0.17947063, 0.16009793, 0.16178851, 0.20230637, 0.18594213,\n",
       "          0.22200384, 0.12520099, 0.19968572, 0.14594965, 0.12433114,\n",
       "          0.09900312]),\n",
       "   'std_score_time': array([0.03867014, 0.02414684, 0.02190173, 0.05645775, 0.02319395,\n",
       "          0.02472687, 0.0292468 , 0.05027225, 0.02618154, 0.02468126,\n",
       "          0.07232503, 0.04583545, 0.04725956, 0.06229233, 0.04184851,\n",
       "          0.03825769, 0.07445851, 0.001475  , 0.04388785, 0.07070521,\n",
       "          0.03414253]),\n",
       "   'param_linearregression': masked_array(data=[LinearRegression(), Ridge(alpha=0.6, random_state=42),\n",
       "                      Ridge(alpha=0.6, random_state=42),\n",
       "                      Ridge(alpha=0.6, random_state=42),\n",
       "                      Ridge(alpha=0.6, random_state=42),\n",
       "                      Ridge(alpha=0.6, random_state=42),\n",
       "                      Ridge(alpha=0.6, random_state=42),\n",
       "                      Ridge(alpha=0.6, random_state=42),\n",
       "                      Ridge(alpha=0.6, random_state=42),\n",
       "                      Ridge(alpha=0.6, random_state=42),\n",
       "                      Lasso(random_state=42), Lasso(random_state=42),\n",
       "                      Lasso(random_state=42), Lasso(random_state=42),\n",
       "                      Lasso(random_state=42), Lasso(random_state=42),\n",
       "                      Lasso(random_state=42), Lasso(random_state=42),\n",
       "                      Lasso(random_state=42), ElasticNet(random_state=42),\n",
       "                      ElasticNet(random_state=42)],\n",
       "                mask=[False, False, False, False, False, False, False, False,\n",
       "                      False, False, False, False, False, False, False, False,\n",
       "                      False, False, False, False, False],\n",
       "          fill_value='?',\n",
       "               dtype=object),\n",
       "   'param_linearregression__alpha': masked_array(data=[--, 0.1, 0.2, 0.30000000000000004, 0.4, 0.5, 0.6,\n",
       "                      0.7000000000000001, 0.8, 0.9, 0.1, 0.2,\n",
       "                      0.30000000000000004, 0.4, 0.5, 0.6, 0.7000000000000001,\n",
       "                      0.8, 0.9, --, --],\n",
       "                mask=[ True, False, False, False, False, False, False, False,\n",
       "                      False, False, False, False, False, False, False, False,\n",
       "                      False, False, False,  True,  True],\n",
       "          fill_value='?',\n",
       "               dtype=object),\n",
       "   'param_linearregression__l1_ratio': masked_array(data=[--, --, --, --, --, --, --, --, --, --, --, --, --, --,\n",
       "                      --, --, --, --, --, 0.3, 0.7],\n",
       "                mask=[ True,  True,  True,  True,  True,  True,  True,  True,\n",
       "                       True,  True,  True,  True,  True,  True,  True,  True,\n",
       "                       True,  True,  True, False, False],\n",
       "          fill_value='?',\n",
       "               dtype=object),\n",
       "   'params': [{'linearregression': LinearRegression()},\n",
       "    {'linearregression': Ridge(alpha=0.6, random_state=42),\n",
       "     'linearregression__alpha': 0.1},\n",
       "    {'linearregression': Ridge(alpha=0.6, random_state=42),\n",
       "     'linearregression__alpha': 0.2},\n",
       "    {'linearregression': Ridge(alpha=0.6, random_state=42),\n",
       "     'linearregression__alpha': 0.30000000000000004},\n",
       "    {'linearregression': Ridge(alpha=0.6, random_state=42),\n",
       "     'linearregression__alpha': 0.4},\n",
       "    {'linearregression': Ridge(alpha=0.6, random_state=42),\n",
       "     'linearregression__alpha': 0.5},\n",
       "    {'linearregression': Ridge(alpha=0.6, random_state=42),\n",
       "     'linearregression__alpha': 0.6},\n",
       "    {'linearregression': Ridge(alpha=0.6, random_state=42),\n",
       "     'linearregression__alpha': 0.7000000000000001},\n",
       "    {'linearregression': Ridge(alpha=0.6, random_state=42),\n",
       "     'linearregression__alpha': 0.8},\n",
       "    {'linearregression': Ridge(alpha=0.6, random_state=42),\n",
       "     'linearregression__alpha': 0.9},\n",
       "    {'linearregression': Lasso(random_state=42),\n",
       "     'linearregression__alpha': 0.1},\n",
       "    {'linearregression': Lasso(random_state=42),\n",
       "     'linearregression__alpha': 0.2},\n",
       "    {'linearregression': Lasso(random_state=42),\n",
       "     'linearregression__alpha': 0.30000000000000004},\n",
       "    {'linearregression': Lasso(random_state=42),\n",
       "     'linearregression__alpha': 0.4},\n",
       "    {'linearregression': Lasso(random_state=42),\n",
       "     'linearregression__alpha': 0.5},\n",
       "    {'linearregression': Lasso(random_state=42),\n",
       "     'linearregression__alpha': 0.6},\n",
       "    {'linearregression': Lasso(random_state=42),\n",
       "     'linearregression__alpha': 0.7000000000000001},\n",
       "    {'linearregression': Lasso(random_state=42),\n",
       "     'linearregression__alpha': 0.8},\n",
       "    {'linearregression': Lasso(random_state=42),\n",
       "     'linearregression__alpha': 0.9},\n",
       "    {'linearregression': ElasticNet(random_state=42),\n",
       "     'linearregression__l1_ratio': 0.3},\n",
       "    {'linearregression': ElasticNet(random_state=42),\n",
       "     'linearregression__l1_ratio': 0.7}],\n",
       "   'split0_test_neg_mean_squared_error': array([-1356.86815157, -1356.86004454, -1356.85241862, -1356.84525153,\n",
       "          -1356.83852215, -1356.83221042, -1356.8262973 , -1356.82076472,\n",
       "          -1356.81559548, -1356.81077327, -1358.04393094, -1360.68434675,\n",
       "          -1363.89971069, -1367.89689126, -1371.85503185, -1375.12978244,\n",
       "          -1378.6735624 , -1383.30667651, -1383.7731957 , -1446.37597661,\n",
       "          -1410.16040449]),\n",
       "   'split1_test_neg_mean_squared_error': array([-1383.61324728, -1383.61259693, -1383.61228502, -1383.6122941 ,\n",
       "          -1383.6126077 , -1383.6132102 , -1383.61408682, -1383.61522355,\n",
       "          -1383.61660712, -1383.61822495, -1387.7398884 , -1393.01021464,\n",
       "          -1397.65838866, -1403.56504197, -1407.46334217, -1411.2590682 ,\n",
       "          -1415.39531005, -1420.42857528, -1420.92979768, -1496.8981126 ,\n",
       "          -1455.61362737]),\n",
       "   'split2_test_neg_mean_squared_error': array([-1406.18488803, -1406.18600998, -1406.18769238, -1406.18989436,\n",
       "          -1406.19257845, -1406.19571017, -1406.19925778, -1406.20319199,\n",
       "          -1406.20748575, -1406.212114  , -1409.87318249, -1413.4751356 ,\n",
       "          -1417.34605224, -1422.11816402, -1426.83445084, -1430.82311159,\n",
       "          -1435.12070813, -1439.85041348, -1440.27397638, -1508.57141252,\n",
       "          -1470.90683086]),\n",
       "   'split3_test_neg_mean_squared_error': array([-1392.0277745 , -1392.01180266, -1391.99674115, -1391.9825395 ,\n",
       "          -1391.96915087, -1391.95653169, -1391.94464137, -1391.93344204,\n",
       "          -1391.92289831, -1391.91297705, -1394.73054216, -1398.89369867,\n",
       "          -1402.89332375, -1407.8378732 , -1411.20373888, -1414.85303258,\n",
       "          -1418.62808388, -1423.11866514, -1424.41108335, -1506.19313089,\n",
       "          -1463.54833684]),\n",
       "   'split4_test_neg_mean_squared_error': array([-1386.95595018, -1386.96695843, -1386.9781049 , -1386.98937762,\n",
       "          -1387.00076533, -1387.01225745, -1387.02384403, -1387.0355157 ,\n",
       "          -1387.04726367, -1387.05907967, -1390.98432519, -1394.54263917,\n",
       "          -1397.62584419, -1401.80940461, -1405.90922164, -1409.4549005 ,\n",
       "          -1413.23567513, -1417.96312055, -1418.92051403, -1494.82798413,\n",
       "          -1454.14138957]),\n",
       "   'mean_test_neg_mean_squared_error': array([-1385.13000231, -1385.12748251, -1385.12544841, -1385.12387143,\n",
       "          -1385.1227249 , -1385.12198399, -1385.12162546, -1385.1216276 ,\n",
       "          -1385.12197007, -1385.12263379, -1388.27437384, -1392.12120696,\n",
       "          -1395.8846639 , -1400.64547501, -1404.65315708, -1408.30397906,\n",
       "          -1412.21066792, -1416.93349019, -1417.66171343, -1490.57332335,\n",
       "          -1450.87411783]),\n",
       "   'std_test_neg_mean_squared_error': array([16.09505708, 16.09709317, 16.0991863 , 16.10132897, 16.10351448,\n",
       "          16.10573686, 16.10799078, 16.11027147, 16.11257466, 16.11489653,\n",
       "          16.90975951, 17.30194649, 17.54381682, 17.86144062, 18.00062094,\n",
       "          18.22408255, 18.4498412 , 18.47961103, 18.5341038 , 22.71308063,\n",
       "          21.2258799 ]),\n",
       "   'rank_test_neg_mean_squared_error': array([10,  9,  8,  7,  6,  4,  1,  2,  3,  5, 11, 12, 13, 14, 15, 16, 17,\n",
       "          18, 19, 21, 20], dtype=int32),\n",
       "   'split0_test_r2': array([0.28731693, 0.28732119, 0.2873252 , 0.28732896, 0.2873325 ,\n",
       "          0.28733581, 0.28733892, 0.28734182, 0.28734454, 0.28734707,\n",
       "          0.28669937, 0.28531251, 0.28362367, 0.28152419, 0.27944521,\n",
       "          0.27772517, 0.27586383, 0.27343033, 0.2731853 , 0.24030374,\n",
       "          0.25932565]),\n",
       "   'split1_test_r2': array([0.30062604, 0.30062637, 0.30062653, 0.30062653, 0.30062637,\n",
       "          0.30062606, 0.30062562, 0.30062505, 0.30062435, 0.30062353,\n",
       "          0.29854015, 0.29587617, 0.29352666, 0.29054103, 0.28857056,\n",
       "          0.28665193, 0.28456119, 0.28201703, 0.28176368, 0.24336403,\n",
       "          0.26423207]),\n",
       "   'split2_test_r2': array([0.28751876, 0.28751819, 0.28751734, 0.28751623, 0.28751487,\n",
       "          0.28751328, 0.28751148, 0.28750949, 0.28750731, 0.28750497,\n",
       "          0.28564999, 0.28382496, 0.28186366, 0.27944574, 0.27705611,\n",
       "          0.27503515, 0.27285765, 0.27046122, 0.27024661, 0.23564189,\n",
       "          0.25472566]),\n",
       "   'split3_test_r2': array([0.29604738, 0.29605545, 0.29606307, 0.29607025, 0.29607702,\n",
       "          0.2960834 , 0.29608942, 0.29609508, 0.29610041, 0.29610543,\n",
       "          0.29468058, 0.29257526, 0.29055264, 0.28805216, 0.28635003,\n",
       "          0.28450458, 0.28259552, 0.28032462, 0.27967104, 0.23831361,\n",
       "          0.25987921]),\n",
       "   'split4_test_r2': array([0.29773518, 0.2977296 , 0.29772396, 0.29771825, 0.29771248,\n",
       "          0.29770666, 0.2977008 , 0.29769489, 0.29768894, 0.29768296,\n",
       "          0.29569547, 0.29389377, 0.29233263, 0.29021435, 0.28813846,\n",
       "          0.28634316, 0.28442882, 0.28203515, 0.28155039, 0.24311575,\n",
       "          0.26371681]),\n",
       "   'mean_test_r2': array([0.29384886, 0.29385016, 0.29385122, 0.29385204, 0.29385265,\n",
       "          0.29385305, 0.29385325, 0.29385327, 0.29385311, 0.29385279,\n",
       "          0.29225311, 0.29029653, 0.28837985, 0.28595549, 0.28391207,\n",
       "          0.282052  , 0.2800614 , 0.27765367, 0.2772834 , 0.2401478 ,\n",
       "          0.26037588]),\n",
       "   'std_test_r2': array([0.00545167, 0.00545072, 0.00544981, 0.00544894, 0.00544811,\n",
       "          0.0054473 , 0.00544653, 0.00544579, 0.00544508, 0.00544439,\n",
       "          0.00513254, 0.00481636, 0.00473111, 0.00459509, 0.00474267,\n",
       "          0.00476542, 0.0048012 , 0.00479454, 0.00469663, 0.00292727,\n",
       "          0.00344403]),\n",
       "   'rank_test_r2': array([10,  9,  8,  7,  6,  4,  2,  1,  3,  5, 11, 12, 13, 14, 15, 16, 17,\n",
       "          18, 19, 21, 20], dtype=int32),\n",
       "   'split0_test_neg_mean_absolute_error': array([-30.21242972, -30.21228098, -30.21213687, -30.21200214,\n",
       "          -30.21187156, -30.2117429 , -30.21161816, -30.21149839,\n",
       "          -30.21138118, -30.211267  , -30.23150166, -30.27922862,\n",
       "          -30.33537392, -30.40090597, -30.45259768, -30.49059029,\n",
       "          -30.53218764, -30.58233456, -30.59425227, -31.79930165,\n",
       "          -31.20676162]),\n",
       "   'split1_test_neg_mean_absolute_error': array([-30.67793872, -30.67795008, -30.6779677 , -30.67798927,\n",
       "          -30.67801008, -30.67803206, -30.67806218, -30.67809487,\n",
       "          -30.67812844, -30.67816175, -30.74736073, -30.82908   ,\n",
       "          -30.90542829, -30.99660536, -31.04691937, -31.09335016,\n",
       "          -31.14205754, -31.2006432 , -31.21237719, -32.49743856,\n",
       "          -31.88902067]),\n",
       "   'split2_test_neg_mean_absolute_error': array([-30.97432117, -30.97431267, -30.97431652, -30.97432871,\n",
       "          -30.97434704, -30.97437044, -30.97439652, -30.97442403,\n",
       "          -30.97445282, -30.97448329, -31.03176952, -31.08721994,\n",
       "          -31.14927913, -31.22153611, -31.28005752, -31.3226298 ,\n",
       "          -31.36703339, -31.41577851, -31.42664593, -32.62621288,\n",
       "          -32.05724409]),\n",
       "   'split3_test_neg_mean_absolute_error': array([-30.71939009, -30.71927245, -30.71916168, -30.7190647 ,\n",
       "          -30.71897792, -30.71889866, -30.71882474, -30.71875402,\n",
       "          -30.71868758, -30.7186246 , -30.77285797, -30.83264549,\n",
       "          -30.89163852, -30.96069696, -30.99627288, -31.03376103,\n",
       "          -31.07400788, -31.12108152, -31.1403256 , -32.54409173,\n",
       "          -31.90589115]),\n",
       "   'split4_test_neg_mean_absolute_error': array([-30.67859902, -30.67872169, -30.67884372, -30.67896921,\n",
       "          -30.67909363, -30.67921588, -30.67933603, -30.67945505,\n",
       "          -30.67957208, -30.67969064, -30.73457102, -30.7915751 ,\n",
       "          -30.8449019 , -30.91183637, -30.96754364, -31.01099897,\n",
       "          -31.05687461, -31.10972775, -31.12768823, -32.42940038,\n",
       "          -31.82827752]),\n",
       "   'mean_test_neg_mean_absolute_error': array([-30.65253574, -30.65250757, -30.6524853 , -30.65247081,\n",
       "          -30.65246005, -30.65245199, -30.65244753, -30.65244527,\n",
       "          -30.65244442, -30.65244546, -30.70361218, -30.76394983,\n",
       "          -30.82532435, -30.89831615, -30.94867822, -30.99026605,\n",
       "          -31.03443221, -31.08591311, -31.10025785, -32.37928904,\n",
       "          -31.77743901]),\n",
       "   'std_test_neg_mean_absolute_error': array([0.24618419, 0.24623161, 0.24628111, 0.24633037, 0.24638028,\n",
       "          0.24643125, 0.24648194, 0.24653144, 0.24658058, 0.24662932,\n",
       "          0.26009342, 0.26426593, 0.26690658, 0.27041559, 0.27135977,\n",
       "          0.27316278, 0.27441802, 0.27472513, 0.27477242, 0.29698052,\n",
       "          0.2951266 ]),\n",
       "   'rank_test_neg_mean_absolute_error': array([10,  9,  8,  7,  6,  5,  4,  2,  1,  3, 11, 12, 13, 14, 15, 16, 17,\n",
       "          18, 19, 21, 20], dtype=int32)}}}"
      ]
     },
     "execution_count": 34,
     "metadata": {},
     "output_type": "execute_result"
    }
   ],
   "source": [
    "region0_predict"
   ]
  },
  {
   "cell_type": "code",
   "execution_count": 35,
   "metadata": {
    "scrolled": false
   },
   "outputs": [
    {
     "name": "stdout",
     "output_type": "stream",
     "text": [
      "<class 'pandas.core.frame.DataFrame'>\n",
      "Index: 100000 entries, kBEdx to relB0\n",
      "Data columns (total 15 columns):\n",
      " #   Column  Non-Null Count   Dtype  \n",
      "---  ------  --------------   -----  \n",
      " 0   f0      100000 non-null  float64\n",
      " 1   f1      100000 non-null  float64\n",
      " 2   f2      100000 non-null  float64\n",
      " 3   sin_f0  100000 non-null  float64\n",
      " 4   ^2_f0   100000 non-null  float64\n",
      " 5   ^3_f0   100000 non-null  float64\n",
      " 6   e_f0    100000 non-null  float64\n",
      " 7   sin_f1  100000 non-null  float64\n",
      " 8   ^2_f1   100000 non-null  float64\n",
      " 9   ^3_f1   100000 non-null  float64\n",
      " 10  e_f1    100000 non-null  float64\n",
      " 11  sin_f2  100000 non-null  float64\n",
      " 12  ^2_f2   100000 non-null  float64\n",
      " 13  ^3_f2   100000 non-null  float64\n",
      " 14  e_f2    100000 non-null  float64\n",
      "dtypes: float64(15)\n",
      "memory usage: 14.2+ MB\n"
     ]
    },
    {
     "data": {
      "image/png": "[encoded data removed]",
      "text/plain": [
       "<Figure size 864x504 with 2 Axes>"
      ]
     },
     "metadata": {},
     "output_type": "display_data"
    }
   ],
   "source": [
    "region1_predict = my_train_test(df1, ['f0','f1','f2'], False)"
   ]
  },
  {
   "cell_type": "code",
   "execution_count": 36,
   "metadata": {
    "scrolled": true
   },
   "outputs": [
    {
     "data": {
      "text/plain": [
       "{'predictions': {'data_predictions': array([  0.57121369,  53.41096633, 134.79952319, ...,  26.8062185 ,\n",
       "         110.0039042 , 135.09928926]),\n",
       "  'mean_pred': 68.7171641695545},\n",
       " 'true_values': {'data_y_test': id\n",
       "  fYVDK      0.000000\n",
       "  3SQcq     53.906522\n",
       "  hQ1gJ    134.766305\n",
       "  Y4vux    107.813044\n",
       "  H1NUw      0.000000\n",
       "              ...    \n",
       "  Vn3pL    107.813044\n",
       "  zZe7H     53.906522\n",
       "  iefIy     26.953261\n",
       "  CFT5B    110.992147\n",
       "  cQudG    134.766305\n",
       "  Name: product, Length: 25000, dtype: float64,\n",
       "  'mean_y_test': 68.72538074722745},\n",
       " 'metrics': {'MSE': 0.6182907317469077,\n",
       "  'RMSE': 0.7863146518709337,\n",
       "  'MAE': 0.3388047544789927},\n",
       " 'config': {'best_params': {'linearregression': LinearRegression()},\n",
       "  'best_score': -0.6187507911340028,\n",
       "  'cv_results_': {'mean_fit_time': array([0.12431984, 0.11357079, 0.14573646, 0.14893017, 0.13430958,\n",
       "          0.1333292 , 0.14906869, 0.1336565 , 0.16112533, 0.1737021 ,\n",
       "          0.14037552, 0.1519001 , 0.13756709, 0.12941151, 0.12743206,\n",
       "          0.13353219, 0.15155749, 0.15181074, 0.15808697, 0.15822501,\n",
       "          0.23217158]),\n",
       "   'std_fit_time': array([0.04524744, 0.04816794, 0.0268149 , 0.0310423 , 0.02628268,\n",
       "          0.0265915 , 0.028067  , 0.02751148, 0.03083677, 0.02673081,\n",
       "          0.03811047, 0.04681841, 0.02636624, 0.03508415, 0.00377855,\n",
       "          0.03026685, 0.06649359, 0.03493903, 0.03784874, 0.06277324,\n",
       "          0.04734461]),\n",
       "   'mean_score_time': array([0.12416801, 0.02089229, 0.00990033, 0.01016803, 0.03784962,\n",
       "          0.06228595, 0.03515697, 0.02439876, 0.05725479, 0.00996637,\n",
       "          0.09857984, 0.12892027, 0.13960805, 0.10856991, 0.08699918,\n",
       "          0.18272138, 0.16371794, 0.14720216, 0.10163441, 0.11972451,\n",
       "          0.10268369]),\n",
       "   'std_score_time': array([0.03931764, 0.02203498, 0.00031969, 0.00013164, 0.03146775,\n",
       "          0.02549788, 0.03032545, 0.02592997, 0.09362358, 0.00041098,\n",
       "          0.0284025 , 0.06504679, 0.03354537, 0.03045928, 0.07183895,\n",
       "          0.01741727, 0.02802968, 0.04900474, 0.04063898, 0.05109902,\n",
       "          0.00356006]),\n",
       "   'param_linearregression': masked_array(data=[LinearRegression(), Ridge(random_state=42),\n",
       "                      Ridge(random_state=42), Ridge(random_state=42),\n",
       "                      Ridge(random_state=42), Ridge(random_state=42),\n",
       "                      Ridge(random_state=42), Ridge(random_state=42),\n",
       "                      Ridge(random_state=42), Ridge(random_state=42),\n",
       "                      Lasso(random_state=42), Lasso(random_state=42),\n",
       "                      Lasso(random_state=42), Lasso(random_state=42),\n",
       "                      Lasso(random_state=42), Lasso(random_state=42),\n",
       "                      Lasso(random_state=42), Lasso(random_state=42),\n",
       "                      Lasso(random_state=42), ElasticNet(random_state=42),\n",
       "                      ElasticNet(random_state=42)],\n",
       "                mask=[False, False, False, False, False, False, False, False,\n",
       "                      False, False, False, False, False, False, False, False,\n",
       "                      False, False, False, False, False],\n",
       "          fill_value='?',\n",
       "               dtype=object),\n",
       "   'param_linearregression__alpha': masked_array(data=[--, 0.1, 0.2, 0.30000000000000004, 0.4, 0.5, 0.6,\n",
       "                      0.7000000000000001, 0.8, 0.9, 0.1, 0.2,\n",
       "                      0.30000000000000004, 0.4, 0.5, 0.6, 0.7000000000000001,\n",
       "                      0.8, 0.9, --, --],\n",
       "                mask=[ True, False, False, False, False, False, False, False,\n",
       "                      False, False, False, False, False, False, False, False,\n",
       "                      False, False, False,  True,  True],\n",
       "          fill_value='?',\n",
       "               dtype=object),\n",
       "   'param_linearregression__l1_ratio': masked_array(data=[--, --, --, --, --, --, --, --, --, --, --, --, --, --,\n",
       "                      --, --, --, --, --, 0.3, 0.7],\n",
       "                mask=[ True,  True,  True,  True,  True,  True,  True,  True,\n",
       "                       True,  True,  True,  True,  True,  True,  True,  True,\n",
       "                       True,  True,  True, False, False],\n",
       "          fill_value='?',\n",
       "               dtype=object),\n",
       "   'params': [{'linearregression': LinearRegression()},\n",
       "    {'linearregression': Ridge(random_state=42),\n",
       "     'linearregression__alpha': 0.1},\n",
       "    {'linearregression': Ridge(random_state=42),\n",
       "     'linearregression__alpha': 0.2},\n",
       "    {'linearregression': Ridge(random_state=42),\n",
       "     'linearregression__alpha': 0.30000000000000004},\n",
       "    {'linearregression': Ridge(random_state=42),\n",
       "     'linearregression__alpha': 0.4},\n",
       "    {'linearregression': Ridge(random_state=42),\n",
       "     'linearregression__alpha': 0.5},\n",
       "    {'linearregression': Ridge(random_state=42),\n",
       "     'linearregression__alpha': 0.6},\n",
       "    {'linearregression': Ridge(random_state=42),\n",
       "     'linearregression__alpha': 0.7000000000000001},\n",
       "    {'linearregression': Ridge(random_state=42),\n",
       "     'linearregression__alpha': 0.8},\n",
       "    {'linearregression': Ridge(random_state=42),\n",
       "     'linearregression__alpha': 0.9},\n",
       "    {'linearregression': Lasso(random_state=42),\n",
       "     'linearregression__alpha': 0.1},\n",
       "    {'linearregression': Lasso(random_state=42),\n",
       "     'linearregression__alpha': 0.2},\n",
       "    {'linearregression': Lasso(random_state=42),\n",
       "     'linearregression__alpha': 0.30000000000000004},\n",
       "    {'linearregression': Lasso(random_state=42),\n",
       "     'linearregression__alpha': 0.4},\n",
       "    {'linearregression': Lasso(random_state=42),\n",
       "     'linearregression__alpha': 0.5},\n",
       "    {'linearregression': Lasso(random_state=42),\n",
       "     'linearregression__alpha': 0.6},\n",
       "    {'linearregression': Lasso(random_state=42),\n",
       "     'linearregression__alpha': 0.7000000000000001},\n",
       "    {'linearregression': Lasso(random_state=42),\n",
       "     'linearregression__alpha': 0.8},\n",
       "    {'linearregression': Lasso(random_state=42),\n",
       "     'linearregression__alpha': 0.9},\n",
       "    {'linearregression': ElasticNet(random_state=42),\n",
       "     'linearregression__l1_ratio': 0.3},\n",
       "    {'linearregression': ElasticNet(random_state=42),\n",
       "     'linearregression__l1_ratio': 0.7}],\n",
       "   'split0_test_neg_mean_squared_error': array([ -0.61170413,  -0.61178835,  -0.61187166,  -0.61194465,\n",
       "           -0.61200782,  -0.6120633 ,  -0.61211316,  -0.61215905,\n",
       "           -0.6122023 ,  -0.61224389,  -0.7626772 ,  -0.88097109,\n",
       "           -0.98266728,  -1.12433586,  -1.30597685,  -1.52759024,\n",
       "           -1.78917603,  -2.09073422,  -2.43226481, -84.93428355,\n",
       "          -36.57893236]),\n",
       "   'split1_test_neg_mean_squared_error': array([ -0.61605269,  -0.61609734,  -0.61615682,  -0.61621415,\n",
       "           -0.61626641,  -0.616314  ,  -0.616358  ,  -0.61639948,\n",
       "           -0.61643937,  -0.6164784 ,  -0.76009738,  -0.88024058,\n",
       "           -0.97651759,  -1.1117483 ,  -1.28593271,  -1.49907081,\n",
       "           -1.7511626 ,  -2.04220809,  -2.37220728, -85.14245453,\n",
       "          -36.53831854]),\n",
       "   'split2_test_neg_mean_squared_error': array([ -0.62585357,  -0.62578162,  -0.62578063,  -0.62580662,\n",
       "           -0.62584447,  -0.62588827,  -0.62593556,  -0.62598525,\n",
       "           -0.62603691,  -0.62609035,  -0.76995411,  -0.88884794,\n",
       "           -0.99002054,  -1.1320839 ,  -1.31503802,  -1.5388829 ,\n",
       "           -1.80361854,  -2.10924494,  -2.45576209, -86.72387354,\n",
       "          -37.29558281]),\n",
       "   'split3_test_neg_mean_squared_error': array([ -0.62040889,  -0.62043519,  -0.62048449,  -0.62053624,\n",
       "           -0.62058571,  -0.62063232,  -0.62067657,  -0.62071916,\n",
       "           -0.62076079,  -0.62080204,  -0.76665874,  -0.88990206,\n",
       "           -0.98965133,  -1.12891829,  -1.30770295,  -1.52600531,\n",
       "           -1.78382537,  -2.08116312,  -2.41801857, -86.73139987,\n",
       "          -37.28089241]),\n",
       "   'split4_test_neg_mean_squared_error': array([ -0.61973468,  -0.61979196,  -0.61986206,  -0.6199291 ,\n",
       "           -0.61999055,  -0.620047  ,  -0.62009962,  -0.62014953,\n",
       "           -0.6201977 ,  -0.62024488,  -0.7648406 ,  -0.88319317,\n",
       "           -0.98326228,  -1.12359089,  -1.304179  ,  -1.5250266 ,\n",
       "           -1.7861337 ,  -2.0875003 ,  -2.4291264 , -85.43897634,\n",
       "          -36.82158292]),\n",
       "   'mean_test_neg_mean_squared_error': array([ -0.61875079,  -0.61877889,  -0.61883113,  -0.61888615,\n",
       "           -0.61893899,  -0.61898898,  -0.61903658,  -0.6190825 ,\n",
       "           -0.61912741,  -0.61917191,  -0.76484561,  -0.88463097,\n",
       "           -0.9844238 ,  -1.12413545,  -1.30376591,  -1.52331517,\n",
       "           -1.78278325,  -2.08217013,  -2.42147583, -85.79419757,\n",
       "          -36.90306181]),\n",
       "   'std_test_neg_mean_squared_error': array([0.00471385, 0.00466618, 0.00464065, 0.00462661, 0.00461924,\n",
       "          0.00461607, 0.00461571, 0.00461731, 0.00462033, 0.00462441,\n",
       "          0.00336547, 0.00400761, 0.00501185, 0.00692577, 0.00965032,\n",
       "          0.01310409, 0.01724618, 0.02205801, 0.02753116, 0.77885156,\n",
       "          0.32910942]),\n",
       "   'rank_test_neg_mean_squared_error': array([ 1,  2,  3,  4,  5,  6,  7,  8,  9, 10, 11, 12, 13, 14, 15, 16, 17,\n",
       "          18, 19, 21, 20], dtype=int32),\n",
       "   'split0_test_r2': array([0.99970851, 0.99970847, 0.99970843, 0.9997084 , 0.99970837,\n",
       "          0.99970834, 0.99970832, 0.99970829, 0.99970827, 0.99970825,\n",
       "          0.99963657, 0.9995802 , 0.99953174, 0.99946423, 0.99937768,\n",
       "          0.99927207, 0.99914742, 0.99900373, 0.99884098, 0.95952723,\n",
       "          0.98256946]),\n",
       "   'split1_test_r2': array([0.99970521, 0.99970519, 0.99970516, 0.99970514, 0.99970511,\n",
       "          0.99970509, 0.99970507, 0.99970505, 0.99970503, 0.99970501,\n",
       "          0.99963629, 0.9995788 , 0.99953273, 0.99946802, 0.99938467,\n",
       "          0.99928268, 0.99916205, 0.99902278, 0.99886487, 0.95925845,\n",
       "          0.98251603]),\n",
       "   'split2_test_r2': array([0.99970681, 0.99970684, 0.99970684, 0.99970683, 0.99970681,\n",
       "          0.99970679, 0.99970677, 0.99970675, 0.99970672, 0.9997067 ,\n",
       "          0.9996393 , 0.99958361, 0.99953621, 0.99946966, 0.99938395,\n",
       "          0.99927909, 0.99915507, 0.99901189, 0.99884956, 0.95937283,\n",
       "          0.9825283 ]),\n",
       "   'split3_test_r2': array([0.99970743, 0.99970742, 0.99970739, 0.99970737, 0.99970735,\n",
       "          0.99970732, 0.9997073 , 0.99970728, 0.99970726, 0.99970724,\n",
       "          0.99963846, 0.99958034, 0.9995333 , 0.99946763, 0.99938332,\n",
       "          0.99928037, 0.99915879, 0.99901857, 0.99885971, 0.95909934,\n",
       "          0.98241913]),\n",
       "   'split4_test_r2': array([0.99970623, 0.99970621, 0.99970617, 0.99970614, 0.99970611,\n",
       "          0.99970609, 0.99970606, 0.99970604, 0.99970602, 0.99970599,\n",
       "          0.99963745, 0.99958135, 0.99953392, 0.9994674 , 0.9993818 ,\n",
       "          0.99927711, 0.99915334, 0.99901049, 0.99884855, 0.95950043,\n",
       "          0.98254592]),\n",
       "   'mean_test_r2': array([0.99970684, 0.99970683, 0.9997068 , 0.99970677, 0.99970675,\n",
       "          0.99970673, 0.9997067 , 0.99970668, 0.99970666, 0.99970664,\n",
       "          0.99963761, 0.99958086, 0.99953358, 0.99946739, 0.99938228,\n",
       "          0.99927826, 0.99915533, 0.99901349, 0.99885274, 0.95935166,\n",
       "          0.98251577]),\n",
       "   'std_test_r2': array([1.10966285e-06, 1.10556718e-06, 1.10348473e-06, 1.10227377e-06,\n",
       "          1.10151088e-06, 1.10100956e-06, 1.10067693e-06, 1.10046225e-06,\n",
       "          1.10033571e-06, 1.10027874e-06, 1.13571274e-06, 1.59635422e-06,\n",
       "          1.49771022e-06, 1.76390920e-06, 2.48905740e-06, 3.58426642e-06,\n",
       "          4.97264371e-06, 6.61865504e-06, 8.50676894e-06, 1.58593899e-04,\n",
       "          5.15504055e-05]),\n",
       "   'rank_test_r2': array([ 1,  2,  3,  4,  5,  6,  7,  8,  9, 10, 11, 12, 13, 14, 15, 16, 17,\n",
       "          18, 19, 21, 20], dtype=int32),\n",
       "   'split0_test_neg_mean_absolute_error': array([-0.54436937, -0.54440788, -0.54445438, -0.54449848, -0.54454052,\n",
       "          -0.5445803 , -0.54461958, -0.54465632, -0.54469101, -0.54472472,\n",
       "          -0.69320213, -0.7746266 , -0.82933381, -0.89561335, -0.96900559,\n",
       "          -1.04702834, -1.12810162, -1.21213126, -1.29913153, -7.06363617,\n",
       "          -4.32993423]),\n",
       "   'split1_test_neg_mean_absolute_error': array([-0.54708431, -0.54710058, -0.54713415, -0.54716934, -0.54720021,\n",
       "          -0.54722733, -0.54725139, -0.54727231, -0.54729261, -0.5473124 ,\n",
       "          -0.69103395, -0.77291679, -0.82399106, -0.88741771, -0.95828408,\n",
       "          -1.03380053, -1.1127179 , -1.19463981, -1.27977453, -7.09790407,\n",
       "          -4.32629861]),\n",
       "   'split2_test_neg_mean_absolute_error': array([-0.54980861, -0.54980097, -0.54982032, -0.54984806, -0.54987877,\n",
       "          -0.54991005, -0.54993961, -0.54996874, -0.54999799, -0.55002736,\n",
       "          -0.69784806, -0.77703139, -0.83037927, -0.89614197, -0.96959792,\n",
       "          -1.048008  , -1.12961891, -1.21423428, -1.30226968, -7.19780076,\n",
       "          -4.39161757]),\n",
       "   'split3_test_neg_mean_absolute_error': array([-0.54872659, -0.54868217, -0.54867997, -0.54869551, -0.54871722,\n",
       "          -0.54874279, -0.54876973, -0.54879748, -0.54882622, -0.54885803,\n",
       "          -0.69423272, -0.77887181, -0.83151011, -0.89557186, -0.96701185,\n",
       "          -1.04308308, -1.1225889 , -1.20510647, -1.29082748, -7.18044934,\n",
       "          -4.3833829 ]),\n",
       "   'split4_test_neg_mean_absolute_error': array([-0.54781666, -0.54783735, -0.54787068, -0.54790722, -0.54794136,\n",
       "          -0.54797518, -0.54800818, -0.5480407 , -0.54807392, -0.54810759,\n",
       "          -0.6938047 , -0.77491864, -0.82884039, -0.89479362, -0.96752168,\n",
       "          -1.0450725 , -1.12594844, -1.20976423, -1.29662306, -7.11327876,\n",
       "          -4.3537954 ]),\n",
       "   'mean_test_neg_mean_absolute_error': array([-0.54756111, -0.54756579, -0.5475919 , -0.54762372, -0.54765562,\n",
       "          -0.54768713, -0.5477177 , -0.54774711, -0.54777635, -0.54780602,\n",
       "          -0.69402431, -0.77567305, -0.82881093, -0.8939077 , -0.96628422,\n",
       "          -1.04339849, -1.12379515, -1.20717521, -1.29372526, -7.13061382,\n",
       "          -4.35700574]),\n",
       "   'std_test_neg_mean_absolute_error': array([0.0018379 , 0.00181686, 0.0018045 , 0.00179724, 0.00179233,\n",
       "          0.001789  , 0.00178571, 0.00178345, 0.00178212, 0.00178158,\n",
       "          0.00220595, 0.00206583, 0.00257878, 0.00327339, 0.00410973,\n",
       "          0.00508814, 0.00602095, 0.00696436, 0.00792025, 0.05070326,\n",
       "          0.02675756]),\n",
       "   'rank_test_neg_mean_absolute_error': array([ 1,  2,  3,  4,  5,  6,  7,  8,  9, 10, 11, 12, 13, 14, 15, 16, 17,\n",
       "          18, 19, 21, 20], dtype=int32)}}}"
      ]
     },
     "execution_count": 36,
     "metadata": {},
     "output_type": "execute_result"
    }
   ],
   "source": [
    "region1_predict"
   ]
  },
  {
   "cell_type": "code",
   "execution_count": 37,
   "metadata": {},
   "outputs": [
    {
     "name": "stdout",
     "output_type": "stream",
     "text": [
      "<class 'pandas.core.frame.DataFrame'>\n",
      "Index: 100000 entries, fwXo0 to V9kWn\n",
      "Data columns (total 15 columns):\n",
      " #   Column  Non-Null Count   Dtype  \n",
      "---  ------  --------------   -----  \n",
      " 0   f0      100000 non-null  float64\n",
      " 1   f1      100000 non-null  float64\n",
      " 2   f2      100000 non-null  float64\n",
      " 3   sin_f0  100000 non-null  float64\n",
      " 4   ^2_f0   100000 non-null  float64\n",
      " 5   ^3_f0   100000 non-null  float64\n",
      " 6   e_f0    100000 non-null  float64\n",
      " 7   sin_f1  100000 non-null  float64\n",
      " 8   ^2_f1   100000 non-null  float64\n",
      " 9   ^3_f1   100000 non-null  float64\n",
      " 10  e_f1    100000 non-null  float64\n",
      " 11  sin_f2  100000 non-null  float64\n",
      " 12  ^2_f2   100000 non-null  float64\n",
      " 13  ^3_f2   100000 non-null  float64\n",
      " 14  e_f2    100000 non-null  float64\n",
      "dtypes: float64(15)\n",
      "memory usage: 14.2+ MB\n"
     ]
    },
    {
     "data": {
      "image/png": "[encoded data removed]",
      "text/plain": [
       "<Figure size 864x504 with 2 Axes>"
      ]
     },
     "metadata": {},
     "output_type": "display_data"
    }
   ],
   "source": [
    "region2_predict = my_train_test(df2, ['f0','f1','f2'], True)"
   ]
  },
  {
   "cell_type": "code",
   "execution_count": 38,
   "metadata": {},
   "outputs": [
    {
     "data": {
      "text/plain": [
       "{'predictions': {'data_predictions': array([110.08144227,  89.12205974,  61.68461185, ...,  72.57439703,\n",
       "          77.63817287,  83.42888786]),\n",
       "  'mean_pred': 94.74272380870717},\n",
       " 'true_values': {'data_y_test': id\n",
       "  sPjbT    117.441301\n",
       "  1u4uo     47.841249\n",
       "  kZ6HO     45.883483\n",
       "  gCZGK    139.014608\n",
       "  rqJHx     84.004276\n",
       "              ...    \n",
       "  hMnQH     40.797226\n",
       "  KGq37     87.144239\n",
       "  CKCjb     52.039812\n",
       "  ANcQx    136.961454\n",
       "  AarNF    109.173206\n",
       "  Name: product, Length: 25000, dtype: float64,\n",
       "  'mean_y_test': 95.15099907171961},\n",
       " 'metrics': {'MSE': 1461.8260647707182,\n",
       "  'RMSE': 38.233834031793336,\n",
       "  'MAE': 28.388251161736775},\n",
       " 'config': {'best_params': {'linearregression': Ridge(alpha=45.0, random_state=42),\n",
       "   'linearregression__alpha': 45.0},\n",
       "  'best_score': -1452.2024607152634,\n",
       "  'cv_results_': {'mean_fit_time': array([0.12929263, 0.12578769, 0.15955462, 0.14960637, 0.14701123,\n",
       "          0.16013241, 0.13827686, 0.14538388, 0.13479466, 0.13399534,\n",
       "          0.1583549 , 0.13508763, 0.12401657, 0.14684987, 0.17325168,\n",
       "          0.17392426, 0.16935482, 0.11148024, 0.13005357, 0.14079609,\n",
       "          0.12693081, 0.12437539, 0.14164095, 0.13070183, 0.11822381,\n",
       "          0.13495841, 0.16163702, 0.14230604, 0.14655995, 0.17078948,\n",
       "          0.42474704, 0.2203505 , 0.17107763]),\n",
       "   'std_fit_time': array([0.06606453, 0.00320854, 0.02803098, 0.03148074, 0.03051575,\n",
       "          0.02839883, 0.02365775, 0.02965728, 0.0258293 , 0.02394187,\n",
       "          0.03141841, 0.02252595, 0.0025621 , 0.02698361, 0.02326186,\n",
       "          0.0274645 , 0.03358867, 0.06383019, 0.00305926, 0.05783572,\n",
       "          0.03592621, 0.05592801, 0.03390463, 0.06081769, 0.06886783,\n",
       "          0.05330786, 0.03320865, 0.03736207, 0.02182294, 0.03361081,\n",
       "          0.29288942, 0.06540697, 0.03822655]),\n",
       "   'mean_score_time': array([0.03243546, 0.03540072, 0.01034722, 0.02298765, 0.02424288,\n",
       "          0.01022325, 0.05791674, 0.02473211, 0.0236598 , 0.01026454,\n",
       "          0.02449579, 0.0234262 , 0.04980321, 0.02470231, 0.01116385,\n",
       "          0.01064243, 0.16091528, 0.10953183, 0.03203936, 0.09292026,\n",
       "          0.17308488, 0.09318771, 0.12475419, 0.14940577, 0.16179852,\n",
       "          0.07270303, 0.11575098, 0.10206599, 0.07461762, 0.14856067,\n",
       "          0.15395932, 0.12464752, 0.18323712]),\n",
       "   'std_score_time': array([0.02133574, 0.03158059, 0.00026511, 0.02672907, 0.02614199,\n",
       "          0.00019596, 0.02445073, 0.0288806 , 0.02549792, 0.00039643,\n",
       "          0.02836181, 0.025861  , 0.03100956, 0.02741278, 0.00166027,\n",
       "          0.0017487 , 0.02690598, 0.04144897, 0.02712333, 0.03870302,\n",
       "          0.03343114, 0.03313911, 0.07148532, 0.03570308, 0.0364859 ,\n",
       "          0.05442192, 0.0511491 , 0.08175875, 0.06189654, 0.04053234,\n",
       "          0.03661713, 0.06600066, 0.01196641]),\n",
       "   'param_linearregression': masked_array(data=[LinearRegression(), Ridge(alpha=45.0, random_state=42),\n",
       "                      Ridge(alpha=45.0, random_state=42),\n",
       "                      Ridge(alpha=45.0, random_state=42),\n",
       "                      Ridge(alpha=45.0, random_state=42),\n",
       "                      Ridge(alpha=45.0, random_state=42),\n",
       "                      Ridge(alpha=45.0, random_state=42),\n",
       "                      Ridge(alpha=45.0, random_state=42),\n",
       "                      Ridge(alpha=45.0, random_state=42),\n",
       "                      Ridge(alpha=45.0, random_state=42),\n",
       "                      Ridge(alpha=45.0, random_state=42),\n",
       "                      Ridge(alpha=45.0, random_state=42),\n",
       "                      Ridge(alpha=45.0, random_state=42),\n",
       "                      Ridge(alpha=45.0, random_state=42),\n",
       "                      Ridge(alpha=45.0, random_state=42),\n",
       "                      Ridge(alpha=45.0, random_state=42),\n",
       "                      Lasso(random_state=42), Lasso(random_state=42),\n",
       "                      Lasso(random_state=42), Lasso(random_state=42),\n",
       "                      Lasso(random_state=42), Lasso(random_state=42),\n",
       "                      Lasso(random_state=42), Lasso(random_state=42),\n",
       "                      Lasso(random_state=42), Lasso(random_state=42),\n",
       "                      Lasso(random_state=42), Lasso(random_state=42),\n",
       "                      Lasso(random_state=42), Lasso(random_state=42),\n",
       "                      Lasso(random_state=42), ElasticNet(random_state=42),\n",
       "                      ElasticNet(random_state=42)],\n",
       "                mask=[False, False, False, False, False, False, False, False,\n",
       "                      False, False, False, False, False, False, False, False,\n",
       "                      False, False, False, False, False, False, False, False,\n",
       "                      False, False, False, False, False, False, False, False,\n",
       "                      False],\n",
       "          fill_value='?',\n",
       "               dtype=object),\n",
       "   'param_linearregression__alpha': masked_array(data=[--, 30.0, 31.071428571428573, 32.142857142857146,\n",
       "                      33.214285714285715, 34.285714285714285,\n",
       "                      35.357142857142854, 36.42857142857143, 37.5,\n",
       "                      38.57142857142857, 39.64285714285714,\n",
       "                      40.714285714285715, 41.785714285714285,\n",
       "                      42.85714285714286, 43.92857142857143, 45.0, 30.0,\n",
       "                      31.071428571428573, 32.142857142857146,\n",
       "                      33.214285714285715, 34.285714285714285,\n",
       "                      35.357142857142854, 36.42857142857143, 37.5,\n",
       "                      38.57142857142857, 39.64285714285714,\n",
       "                      40.714285714285715, 41.785714285714285,\n",
       "                      42.85714285714286, 43.92857142857143, 45.0, --, --],\n",
       "                mask=[ True, False, False, False, False, False, False, False,\n",
       "                      False, False, False, False, False, False, False, False,\n",
       "                      False, False, False, False, False, False, False, False,\n",
       "                      False, False, False, False, False, False, False,  True,\n",
       "                       True],\n",
       "          fill_value='?',\n",
       "               dtype=object),\n",
       "   'param_linearregression__l1_ratio': masked_array(data=[--, --, --, --, --, --, --, --, --, --, --, --, --, --,\n",
       "                      --, --, --, --, --, --, --, --, --, --, --, --, --, --,\n",
       "                      --, --, --, 0.3, 0.7],\n",
       "                mask=[ True,  True,  True,  True,  True,  True,  True,  True,\n",
       "                       True,  True,  True,  True,  True,  True,  True,  True,\n",
       "                       True,  True,  True,  True,  True,  True,  True,  True,\n",
       "                       True,  True,  True,  True,  True,  True,  True, False,\n",
       "                      False],\n",
       "          fill_value='?',\n",
       "               dtype=object),\n",
       "   'params': [{'linearregression': LinearRegression()},\n",
       "    {'linearregression': Ridge(alpha=45.0, random_state=42),\n",
       "     'linearregression__alpha': 30.0},\n",
       "    {'linearregression': Ridge(alpha=45.0, random_state=42),\n",
       "     'linearregression__alpha': 31.071428571428573},\n",
       "    {'linearregression': Ridge(alpha=45.0, random_state=42),\n",
       "     'linearregression__alpha': 32.142857142857146},\n",
       "    {'linearregression': Ridge(alpha=45.0, random_state=42),\n",
       "     'linearregression__alpha': 33.214285714285715},\n",
       "    {'linearregression': Ridge(alpha=45.0, random_state=42),\n",
       "     'linearregression__alpha': 34.285714285714285},\n",
       "    {'linearregression': Ridge(alpha=45.0, random_state=42),\n",
       "     'linearregression__alpha': 35.357142857142854},\n",
       "    {'linearregression': Ridge(alpha=45.0, random_state=42),\n",
       "     'linearregression__alpha': 36.42857142857143},\n",
       "    {'linearregression': Ridge(alpha=45.0, random_state=42),\n",
       "     'linearregression__alpha': 37.5},\n",
       "    {'linearregression': Ridge(alpha=45.0, random_state=42),\n",
       "     'linearregression__alpha': 38.57142857142857},\n",
       "    {'linearregression': Ridge(alpha=45.0, random_state=42),\n",
       "     'linearregression__alpha': 39.64285714285714},\n",
       "    {'linearregression': Ridge(alpha=45.0, random_state=42),\n",
       "     'linearregression__alpha': 40.714285714285715},\n",
       "    {'linearregression': Ridge(alpha=45.0, random_state=42),\n",
       "     'linearregression__alpha': 41.785714285714285},\n",
       "    {'linearregression': Ridge(alpha=45.0, random_state=42),\n",
       "     'linearregression__alpha': 42.85714285714286},\n",
       "    {'linearregression': Ridge(alpha=45.0, random_state=42),\n",
       "     'linearregression__alpha': 43.92857142857143},\n",
       "    {'linearregression': Ridge(alpha=45.0, random_state=42),\n",
       "     'linearregression__alpha': 45.0},\n",
       "    {'linearregression': Lasso(random_state=42),\n",
       "     'linearregression__alpha': 30.0},\n",
       "    {'linearregression': Lasso(random_state=42),\n",
       "     'linearregression__alpha': 31.071428571428573},\n",
       "    {'linearregression': Lasso(random_state=42),\n",
       "     'linearregression__alpha': 32.142857142857146},\n",
       "    {'linearregression': Lasso(random_state=42),\n",
       "     'linearregression__alpha': 33.214285714285715},\n",
       "    {'linearregression': Lasso(random_state=42),\n",
       "     'linearregression__alpha': 34.285714285714285},\n",
       "    {'linearregression': Lasso(random_state=42),\n",
       "     'linearregression__alpha': 35.357142857142854},\n",
       "    {'linearregression': Lasso(random_state=42),\n",
       "     'linearregression__alpha': 36.42857142857143},\n",
       "    {'linearregression': Lasso(random_state=42),\n",
       "     'linearregression__alpha': 37.5},\n",
       "    {'linearregression': Lasso(random_state=42),\n",
       "     'linearregression__alpha': 38.57142857142857},\n",
       "    {'linearregression': Lasso(random_state=42),\n",
       "     'linearregression__alpha': 39.64285714285714},\n",
       "    {'linearregression': Lasso(random_state=42),\n",
       "     'linearregression__alpha': 40.714285714285715},\n",
       "    {'linearregression': Lasso(random_state=42),\n",
       "     'linearregression__alpha': 41.785714285714285},\n",
       "    {'linearregression': Lasso(random_state=42),\n",
       "     'linearregression__alpha': 42.85714285714286},\n",
       "    {'linearregression': Lasso(random_state=42),\n",
       "     'linearregression__alpha': 43.92857142857143},\n",
       "    {'linearregression': Lasso(random_state=42),\n",
       "     'linearregression__alpha': 45.0},\n",
       "    {'linearregression': ElasticNet(random_state=42),\n",
       "     'linearregression__l1_ratio': 0.3},\n",
       "    {'linearregression': ElasticNet(random_state=42),\n",
       "     'linearregression__l1_ratio': 0.7}],\n",
       "   'split0_test_neg_mean_squared_error': array([-1452.42841789, -1452.41932499, -1452.41903017, -1452.41873739,\n",
       "          -1452.41844664, -1452.41815792, -1452.41787123, -1452.41758656,\n",
       "          -1452.41730392, -1452.4170233 , -1452.4167447 , -1452.41646812,\n",
       "          -1452.41619355, -1452.41592098, -1452.41565043, -1452.41538188,\n",
       "          -2018.35029528, -2018.35029528, -2018.35029528, -2018.35029528,\n",
       "          -2018.35029528, -2018.35029528, -2018.35029528, -2018.35029528,\n",
       "          -2018.35029528, -2018.35029528, -2018.35029528, -2018.35029528,\n",
       "          -2018.35029528, -2018.35029528, -2018.35029528, -1540.42439123,\n",
       "          -1497.18771497]),\n",
       "   'split1_test_neg_mean_squared_error': array([-1455.67791038, -1455.6838903 , -1455.68412192, -1455.68435478,\n",
       "          -1455.68458887, -1455.68482419, -1455.68506075, -1455.68529853,\n",
       "          -1455.68553756, -1455.68577781, -1455.68601929, -1455.686262  ,\n",
       "          -1455.68650594, -1455.68675111, -1455.6869975 , -1455.68724512,\n",
       "          -2013.8914762 , -2013.8914762 , -2013.8914762 , -2013.8914762 ,\n",
       "          -2013.8914762 , -2013.8914762 , -2013.8914762 , -2013.8914762 ,\n",
       "          -2013.8914762 , -2013.8914762 , -2013.8914762 , -2013.8914762 ,\n",
       "          -2013.8914762 , -2013.8914762 , -2013.8914762 , -1542.43405001,\n",
       "          -1500.01665076]),\n",
       "   'split2_test_neg_mean_squared_error': array([-1445.04600693, -1445.02895165, -1445.02836674, -1445.02778348,\n",
       "          -1445.02720188, -1445.02662193, -1445.02604363, -1445.02546699,\n",
       "          -1445.02489199, -1445.02431863, -1445.02374693, -1445.02317687,\n",
       "          -1445.02260845, -1445.02204168, -1445.02147654, -1445.02091305,\n",
       "          -1998.56095542, -1998.56095542, -1998.56095542, -1998.56095542,\n",
       "          -1998.56095542, -1998.56095542, -1998.56095542, -1998.56095542,\n",
       "          -1998.56095542, -1998.56095542, -1998.56095542, -1998.56095542,\n",
       "          -1998.56095542, -1998.56095542, -1998.56095542, -1527.16502796,\n",
       "          -1485.70052217]),\n",
       "   'split3_test_neg_mean_squared_error': array([-1445.65543387, -1445.677721  , -1445.67852967, -1445.67933921,\n",
       "          -1445.68014962, -1445.68096089, -1445.68177304, -1445.68258605,\n",
       "          -1445.68339993, -1445.68421468, -1445.68503029, -1445.68584677,\n",
       "          -1445.68666411, -1445.68748231, -1445.68830138, -1445.68912131,\n",
       "          -1989.6141176 , -1989.6141176 , -1989.6141176 , -1989.6141176 ,\n",
       "          -1989.6141176 , -1989.6141176 , -1989.6141176 , -1989.6141176 ,\n",
       "          -1989.6141176 , -1989.6141176 , -1989.6141176 , -1989.6141176 ,\n",
       "          -1989.6141176 , -1989.6141176 , -1989.6141176 , -1529.51961636,\n",
       "          -1488.43945097]),\n",
       "   'split4_test_neg_mean_squared_error': array([-1462.21865251, -1462.20572281, -1462.20528005, -1462.20483858,\n",
       "          -1462.20439842, -1462.20395956, -1462.20352199, -1462.20308573,\n",
       "          -1462.20265076, -1462.20221708, -1462.20178471, -1462.20135362,\n",
       "          -1462.20092383, -1462.20049533, -1462.20006813, -1462.19964221,\n",
       "          -1987.55252636, -1987.55252636, -1987.55252636, -1987.55252636,\n",
       "          -1987.55252636, -1987.55252636, -1987.55252636, -1987.55252636,\n",
       "          -1987.55252636, -1987.55252636, -1987.55252636, -1987.55252636,\n",
       "          -1987.55252636, -1987.55252636, -1987.55252636, -1536.08865494,\n",
       "          -1497.79410346]),\n",
       "   'mean_test_neg_mean_squared_error': array([-1452.20528432, -1452.20312215, -1452.20306571, -1452.20301069,\n",
       "          -1452.20295708, -1452.2029049 , -1452.20285413, -1452.20280477,\n",
       "          -1452.20275683, -1452.2027103 , -1452.20266518, -1452.20262148,\n",
       "          -1452.20257918, -1452.20253828, -1452.2024988 , -1452.20246072,\n",
       "          -2001.59387417, -2001.59387417, -2001.59387417, -2001.59387417,\n",
       "          -2001.59387417, -2001.59387417, -2001.59387417, -2001.59387417,\n",
       "          -2001.59387417, -2001.59387417, -2001.59387417, -2001.59387417,\n",
       "          -2001.59387417, -2001.59387417, -2001.59387417, -1535.1263481 ,\n",
       "          -1493.82768847]),\n",
       "   'std_test_neg_mean_squared_error': array([ 6.42700952,  6.42283572,  6.4226873 ,  6.42253892,  6.42239059,\n",
       "           6.4222423 ,  6.42209406,  6.42194586,  6.4217977 ,  6.42164959,\n",
       "           6.42150152,  6.4213535 ,  6.42120552,  6.42105758,  6.42090969,\n",
       "           6.42076184, 12.50504919, 12.50504919, 12.50504919, 12.50504919,\n",
       "          12.50504919, 12.50504919, 12.50504919, 12.50504919, 12.50504919,\n",
       "          12.50504919, 12.50504919, 12.50504919, 12.50504919, 12.50504919,\n",
       "          12.50504919,  5.95341686,  5.66408714]),\n",
       "   'rank_test_neg_mean_squared_error': array([16, 15, 14, 13, 12, 11, 10,  9,  8,  7,  6,  5,  4,  3,  2,  1, 19,\n",
       "          19, 19, 19, 19, 19, 19, 19, 19, 19, 19, 19, 19, 19, 19, 18, 17],\n",
       "         dtype=int32),\n",
       "   'split0_test_r2': array([ 2.80287123e-01,  2.80291629e-01,  2.80291775e-01,  2.80291920e-01,\n",
       "           2.80292064e-01,  2.80292207e-01,  2.80292349e-01,  2.80292490e-01,\n",
       "           2.80292630e-01,  2.80292769e-01,  2.80292907e-01,  2.80293044e-01,\n",
       "           2.80293180e-01,  2.80293315e-01,  2.80293449e-01,  2.80293583e-01,\n",
       "          -1.40647279e-04, -1.40647279e-04, -1.40647279e-04, -1.40647279e-04,\n",
       "          -1.40647279e-04, -1.40647279e-04, -1.40647279e-04, -1.40647279e-04,\n",
       "          -1.40647279e-04, -1.40647279e-04, -1.40647279e-04, -1.40647279e-04,\n",
       "          -1.40647279e-04, -1.40647279e-04, -1.40647279e-04,  2.36683022e-01,\n",
       "           2.58107825e-01]),\n",
       "   'split1_test_r2': array([ 2.77180595e-01,  2.77177626e-01,  2.77177511e-01,  2.77177395e-01,\n",
       "           2.77177279e-01,  2.77177162e-01,  2.77177044e-01,  2.77176926e-01,\n",
       "           2.77176808e-01,  2.77176688e-01,  2.77176568e-01,  2.77176448e-01,\n",
       "           2.77176327e-01,  2.77176205e-01,  2.77176083e-01,  2.77175960e-01,\n",
       "          -1.32478600e-06, -1.32478600e-06, -1.32478600e-06, -1.32478600e-06,\n",
       "          -1.32478600e-06, -1.32478600e-06, -1.32478600e-06, -1.32478600e-06,\n",
       "          -1.32478600e-06, -1.32478600e-06, -1.32478600e-06, -1.32478600e-06,\n",
       "          -1.32478600e-06, -1.32478600e-06, -1.32478600e-06,  2.34101682e-01,\n",
       "           2.55164116e-01]),\n",
       "   'split2_test_r2': array([ 2.76956586e-01,  2.76965120e-01,  2.76965412e-01,  2.76965704e-01,\n",
       "           2.76965995e-01,  2.76966285e-01,  2.76966575e-01,  2.76966863e-01,\n",
       "           2.76967151e-01,  2.76967438e-01,  2.76967724e-01,  2.76968009e-01,\n",
       "           2.76968294e-01,  2.76968577e-01,  2.76968860e-01,  2.76969142e-01,\n",
       "          -2.28059893e-07, -2.28059893e-07, -2.28059893e-07, -2.28059893e-07,\n",
       "          -2.28059893e-07, -2.28059893e-07, -2.28059893e-07, -2.28059893e-07,\n",
       "          -2.28059893e-07, -2.28059893e-07, -2.28059893e-07, -2.28059893e-07,\n",
       "          -2.28059893e-07, -2.28059893e-07, -2.28059893e-07,  2.35867502e-01,\n",
       "           2.56614687e-01]),\n",
       "   'split3_test_r2': array([ 2.73399007e-01,  2.73387805e-01,  2.73387398e-01,  2.73386992e-01,\n",
       "           2.73386584e-01,  2.73386177e-01,  2.73385768e-01,  2.73385360e-01,\n",
       "           2.73384951e-01,  2.73384541e-01,  2.73384131e-01,  2.73383721e-01,\n",
       "           2.73383310e-01,  2.73382899e-01,  2.73382487e-01,  2.73382075e-01,\n",
       "          -1.10911974e-07, -1.10911974e-07, -1.10911974e-07, -1.10911974e-07,\n",
       "          -1.10911974e-07, -1.10911974e-07, -1.10911974e-07, -1.10911974e-07,\n",
       "          -1.10911974e-07, -1.10911974e-07, -1.10911974e-07, -1.10911974e-07,\n",
       "          -1.10911974e-07, -1.10911974e-07, -1.10911974e-07,  2.31248023e-01,\n",
       "           2.51895328e-01]),\n",
       "   'split4_test_r2': array([ 2.64200686e-01,  2.64207192e-01,  2.64207415e-01,  2.64207637e-01,\n",
       "           2.64207859e-01,  2.64208080e-01,  2.64208300e-01,  2.64208519e-01,\n",
       "           2.64208738e-01,  2.64208956e-01,  2.64209174e-01,  2.64209391e-01,\n",
       "           2.64209607e-01,  2.64209823e-01,  2.64210038e-01,  2.64210252e-01,\n",
       "          -1.51231215e-04, -1.51231215e-04, -1.51231215e-04, -1.51231215e-04,\n",
       "          -1.51231215e-04, -1.51231215e-04, -1.51231215e-04, -1.51231215e-04,\n",
       "          -1.51231215e-04, -1.51231215e-04, -1.51231215e-04, -1.51231215e-04,\n",
       "          -1.51231215e-04, -1.51231215e-04, -1.51231215e-04,  2.27028751e-01,\n",
       "           2.46298854e-01]),\n",
       "   'mean_test_r2': array([ 2.74404799e-01,  2.74405874e-01,  2.74405902e-01,  2.74405930e-01,\n",
       "           2.74405956e-01,  2.74405982e-01,  2.74406007e-01,  2.74406032e-01,\n",
       "           2.74406055e-01,  2.74406079e-01,  2.74406101e-01,  2.74406123e-01,\n",
       "           2.74406144e-01,  2.74406164e-01,  2.74406183e-01,  2.74406202e-01,\n",
       "          -5.87084505e-05, -5.87084505e-05, -5.87084505e-05, -5.87084505e-05,\n",
       "          -5.87084505e-05, -5.87084505e-05, -5.87084505e-05, -5.87084505e-05,\n",
       "          -5.87084505e-05, -5.87084505e-05, -5.87084505e-05, -5.87084505e-05,\n",
       "          -5.87084505e-05, -5.87084505e-05, -5.87084505e-05,  2.32985796e-01,\n",
       "           2.53616162e-01]),\n",
       "   'std_test_r2': array([5.54894469e-03, 5.54840567e-03, 5.54838518e-03, 5.54836462e-03,\n",
       "          5.54834397e-03, 5.54832323e-03, 5.54830242e-03, 5.54828152e-03,\n",
       "          5.54826054e-03, 5.54823948e-03, 5.54821833e-03, 5.54819711e-03,\n",
       "          5.54817580e-03, 5.54815441e-03, 5.54813294e-03, 5.54811139e-03,\n",
       "          7.13035010e-05, 7.13035010e-05, 7.13035010e-05, 7.13035010e-05,\n",
       "          7.13035010e-05, 7.13035010e-05, 7.13035010e-05, 7.13035010e-05,\n",
       "          7.13035010e-05, 7.13035010e-05, 7.13035010e-05, 7.13035010e-05,\n",
       "          7.13035010e-05, 7.13035010e-05, 7.13035010e-05, 3.51354960e-03,\n",
       "          4.19682297e-03]),\n",
       "   'rank_test_r2': array([16, 15, 14, 13, 12, 11, 10,  9,  8,  7,  6,  5,  4,  3,  2,  1, 19,\n",
       "          19, 19, 19, 19, 19, 19, 19, 19, 19, 19, 19, 19, 19, 19, 18, 17],\n",
       "         dtype=int32),\n",
       "   'split0_test_neg_mean_absolute_error': array([-31.33187492, -31.33277517, -31.33280734, -31.33283951,\n",
       "          -31.33287168, -31.33290386, -31.33293603, -31.33296821,\n",
       "          -31.33300049, -31.33303281, -31.33307132, -31.33310982,\n",
       "          -31.33314831, -31.3331868 , -31.33322528, -31.33326376,\n",
       "          -38.00300083, -38.00300083, -38.00300083, -38.00300083,\n",
       "          -38.00300083, -38.00300083, -38.00300083, -38.00300083,\n",
       "          -38.00300083, -38.00300083, -38.00300083, -38.00300083,\n",
       "          -38.00300083, -38.00300083, -38.00300083, -32.81894654,\n",
       "          -32.20978437]),\n",
       "   'split1_test_neg_mean_absolute_error': array([-31.36204294, -31.3633882 , -31.36343624, -31.36348428,\n",
       "          -31.36353231, -31.36358033, -31.36362834, -31.36367635,\n",
       "          -31.36372434, -31.36377234, -31.36382032, -31.36386829,\n",
       "          -31.36391626, -31.36396422, -31.36401218, -31.36406012,\n",
       "          -37.95454435, -37.95454435, -37.95454435, -37.95454435,\n",
       "          -37.95454435, -37.95454435, -37.95454435, -37.95454435,\n",
       "          -37.95454435, -37.95454435, -37.95454435, -37.95454435,\n",
       "          -37.95454435, -37.95454435, -37.95454435, -32.88571324,\n",
       "          -32.27679597]),\n",
       "   'split2_test_neg_mean_absolute_error': array([-31.32669741, -31.3277853 , -31.32782438, -31.32786345,\n",
       "          -31.32790251, -31.32794157, -31.32798063, -31.32801968,\n",
       "          -31.32805872, -31.32809776, -31.32813679, -31.32817582,\n",
       "          -31.32821484, -31.32825386, -31.32829287, -31.32833188,\n",
       "          -37.77676336, -37.77676336, -37.77676336, -37.77676336,\n",
       "          -37.77676336, -37.77676336, -37.77676336, -37.77676336,\n",
       "          -37.77676336, -37.77676336, -37.77676336, -37.77676336,\n",
       "          -37.77676336, -37.77676336, -37.77676336, -32.73687653,\n",
       "          -32.15884883]),\n",
       "   'split3_test_neg_mean_absolute_error': array([-31.31972145, -31.32113896, -31.32118953, -31.32124008,\n",
       "          -31.32129062, -31.32134116, -31.32139168, -31.32144219,\n",
       "          -31.3214927 , -31.32154319, -31.32159368, -31.32164421,\n",
       "          -31.32169477, -31.32174532, -31.32179585, -31.32184638,\n",
       "          -37.65872152, -37.65872152, -37.65872152, -37.65872152,\n",
       "          -37.65872152, -37.65872152, -37.65872152, -37.65872152,\n",
       "          -37.65872152, -37.65872152, -37.65872152, -37.65872152,\n",
       "          -37.65872152, -37.65872152, -37.65872152, -32.73174651,\n",
       "          -32.15051377]),\n",
       "   'split4_test_neg_mean_absolute_error': array([-31.48013735, -31.48126037, -31.48130043, -31.48134048,\n",
       "          -31.48138053, -31.48142072, -31.48146092, -31.4815011 ,\n",
       "          -31.48154128, -31.48158146, -31.48162162, -31.48166178,\n",
       "          -31.48170193, -31.48174208, -31.48178221, -31.48182234,\n",
       "          -37.64826501, -37.64826501, -37.64826501, -37.64826501,\n",
       "          -37.64826501, -37.64826501, -37.64826501, -37.64826501,\n",
       "          -37.64826501, -37.64826501, -37.64826501, -37.64826501,\n",
       "          -37.64826501, -37.64826501, -37.64826501, -32.800413  ,\n",
       "          -32.2581764 ]),\n",
       "   'mean_test_neg_mean_absolute_error': array([-31.36409481, -31.3652696 , -31.36531158, -31.36535356,\n",
       "          -31.36539553, -31.36543753, -31.36547952, -31.36552151,\n",
       "          -31.36556351, -31.36560551, -31.36564875, -31.36569199,\n",
       "          -31.36573522, -31.36577845, -31.36582168, -31.3658649 ,\n",
       "          -37.80825901, -37.80825901, -37.80825901, -37.80825901,\n",
       "          -37.80825901, -37.80825901, -37.80825901, -37.80825901,\n",
       "          -37.80825901, -37.80825901, -37.80825901, -37.80825901,\n",
       "          -37.80825901, -37.80825901, -37.80825901, -32.79473917,\n",
       "          -32.21082387]),\n",
       "   'std_test_neg_mean_absolute_error': array([0.05979258, 0.05977603, 0.05977542, 0.0597748 , 0.05977418,\n",
       "          0.05977362, 0.05977306, 0.05977251, 0.05977194, 0.05977136,\n",
       "          0.05977012, 0.05976886, 0.05976761, 0.05976635, 0.05976509,\n",
       "          0.05976383, 0.14715658, 0.14715658, 0.14715658, 0.14715658,\n",
       "          0.14715658, 0.14715658, 0.14715658, 0.14715658, 0.14715658,\n",
       "          0.14715658, 0.14715658, 0.14715658, 0.14715658, 0.14715658,\n",
       "          0.14715658, 0.05693967, 0.05086133]),\n",
       "   'rank_test_neg_mean_absolute_error': array([ 1,  2,  3,  4,  5,  6,  7,  8,  9, 10, 11, 12, 13, 14, 15, 16, 19,\n",
       "          19, 19, 19, 19, 19, 19, 19, 19, 19, 19, 19, 19, 19, 19, 18, 17],\n",
       "         dtype=int32)}}}"
      ]
     },
     "execution_count": 38,
     "metadata": {},
     "output_type": "execute_result"
    }
   ],
   "source": [
    "region2_predict"
   ]
  },
  {
   "cell_type": "code",
   "execution_count": 39,
   "metadata": {
    "scrolled": true
   },
   "outputs": [
    {
     "name": "stdout",
     "output_type": "stream",
     "text": [
      "Метрики для 0 региона: \n",
      "MSE = 1391.4767329115548  \n",
      "MAE = 27.397999691919633\n",
      "RMSE = 37.30250303815489\n"
     ]
    }
   ],
   "source": [
    "print(f\"Метрики для 0 региона: \\nMSE = {region0_predict['metrics']['MSE']}  \\nMAE = {region0_predict['metrics']['MAE']}\")\n",
    "print(f\"RMSE = {region0_predict['metrics']['RMSE']}\")"
   ]
  },
  {
   "cell_type": "code",
   "execution_count": 40,
   "metadata": {},
   "outputs": [
    {
     "name": "stdout",
     "output_type": "stream",
     "text": [
      "Метрики для 1 региона: \n",
      "MSE = 0.6182907317469077  \n",
      "MAE = 0.3388047544789927\n",
      "RMSE = 0.7863146518709337\n"
     ]
    }
   ],
   "source": [
    "print(f\"Метрики для 1 региона: \\nMSE = {region1_predict['metrics']['MSE']}  \\nMAE = {region1_predict['metrics']['MAE']}\")\n",
    "print(f\"RMSE = {region1_predict['metrics']['RMSE']}\")"
   ]
  },
  {
   "cell_type": "code",
   "execution_count": 41,
   "metadata": {
    "scrolled": true
   },
   "outputs": [
    {
     "name": "stdout",
     "output_type": "stream",
     "text": [
      "Метрики для 2 региона: \n",
      "MSE = 1461.8260647707182  \n",
      "MAE = 28.388251161736775\n",
      "RMSE = 38.233834031793336\n"
     ]
    }
   ],
   "source": [
    "print(f\"Метрики для 2 региона: \\nMSE = {region2_predict['metrics']['MSE']}  \\nMAE = {region2_predict['metrics']['MAE']}\")\n",
    "print(f\"RMSE = {region2_predict['metrics']['RMSE']}\")"
   ]
  },
  {
   "cell_type": "markdown",
   "metadata": {},
   "source": [
    "Так как не было больших хвостов то оптимизировали MSE а не MAE  \n",
    "\n",
    "Еще с 1 первого пункта было понятно, что слишком сильная линейная зависимость между таргетом и признаком даст очень хорошие показатели по ошибке, MAE, RMSE, MSE близки к нулю  \n",
    "\n",
    "Так же после добавления фич были улучшены показатели ошибок у 0 и 2 региона до RMSE_0 = 37.3 MAE_0 = 27.398 и RMSE_2 = 38.23 MAE_2 = 28.388 \n",
    "\n",
    "В двух случаях $L_2$ регуляризация отработала лучше, но логично, что в 1ом регионе обычная линейная регрессия без регуляризации показала лучший результат, но так же это может быть свзяано с наличием меньшего шума $\\epsilon$\n",
    "\n",
    "RMSE и MAE- показывает насколько сильно прогнозы модели отличаются от фактических значений в среднем \n",
    "\n",
    "Метрики для 0 региона:   \n",
    "MSE = 1391.4767329115548    \n",
    "MAE = 27.397999691919633  \n",
    "RMSE = 37.30250303815489  \n",
    "\n",
    "Метрики для 1 региона:   \n",
    "MSE = 0.6182907317469077    \n",
    "MAE = 0.3388047544789927  \n",
    "RMSE = 0.7863146518709337  \n",
    "\n",
    "Метрики для 2 региона:   \n",
    "MSE = 1461.8260647707182    \n",
    "MAE = 28.388251161736775  \n",
    "RMSE = 38.233834031793336  "
   ]
  },
  {
   "cell_type": "markdown",
   "metadata": {},
   "source": [
    "## Подготовка к расчёту прибыли"
   ]
  },
  {
   "cell_type": "code",
   "execution_count": 42,
   "metadata": {},
   "outputs": [],
   "source": [
    "predictions_reg0 = pd.Series(region0_predict['predictions']['data_predictions'])\n",
    "predictions_reg1 = pd.Series(region1_predict['predictions']['data_predictions'])\n",
    "predictions_reg2 = pd.Series(region2_predict['predictions']['data_predictions'])\n",
    "\n",
    "true_values0 = pd.DataFrame(region0_predict['true_values']['data_y_test'])\n",
    "true_values1 = pd.DataFrame(region1_predict['true_values']['data_y_test'])\n",
    "true_values2 = pd.DataFrame(region2_predict['true_values']['data_y_test'])\n",
    "\n",
    "true_values0 = true_values0.reset_index()['product']\n",
    "true_values1 = true_values1.reset_index()['product']\n",
    "true_values2 = true_values2.reset_index()['product']\n",
    "\n",
    "\n",
    "\n",
    "BUDGET = 10**10 \n",
    "\n",
    "MONEY_PER_BARREL = 45 * 10**4\n",
    "\n",
    "NUMBER_OF_POINTS_STUDIED = 500 \n",
    "NUMBER_OF_SELECTED_POINTS = 200\n",
    "\n",
    "probability_of_losses = 0.025"
   ]
  },
  {
   "cell_type": "code",
   "execution_count": 43,
   "metadata": {},
   "outputs": [
    {
     "data": {
      "text/plain": [
       "0        122.073350\n",
       "1         48.738540\n",
       "2        131.338088\n",
       "3         88.327757\n",
       "4         36.959266\n",
       "            ...    \n",
       "24995    148.821520\n",
       "24996    123.454003\n",
       "24997     91.945213\n",
       "24998    149.295563\n",
       "24999     57.244039\n",
       "Name: product, Length: 25000, dtype: float64"
      ]
     },
     "execution_count": 43,
     "metadata": {},
     "output_type": "execute_result"
    }
   ],
   "source": [
    "true_values0"
   ]
  },
  {
   "cell_type": "code",
   "execution_count": 44,
   "metadata": {},
   "outputs": [
    {
     "data": {
      "text/plain": [
       "22222.222222222223"
      ]
     },
     "execution_count": 44,
     "metadata": {},
     "output_type": "execute_result"
    }
   ],
   "source": [
    "min_oil_wells = BUDGET/MONEY_PER_BARREL\n",
    "min_oil_wells"
   ]
  },
  {
   "cell_type": "code",
   "execution_count": 45,
   "metadata": {
    "scrolled": true
   },
   "outputs": [
    {
     "data": {
      "text/plain": [
       "111.11111111111111"
      ]
     },
     "execution_count": 45,
     "metadata": {},
     "output_type": "execute_result"
    }
   ],
   "source": [
    "BUDGET/NUMBER_OF_SELECTED_POINTS/MONEY_PER_BARREL"
   ]
  },
  {
   "cell_type": "code",
   "execution_count": 46,
   "metadata": {},
   "outputs": [],
   "source": [
    "mean_pr0 = predictions_reg0.mean()\n",
    "mean_pr1 = predictions_reg1.mean()\n",
    "mean_pr2 = predictions_reg2.mean()\n"
   ]
  },
  {
   "cell_type": "code",
   "execution_count": 47,
   "metadata": {
    "scrolled": true
   },
   "outputs": [
    {
     "name": "stdout",
     "output_type": "stream",
     "text": [
      "Средняя добыча региона 0 : 92.4510125909199 \n",
      "Средняя добыча региона 1 : 68.7171641695545 \n",
      "Средняя добыча региона 2 : 94.74272380870717\n"
     ]
    }
   ],
   "source": [
    "print(f'Средняя добыча региона 0 : {mean_pr0} \\nСредняя добыча региона 1 : {mean_pr1} \\nСредняя добыча региона 2 : {mean_pr2}')"
   ]
  },
  {
   "cell_type": "markdown",
   "metadata": {},
   "source": [
    "В каждом из регионов средний объем запасов в скважинах не соответствует требованиям, чтобы достичь необходимых объемов производства при заданных ограничениях бюджета и количества скважин. \n",
    "\n",
    "Мы должны брать в учет что ближайшие к порогу - 0 и 2 регионы 92.45 и 94.74 соответственно "
   ]
  },
  {
   "cell_type": "markdown",
   "metadata": {},
   "source": [
    "## Расчёт прибыли и рисков "
   ]
  },
  {
   "cell_type": "markdown",
   "metadata": {},
   "source": [
    "state = np.random.RandomState(42)"
   ]
  },
  {
   "cell_type": "code",
   "execution_count": 55,
   "metadata": {},
   "outputs": [],
   "source": [
    "def calculate_profit(preds, targets, num_wells):\n",
    "    preds_sort = preds.sort_values(ascending=False)\n",
    "\n",
    "    selected_items = targets[preds_sort.index][:num_wells]\n",
    "    total_vol = selected_items.sum()\n",
    "    return total_vol * MONEY_PER_BARREL - BUDGET"
   ]
  },
  {
   "cell_type": "code",
   "execution_count": 56,
   "metadata": {},
   "outputs": [],
   "source": [
    "def calculate_profit_risk(preds, targets, num_wells):\n",
    "    profits = []\n",
    "    for i in range(1000):\n",
    "        target_subsample = targets.sample(num_wells,replace=True,random_state=state)\n",
    "        \n",
    "        pred_subsample = preds[target_subsample.index]\n",
    "        profit = calculate_profit(pred_subsample, target_subsample, 200)\n",
    "        profits.append(profit)\n",
    "    mean_profit = np.mean(profits) \n",
    "    lower_bound = np.percentile(profits, 2.5)\n",
    "    upper_bound = np.percentile(profits, 97.5)\n",
    "    neg_profits = [i for i in profits if i < 0] \n",
    "    risk_of_loss = len(neg_profits)/len(profits)\n",
    "    return mean_profit, lower_bound, upper_bound, risk_of_loss\n",
    "   "
   ]
  },
  {
   "cell_type": "code",
   "execution_count": 57,
   "metadata": {
    "scrolled": true
   },
   "outputs": [
    {
     "data": {
      "text/plain": [
       "(489954093.25607884, -53939863.90909572, 1013365770.5170714, 0.048)"
      ]
     },
     "execution_count": 57,
     "metadata": {},
     "output_type": "execute_result"
    }
   ],
   "source": [
    "calculate_profit_risk(predictions_reg0, true_values0, 500)"
   ]
  },
  {
   "cell_type": "code",
   "execution_count": 58,
   "metadata": {
    "scrolled": false
   },
   "outputs": [
    {
     "data": {
      "text/plain": [
       "(485624360.84067017, 75153853.5227943, 905745545.4707222, 0.009)"
      ]
     },
     "execution_count": 58,
     "metadata": {},
     "output_type": "execute_result"
    }
   ],
   "source": [
    "calculate_profit_risk(predictions_reg1, true_values1, 500)"
   ]
  },
  {
   "cell_type": "code",
   "execution_count": 59,
   "metadata": {},
   "outputs": [
    {
     "data": {
      "text/plain": [
       "(662835576.6585498, 113763684.05007505, 1247068079.6839082, 0.008)"
      ]
     },
     "execution_count": 59,
     "metadata": {},
     "output_type": "execute_result"
    }
   ],
   "source": [
    "calculate_profit_risk(predictions_reg2, true_values2, 500)"
   ]
  },
  {
   "cell_type": "markdown",
   "metadata": {},
   "source": [
    "Исходя из полученных результатов, наиболее предпочтительным регионом для разработки скважин является регион 2. \n",
    "\n",
    "Прибыль в этом регионе составляет около 667 млн , что на 38% выше, чем в регионе 0 и на 30% выше, чем в регионе 1. В то же время, риск убытков в регионе 2 составляет всего 0.6%, что не ниже, чем в других регионах. \n",
    "\n",
    "Таким образом, регион 2 наиболее подходит для разработки скважин, так как он обладает наибольшей предполагаемой прибылью и наименьшим риском убытков."
   ]
  },
  {
   "cell_type": "markdown",
   "metadata": {},
   "source": [
    "## Чек-лист готовности проекта"
   ]
  },
  {
   "cell_type": "markdown",
   "metadata": {},
   "source": [
    "Поставьте 'x' в выполненных пунктах. Далее нажмите Shift+Enter."
   ]
  },
  {
   "cell_type": "markdown",
   "metadata": {},
   "source": [
    "- [x]  Jupyter Notebook открыт\n",
    "- [x]  Весь код выполняется без ошибок\n",
    "- [x]  Ячейки с кодом расположены в порядке исполнения\n",
    "- [x]  Выполнен шаг 1: данные подготовлены\n",
    "- [x]  Выполнен шаг 2: модели обучены и проверены\n",
    "    - [x]  Данные корректно разбиты на обучающую и валидационную выборки\n",
    "    - [x]  Модели обучены, предсказания сделаны\n",
    "    - [x]  Предсказания и правильные ответы на валидационной выборке сохранены\n",
    "    - [x]  На экране напечатаны результаты\n",
    "    - [x]  Сделаны выводы\n",
    "- [x]  Выполнен шаг 3: проведена подготовка к расчёту прибыли\n",
    "    - [x]  Для всех ключевых значений созданы константы Python\n",
    "    - [x]  Посчитано минимальное среднее количество продукта в месторождениях региона, достаточное для разработки\n",
    "    - [x]  По предыдущему пункту сделаны выводы\n",
    "    - [x]  Написана функция расчёта прибыли\n",
    "- [x]  Выполнен шаг 4: посчитаны риски и прибыль\n",
    "    - [x]  Проведена процедура *Bootstrap*\n",
    "    - [x]  Все параметры бутстрепа соответствуют условию\n",
    "    - [x]  Найдены все нужные величины\n",
    "    - [x]  Предложен регион для разработки месторождения\n",
    "    - [x]  Выбор региона обоснован"
   ]
  }
 ],
 "metadata": {
  "ExecuteTimeLog": [
   {
    "duration": 1214,
    "start_time": "2023-04-29T11:54:01.795Z"
   },
   {
    "duration": 401,
    "start_time": "2023-04-29T11:55:01.724Z"
   },
   {
    "duration": 25,
    "start_time": "2023-04-29T11:55:06.545Z"
   },
   {
    "duration": 144,
    "start_time": "2023-04-29T11:55:48.571Z"
   },
   {
    "duration": 218,
    "start_time": "2023-04-29T11:55:48.869Z"
   },
   {
    "duration": 210,
    "start_time": "2023-04-29T11:55:49.158Z"
   },
   {
    "duration": 9,
    "start_time": "2023-04-29T11:55:58.158Z"
   },
   {
    "duration": 9,
    "start_time": "2023-04-29T11:56:04.329Z"
   },
   {
    "duration": 9,
    "start_time": "2023-04-29T11:56:11.372Z"
   },
   {
    "duration": 14,
    "start_time": "2023-04-29T11:57:27.624Z"
   },
   {
    "duration": 10,
    "start_time": "2023-04-29T11:57:35.372Z"
   },
   {
    "duration": 13,
    "start_time": "2023-04-29T11:57:42.848Z"
   },
   {
    "duration": 10,
    "start_time": "2023-04-29T11:57:57.562Z"
   },
   {
    "duration": 20,
    "start_time": "2023-04-29T11:59:35.726Z"
   },
   {
    "duration": 27,
    "start_time": "2023-04-29T11:59:42.234Z"
   },
   {
    "duration": 23,
    "start_time": "2023-04-29T12:00:00.618Z"
   },
   {
    "duration": 19,
    "start_time": "2023-04-29T12:00:06.744Z"
   },
   {
    "duration": 23,
    "start_time": "2023-04-29T12:00:24.918Z"
   },
   {
    "duration": 117,
    "start_time": "2023-04-29T12:02:22.613Z"
   },
   {
    "duration": 19,
    "start_time": "2023-04-29T12:02:28.512Z"
   },
   {
    "duration": 24,
    "start_time": "2023-04-29T12:02:39.888Z"
   },
   {
    "duration": 18,
    "start_time": "2023-04-29T12:02:55.709Z"
   },
   {
    "duration": 28,
    "start_time": "2023-04-29T12:03:04.917Z"
   },
   {
    "duration": 13,
    "start_time": "2023-04-29T12:03:53.490Z"
   },
   {
    "duration": 16,
    "start_time": "2023-04-29T12:11:00.969Z"
   },
   {
    "duration": 13,
    "start_time": "2023-04-29T12:11:08.285Z"
   },
   {
    "duration": 11,
    "start_time": "2023-04-29T12:11:12.629Z"
   },
   {
    "duration": 16,
    "start_time": "2023-04-29T12:11:23.523Z"
   },
   {
    "duration": 16,
    "start_time": "2023-04-29T12:11:34.680Z"
   },
   {
    "duration": 46,
    "start_time": "2023-04-29T12:25:36.594Z"
   },
   {
    "duration": 41,
    "start_time": "2023-04-29T12:25:41.744Z"
   },
   {
    "duration": 41,
    "start_time": "2023-04-29T12:25:47.766Z"
   },
   {
    "duration": 16,
    "start_time": "2023-04-29T12:26:06.800Z"
   },
   {
    "duration": 13,
    "start_time": "2023-04-29T12:26:13.478Z"
   },
   {
    "duration": 15,
    "start_time": "2023-04-29T12:26:20.203Z"
   },
   {
    "duration": 19,
    "start_time": "2023-04-29T12:26:48.648Z"
   },
   {
    "duration": 17,
    "start_time": "2023-04-29T12:26:49.411Z"
   },
   {
    "duration": 18,
    "start_time": "2023-04-29T12:26:51.947Z"
   },
   {
    "duration": 45,
    "start_time": "2023-04-29T12:29:19.909Z"
   },
   {
    "duration": 8,
    "start_time": "2023-04-29T12:31:07.771Z"
   },
   {
    "duration": 36,
    "start_time": "2023-04-29T12:31:14.557Z"
   },
   {
    "duration": 14,
    "start_time": "2023-04-29T12:31:15.742Z"
   },
   {
    "duration": 56,
    "start_time": "2023-04-29T12:31:26.835Z"
   },
   {
    "duration": 43,
    "start_time": "2023-04-29T12:31:32.354Z"
   },
   {
    "duration": 4,
    "start_time": "2023-04-30T06:57:50.283Z"
   },
   {
    "duration": 139,
    "start_time": "2023-04-30T06:58:09.347Z"
   },
   {
    "duration": 57,
    "start_time": "2023-04-30T06:58:13.229Z"
   },
   {
    "duration": 142,
    "start_time": "2023-04-30T07:00:04.761Z"
   },
   {
    "duration": 76,
    "start_time": "2023-04-30T07:00:35.848Z"
   },
   {
    "duration": 3,
    "start_time": "2023-04-30T07:01:17.326Z"
   },
   {
    "duration": 60,
    "start_time": "2023-04-30T07:01:20.343Z"
   },
   {
    "duration": 186,
    "start_time": "2023-04-30T07:01:40.233Z"
   },
   {
    "duration": 5,
    "start_time": "2023-04-30T07:01:53.537Z"
   },
   {
    "duration": 73,
    "start_time": "2023-04-30T07:01:55.400Z"
   },
   {
    "duration": 4,
    "start_time": "2023-04-30T07:02:08.050Z"
   },
   {
    "duration": 58,
    "start_time": "2023-04-30T07:02:10.978Z"
   },
   {
    "duration": 4,
    "start_time": "2023-04-30T07:02:43.923Z"
   },
   {
    "duration": 54,
    "start_time": "2023-04-30T07:02:46.118Z"
   },
   {
    "duration": 4,
    "start_time": "2023-04-30T07:03:19.558Z"
   },
   {
    "duration": 59,
    "start_time": "2023-04-30T07:03:22.287Z"
   },
   {
    "duration": 4,
    "start_time": "2023-04-30T07:05:50.559Z"
   },
   {
    "duration": 4,
    "start_time": "2023-04-30T07:07:40.482Z"
   },
   {
    "duration": 57,
    "start_time": "2023-04-30T07:07:42.888Z"
   },
   {
    "duration": 4,
    "start_time": "2023-04-30T07:07:53.449Z"
   },
   {
    "duration": 58,
    "start_time": "2023-04-30T07:07:54.559Z"
   },
   {
    "duration": 4,
    "start_time": "2023-04-30T07:08:43.915Z"
   },
   {
    "duration": 13,
    "start_time": "2023-04-30T07:08:46.128Z"
   },
   {
    "duration": 5,
    "start_time": "2023-04-30T07:08:56.426Z"
   },
   {
    "duration": 61,
    "start_time": "2023-04-30T07:08:57.982Z"
   },
   {
    "duration": 4,
    "start_time": "2023-04-30T07:09:17.327Z"
   },
   {
    "duration": 70,
    "start_time": "2023-04-30T07:09:18.776Z"
   },
   {
    "duration": 5,
    "start_time": "2023-04-30T07:13:24.427Z"
   },
   {
    "duration": 108,
    "start_time": "2023-04-30T07:13:26.976Z"
   },
   {
    "duration": 6,
    "start_time": "2023-04-30T07:14:04.875Z"
   },
   {
    "duration": 96,
    "start_time": "2023-04-30T07:14:06.276Z"
   },
   {
    "duration": 6,
    "start_time": "2023-04-30T07:14:26.383Z"
   },
   {
    "duration": 128,
    "start_time": "2023-04-30T07:14:29.161Z"
   },
   {
    "duration": 16,
    "start_time": "2023-04-30T07:17:46.468Z"
   },
   {
    "duration": 6,
    "start_time": "2023-04-30T07:19:50.269Z"
   },
   {
    "duration": 96,
    "start_time": "2023-04-30T07:19:54.646Z"
   },
   {
    "duration": 1138,
    "start_time": "2023-04-30T07:21:31.664Z"
   },
   {
    "duration": 7,
    "start_time": "2023-04-30T07:21:32.804Z"
   },
   {
    "duration": 156,
    "start_time": "2023-04-30T07:21:32.813Z"
   },
   {
    "duration": 150,
    "start_time": "2023-04-30T07:21:32.971Z"
   },
   {
    "duration": 129,
    "start_time": "2023-04-30T07:21:33.122Z"
   },
   {
    "duration": 122,
    "start_time": "2023-04-30T07:21:33.253Z"
   },
   {
    "duration": 121,
    "start_time": "2023-04-30T07:21:33.376Z"
   },
   {
    "duration": 136,
    "start_time": "2023-04-30T07:21:33.499Z"
   },
   {
    "duration": 8,
    "start_time": "2023-04-30T07:30:11.275Z"
   },
   {
    "duration": 151,
    "start_time": "2023-04-30T07:30:12.281Z"
   },
   {
    "duration": 134,
    "start_time": "2023-04-30T07:30:12.531Z"
   },
   {
    "duration": 134,
    "start_time": "2023-04-30T07:30:12.873Z"
   },
   {
    "duration": 221,
    "start_time": "2023-04-30T07:30:14.537Z"
   },
   {
    "duration": 7,
    "start_time": "2023-04-30T07:30:31.575Z"
   },
   {
    "duration": 153,
    "start_time": "2023-04-30T07:30:33.323Z"
   },
   {
    "duration": 7,
    "start_time": "2023-04-30T07:31:07.242Z"
   },
   {
    "duration": 99,
    "start_time": "2023-04-30T07:31:08.781Z"
   },
   {
    "duration": 7,
    "start_time": "2023-04-30T07:31:20.919Z"
   },
   {
    "duration": 95,
    "start_time": "2023-04-30T07:31:23.680Z"
   },
   {
    "duration": 125,
    "start_time": "2023-04-30T07:32:07.088Z"
   },
   {
    "duration": 118,
    "start_time": "2023-04-30T07:32:09.246Z"
   },
   {
    "duration": 4,
    "start_time": "2023-04-30T08:16:39.809Z"
   },
   {
    "duration": 7,
    "start_time": "2023-04-30T08:16:45.478Z"
   },
   {
    "duration": 41,
    "start_time": "2023-04-30T08:16:50.622Z"
   },
   {
    "duration": 3,
    "start_time": "2023-04-30T09:02:21.795Z"
   },
   {
    "duration": 267,
    "start_time": "2023-04-30T09:02:36.005Z"
   },
   {
    "duration": 8,
    "start_time": "2023-04-30T09:03:10.159Z"
   },
   {
    "duration": 3,
    "start_time": "2023-04-30T09:03:16.301Z"
   },
   {
    "duration": 8,
    "start_time": "2023-04-30T09:04:02.106Z"
   },
   {
    "duration": 4,
    "start_time": "2023-04-30T09:04:19.429Z"
   },
   {
    "duration": 2667,
    "start_time": "2023-04-30T09:04:21.939Z"
   },
   {
    "duration": 4,
    "start_time": "2023-04-30T09:04:57.929Z"
   },
   {
    "duration": 2627,
    "start_time": "2023-04-30T09:05:00.614Z"
   },
   {
    "duration": 5,
    "start_time": "2023-04-30T09:06:46.619Z"
   },
   {
    "duration": 2524,
    "start_time": "2023-04-30T09:06:49.295Z"
   },
   {
    "duration": 94,
    "start_time": "2023-04-30T09:09:29.497Z"
   },
   {
    "duration": 121,
    "start_time": "2023-04-30T09:09:57.299Z"
   },
   {
    "duration": 134,
    "start_time": "2023-04-30T09:10:15.589Z"
   },
   {
    "duration": 15,
    "start_time": "2023-04-30T09:10:26.918Z"
   },
   {
    "duration": 117,
    "start_time": "2023-04-30T09:10:48.909Z"
   },
   {
    "duration": 162,
    "start_time": "2023-04-30T09:12:35.875Z"
   },
   {
    "duration": 162,
    "start_time": "2023-04-30T09:13:29.020Z"
   },
   {
    "duration": 164,
    "start_time": "2023-04-30T09:13:34.979Z"
   },
   {
    "duration": 4,
    "start_time": "2023-04-30T09:14:55.611Z"
   },
   {
    "duration": 3088,
    "start_time": "2023-04-30T09:15:00.989Z"
   },
   {
    "duration": 1151,
    "start_time": "2023-04-30T09:16:28.918Z"
   },
   {
    "duration": 7,
    "start_time": "2023-04-30T09:16:30.072Z"
   },
   {
    "duration": 19,
    "start_time": "2023-04-30T09:16:30.083Z"
   },
   {
    "duration": 161,
    "start_time": "2023-04-30T09:16:30.104Z"
   },
   {
    "duration": 123,
    "start_time": "2023-04-30T09:16:30.266Z"
   },
   {
    "duration": 123,
    "start_time": "2023-04-30T09:16:30.390Z"
   },
   {
    "duration": 3,
    "start_time": "2023-04-30T09:16:30.515Z"
   },
   {
    "duration": 145,
    "start_time": "2023-04-30T09:16:30.519Z"
   },
   {
    "duration": 0,
    "start_time": "2023-04-30T09:16:30.667Z"
   },
   {
    "duration": 0,
    "start_time": "2023-04-30T09:16:30.668Z"
   },
   {
    "duration": 0,
    "start_time": "2023-04-30T09:16:30.669Z"
   },
   {
    "duration": 0,
    "start_time": "2023-04-30T09:16:30.671Z"
   },
   {
    "duration": 0,
    "start_time": "2023-04-30T09:16:30.672Z"
   },
   {
    "duration": 1118,
    "start_time": "2023-04-30T09:18:02.827Z"
   },
   {
    "duration": 6,
    "start_time": "2023-04-30T09:18:03.947Z"
   },
   {
    "duration": 8,
    "start_time": "2023-04-30T09:18:03.955Z"
   },
   {
    "duration": 160,
    "start_time": "2023-04-30T09:18:03.965Z"
   },
   {
    "duration": 110,
    "start_time": "2023-04-30T09:18:04.126Z"
   },
   {
    "duration": 113,
    "start_time": "2023-04-30T09:18:04.237Z"
   },
   {
    "duration": 112,
    "start_time": "2023-04-30T09:18:04.352Z"
   },
   {
    "duration": 64,
    "start_time": "2023-04-30T09:18:04.466Z"
   },
   {
    "duration": 0,
    "start_time": "2023-04-30T09:18:04.533Z"
   },
   {
    "duration": 0,
    "start_time": "2023-04-30T09:18:04.534Z"
   },
   {
    "duration": 0,
    "start_time": "2023-04-30T09:18:04.536Z"
   },
   {
    "duration": 0,
    "start_time": "2023-04-30T09:18:04.537Z"
   },
   {
    "duration": 0,
    "start_time": "2023-04-30T09:18:04.538Z"
   },
   {
    "duration": 1079,
    "start_time": "2023-04-30T09:18:20.282Z"
   },
   {
    "duration": 6,
    "start_time": "2023-04-30T09:18:21.363Z"
   },
   {
    "duration": 42,
    "start_time": "2023-04-30T09:18:21.370Z"
   },
   {
    "duration": 153,
    "start_time": "2023-04-30T09:18:21.414Z"
   },
   {
    "duration": 120,
    "start_time": "2023-04-30T09:18:21.569Z"
   },
   {
    "duration": 120,
    "start_time": "2023-04-30T09:18:21.690Z"
   },
   {
    "duration": 129,
    "start_time": "2023-04-30T09:18:21.812Z"
   },
   {
    "duration": 2829,
    "start_time": "2023-04-30T09:18:21.942Z"
   },
   {
    "duration": 103,
    "start_time": "2023-04-30T09:18:24.773Z"
   },
   {
    "duration": 2793,
    "start_time": "2023-04-30T09:18:24.877Z"
   },
   {
    "duration": 104,
    "start_time": "2023-04-30T09:18:27.671Z"
   },
   {
    "duration": 3250,
    "start_time": "2023-04-30T09:18:27.776Z"
   },
   {
    "duration": 17,
    "start_time": "2023-04-30T09:38:01.291Z"
   },
   {
    "duration": 91,
    "start_time": "2023-04-30T09:38:32.444Z"
   },
   {
    "duration": 20,
    "start_time": "2023-04-30T09:39:59.898Z"
   },
   {
    "duration": 15,
    "start_time": "2023-04-30T09:40:05.999Z"
   },
   {
    "duration": 23,
    "start_time": "2023-04-30T09:40:42.915Z"
   },
   {
    "duration": 22,
    "start_time": "2023-04-30T09:40:50.202Z"
   },
   {
    "duration": 23,
    "start_time": "2023-04-30T09:41:03.431Z"
   },
   {
    "duration": 16,
    "start_time": "2023-04-30T09:41:31.156Z"
   },
   {
    "duration": 14,
    "start_time": "2023-04-30T09:41:41.421Z"
   },
   {
    "duration": 44,
    "start_time": "2023-04-30T09:44:31.264Z"
   },
   {
    "duration": 43,
    "start_time": "2023-04-30T09:44:50.719Z"
   },
   {
    "duration": 46,
    "start_time": "2023-04-30T09:45:17.630Z"
   },
   {
    "duration": 45,
    "start_time": "2023-04-30T09:45:29.616Z"
   },
   {
    "duration": 50,
    "start_time": "2023-04-30T09:45:44.093Z"
   },
   {
    "duration": 47,
    "start_time": "2023-04-30T09:48:09.530Z"
   },
   {
    "duration": 42,
    "start_time": "2023-04-30T09:48:52.394Z"
   },
   {
    "duration": 46,
    "start_time": "2023-04-30T09:49:35.402Z"
   },
   {
    "duration": 8,
    "start_time": "2023-04-30T10:23:25.515Z"
   },
   {
    "duration": 16,
    "start_time": "2023-04-30T10:23:51.612Z"
   },
   {
    "duration": 7,
    "start_time": "2023-04-30T10:24:42.683Z"
   },
   {
    "duration": 196,
    "start_time": "2023-04-30T10:24:48.978Z"
   },
   {
    "duration": 8,
    "start_time": "2023-04-30T10:28:42.678Z"
   },
   {
    "duration": 291,
    "start_time": "2023-04-30T10:28:49.801Z"
   },
   {
    "duration": 8,
    "start_time": "2023-04-30T10:29:18.714Z"
   },
   {
    "duration": 223,
    "start_time": "2023-04-30T10:29:23.393Z"
   },
   {
    "duration": 8,
    "start_time": "2023-04-30T10:29:44.330Z"
   },
   {
    "duration": 7,
    "start_time": "2023-04-30T10:45:03.355Z"
   },
   {
    "duration": 3,
    "start_time": "2023-04-30T10:51:02.890Z"
   },
   {
    "duration": 9,
    "start_time": "2023-04-30T10:51:05.657Z"
   },
   {
    "duration": 7,
    "start_time": "2023-04-30T10:51:25.319Z"
   },
   {
    "duration": 84,
    "start_time": "2023-04-30T10:52:00.022Z"
   },
   {
    "duration": 7,
    "start_time": "2023-04-30T10:52:44.390Z"
   },
   {
    "duration": 69,
    "start_time": "2023-04-30T10:52:50.123Z"
   },
   {
    "duration": 13,
    "start_time": "2023-04-30T10:53:34.654Z"
   },
   {
    "duration": 4,
    "start_time": "2023-04-30T10:53:35.765Z"
   },
   {
    "duration": 7,
    "start_time": "2023-04-30T10:53:47.196Z"
   },
   {
    "duration": 176,
    "start_time": "2023-04-30T10:53:51.618Z"
   },
   {
    "duration": 5,
    "start_time": "2023-04-30T10:53:57.806Z"
   },
   {
    "duration": 5,
    "start_time": "2023-04-30T10:54:10.816Z"
   },
   {
    "duration": 25,
    "start_time": "2023-04-30T10:56:16.531Z"
   },
   {
    "duration": 9,
    "start_time": "2023-04-30T11:01:41.496Z"
   },
   {
    "duration": 197,
    "start_time": "2023-04-30T11:01:47.514Z"
   },
   {
    "duration": 6,
    "start_time": "2023-04-30T11:01:50.044Z"
   },
   {
    "duration": 20,
    "start_time": "2023-04-30T11:01:54.453Z"
   },
   {
    "duration": 9,
    "start_time": "2023-04-30T11:02:19.538Z"
   },
   {
    "duration": 236,
    "start_time": "2023-04-30T11:02:28.600Z"
   },
   {
    "duration": 6,
    "start_time": "2023-04-30T11:02:29.815Z"
   },
   {
    "duration": 7,
    "start_time": "2023-04-30T11:02:37.793Z"
   },
   {
    "duration": 13,
    "start_time": "2023-04-30T11:03:36.027Z"
   },
   {
    "duration": 5,
    "start_time": "2023-04-30T11:03:59.521Z"
   },
   {
    "duration": 6,
    "start_time": "2023-04-30T11:04:04.417Z"
   },
   {
    "duration": 8,
    "start_time": "2023-04-30T11:04:08.323Z"
   },
   {
    "duration": 9,
    "start_time": "2023-04-30T11:06:25.150Z"
   },
   {
    "duration": 141,
    "start_time": "2023-04-30T11:06:25.319Z"
   },
   {
    "duration": 143,
    "start_time": "2023-04-30T11:06:27.872Z"
   },
   {
    "duration": 115,
    "start_time": "2023-04-30T11:06:28.196Z"
   },
   {
    "duration": 237,
    "start_time": "2023-04-30T11:06:36.332Z"
   },
   {
    "duration": 9,
    "start_time": "2023-04-30T11:07:00.064Z"
   },
   {
    "duration": 207,
    "start_time": "2023-04-30T11:07:04.649Z"
   },
   {
    "duration": 5,
    "start_time": "2023-04-30T11:07:14.919Z"
   },
   {
    "duration": 5,
    "start_time": "2023-04-30T11:07:21.952Z"
   },
   {
    "duration": 5,
    "start_time": "2023-04-30T11:07:23.214Z"
   },
   {
    "duration": 3,
    "start_time": "2023-04-30T11:12:36.159Z"
   },
   {
    "duration": 9,
    "start_time": "2023-04-30T11:13:58.059Z"
   },
   {
    "duration": 4,
    "start_time": "2023-04-30T11:14:01.197Z"
   },
   {
    "duration": 3,
    "start_time": "2023-04-30T11:14:01.955Z"
   },
   {
    "duration": 3,
    "start_time": "2023-04-30T11:14:02.899Z"
   },
   {
    "duration": 35,
    "start_time": "2023-04-30T11:14:04.115Z"
   },
   {
    "duration": 7,
    "start_time": "2023-04-30T11:14:23.734Z"
   },
   {
    "duration": 14,
    "start_time": "2023-04-30T11:23:07.972Z"
   },
   {
    "duration": 6,
    "start_time": "2023-04-30T11:23:17.646Z"
   },
   {
    "duration": 17,
    "start_time": "2023-04-30T11:23:30.179Z"
   },
   {
    "duration": 19,
    "start_time": "2023-04-30T11:23:53.731Z"
   },
   {
    "duration": 11,
    "start_time": "2023-04-30T11:24:35.573Z"
   },
   {
    "duration": 5,
    "start_time": "2023-04-30T11:29:00.382Z"
   },
   {
    "duration": 7,
    "start_time": "2023-04-30T11:29:11.679Z"
   },
   {
    "duration": 4,
    "start_time": "2023-04-30T11:29:29.971Z"
   },
   {
    "duration": 4,
    "start_time": "2023-04-30T11:30:48.853Z"
   },
   {
    "duration": 5,
    "start_time": "2023-04-30T11:30:55.318Z"
   },
   {
    "duration": 25,
    "start_time": "2023-04-30T11:31:02.833Z"
   },
   {
    "duration": 7,
    "start_time": "2023-04-30T11:31:51.638Z"
   },
   {
    "duration": 4,
    "start_time": "2023-04-30T11:31:55.585Z"
   },
   {
    "duration": 7,
    "start_time": "2023-04-30T11:31:58.176Z"
   },
   {
    "duration": 7,
    "start_time": "2023-04-30T11:32:06.977Z"
   },
   {
    "duration": 1149,
    "start_time": "2023-04-30T11:33:10.458Z"
   },
   {
    "duration": 8,
    "start_time": "2023-04-30T11:33:11.610Z"
   },
   {
    "duration": 42,
    "start_time": "2023-04-30T11:33:11.620Z"
   },
   {
    "duration": 22,
    "start_time": "2023-04-30T11:33:11.664Z"
   },
   {
    "duration": 33,
    "start_time": "2023-04-30T11:33:11.689Z"
   },
   {
    "duration": 190,
    "start_time": "2023-04-30T11:33:11.725Z"
   },
   {
    "duration": 135,
    "start_time": "2023-04-30T11:33:11.917Z"
   },
   {
    "duration": 151,
    "start_time": "2023-04-30T11:33:12.055Z"
   },
   {
    "duration": 157,
    "start_time": "2023-04-30T11:33:12.208Z"
   },
   {
    "duration": 3248,
    "start_time": "2023-04-30T11:33:12.367Z"
   },
   {
    "duration": 137,
    "start_time": "2023-04-30T11:33:15.617Z"
   },
   {
    "duration": 3178,
    "start_time": "2023-04-30T11:33:15.755Z"
   },
   {
    "duration": 135,
    "start_time": "2023-04-30T11:33:18.936Z"
   },
   {
    "duration": 3510,
    "start_time": "2023-04-30T11:33:19.074Z"
   },
   {
    "duration": 257,
    "start_time": "2023-04-30T11:33:22.586Z"
   },
   {
    "duration": 5,
    "start_time": "2023-04-30T11:33:22.845Z"
   },
   {
    "duration": 16,
    "start_time": "2023-04-30T11:33:22.852Z"
   },
   {
    "duration": 21,
    "start_time": "2023-04-30T11:33:22.870Z"
   },
   {
    "duration": 28,
    "start_time": "2023-04-30T11:33:22.893Z"
   },
   {
    "duration": 14,
    "start_time": "2023-04-30T11:33:22.923Z"
   },
   {
    "duration": 27,
    "start_time": "2023-04-30T11:33:22.938Z"
   },
   {
    "duration": 35,
    "start_time": "2023-04-30T11:33:22.966Z"
   },
   {
    "duration": 17,
    "start_time": "2023-04-30T11:33:23.003Z"
   },
   {
    "duration": 11,
    "start_time": "2023-04-30T11:33:23.022Z"
   },
   {
    "duration": 8,
    "start_time": "2023-04-30T11:33:23.035Z"
   },
   {
    "duration": 108,
    "start_time": "2023-04-30T11:33:45.214Z"
   },
   {
    "duration": 23,
    "start_time": "2023-04-30T11:33:51.902Z"
   },
   {
    "duration": 20,
    "start_time": "2023-04-30T11:33:56.416Z"
   },
   {
    "duration": 15,
    "start_time": "2023-04-30T11:34:00.790Z"
   },
   {
    "duration": 15,
    "start_time": "2023-04-30T11:34:03.860Z"
   },
   {
    "duration": 1202,
    "start_time": "2023-04-30T12:03:07.894Z"
   },
   {
    "duration": 7,
    "start_time": "2023-04-30T12:03:09.097Z"
   },
   {
    "duration": 29,
    "start_time": "2023-04-30T12:03:09.105Z"
   },
   {
    "duration": 17,
    "start_time": "2023-04-30T12:03:09.135Z"
   },
   {
    "duration": 12,
    "start_time": "2023-04-30T12:03:09.154Z"
   },
   {
    "duration": 153,
    "start_time": "2023-04-30T12:03:09.168Z"
   },
   {
    "duration": 120,
    "start_time": "2023-04-30T12:03:09.322Z"
   },
   {
    "duration": 134,
    "start_time": "2023-04-30T12:03:09.444Z"
   },
   {
    "duration": 122,
    "start_time": "2023-04-30T12:03:09.580Z"
   },
   {
    "duration": 2882,
    "start_time": "2023-04-30T12:03:09.704Z"
   },
   {
    "duration": 117,
    "start_time": "2023-04-30T12:03:12.587Z"
   },
   {
    "duration": 2982,
    "start_time": "2023-04-30T12:03:12.706Z"
   },
   {
    "duration": 125,
    "start_time": "2023-04-30T12:03:15.689Z"
   },
   {
    "duration": 3277,
    "start_time": "2023-04-30T12:03:15.836Z"
   },
   {
    "duration": 246,
    "start_time": "2023-04-30T12:03:19.114Z"
   },
   {
    "duration": 4,
    "start_time": "2023-04-30T12:03:19.362Z"
   },
   {
    "duration": 14,
    "start_time": "2023-04-30T12:03:19.368Z"
   },
   {
    "duration": 8,
    "start_time": "2023-04-30T12:03:19.384Z"
   },
   {
    "duration": 20,
    "start_time": "2023-04-30T12:03:19.393Z"
   },
   {
    "duration": 24,
    "start_time": "2023-04-30T12:03:19.415Z"
   },
   {
    "duration": 194,
    "start_time": "2023-04-30T12:03:47.851Z"
   },
   {
    "duration": 178,
    "start_time": "2023-04-30T12:04:04.885Z"
   },
   {
    "duration": 12,
    "start_time": "2023-04-30T12:17:07.770Z"
   },
   {
    "duration": 5,
    "start_time": "2023-04-30T12:17:23.071Z"
   },
   {
    "duration": 5,
    "start_time": "2023-04-30T12:17:32.366Z"
   },
   {
    "duration": 5,
    "start_time": "2023-04-30T12:17:32.917Z"
   },
   {
    "duration": 12,
    "start_time": "2023-04-30T12:17:40.049Z"
   },
   {
    "duration": 12,
    "start_time": "2023-04-30T12:17:47.803Z"
   },
   {
    "duration": 13,
    "start_time": "2023-04-30T12:17:53.297Z"
   },
   {
    "duration": 10,
    "start_time": "2023-04-30T12:18:02.010Z"
   },
   {
    "duration": 10,
    "start_time": "2023-04-30T12:18:08.049Z"
   },
   {
    "duration": 10,
    "start_time": "2023-04-30T12:18:10.352Z"
   },
   {
    "duration": 1418,
    "start_time": "2023-05-01T10:54:27.053Z"
   },
   {
    "duration": 8,
    "start_time": "2023-05-01T10:54:28.473Z"
   },
   {
    "duration": 11,
    "start_time": "2023-05-01T10:54:28.483Z"
   },
   {
    "duration": 13,
    "start_time": "2023-05-01T10:54:28.497Z"
   },
   {
    "duration": 9,
    "start_time": "2023-05-01T10:54:28.513Z"
   },
   {
    "duration": 177,
    "start_time": "2023-05-01T10:54:28.524Z"
   },
   {
    "duration": 134,
    "start_time": "2023-05-01T10:54:28.703Z"
   },
   {
    "duration": 135,
    "start_time": "2023-05-01T10:54:28.839Z"
   },
   {
    "duration": 135,
    "start_time": "2023-05-01T10:54:28.976Z"
   },
   {
    "duration": 2991,
    "start_time": "2023-05-01T10:54:29.113Z"
   },
   {
    "duration": 107,
    "start_time": "2023-05-01T10:54:32.106Z"
   },
   {
    "duration": 3066,
    "start_time": "2023-05-01T10:54:32.215Z"
   },
   {
    "duration": 111,
    "start_time": "2023-05-01T10:54:35.282Z"
   },
   {
    "duration": 3007,
    "start_time": "2023-05-01T10:54:35.395Z"
   },
   {
    "duration": 220,
    "start_time": "2023-05-01T10:54:38.403Z"
   },
   {
    "duration": 4,
    "start_time": "2023-05-01T10:54:38.633Z"
   },
   {
    "duration": 9,
    "start_time": "2023-05-01T10:54:38.639Z"
   },
   {
    "duration": 10,
    "start_time": "2023-05-01T10:54:38.649Z"
   },
   {
    "duration": 25,
    "start_time": "2023-05-01T10:54:38.661Z"
   },
   {
    "duration": 194,
    "start_time": "2023-05-01T10:54:38.688Z"
   },
   {
    "duration": 11,
    "start_time": "2023-05-01T10:54:38.883Z"
   },
   {
    "duration": 14,
    "start_time": "2023-05-01T10:54:38.895Z"
   },
   {
    "duration": 15,
    "start_time": "2023-05-01T10:54:38.911Z"
   },
   {
    "duration": 9,
    "start_time": "2023-05-01T10:54:38.927Z"
   },
   {
    "duration": 13,
    "start_time": "2023-05-01T10:54:38.938Z"
   },
   {
    "duration": 8,
    "start_time": "2023-05-01T10:54:38.953Z"
   },
   {
    "duration": 12,
    "start_time": "2023-05-01T10:54:38.962Z"
   },
   {
    "duration": 4,
    "start_time": "2023-05-01T10:54:38.976Z"
   },
   {
    "duration": 114,
    "start_time": "2023-05-01T11:02:21.604Z"
   },
   {
    "duration": 7041,
    "start_time": "2023-05-01T11:02:59.225Z"
   },
   {
    "duration": 21,
    "start_time": "2023-05-01T11:03:06.268Z"
   },
   {
    "duration": 14,
    "start_time": "2023-05-01T11:03:09.151Z"
   },
   {
    "duration": 2153,
    "start_time": "2023-05-01T11:03:16.049Z"
   },
   {
    "duration": 19,
    "start_time": "2023-05-01T11:03:21.364Z"
   },
   {
    "duration": 2176,
    "start_time": "2023-05-01T11:04:34.513Z"
   },
   {
    "duration": 19,
    "start_time": "2023-05-01T11:04:40.614Z"
   },
   {
    "duration": 3,
    "start_time": "2023-05-01T11:04:59.314Z"
   },
   {
    "duration": 1265,
    "start_time": "2023-05-01T11:05:25.947Z"
   },
   {
    "duration": 2068,
    "start_time": "2023-05-01T11:05:33.225Z"
   },
   {
    "duration": 2086,
    "start_time": "2023-05-01T11:05:35.295Z"
   },
   {
    "duration": 1204,
    "start_time": "2023-05-01T11:05:37.382Z"
   },
   {
    "duration": 7,
    "start_time": "2023-05-01T11:05:38.587Z"
   },
   {
    "duration": 18,
    "start_time": "2023-05-01T11:05:38.596Z"
   },
   {
    "duration": 9,
    "start_time": "2023-05-01T11:05:38.615Z"
   },
   {
    "duration": 8,
    "start_time": "2023-05-01T11:05:38.625Z"
   },
   {
    "duration": 136,
    "start_time": "2023-05-01T11:05:38.634Z"
   },
   {
    "duration": 114,
    "start_time": "2023-05-01T11:05:38.771Z"
   },
   {
    "duration": 119,
    "start_time": "2023-05-01T11:05:38.886Z"
   },
   {
    "duration": 115,
    "start_time": "2023-05-01T11:05:39.006Z"
   },
   {
    "duration": 2746,
    "start_time": "2023-05-01T11:05:39.133Z"
   },
   {
    "duration": 120,
    "start_time": "2023-05-01T11:05:41.880Z"
   },
   {
    "duration": 2862,
    "start_time": "2023-05-01T11:05:42.002Z"
   },
   {
    "duration": 108,
    "start_time": "2023-05-01T11:05:44.866Z"
   },
   {
    "duration": 2993,
    "start_time": "2023-05-01T11:05:44.976Z"
   },
   {
    "duration": 197,
    "start_time": "2023-05-01T11:05:47.971Z"
   },
   {
    "duration": 4,
    "start_time": "2023-05-01T11:05:48.169Z"
   },
   {
    "duration": 24,
    "start_time": "2023-05-01T11:05:48.175Z"
   },
   {
    "duration": 6,
    "start_time": "2023-05-01T11:05:48.201Z"
   },
   {
    "duration": 20,
    "start_time": "2023-05-01T11:05:48.209Z"
   },
   {
    "duration": 203,
    "start_time": "2023-05-01T11:05:48.231Z"
   },
   {
    "duration": 12,
    "start_time": "2023-05-01T11:05:48.435Z"
   },
   {
    "duration": 8,
    "start_time": "2023-05-01T11:05:48.449Z"
   },
   {
    "duration": 12,
    "start_time": "2023-05-01T11:05:48.458Z"
   },
   {
    "duration": 16,
    "start_time": "2023-05-01T11:05:48.471Z"
   },
   {
    "duration": 27,
    "start_time": "2023-05-01T11:05:48.488Z"
   },
   {
    "duration": 19,
    "start_time": "2023-05-01T11:05:48.516Z"
   },
   {
    "duration": 30,
    "start_time": "2023-05-01T11:05:48.537Z"
   },
   {
    "duration": 15,
    "start_time": "2023-05-01T11:05:48.569Z"
   },
   {
    "duration": 4,
    "start_time": "2023-05-01T11:11:54.503Z"
   },
   {
    "duration": 3,
    "start_time": "2023-05-01T11:15:22.717Z"
   },
   {
    "duration": 3,
    "start_time": "2023-05-01T11:17:58.257Z"
   },
   {
    "duration": 3,
    "start_time": "2023-05-01T11:17:59.446Z"
   },
   {
    "duration": 27,
    "start_time": "2023-05-01T11:19:17.915Z"
   },
   {
    "duration": 4,
    "start_time": "2023-05-01T11:19:55.538Z"
   },
   {
    "duration": 28,
    "start_time": "2023-05-01T11:19:58.404Z"
   },
   {
    "duration": 15,
    "start_time": "2023-05-01T11:20:10.745Z"
   },
   {
    "duration": 4,
    "start_time": "2023-05-01T11:21:26.604Z"
   },
   {
    "duration": 46,
    "start_time": "2023-05-01T11:21:27.838Z"
   },
   {
    "duration": 12,
    "start_time": "2023-05-01T11:21:28.654Z"
   },
   {
    "duration": 43,
    "start_time": "2023-05-01T11:21:46.164Z"
   },
   {
    "duration": 1675,
    "start_time": "2023-05-01T11:24:29.546Z"
   },
   {
    "duration": 0,
    "start_time": "2023-05-01T11:24:31.223Z"
   },
   {
    "duration": 17,
    "start_time": "2023-05-01T11:24:43.102Z"
   },
   {
    "duration": 12,
    "start_time": "2023-05-01T11:24:45.763Z"
   },
   {
    "duration": 20,
    "start_time": "2023-05-01T11:24:49.550Z"
   },
   {
    "duration": 3,
    "start_time": "2023-05-01T11:25:08.305Z"
   },
   {
    "duration": 15,
    "start_time": "2023-05-01T11:25:09.100Z"
   },
   {
    "duration": 11,
    "start_time": "2023-05-01T11:25:10.203Z"
   },
   {
    "duration": 32,
    "start_time": "2023-05-01T11:25:11.043Z"
   },
   {
    "duration": 26,
    "start_time": "2023-05-01T11:25:29.754Z"
   },
   {
    "duration": 288,
    "start_time": "2023-05-01T11:26:18.657Z"
   },
   {
    "duration": 12,
    "start_time": "2023-05-01T11:26:53.355Z"
   },
   {
    "duration": 311,
    "start_time": "2023-05-01T11:26:57.348Z"
   },
   {
    "duration": 320,
    "start_time": "2023-05-01T11:27:01.550Z"
   },
   {
    "duration": 6,
    "start_time": "2023-05-01T11:27:40.326Z"
   },
   {
    "duration": 4,
    "start_time": "2023-05-01T11:33:59.307Z"
   },
   {
    "duration": 5,
    "start_time": "2023-05-01T11:43:34.348Z"
   },
   {
    "duration": 10,
    "start_time": "2023-05-01T11:53:12.406Z"
   },
   {
    "duration": 3,
    "start_time": "2023-05-01T11:53:37.391Z"
   },
   {
    "duration": 10,
    "start_time": "2023-05-01T11:53:48.697Z"
   },
   {
    "duration": 173399,
    "start_time": "2023-05-01T11:54:00.840Z"
   },
   {
    "duration": 2,
    "start_time": "2023-05-01T11:57:05.754Z"
   },
   {
    "duration": 7,
    "start_time": "2023-05-01T11:57:10.622Z"
   },
   {
    "duration": 4,
    "start_time": "2023-05-01T11:58:06.289Z"
   },
   {
    "duration": 9,
    "start_time": "2023-05-01T11:58:18.624Z"
   },
   {
    "duration": 60,
    "start_time": "2023-05-01T11:58:37.312Z"
   },
   {
    "duration": 3,
    "start_time": "2023-05-01T11:59:38.387Z"
   },
   {
    "duration": 4,
    "start_time": "2023-05-01T11:59:51.747Z"
   },
   {
    "duration": 22,
    "start_time": "2023-05-01T11:59:54.613Z"
   },
   {
    "duration": 18,
    "start_time": "2023-05-01T12:03:09.812Z"
   },
   {
    "duration": 9,
    "start_time": "2023-05-01T12:04:14.601Z"
   },
   {
    "duration": 4,
    "start_time": "2023-05-01T12:04:33.535Z"
   },
   {
    "duration": 9,
    "start_time": "2023-05-01T12:04:37.860Z"
   },
   {
    "duration": 5,
    "start_time": "2023-05-01T12:04:47.270Z"
   },
   {
    "duration": 15,
    "start_time": "2023-05-01T12:05:06.183Z"
   },
   {
    "duration": 35846,
    "start_time": "2023-05-01T12:05:24.330Z"
   },
   {
    "duration": 3,
    "start_time": "2023-05-01T12:06:15.692Z"
   },
   {
    "duration": 8,
    "start_time": "2023-05-01T12:06:16.673Z"
   },
   {
    "duration": 22,
    "start_time": "2023-05-01T12:06:26.917Z"
   },
   {
    "duration": 4,
    "start_time": "2023-05-01T12:08:17.832Z"
   },
   {
    "duration": 38,
    "start_time": "2023-05-01T12:09:09.110Z"
   },
   {
    "duration": 15,
    "start_time": "2023-05-01T12:10:08.507Z"
   },
   {
    "duration": 13,
    "start_time": "2023-05-01T12:10:20.518Z"
   },
   {
    "duration": 415,
    "start_time": "2023-05-01T12:10:20.997Z"
   },
   {
    "duration": 6,
    "start_time": "2023-05-01T12:10:26.536Z"
   },
   {
    "duration": 4,
    "start_time": "2023-05-01T12:10:33.322Z"
   },
   {
    "duration": 3,
    "start_time": "2023-05-01T12:11:36.289Z"
   },
   {
    "duration": 34042,
    "start_time": "2023-05-01T12:11:39.810Z"
   },
   {
    "duration": 2,
    "start_time": "2023-05-01T12:12:19.993Z"
   },
   {
    "duration": 6,
    "start_time": "2023-05-01T12:12:20.863Z"
   },
   {
    "duration": 3,
    "start_time": "2023-05-01T12:12:44.197Z"
   },
   {
    "duration": 36,
    "start_time": "2023-05-01T12:12:51.882Z"
   },
   {
    "duration": 20,
    "start_time": "2023-05-01T12:13:35.692Z"
   },
   {
    "duration": 3,
    "start_time": "2023-05-01T12:14:49.889Z"
   },
   {
    "duration": 5,
    "start_time": "2023-05-01T12:15:39.175Z"
   },
   {
    "duration": 4,
    "start_time": "2023-05-01T12:15:57.905Z"
   },
   {
    "duration": 3,
    "start_time": "2023-05-01T12:19:11.333Z"
   },
   {
    "duration": 14,
    "start_time": "2023-05-01T12:19:11.804Z"
   },
   {
    "duration": 10,
    "start_time": "2023-05-01T12:19:12.237Z"
   },
   {
    "duration": 305,
    "start_time": "2023-05-01T12:19:12.658Z"
   },
   {
    "duration": 8,
    "start_time": "2023-05-01T12:19:14.015Z"
   },
   {
    "duration": 3,
    "start_time": "2023-05-01T12:19:14.957Z"
   },
   {
    "duration": 6,
    "start_time": "2023-05-01T12:19:15.447Z"
   },
   {
    "duration": 34618,
    "start_time": "2023-05-01T12:19:17.049Z"
   },
   {
    "duration": 3,
    "start_time": "2023-05-01T12:19:57.105Z"
   },
   {
    "duration": 6,
    "start_time": "2023-05-01T12:19:57.450Z"
   },
   {
    "duration": 3,
    "start_time": "2023-05-01T12:20:25.403Z"
   },
   {
    "duration": 4,
    "start_time": "2023-05-01T12:22:15.304Z"
   },
   {
    "duration": 17,
    "start_time": "2023-05-01T12:22:18.587Z"
   },
   {
    "duration": 15,
    "start_time": "2023-05-01T12:22:19.407Z"
   },
   {
    "duration": 348,
    "start_time": "2023-05-01T12:22:21.589Z"
   },
   {
    "duration": 6,
    "start_time": "2023-05-01T12:22:27.230Z"
   },
   {
    "duration": 2,
    "start_time": "2023-05-01T12:22:28.454Z"
   },
   {
    "duration": 6,
    "start_time": "2023-05-01T12:22:29.610Z"
   },
   {
    "duration": 40230,
    "start_time": "2023-05-01T12:22:43.321Z"
   },
   {
    "duration": 37903,
    "start_time": "2023-05-01T12:23:47.433Z"
   },
   {
    "duration": 3,
    "start_time": "2023-05-01T12:24:33.523Z"
   },
   {
    "duration": 6,
    "start_time": "2023-05-01T12:24:34.136Z"
   },
   {
    "duration": 4,
    "start_time": "2023-05-01T12:24:52.410Z"
   },
   {
    "duration": 4,
    "start_time": "2023-05-01T12:27:25.056Z"
   },
   {
    "duration": 28,
    "start_time": "2023-05-01T12:27:26.339Z"
   },
   {
    "duration": 4,
    "start_time": "2023-05-01T12:28:14.869Z"
   },
   {
    "duration": 29,
    "start_time": "2023-05-01T12:28:16.096Z"
   },
   {
    "duration": 3,
    "start_time": "2023-05-01T12:28:21.736Z"
   },
   {
    "duration": 27,
    "start_time": "2023-05-01T12:28:22.193Z"
   },
   {
    "duration": 3,
    "start_time": "2023-05-01T12:28:30.093Z"
   },
   {
    "duration": 19,
    "start_time": "2023-05-01T12:28:30.715Z"
   },
   {
    "duration": 12,
    "start_time": "2023-05-01T12:28:31.992Z"
   },
   {
    "duration": 315,
    "start_time": "2023-05-01T12:28:32.945Z"
   },
   {
    "duration": 6,
    "start_time": "2023-05-01T12:28:36.829Z"
   },
   {
    "duration": 3,
    "start_time": "2023-05-01T12:28:37.739Z"
   },
   {
    "duration": 5,
    "start_time": "2023-05-01T12:28:38.533Z"
   },
   {
    "duration": 41174,
    "start_time": "2023-05-01T12:28:39.900Z"
   },
   {
    "duration": 2,
    "start_time": "2023-05-01T12:29:24.250Z"
   },
   {
    "duration": 6,
    "start_time": "2023-05-01T12:29:24.837Z"
   },
   {
    "duration": 21,
    "start_time": "2023-05-01T12:29:30.454Z"
   },
   {
    "duration": 5,
    "start_time": "2023-05-01T12:29:34.509Z"
   },
   {
    "duration": 4,
    "start_time": "2023-05-01T12:29:36.267Z"
   },
   {
    "duration": 6,
    "start_time": "2023-05-01T12:29:51.624Z"
   },
   {
    "duration": 9,
    "start_time": "2023-05-01T12:29:52.797Z"
   },
   {
    "duration": 249,
    "start_time": "2023-05-01T12:29:54.160Z"
   },
   {
    "duration": 6,
    "start_time": "2023-05-01T12:29:56.843Z"
   },
   {
    "duration": 3,
    "start_time": "2023-05-01T12:29:57.309Z"
   },
   {
    "duration": 3,
    "start_time": "2023-05-01T12:29:57.793Z"
   },
   {
    "duration": 34464,
    "start_time": "2023-05-01T12:29:59.297Z"
   },
   {
    "duration": 3,
    "start_time": "2023-05-01T12:30:37.498Z"
   },
   {
    "duration": 9,
    "start_time": "2023-05-01T12:30:38.020Z"
   },
   {
    "duration": 22,
    "start_time": "2023-05-01T12:30:40.059Z"
   },
   {
    "duration": 3,
    "start_time": "2023-05-01T12:30:43.097Z"
   },
   {
    "duration": 3,
    "start_time": "2023-05-01T12:32:56.215Z"
   },
   {
    "duration": 15,
    "start_time": "2023-05-01T12:32:57.870Z"
   },
   {
    "duration": 12,
    "start_time": "2023-05-01T12:32:58.959Z"
   },
   {
    "duration": 306,
    "start_time": "2023-05-01T12:32:59.865Z"
   },
   {
    "duration": 5,
    "start_time": "2023-05-01T12:33:03.557Z"
   },
   {
    "duration": 3,
    "start_time": "2023-05-01T12:33:04.201Z"
   },
   {
    "duration": 3,
    "start_time": "2023-05-01T12:33:09.102Z"
   },
   {
    "duration": 29,
    "start_time": "2023-05-01T12:33:28.125Z"
   },
   {
    "duration": 30,
    "start_time": "2023-05-01T12:33:28.967Z"
   },
   {
    "duration": 32,
    "start_time": "2023-05-01T12:37:24.923Z"
   },
   {
    "duration": 5,
    "start_time": "2023-05-01T12:38:30.043Z"
   },
   {
    "duration": 17,
    "start_time": "2023-05-01T12:38:30.354Z"
   },
   {
    "duration": 11,
    "start_time": "2023-05-01T12:38:31.697Z"
   },
   {
    "duration": 359,
    "start_time": "2023-05-01T12:38:32.501Z"
   },
   {
    "duration": 5,
    "start_time": "2023-05-01T12:38:34.841Z"
   },
   {
    "duration": 3,
    "start_time": "2023-05-01T12:38:43.616Z"
   },
   {
    "duration": 3,
    "start_time": "2023-05-01T12:38:44.703Z"
   },
   {
    "duration": 30,
    "start_time": "2023-05-01T12:38:46.232Z"
   },
   {
    "duration": 34,
    "start_time": "2023-05-01T12:38:48.123Z"
   },
   {
    "duration": 9,
    "start_time": "2023-05-01T12:38:55.392Z"
   },
   {
    "duration": 12,
    "start_time": "2023-05-01T12:39:16.573Z"
   },
   {
    "duration": 22,
    "start_time": "2023-05-01T12:39:53.441Z"
   },
   {
    "duration": 4,
    "start_time": "2023-05-01T12:41:24.101Z"
   },
   {
    "duration": 4,
    "start_time": "2023-05-01T12:41:42.020Z"
   },
   {
    "duration": 11,
    "start_time": "2023-05-01T12:41:48.709Z"
   },
   {
    "duration": 5,
    "start_time": "2023-05-01T12:41:51.464Z"
   },
   {
    "duration": 4,
    "start_time": "2023-05-01T12:42:08.420Z"
   },
   {
    "duration": 12,
    "start_time": "2023-05-01T12:45:15.709Z"
   },
   {
    "duration": 9,
    "start_time": "2023-05-01T12:45:39.621Z"
   },
   {
    "duration": 11,
    "start_time": "2023-05-01T12:45:46.772Z"
   },
   {
    "duration": 4,
    "start_time": "2023-05-01T12:45:59.413Z"
   },
   {
    "duration": 4,
    "start_time": "2023-05-01T12:46:22.404Z"
   },
   {
    "duration": 29,
    "start_time": "2023-05-01T12:46:23.025Z"
   },
   {
    "duration": 34,
    "start_time": "2023-05-01T12:46:24.547Z"
   },
   {
    "duration": 3,
    "start_time": "2023-05-01T12:48:35.638Z"
   },
   {
    "duration": 8,
    "start_time": "2023-05-01T12:57:57.194Z"
   },
   {
    "duration": 5,
    "start_time": "2023-05-01T12:58:08.499Z"
   },
   {
    "duration": 3,
    "start_time": "2023-05-01T12:58:13.734Z"
   },
   {
    "duration": 42800,
    "start_time": "2023-05-01T12:59:20.134Z"
   },
   {
    "duration": 2356,
    "start_time": "2023-05-01T13:00:09.408Z"
   },
   {
    "duration": 2111,
    "start_time": "2023-05-01T13:00:11.766Z"
   },
   {
    "duration": 1214,
    "start_time": "2023-05-01T13:00:13.878Z"
   },
   {
    "duration": 2,
    "start_time": "2023-05-01T13:00:15.094Z"
   },
   {
    "duration": 17,
    "start_time": "2023-05-01T13:00:15.098Z"
   },
   {
    "duration": 20,
    "start_time": "2023-05-01T13:00:15.117Z"
   },
   {
    "duration": 8,
    "start_time": "2023-05-01T13:00:15.139Z"
   },
   {
    "duration": 11,
    "start_time": "2023-05-01T13:00:15.148Z"
   },
   {
    "duration": 157,
    "start_time": "2023-05-01T13:00:15.160Z"
   },
   {
    "duration": 120,
    "start_time": "2023-05-01T13:00:15.318Z"
   },
   {
    "duration": 116,
    "start_time": "2023-05-01T13:00:15.439Z"
   },
   {
    "duration": 120,
    "start_time": "2023-05-01T13:00:15.557Z"
   },
   {
    "duration": 3434,
    "start_time": "2023-05-01T13:00:15.679Z"
   },
   {
    "duration": 154,
    "start_time": "2023-05-01T13:00:19.117Z"
   },
   {
    "duration": 3199,
    "start_time": "2023-05-01T13:00:19.273Z"
   },
   {
    "duration": 125,
    "start_time": "2023-05-01T13:00:22.474Z"
   },
   {
    "duration": 3359,
    "start_time": "2023-05-01T13:00:22.601Z"
   },
   {
    "duration": 255,
    "start_time": "2023-05-01T13:00:25.962Z"
   },
   {
    "duration": 18,
    "start_time": "2023-05-01T13:00:26.219Z"
   },
   {
    "duration": 13,
    "start_time": "2023-05-01T13:00:26.240Z"
   },
   {
    "duration": 6,
    "start_time": "2023-05-01T13:00:26.255Z"
   },
   {
    "duration": 20,
    "start_time": "2023-05-01T13:00:26.263Z"
   },
   {
    "duration": 290,
    "start_time": "2023-05-01T13:00:26.285Z"
   },
   {
    "duration": 17,
    "start_time": "2023-05-01T13:00:26.577Z"
   },
   {
    "duration": 13,
    "start_time": "2023-05-01T13:00:26.596Z"
   },
   {
    "duration": 28,
    "start_time": "2023-05-01T13:00:26.611Z"
   },
   {
    "duration": 13,
    "start_time": "2023-05-01T13:00:26.641Z"
   },
   {
    "duration": 20,
    "start_time": "2023-05-01T13:00:26.657Z"
   },
   {
    "duration": 12,
    "start_time": "2023-05-01T13:00:26.680Z"
   },
   {
    "duration": 40,
    "start_time": "2023-05-01T13:00:26.694Z"
   },
   {
    "duration": 5,
    "start_time": "2023-05-01T13:00:26.737Z"
   },
   {
    "duration": 29,
    "start_time": "2023-05-01T13:00:26.744Z"
   },
   {
    "duration": 16,
    "start_time": "2023-05-01T13:00:26.775Z"
   },
   {
    "duration": 398,
    "start_time": "2023-05-01T13:00:26.793Z"
   },
   {
    "duration": 7,
    "start_time": "2023-05-01T13:00:27.193Z"
   },
   {
    "duration": 12,
    "start_time": "2023-05-01T13:00:27.201Z"
   },
   {
    "duration": 20,
    "start_time": "2023-05-01T13:00:27.215Z"
   },
   {
    "duration": 7,
    "start_time": "2023-05-01T13:00:27.237Z"
   },
   {
    "duration": 17,
    "start_time": "2023-05-01T13:00:27.245Z"
   },
   {
    "duration": 41770,
    "start_time": "2023-05-01T13:00:27.264Z"
   },
   {
    "duration": 2,
    "start_time": "2023-05-01T13:01:09.039Z"
   },
   {
    "duration": 13,
    "start_time": "2023-05-01T13:01:09.043Z"
   },
   {
    "duration": 78,
    "start_time": "2023-05-01T13:01:09.057Z"
   },
   {
    "duration": 5,
    "start_time": "2023-05-01T13:01:09.136Z"
   },
   {
    "duration": 51,
    "start_time": "2023-05-01T13:01:09.143Z"
   },
   {
    "duration": 5,
    "start_time": "2023-05-01T13:01:09.195Z"
   },
   {
    "duration": 3,
    "start_time": "2023-05-01T13:02:52.234Z"
   },
   {
    "duration": 6,
    "start_time": "2023-05-01T13:03:16.295Z"
   },
   {
    "duration": 38,
    "start_time": "2023-05-01T13:03:16.888Z"
   },
   {
    "duration": 14,
    "start_time": "2023-05-01T13:03:18.750Z"
   },
   {
    "duration": 480,
    "start_time": "2023-05-01T13:03:20.607Z"
   },
   {
    "duration": 6,
    "start_time": "2023-05-01T13:03:26.316Z"
   },
   {
    "duration": 3,
    "start_time": "2023-05-01T13:03:28.413Z"
   },
   {
    "duration": 4,
    "start_time": "2023-05-01T13:03:29.832Z"
   },
   {
    "duration": 3,
    "start_time": "2023-05-01T13:03:31.547Z"
   },
   {
    "duration": 140783,
    "start_time": "2023-05-01T13:03:33.170Z"
   },
   {
    "duration": 90532,
    "start_time": "2023-05-01T13:05:56.921Z"
   },
   {
    "duration": 81,
    "start_time": "2023-05-01T13:07:27.455Z"
   },
   {
    "duration": 15,
    "start_time": "2023-05-01T13:07:27.538Z"
   },
   {
    "duration": 29,
    "start_time": "2023-05-01T13:07:27.556Z"
   },
   {
    "duration": 8,
    "start_time": "2023-05-01T13:07:27.587Z"
   },
   {
    "duration": 5,
    "start_time": "2023-05-01T13:07:27.597Z"
   },
   {
    "duration": 32,
    "start_time": "2023-05-01T13:38:01.049Z"
   },
   {
    "duration": 15,
    "start_time": "2023-05-01T13:38:58.033Z"
   },
   {
    "duration": 673,
    "start_time": "2023-05-01T13:39:07.267Z"
   },
   {
    "duration": 5,
    "start_time": "2023-05-01T13:39:11.435Z"
   },
   {
    "duration": 3,
    "start_time": "2023-05-01T13:39:15.930Z"
   },
   {
    "duration": 2,
    "start_time": "2023-05-01T13:39:20.502Z"
   },
   {
    "duration": 44671,
    "start_time": "2023-05-01T13:39:22.064Z"
   },
   {
    "duration": 2,
    "start_time": "2023-05-01T13:40:11.991Z"
   },
   {
    "duration": 6,
    "start_time": "2023-05-01T13:40:12.440Z"
   },
   {
    "duration": 26,
    "start_time": "2023-05-01T13:40:17.360Z"
   },
   {
    "duration": 4,
    "start_time": "2023-05-01T13:40:19.434Z"
   },
   {
    "duration": 4,
    "start_time": "2023-05-01T13:41:31.704Z"
   },
   {
    "duration": 36,
    "start_time": "2023-05-01T13:41:33.566Z"
   },
   {
    "duration": 15,
    "start_time": "2023-05-01T13:41:34.498Z"
   },
   {
    "duration": 559,
    "start_time": "2023-05-01T13:41:36.397Z"
   },
   {
    "duration": 7,
    "start_time": "2023-05-01T13:41:43.850Z"
   },
   {
    "duration": 4,
    "start_time": "2023-05-01T13:41:46.018Z"
   },
   {
    "duration": 3,
    "start_time": "2023-05-01T13:41:53.502Z"
   },
   {
    "duration": 92981,
    "start_time": "2023-05-01T13:41:55.574Z"
   },
   {
    "duration": 4,
    "start_time": "2023-05-01T13:43:39.108Z"
   },
   {
    "duration": 6,
    "start_time": "2023-05-01T13:43:41.608Z"
   },
   {
    "duration": 36,
    "start_time": "2023-05-01T13:43:48.705Z"
   },
   {
    "duration": 4,
    "start_time": "2023-05-01T13:43:50.939Z"
   },
   {
    "duration": 4,
    "start_time": "2023-05-01T13:46:08.661Z"
   },
   {
    "duration": 4,
    "start_time": "2023-05-01T13:47:35.928Z"
   },
   {
    "duration": 35,
    "start_time": "2023-05-01T13:47:37.568Z"
   },
   {
    "duration": 15,
    "start_time": "2023-05-01T13:47:38.499Z"
   },
   {
    "duration": 481,
    "start_time": "2023-05-01T13:47:42.230Z"
   },
   {
    "duration": 5,
    "start_time": "2023-05-01T13:48:08.099Z"
   },
   {
    "duration": 3,
    "start_time": "2023-05-01T13:48:11.430Z"
   },
   {
    "duration": 3,
    "start_time": "2023-05-01T13:48:12.749Z"
   },
   {
    "duration": 57890,
    "start_time": "2023-05-01T13:48:14.667Z"
   },
   {
    "duration": 2,
    "start_time": "2023-05-01T13:49:16.005Z"
   },
   {
    "duration": 7,
    "start_time": "2023-05-01T13:49:16.400Z"
   },
   {
    "duration": 24,
    "start_time": "2023-05-01T13:49:19.398Z"
   },
   {
    "duration": 3,
    "start_time": "2023-05-01T13:49:35.719Z"
   },
   {
    "duration": 69,
    "start_time": "2023-05-01T14:05:26.296Z"
   },
   {
    "duration": 64,
    "start_time": "2023-05-01T14:06:08.309Z"
   },
   {
    "duration": 8,
    "start_time": "2023-05-01T14:06:19.228Z"
   },
   {
    "duration": 51752,
    "start_time": "2023-05-01T14:08:49.981Z"
   },
   {
    "duration": 52297,
    "start_time": "2023-05-01T14:10:08.945Z"
   },
   {
    "duration": 3,
    "start_time": "2023-05-01T14:11:05.438Z"
   },
   {
    "duration": 4,
    "start_time": "2023-05-01T14:11:08.878Z"
   },
   {
    "duration": 4,
    "start_time": "2023-05-01T14:11:29.526Z"
   },
   {
    "duration": 4,
    "start_time": "2023-05-01T14:11:58.590Z"
   },
   {
    "duration": 3,
    "start_time": "2023-05-01T14:14:01.109Z"
   },
   {
    "duration": 4,
    "start_time": "2023-05-01T14:14:05.591Z"
   },
   {
    "duration": 5,
    "start_time": "2023-05-01T14:15:23.420Z"
   },
   {
    "duration": 3,
    "start_time": "2023-05-01T14:19:56.539Z"
   },
   {
    "duration": 81,
    "start_time": "2023-05-01T14:19:57.664Z"
   },
   {
    "duration": 12,
    "start_time": "2023-05-01T14:19:58.093Z"
   },
   {
    "duration": 514,
    "start_time": "2023-05-01T14:19:59.476Z"
   },
   {
    "duration": 6,
    "start_time": "2023-05-01T14:20:01.810Z"
   },
   {
    "duration": 4,
    "start_time": "2023-05-01T14:20:02.797Z"
   },
   {
    "duration": 5,
    "start_time": "2023-05-01T14:20:03.777Z"
   },
   {
    "duration": 4,
    "start_time": "2023-05-01T14:20:04.849Z"
   },
   {
    "duration": 110,
    "start_time": "2023-05-01T14:20:06.499Z"
   },
   {
    "duration": 75175,
    "start_time": "2023-05-01T14:21:06.479Z"
   },
   {
    "duration": 178,
    "start_time": "2023-05-01T14:22:21.656Z"
   },
   {
    "duration": 2385,
    "start_time": "2023-05-01T14:23:45.057Z"
   },
   {
    "duration": 2173,
    "start_time": "2023-05-01T14:23:47.445Z"
   },
   {
    "duration": 1256,
    "start_time": "2023-05-01T14:23:49.620Z"
   },
   {
    "duration": 3,
    "start_time": "2023-05-01T14:23:50.879Z"
   },
   {
    "duration": 12,
    "start_time": "2023-05-01T14:23:50.884Z"
   },
   {
    "duration": 22,
    "start_time": "2023-05-01T14:23:50.897Z"
   },
   {
    "duration": 19,
    "start_time": "2023-05-01T14:23:50.921Z"
   },
   {
    "duration": 30,
    "start_time": "2023-05-01T14:23:50.942Z"
   },
   {
    "duration": 140,
    "start_time": "2023-05-01T14:23:50.973Z"
   },
   {
    "duration": 109,
    "start_time": "2023-05-01T14:23:51.116Z"
   },
   {
    "duration": 110,
    "start_time": "2023-05-01T14:23:51.227Z"
   },
   {
    "duration": 116,
    "start_time": "2023-05-01T14:23:51.339Z"
   },
   {
    "duration": 2844,
    "start_time": "2023-05-01T14:23:51.456Z"
   },
   {
    "duration": 102,
    "start_time": "2023-05-01T14:23:54.302Z"
   },
   {
    "duration": 3109,
    "start_time": "2023-05-01T14:23:54.406Z"
   },
   {
    "duration": 95,
    "start_time": "2023-05-01T14:23:57.516Z"
   },
   {
    "duration": 2964,
    "start_time": "2023-05-01T14:23:57.612Z"
   },
   {
    "duration": 232,
    "start_time": "2023-05-01T14:24:00.578Z"
   },
   {
    "duration": 4,
    "start_time": "2023-05-01T14:24:00.812Z"
   },
   {
    "duration": 33,
    "start_time": "2023-05-01T14:24:00.817Z"
   },
   {
    "duration": 29,
    "start_time": "2023-05-01T14:24:00.852Z"
   },
   {
    "duration": 38,
    "start_time": "2023-05-01T14:24:00.883Z"
   },
   {
    "duration": 244,
    "start_time": "2023-05-01T14:24:00.922Z"
   },
   {
    "duration": 14,
    "start_time": "2023-05-01T14:24:01.168Z"
   },
   {
    "duration": 30,
    "start_time": "2023-05-01T14:24:01.183Z"
   },
   {
    "duration": 18,
    "start_time": "2023-05-01T14:24:01.215Z"
   },
   {
    "duration": 42,
    "start_time": "2023-05-01T14:24:01.235Z"
   },
   {
    "duration": 26,
    "start_time": "2023-05-01T14:24:01.280Z"
   },
   {
    "duration": 39,
    "start_time": "2023-05-01T14:24:01.307Z"
   },
   {
    "duration": 59,
    "start_time": "2023-05-01T14:24:01.348Z"
   },
   {
    "duration": 29,
    "start_time": "2023-05-01T14:24:01.408Z"
   },
   {
    "duration": 154,
    "start_time": "2023-05-01T14:24:01.439Z"
   },
   {
    "duration": 12,
    "start_time": "2023-05-01T14:24:01.595Z"
   },
   {
    "duration": 530,
    "start_time": "2023-05-01T14:24:01.609Z"
   },
   {
    "duration": 8,
    "start_time": "2023-05-01T14:24:02.141Z"
   },
   {
    "duration": 26,
    "start_time": "2023-05-01T14:24:02.152Z"
   },
   {
    "duration": 13,
    "start_time": "2023-05-01T14:24:02.180Z"
   },
   {
    "duration": 14,
    "start_time": "2023-05-01T14:24:02.195Z"
   },
   {
    "duration": 77235,
    "start_time": "2023-05-01T14:24:02.211Z"
   },
   {
    "duration": 97,
    "start_time": "2023-05-01T14:25:19.448Z"
   },
   {
    "duration": 197,
    "start_time": "2023-05-01T14:25:19.547Z"
   },
   {
    "duration": 5,
    "start_time": "2023-05-01T14:29:24.793Z"
   },
   {
    "duration": 27,
    "start_time": "2023-05-01T14:29:25.133Z"
   },
   {
    "duration": 10,
    "start_time": "2023-05-01T14:29:26.276Z"
   },
   {
    "duration": 281,
    "start_time": "2023-05-01T14:29:26.754Z"
   },
   {
    "duration": 6,
    "start_time": "2023-05-01T14:29:33.088Z"
   },
   {
    "duration": 4,
    "start_time": "2023-05-01T14:29:34.475Z"
   },
   {
    "duration": 3,
    "start_time": "2023-05-01T14:29:34.886Z"
   },
   {
    "duration": 4,
    "start_time": "2023-05-01T14:29:35.759Z"
   },
   {
    "duration": 37259,
    "start_time": "2023-05-01T14:29:36.902Z"
   },
   {
    "duration": 76,
    "start_time": "2023-05-01T14:30:14.162Z"
   },
   {
    "duration": 4,
    "start_time": "2023-05-01T14:30:49.351Z"
   },
   {
    "duration": 2126,
    "start_time": "2023-05-01T14:31:11.886Z"
   },
   {
    "duration": 2275,
    "start_time": "2023-05-01T14:31:14.014Z"
   },
   {
    "duration": 1206,
    "start_time": "2023-05-01T14:31:16.290Z"
   },
   {
    "duration": 2,
    "start_time": "2023-05-01T14:31:17.498Z"
   },
   {
    "duration": 9,
    "start_time": "2023-05-01T14:31:17.502Z"
   },
   {
    "duration": 8,
    "start_time": "2023-05-01T14:31:17.513Z"
   },
   {
    "duration": 16,
    "start_time": "2023-05-01T14:31:17.523Z"
   },
   {
    "duration": 14,
    "start_time": "2023-05-01T14:31:17.541Z"
   },
   {
    "duration": 145,
    "start_time": "2023-05-01T14:31:17.556Z"
   },
   {
    "duration": 116,
    "start_time": "2023-05-01T14:31:17.703Z"
   },
   {
    "duration": 119,
    "start_time": "2023-05-01T14:31:17.821Z"
   },
   {
    "duration": 125,
    "start_time": "2023-05-01T14:31:17.942Z"
   },
   {
    "duration": 2909,
    "start_time": "2023-05-01T14:31:18.069Z"
   },
   {
    "duration": 109,
    "start_time": "2023-05-01T14:31:20.980Z"
   },
   {
    "duration": 2906,
    "start_time": "2023-05-01T14:31:21.091Z"
   },
   {
    "duration": 146,
    "start_time": "2023-05-01T14:31:23.999Z"
   },
   {
    "duration": 3065,
    "start_time": "2023-05-01T14:31:24.147Z"
   },
   {
    "duration": 188,
    "start_time": "2023-05-01T14:31:27.214Z"
   },
   {
    "duration": 3,
    "start_time": "2023-05-01T14:31:27.404Z"
   },
   {
    "duration": 18,
    "start_time": "2023-05-01T14:31:27.409Z"
   },
   {
    "duration": 18,
    "start_time": "2023-05-01T14:31:27.428Z"
   },
   {
    "duration": 30,
    "start_time": "2023-05-01T14:31:27.448Z"
   },
   {
    "duration": 193,
    "start_time": "2023-05-01T14:31:27.479Z"
   },
   {
    "duration": 11,
    "start_time": "2023-05-01T14:31:27.673Z"
   },
   {
    "duration": 27,
    "start_time": "2023-05-01T14:31:27.686Z"
   },
   {
    "duration": 23,
    "start_time": "2023-05-01T14:31:27.714Z"
   },
   {
    "duration": 16,
    "start_time": "2023-05-01T14:31:27.739Z"
   },
   {
    "duration": 27,
    "start_time": "2023-05-01T14:31:27.758Z"
   },
   {
    "duration": 23,
    "start_time": "2023-05-01T14:31:27.787Z"
   },
   {
    "duration": 17,
    "start_time": "2023-05-01T14:31:27.812Z"
   },
   {
    "duration": 18,
    "start_time": "2023-05-01T14:31:27.830Z"
   },
   {
    "duration": 94,
    "start_time": "2023-05-01T14:31:27.849Z"
   },
   {
    "duration": 12,
    "start_time": "2023-05-01T14:31:27.945Z"
   },
   {
    "duration": 520,
    "start_time": "2023-05-01T14:31:27.958Z"
   },
   {
    "duration": 6,
    "start_time": "2023-05-01T14:31:28.480Z"
   },
   {
    "duration": 11,
    "start_time": "2023-05-01T14:31:28.487Z"
   },
   {
    "duration": 24,
    "start_time": "2023-05-01T14:31:28.499Z"
   },
   {
    "duration": 15,
    "start_time": "2023-05-01T14:31:28.524Z"
   },
   {
    "duration": 58312,
    "start_time": "2023-05-01T14:31:28.540Z"
   },
   {
    "duration": 102,
    "start_time": "2023-05-01T14:32:26.933Z"
   },
   {
    "duration": 101,
    "start_time": "2023-05-01T14:32:27.038Z"
   },
   {
    "duration": 9,
    "start_time": "2023-05-01T14:32:27.140Z"
   },
   {
    "duration": 2422,
    "start_time": "2023-05-01T14:32:56.741Z"
   },
   {
    "duration": 2504,
    "start_time": "2023-05-01T14:32:59.165Z"
   },
   {
    "duration": 1490,
    "start_time": "2023-05-01T14:33:01.671Z"
   },
   {
    "duration": 3,
    "start_time": "2023-05-01T14:33:03.162Z"
   },
   {
    "duration": 8,
    "start_time": "2023-05-01T14:33:03.167Z"
   },
   {
    "duration": 15,
    "start_time": "2023-05-01T14:33:03.177Z"
   },
   {
    "duration": 8,
    "start_time": "2023-05-01T14:33:03.194Z"
   },
   {
    "duration": 13,
    "start_time": "2023-05-01T14:33:03.203Z"
   },
   {
    "duration": 143,
    "start_time": "2023-05-01T14:33:03.218Z"
   },
   {
    "duration": 111,
    "start_time": "2023-05-01T14:33:03.363Z"
   },
   {
    "duration": 117,
    "start_time": "2023-05-01T14:33:03.476Z"
   },
   {
    "duration": 105,
    "start_time": "2023-05-01T14:33:03.594Z"
   },
   {
    "duration": 2848,
    "start_time": "2023-05-01T14:33:03.701Z"
   },
   {
    "duration": 130,
    "start_time": "2023-05-01T14:33:06.552Z"
   },
   {
    "duration": 3087,
    "start_time": "2023-05-01T14:33:06.683Z"
   },
   {
    "duration": 104,
    "start_time": "2023-05-01T14:33:09.771Z"
   },
   {
    "duration": 3001,
    "start_time": "2023-05-01T14:33:09.877Z"
   },
   {
    "duration": 197,
    "start_time": "2023-05-01T14:33:12.881Z"
   },
   {
    "duration": 4,
    "start_time": "2023-05-01T14:33:13.081Z"
   },
   {
    "duration": 6,
    "start_time": "2023-05-01T14:33:13.087Z"
   },
   {
    "duration": 9,
    "start_time": "2023-05-01T14:33:13.094Z"
   },
   {
    "duration": 35,
    "start_time": "2023-05-01T14:33:13.105Z"
   },
   {
    "duration": 210,
    "start_time": "2023-05-01T14:33:13.142Z"
   },
   {
    "duration": 12,
    "start_time": "2023-05-01T14:33:13.353Z"
   },
   {
    "duration": 17,
    "start_time": "2023-05-01T14:33:13.367Z"
   },
   {
    "duration": 14,
    "start_time": "2023-05-01T14:33:13.386Z"
   },
   {
    "duration": 8,
    "start_time": "2023-05-01T14:33:13.402Z"
   },
   {
    "duration": 14,
    "start_time": "2023-05-01T14:33:13.411Z"
   },
   {
    "duration": 9,
    "start_time": "2023-05-01T14:33:13.427Z"
   },
   {
    "duration": 9,
    "start_time": "2023-05-01T14:33:13.438Z"
   },
   {
    "duration": 3,
    "start_time": "2023-05-01T14:33:13.449Z"
   },
   {
    "duration": 105,
    "start_time": "2023-05-01T14:33:13.454Z"
   },
   {
    "duration": 12,
    "start_time": "2023-05-01T14:33:13.560Z"
   },
   {
    "duration": 497,
    "start_time": "2023-05-01T14:33:13.574Z"
   },
   {
    "duration": 7,
    "start_time": "2023-05-01T14:33:14.073Z"
   },
   {
    "duration": 11,
    "start_time": "2023-05-01T14:33:14.082Z"
   },
   {
    "duration": 7,
    "start_time": "2023-05-01T14:33:14.095Z"
   },
   {
    "duration": 7,
    "start_time": "2023-05-01T14:33:14.103Z"
   },
   {
    "duration": 59234,
    "start_time": "2023-05-01T14:33:14.111Z"
   },
   {
    "duration": 187,
    "start_time": "2023-05-01T14:34:13.347Z"
   },
   {
    "duration": 5,
    "start_time": "2023-05-01T14:34:13.538Z"
   },
   {
    "duration": 6,
    "start_time": "2023-05-01T14:34:13.545Z"
   },
   {
    "duration": 2052,
    "start_time": "2023-05-01T14:34:30.696Z"
   },
   {
    "duration": 2049,
    "start_time": "2023-05-01T14:34:32.751Z"
   },
   {
    "duration": 1257,
    "start_time": "2023-05-01T14:34:34.802Z"
   },
   {
    "duration": 2,
    "start_time": "2023-05-01T14:34:36.060Z"
   },
   {
    "duration": 13,
    "start_time": "2023-05-01T14:34:36.064Z"
   },
   {
    "duration": 17,
    "start_time": "2023-05-01T14:34:36.078Z"
   },
   {
    "duration": 8,
    "start_time": "2023-05-01T14:34:36.096Z"
   },
   {
    "duration": 16,
    "start_time": "2023-05-01T14:34:36.105Z"
   },
   {
    "duration": 147,
    "start_time": "2023-05-01T14:34:36.123Z"
   },
   {
    "duration": 108,
    "start_time": "2023-05-01T14:34:36.271Z"
   },
   {
    "duration": 113,
    "start_time": "2023-05-01T14:34:36.381Z"
   },
   {
    "duration": 126,
    "start_time": "2023-05-01T14:34:36.495Z"
   },
   {
    "duration": 3111,
    "start_time": "2023-05-01T14:34:36.634Z"
   },
   {
    "duration": 130,
    "start_time": "2023-05-01T14:34:39.748Z"
   },
   {
    "duration": 3273,
    "start_time": "2023-05-01T14:34:39.879Z"
   },
   {
    "duration": 134,
    "start_time": "2023-05-01T14:34:43.154Z"
   },
   {
    "duration": 3375,
    "start_time": "2023-05-01T14:34:43.290Z"
   },
   {
    "duration": 256,
    "start_time": "2023-05-01T14:34:46.667Z"
   },
   {
    "duration": 10,
    "start_time": "2023-05-01T14:34:46.926Z"
   },
   {
    "duration": 16,
    "start_time": "2023-05-01T14:34:46.938Z"
   },
   {
    "duration": 16,
    "start_time": "2023-05-01T14:34:46.956Z"
   },
   {
    "duration": 30,
    "start_time": "2023-05-01T14:34:46.975Z"
   },
   {
    "duration": 296,
    "start_time": "2023-05-01T14:34:47.007Z"
   },
   {
    "duration": 14,
    "start_time": "2023-05-01T14:34:47.305Z"
   },
   {
    "duration": 6,
    "start_time": "2023-05-01T14:34:47.334Z"
   },
   {
    "duration": 17,
    "start_time": "2023-05-01T14:34:47.343Z"
   },
   {
    "duration": 10,
    "start_time": "2023-05-01T14:34:47.362Z"
   },
   {
    "duration": 18,
    "start_time": "2023-05-01T14:34:47.374Z"
   },
   {
    "duration": 17,
    "start_time": "2023-05-01T14:34:47.394Z"
   },
   {
    "duration": 25,
    "start_time": "2023-05-01T14:34:47.413Z"
   },
   {
    "duration": 5,
    "start_time": "2023-05-01T14:34:47.441Z"
   },
   {
    "duration": 120,
    "start_time": "2023-05-01T14:34:47.448Z"
   },
   {
    "duration": 14,
    "start_time": "2023-05-01T14:34:47.570Z"
   },
   {
    "duration": 552,
    "start_time": "2023-05-01T14:34:47.586Z"
   },
   {
    "duration": 7,
    "start_time": "2023-05-01T14:34:48.140Z"
   },
   {
    "duration": 21,
    "start_time": "2023-05-01T14:34:48.149Z"
   },
   {
    "duration": 22,
    "start_time": "2023-05-01T14:34:48.171Z"
   },
   {
    "duration": 5,
    "start_time": "2023-05-01T14:34:48.195Z"
   },
   {
    "duration": 60033,
    "start_time": "2023-05-01T14:34:48.202Z"
   },
   {
    "duration": 99,
    "start_time": "2023-05-01T14:35:48.236Z"
   },
   {
    "duration": 5,
    "start_time": "2023-05-01T14:35:48.341Z"
   },
   {
    "duration": 5,
    "start_time": "2023-05-01T14:35:48.433Z"
   },
   {
    "duration": 2005,
    "start_time": "2023-05-01T14:36:50.042Z"
   },
   {
    "duration": 2043,
    "start_time": "2023-05-01T14:36:52.050Z"
   },
   {
    "duration": 1151,
    "start_time": "2023-05-01T14:36:54.095Z"
   },
   {
    "duration": 2,
    "start_time": "2023-05-01T14:36:55.248Z"
   },
   {
    "duration": 8,
    "start_time": "2023-05-01T14:36:55.251Z"
   },
   {
    "duration": 7,
    "start_time": "2023-05-01T14:36:55.260Z"
   },
   {
    "duration": 10,
    "start_time": "2023-05-01T14:36:55.269Z"
   },
   {
    "duration": 10,
    "start_time": "2023-05-01T14:36:55.281Z"
   },
   {
    "duration": 135,
    "start_time": "2023-05-01T14:36:55.292Z"
   },
   {
    "duration": 109,
    "start_time": "2023-05-01T14:36:55.429Z"
   },
   {
    "duration": 110,
    "start_time": "2023-05-01T14:36:55.539Z"
   },
   {
    "duration": 119,
    "start_time": "2023-05-01T14:36:55.651Z"
   },
   {
    "duration": 2804,
    "start_time": "2023-05-01T14:36:55.771Z"
   },
   {
    "duration": 99,
    "start_time": "2023-05-01T14:36:58.577Z"
   },
   {
    "duration": 2891,
    "start_time": "2023-05-01T14:36:58.677Z"
   },
   {
    "duration": 103,
    "start_time": "2023-05-01T14:37:01.569Z"
   },
   {
    "duration": 2907,
    "start_time": "2023-05-01T14:37:01.674Z"
   },
   {
    "duration": 184,
    "start_time": "2023-05-01T14:37:04.582Z"
   },
   {
    "duration": 4,
    "start_time": "2023-05-01T14:37:04.767Z"
   },
   {
    "duration": 7,
    "start_time": "2023-05-01T14:37:04.772Z"
   },
   {
    "duration": 12,
    "start_time": "2023-05-01T14:37:04.780Z"
   },
   {
    "duration": 24,
    "start_time": "2023-05-01T14:37:04.794Z"
   },
   {
    "duration": 182,
    "start_time": "2023-05-01T14:37:04.820Z"
   },
   {
    "duration": 12,
    "start_time": "2023-05-01T14:37:05.003Z"
   },
   {
    "duration": 6,
    "start_time": "2023-05-01T14:37:05.033Z"
   },
   {
    "duration": 11,
    "start_time": "2023-05-01T14:37:05.040Z"
   },
   {
    "duration": 22,
    "start_time": "2023-05-01T14:37:05.052Z"
   },
   {
    "duration": 13,
    "start_time": "2023-05-01T14:37:05.077Z"
   },
   {
    "duration": 8,
    "start_time": "2023-05-01T14:37:05.091Z"
   },
   {
    "duration": 8,
    "start_time": "2023-05-01T14:37:05.101Z"
   },
   {
    "duration": 7,
    "start_time": "2023-05-01T14:37:05.110Z"
   },
   {
    "duration": 99,
    "start_time": "2023-05-01T14:37:05.118Z"
   },
   {
    "duration": 16,
    "start_time": "2023-05-01T14:37:05.219Z"
   },
   {
    "duration": 500,
    "start_time": "2023-05-01T14:37:05.236Z"
   },
   {
    "duration": 6,
    "start_time": "2023-05-01T14:37:05.738Z"
   },
   {
    "duration": 5,
    "start_time": "2023-05-01T14:37:05.745Z"
   },
   {
    "duration": 16,
    "start_time": "2023-05-01T14:37:05.752Z"
   },
   {
    "duration": 9,
    "start_time": "2023-05-01T14:37:05.769Z"
   },
   {
    "duration": 2097,
    "start_time": "2023-05-01T14:38:04.414Z"
   },
   {
    "duration": 2092,
    "start_time": "2023-05-01T14:38:06.513Z"
   },
   {
    "duration": 1252,
    "start_time": "2023-05-01T14:38:08.607Z"
   },
   {
    "duration": 2,
    "start_time": "2023-05-01T14:38:09.861Z"
   },
   {
    "duration": 9,
    "start_time": "2023-05-01T14:38:09.866Z"
   },
   {
    "duration": 7,
    "start_time": "2023-05-01T14:38:09.877Z"
   },
   {
    "duration": 8,
    "start_time": "2023-05-01T14:38:09.886Z"
   },
   {
    "duration": 10,
    "start_time": "2023-05-01T14:38:09.896Z"
   },
   {
    "duration": 135,
    "start_time": "2023-05-01T14:38:09.907Z"
   },
   {
    "duration": 115,
    "start_time": "2023-05-01T14:38:10.044Z"
   },
   {
    "duration": 118,
    "start_time": "2023-05-01T14:38:10.160Z"
   },
   {
    "duration": 118,
    "start_time": "2023-05-01T14:38:10.279Z"
   },
   {
    "duration": 2777,
    "start_time": "2023-05-01T14:38:10.398Z"
   },
   {
    "duration": 96,
    "start_time": "2023-05-01T14:38:13.178Z"
   },
   {
    "duration": 2926,
    "start_time": "2023-05-01T14:38:13.275Z"
   },
   {
    "duration": 108,
    "start_time": "2023-05-01T14:38:16.203Z"
   },
   {
    "duration": 3187,
    "start_time": "2023-05-01T14:38:16.312Z"
   },
   {
    "duration": 208,
    "start_time": "2023-05-01T14:38:19.501Z"
   },
   {
    "duration": 4,
    "start_time": "2023-05-01T14:38:19.710Z"
   },
   {
    "duration": 18,
    "start_time": "2023-05-01T14:38:19.716Z"
   },
   {
    "duration": 3,
    "start_time": "2023-05-01T14:38:19.736Z"
   },
   {
    "duration": 22,
    "start_time": "2023-05-01T14:38:19.741Z"
   },
   {
    "duration": 228,
    "start_time": "2023-05-01T14:38:19.765Z"
   },
   {
    "duration": 11,
    "start_time": "2023-05-01T14:38:19.994Z"
   },
   {
    "duration": 11,
    "start_time": "2023-05-01T14:38:20.007Z"
   },
   {
    "duration": 42,
    "start_time": "2023-05-01T14:38:20.019Z"
   },
   {
    "duration": 23,
    "start_time": "2023-05-01T14:38:20.063Z"
   },
   {
    "duration": 19,
    "start_time": "2023-05-01T14:38:20.088Z"
   },
   {
    "duration": 8,
    "start_time": "2023-05-01T14:38:20.108Z"
   },
   {
    "duration": 11,
    "start_time": "2023-05-01T14:38:20.118Z"
   },
   {
    "duration": 3,
    "start_time": "2023-05-01T14:38:20.131Z"
   },
   {
    "duration": 91,
    "start_time": "2023-05-01T14:38:20.136Z"
   },
   {
    "duration": 11,
    "start_time": "2023-05-01T14:38:20.233Z"
   },
   {
    "duration": 496,
    "start_time": "2023-05-01T14:38:20.246Z"
   },
   {
    "duration": 5,
    "start_time": "2023-05-01T14:38:20.744Z"
   },
   {
    "duration": 10,
    "start_time": "2023-05-01T14:38:20.751Z"
   },
   {
    "duration": 6,
    "start_time": "2023-05-01T14:38:20.762Z"
   },
   {
    "duration": 10,
    "start_time": "2023-05-01T14:38:20.769Z"
   },
   {
    "duration": 118067,
    "start_time": "2023-05-01T14:38:20.780Z"
   },
   {
    "duration": 92,
    "start_time": "2023-05-01T14:40:18.849Z"
   },
   {
    "duration": 90,
    "start_time": "2023-05-01T14:40:18.946Z"
   },
   {
    "duration": 7,
    "start_time": "2023-05-01T14:40:19.039Z"
   },
   {
    "duration": 3,
    "start_time": "2023-05-01T14:41:05.178Z"
   },
   {
    "duration": 4,
    "start_time": "2023-05-01T14:41:05.689Z"
   },
   {
    "duration": 3,
    "start_time": "2023-05-01T14:41:11.566Z"
   },
   {
    "duration": 5,
    "start_time": "2023-05-01T14:41:13.150Z"
   },
   {
    "duration": 3,
    "start_time": "2023-05-01T14:41:47.670Z"
   },
   {
    "duration": 4,
    "start_time": "2023-05-01T14:41:48.018Z"
   },
   {
    "duration": 2284,
    "start_time": "2023-05-01T14:42:03.228Z"
   },
   {
    "duration": 2550,
    "start_time": "2023-05-01T14:42:05.515Z"
   },
   {
    "duration": 1246,
    "start_time": "2023-05-01T14:42:08.069Z"
   },
   {
    "duration": 2,
    "start_time": "2023-05-01T14:42:09.317Z"
   },
   {
    "duration": 8,
    "start_time": "2023-05-01T14:42:09.321Z"
   },
   {
    "duration": 9,
    "start_time": "2023-05-01T14:42:09.333Z"
   },
   {
    "duration": 9,
    "start_time": "2023-05-01T14:42:09.343Z"
   },
   {
    "duration": 8,
    "start_time": "2023-05-01T14:42:09.353Z"
   },
   {
    "duration": 147,
    "start_time": "2023-05-01T14:42:09.363Z"
   },
   {
    "duration": 120,
    "start_time": "2023-05-01T14:42:09.512Z"
   },
   {
    "duration": 121,
    "start_time": "2023-05-01T14:42:09.634Z"
   },
   {
    "duration": 125,
    "start_time": "2023-05-01T14:42:09.757Z"
   },
   {
    "duration": 2796,
    "start_time": "2023-05-01T14:42:09.884Z"
   },
   {
    "duration": 96,
    "start_time": "2023-05-01T14:42:12.683Z"
   },
   {
    "duration": 2926,
    "start_time": "2023-05-01T14:42:12.780Z"
   },
   {
    "duration": 101,
    "start_time": "2023-05-01T14:42:15.707Z"
   },
   {
    "duration": 2952,
    "start_time": "2023-05-01T14:42:15.810Z"
   },
   {
    "duration": 181,
    "start_time": "2023-05-01T14:42:18.764Z"
   },
   {
    "duration": 4,
    "start_time": "2023-05-01T14:42:18.947Z"
   },
   {
    "duration": 9,
    "start_time": "2023-05-01T14:42:18.952Z"
   },
   {
    "duration": 6,
    "start_time": "2023-05-01T14:42:18.963Z"
   },
   {
    "duration": 17,
    "start_time": "2023-05-01T14:42:18.970Z"
   },
   {
    "duration": 199,
    "start_time": "2023-05-01T14:42:18.989Z"
   },
   {
    "duration": 11,
    "start_time": "2023-05-01T14:42:19.189Z"
   },
   {
    "duration": 10,
    "start_time": "2023-05-01T14:42:19.202Z"
   },
   {
    "duration": 20,
    "start_time": "2023-05-01T14:42:19.213Z"
   },
   {
    "duration": 6,
    "start_time": "2023-05-01T14:42:19.235Z"
   },
   {
    "duration": 17,
    "start_time": "2023-05-01T14:42:19.242Z"
   },
   {
    "duration": 9,
    "start_time": "2023-05-01T14:42:19.261Z"
   },
   {
    "duration": 12,
    "start_time": "2023-05-01T14:42:19.272Z"
   },
   {
    "duration": 5,
    "start_time": "2023-05-01T14:42:19.285Z"
   },
   {
    "duration": 125,
    "start_time": "2023-05-01T14:42:19.292Z"
   },
   {
    "duration": 20,
    "start_time": "2023-05-01T14:42:19.419Z"
   },
   {
    "duration": 557,
    "start_time": "2023-05-01T14:42:19.440Z"
   },
   {
    "duration": 7,
    "start_time": "2023-05-01T14:42:19.999Z"
   },
   {
    "duration": 21,
    "start_time": "2023-05-01T14:42:20.008Z"
   },
   {
    "duration": 26,
    "start_time": "2023-05-01T14:42:20.031Z"
   },
   {
    "duration": 20,
    "start_time": "2023-05-01T14:42:20.059Z"
   },
   {
    "duration": 46254,
    "start_time": "2023-05-01T14:42:20.081Z"
   },
   {
    "duration": 194,
    "start_time": "2023-05-01T14:43:06.338Z"
   },
   {
    "duration": 5,
    "start_time": "2023-05-01T14:43:06.537Z"
   },
   {
    "duration": 20,
    "start_time": "2023-05-01T14:43:06.544Z"
   },
   {
    "duration": 21,
    "start_time": "2023-05-01T14:45:25.781Z"
   },
   {
    "duration": 6,
    "start_time": "2023-05-01T14:46:28.514Z"
   },
   {
    "duration": 112,
    "start_time": "2023-05-01T14:46:44.695Z"
   },
   {
    "duration": 10,
    "start_time": "2023-05-01T14:46:54.046Z"
   },
   {
    "duration": 5,
    "start_time": "2023-05-01T14:47:57.448Z"
   },
   {
    "duration": 12,
    "start_time": "2023-05-01T14:50:17.917Z"
   },
   {
    "duration": 4,
    "start_time": "2023-05-01T14:50:23.026Z"
   },
   {
    "duration": 2,
    "start_time": "2023-05-01T14:59:12.834Z"
   },
   {
    "duration": 3,
    "start_time": "2023-05-01T14:59:17.089Z"
   },
   {
    "duration": 6,
    "start_time": "2023-05-01T15:03:56.283Z"
   },
   {
    "duration": 1605,
    "start_time": "2023-05-01T15:04:23.182Z"
   },
   {
    "duration": 1530,
    "start_time": "2023-05-01T15:04:53.211Z"
   },
   {
    "duration": 41677,
    "start_time": "2023-05-01T15:05:11.363Z"
   },
   {
    "duration": 6,
    "start_time": "2023-05-01T15:06:13.009Z"
   },
   {
    "duration": 33997,
    "start_time": "2023-05-01T15:06:16.539Z"
   },
   {
    "duration": 5,
    "start_time": "2023-05-01T15:09:54.813Z"
   },
   {
    "duration": 38808,
    "start_time": "2023-05-01T15:14:40.726Z"
   },
   {
    "duration": 96,
    "start_time": "2023-05-01T15:16:07.838Z"
   },
   {
    "duration": 22007,
    "start_time": "2023-05-01T15:16:07.936Z"
   },
   {
    "duration": 6,
    "start_time": "2023-05-01T15:16:33.475Z"
   },
   {
    "duration": 18000,
    "start_time": "2023-05-01T15:18:06.734Z"
   },
   {
    "duration": 6,
    "start_time": "2023-05-01T15:19:42.930Z"
   },
   {
    "duration": 20910,
    "start_time": "2023-05-01T15:20:27.232Z"
   },
   {
    "duration": 6,
    "start_time": "2023-05-01T15:21:02.845Z"
   },
   {
    "duration": 23352,
    "start_time": "2023-05-01T15:24:01.886Z"
   },
   {
    "duration": 95,
    "start_time": "2023-05-01T15:24:25.243Z"
   },
   {
    "duration": 9,
    "start_time": "2023-05-01T15:32:54.238Z"
   },
   {
    "duration": 8,
    "start_time": "2023-05-01T15:32:58.246Z"
   },
   {
    "duration": 7,
    "start_time": "2023-05-01T15:33:04.471Z"
   },
   {
    "duration": 5,
    "start_time": "2023-05-01T15:33:14.226Z"
   },
   {
    "duration": 78,
    "start_time": "2023-05-01T15:33:20.625Z"
   },
   {
    "duration": 7,
    "start_time": "2023-05-01T15:33:25.188Z"
   },
   {
    "duration": 2050,
    "start_time": "2023-05-01T15:41:14.861Z"
   },
   {
    "duration": 2052,
    "start_time": "2023-05-01T15:41:16.914Z"
   },
   {
    "duration": 1195,
    "start_time": "2023-05-01T15:41:18.968Z"
   },
   {
    "duration": 3,
    "start_time": "2023-05-01T15:41:20.164Z"
   },
   {
    "duration": 10,
    "start_time": "2023-05-01T15:41:20.169Z"
   },
   {
    "duration": 13,
    "start_time": "2023-05-01T15:41:20.181Z"
   },
   {
    "duration": 14,
    "start_time": "2023-05-01T15:41:20.195Z"
   },
   {
    "duration": 23,
    "start_time": "2023-05-01T15:41:20.210Z"
   },
   {
    "duration": 133,
    "start_time": "2023-05-01T15:41:20.235Z"
   },
   {
    "duration": 124,
    "start_time": "2023-05-01T15:41:20.369Z"
   },
   {
    "duration": 113,
    "start_time": "2023-05-01T15:41:20.494Z"
   },
   {
    "duration": 104,
    "start_time": "2023-05-01T15:41:20.608Z"
   },
   {
    "duration": 2768,
    "start_time": "2023-05-01T15:41:20.713Z"
   },
   {
    "duration": 100,
    "start_time": "2023-05-01T15:41:23.483Z"
   },
   {
    "duration": 3092,
    "start_time": "2023-05-01T15:41:23.584Z"
   },
   {
    "duration": 126,
    "start_time": "2023-05-01T15:41:26.681Z"
   },
   {
    "duration": 3076,
    "start_time": "2023-05-01T15:41:26.809Z"
   },
   {
    "duration": 188,
    "start_time": "2023-05-01T15:41:29.887Z"
   },
   {
    "duration": 4,
    "start_time": "2023-05-01T15:41:30.077Z"
   },
   {
    "duration": 21,
    "start_time": "2023-05-01T15:41:30.082Z"
   },
   {
    "duration": 11,
    "start_time": "2023-05-01T15:41:30.105Z"
   },
   {
    "duration": 33,
    "start_time": "2023-05-01T15:41:30.117Z"
   },
   {
    "duration": 209,
    "start_time": "2023-05-01T15:41:30.152Z"
   },
   {
    "duration": 11,
    "start_time": "2023-05-01T15:41:30.363Z"
   },
   {
    "duration": 45,
    "start_time": "2023-05-01T15:41:30.375Z"
   },
   {
    "duration": 52,
    "start_time": "2023-05-01T15:41:30.421Z"
   },
   {
    "duration": 50,
    "start_time": "2023-05-01T15:41:30.476Z"
   },
   {
    "duration": 73,
    "start_time": "2023-05-01T15:41:30.527Z"
   },
   {
    "duration": 50,
    "start_time": "2023-05-01T15:41:30.602Z"
   },
   {
    "duration": 48,
    "start_time": "2023-05-01T15:41:30.654Z"
   },
   {
    "duration": 48,
    "start_time": "2023-05-01T15:41:30.704Z"
   },
   {
    "duration": 58,
    "start_time": "2023-05-01T15:41:30.754Z"
   },
   {
    "duration": 33621,
    "start_time": "2023-05-01T15:41:30.813Z"
   },
   {
    "duration": 99,
    "start_time": "2023-05-01T15:42:04.436Z"
   },
   {
    "duration": 22106,
    "start_time": "2023-05-01T15:42:04.537Z"
   },
   {
    "duration": 7,
    "start_time": "2023-05-01T15:42:26.734Z"
   },
   {
    "duration": 21392,
    "start_time": "2023-05-01T15:42:26.742Z"
   },
   {
    "duration": 9,
    "start_time": "2023-05-01T15:42:48.136Z"
   },
   {
    "duration": 5,
    "start_time": "2023-05-01T15:42:48.234Z"
   },
   {
    "duration": 5,
    "start_time": "2023-05-01T15:42:58.050Z"
   },
   {
    "duration": 4,
    "start_time": "2023-05-01T15:43:02.825Z"
   },
   {
    "duration": 7,
    "start_time": "2023-05-01T15:43:47.868Z"
   },
   {
    "duration": 2014,
    "start_time": "2023-05-01T15:48:44.103Z"
   },
   {
    "duration": 2110,
    "start_time": "2023-05-01T15:48:46.120Z"
   },
   {
    "duration": 1266,
    "start_time": "2023-05-01T15:48:48.232Z"
   },
   {
    "duration": 3,
    "start_time": "2023-05-01T15:48:49.500Z"
   },
   {
    "duration": 34,
    "start_time": "2023-05-01T15:48:49.505Z"
   },
   {
    "duration": 29,
    "start_time": "2023-05-01T15:48:49.541Z"
   },
   {
    "duration": 31,
    "start_time": "2023-05-01T15:48:49.572Z"
   },
   {
    "duration": 41,
    "start_time": "2023-05-01T15:48:49.605Z"
   },
   {
    "duration": 192,
    "start_time": "2023-05-01T15:48:49.647Z"
   },
   {
    "duration": 132,
    "start_time": "2023-05-01T15:48:49.841Z"
   },
   {
    "duration": 118,
    "start_time": "2023-05-01T15:48:49.974Z"
   },
   {
    "duration": 104,
    "start_time": "2023-05-01T15:48:50.094Z"
   },
   {
    "duration": 2874,
    "start_time": "2023-05-01T15:48:50.199Z"
   },
   {
    "duration": 108,
    "start_time": "2023-05-01T15:48:53.076Z"
   },
   {
    "duration": 2789,
    "start_time": "2023-05-01T15:48:53.186Z"
   },
   {
    "duration": 106,
    "start_time": "2023-05-01T15:48:55.977Z"
   },
   {
    "duration": 2891,
    "start_time": "2023-05-01T15:48:56.085Z"
   },
   {
    "duration": 186,
    "start_time": "2023-05-01T15:48:58.978Z"
   },
   {
    "duration": 4,
    "start_time": "2023-05-01T15:48:59.166Z"
   },
   {
    "duration": 6,
    "start_time": "2023-05-01T15:48:59.171Z"
   },
   {
    "duration": 7,
    "start_time": "2023-05-01T15:48:59.179Z"
   },
   {
    "duration": 20,
    "start_time": "2023-05-01T15:48:59.188Z"
   },
   {
    "duration": 206,
    "start_time": "2023-05-01T15:48:59.209Z"
   },
   {
    "duration": 25,
    "start_time": "2023-05-01T15:48:59.416Z"
   },
   {
    "duration": 9,
    "start_time": "2023-05-01T15:48:59.442Z"
   },
   {
    "duration": 8,
    "start_time": "2023-05-01T15:48:59.453Z"
   },
   {
    "duration": 6,
    "start_time": "2023-05-01T15:48:59.462Z"
   },
   {
    "duration": 12,
    "start_time": "2023-05-01T15:48:59.469Z"
   },
   {
    "duration": 8,
    "start_time": "2023-05-01T15:48:59.482Z"
   },
   {
    "duration": 10,
    "start_time": "2023-05-01T15:48:59.491Z"
   },
   {
    "duration": 4,
    "start_time": "2023-05-01T15:48:59.502Z"
   },
   {
    "duration": 28,
    "start_time": "2023-05-01T15:48:59.508Z"
   },
   {
    "duration": 108396,
    "start_time": "2023-05-01T15:48:59.537Z"
   },
   {
    "duration": 37,
    "start_time": "2023-05-01T15:50:47.935Z"
   },
   {
    "duration": 52,
    "start_time": "2023-05-01T15:50:47.974Z"
   },
   {
    "duration": 79715,
    "start_time": "2023-05-01T15:50:48.028Z"
   },
   {
    "duration": 116,
    "start_time": "2023-05-01T15:52:07.745Z"
   },
   {
    "duration": 84071,
    "start_time": "2023-05-01T15:52:07.863Z"
   },
   {
    "duration": 137,
    "start_time": "2023-05-01T15:53:31.936Z"
   },
   {
    "duration": 5,
    "start_time": "2023-05-01T15:53:32.075Z"
   },
   {
    "duration": 19,
    "start_time": "2023-05-01T15:53:32.083Z"
   },
   {
    "duration": 2034,
    "start_time": "2023-05-01T15:55:34.709Z"
   },
   {
    "duration": 1998,
    "start_time": "2023-05-01T15:55:36.745Z"
   },
   {
    "duration": 1213,
    "start_time": "2023-05-01T15:55:38.744Z"
   },
   {
    "duration": 2,
    "start_time": "2023-05-01T15:55:39.960Z"
   },
   {
    "duration": 9,
    "start_time": "2023-05-01T15:55:39.964Z"
   },
   {
    "duration": 9,
    "start_time": "2023-05-01T15:55:39.974Z"
   },
   {
    "duration": 14,
    "start_time": "2023-05-01T15:55:39.985Z"
   },
   {
    "duration": 9,
    "start_time": "2023-05-01T15:55:40.001Z"
   },
   {
    "duration": 165,
    "start_time": "2023-05-01T15:55:40.012Z"
   },
   {
    "duration": 111,
    "start_time": "2023-05-01T15:55:40.180Z"
   },
   {
    "duration": 113,
    "start_time": "2023-05-01T15:55:40.292Z"
   },
   {
    "duration": 107,
    "start_time": "2023-05-01T15:55:40.407Z"
   },
   {
    "duration": 2772,
    "start_time": "2023-05-01T15:55:40.516Z"
   },
   {
    "duration": 110,
    "start_time": "2023-05-01T15:55:43.289Z"
   },
   {
    "duration": 2870,
    "start_time": "2023-05-01T15:55:43.400Z"
   },
   {
    "duration": 104,
    "start_time": "2023-05-01T15:55:46.272Z"
   },
   {
    "duration": 2887,
    "start_time": "2023-05-01T15:55:46.378Z"
   },
   {
    "duration": 183,
    "start_time": "2023-05-01T15:55:49.266Z"
   },
   {
    "duration": 4,
    "start_time": "2023-05-01T15:55:49.450Z"
   },
   {
    "duration": 9,
    "start_time": "2023-05-01T15:55:49.455Z"
   },
   {
    "duration": 10,
    "start_time": "2023-05-01T15:55:49.466Z"
   },
   {
    "duration": 23,
    "start_time": "2023-05-01T15:55:49.478Z"
   },
   {
    "duration": 198,
    "start_time": "2023-05-01T15:55:49.502Z"
   },
   {
    "duration": 11,
    "start_time": "2023-05-01T15:55:49.702Z"
   },
   {
    "duration": 66,
    "start_time": "2023-05-01T15:55:49.714Z"
   },
   {
    "duration": 12,
    "start_time": "2023-05-01T15:55:49.781Z"
   },
   {
    "duration": 10,
    "start_time": "2023-05-01T15:55:49.794Z"
   },
   {
    "duration": 20,
    "start_time": "2023-05-01T15:55:49.807Z"
   },
   {
    "duration": 8,
    "start_time": "2023-05-01T15:55:49.829Z"
   },
   {
    "duration": 9,
    "start_time": "2023-05-01T15:55:49.839Z"
   },
   {
    "duration": 4,
    "start_time": "2023-05-01T15:55:49.849Z"
   },
   {
    "duration": 9,
    "start_time": "2023-05-01T15:55:49.854Z"
   },
   {
    "duration": 313469,
    "start_time": "2023-05-01T15:55:49.864Z"
   },
   {
    "duration": 205,
    "start_time": "2023-05-01T16:01:03.336Z"
   },
   {
    "duration": 295409,
    "start_time": "2023-05-01T16:01:03.724Z"
   },
   {
    "duration": 148,
    "start_time": "2023-05-01T16:05:59.135Z"
   },
   {
    "duration": 284049,
    "start_time": "2023-05-01T16:05:59.285Z"
   },
   {
    "duration": 198,
    "start_time": "2023-05-01T16:10:43.337Z"
   },
   {
    "duration": 70,
    "start_time": "2023-05-01T16:10:43.537Z"
   },
   {
    "duration": 149,
    "start_time": "2023-05-01T16:10:43.610Z"
   },
   {
    "duration": 2075,
    "start_time": "2023-05-01T16:16:54.390Z"
   },
   {
    "duration": 2066,
    "start_time": "2023-05-01T16:16:56.467Z"
   },
   {
    "duration": 1220,
    "start_time": "2023-05-01T16:16:58.535Z"
   },
   {
    "duration": 2,
    "start_time": "2023-05-01T16:16:59.758Z"
   },
   {
    "duration": 16,
    "start_time": "2023-05-01T16:16:59.762Z"
   },
   {
    "duration": 12,
    "start_time": "2023-05-01T16:16:59.779Z"
   },
   {
    "duration": 8,
    "start_time": "2023-05-01T16:16:59.792Z"
   },
   {
    "duration": 12,
    "start_time": "2023-05-01T16:16:59.801Z"
   },
   {
    "duration": 133,
    "start_time": "2023-05-01T16:16:59.814Z"
   },
   {
    "duration": 120,
    "start_time": "2023-05-01T16:16:59.949Z"
   },
   {
    "duration": 115,
    "start_time": "2023-05-01T16:17:00.070Z"
   },
   {
    "duration": 123,
    "start_time": "2023-05-01T16:17:00.187Z"
   },
   {
    "duration": 2858,
    "start_time": "2023-05-01T16:17:00.313Z"
   },
   {
    "duration": 104,
    "start_time": "2023-05-01T16:17:03.173Z"
   },
   {
    "duration": 2897,
    "start_time": "2023-05-01T16:17:03.278Z"
   },
   {
    "duration": 98,
    "start_time": "2023-05-01T16:17:06.177Z"
   },
   {
    "duration": 2988,
    "start_time": "2023-05-01T16:17:06.276Z"
   },
   {
    "duration": 181,
    "start_time": "2023-05-01T16:17:09.265Z"
   },
   {
    "duration": 4,
    "start_time": "2023-05-01T16:17:09.447Z"
   },
   {
    "duration": 8,
    "start_time": "2023-05-01T16:17:09.452Z"
   },
   {
    "duration": 10,
    "start_time": "2023-05-01T16:17:09.461Z"
   },
   {
    "duration": 18,
    "start_time": "2023-05-01T16:17:09.473Z"
   },
   {
    "duration": 198,
    "start_time": "2023-05-01T16:17:09.492Z"
   },
   {
    "duration": 13,
    "start_time": "2023-05-01T16:17:09.691Z"
   },
   {
    "duration": 12,
    "start_time": "2023-05-01T16:17:09.706Z"
   },
   {
    "duration": 22,
    "start_time": "2023-05-01T16:17:09.720Z"
   },
   {
    "duration": 11,
    "start_time": "2023-05-01T16:17:09.743Z"
   },
   {
    "duration": 12,
    "start_time": "2023-05-01T16:17:09.757Z"
   },
   {
    "duration": 9,
    "start_time": "2023-05-01T16:17:09.771Z"
   },
   {
    "duration": 9,
    "start_time": "2023-05-01T16:17:09.782Z"
   },
   {
    "duration": 8,
    "start_time": "2023-05-01T16:17:09.792Z"
   },
   {
    "duration": 88,
    "start_time": "2023-05-01T16:17:09.802Z"
   },
   {
    "duration": 0,
    "start_time": "2023-05-01T16:17:09.892Z"
   },
   {
    "duration": 0,
    "start_time": "2023-05-01T16:17:09.893Z"
   },
   {
    "duration": 0,
    "start_time": "2023-05-01T16:17:09.894Z"
   },
   {
    "duration": 0,
    "start_time": "2023-05-01T16:17:09.895Z"
   },
   {
    "duration": 0,
    "start_time": "2023-05-01T16:17:09.896Z"
   },
   {
    "duration": 0,
    "start_time": "2023-05-01T16:17:09.897Z"
   },
   {
    "duration": 0,
    "start_time": "2023-05-01T16:17:09.899Z"
   },
   {
    "duration": 2053,
    "start_time": "2023-05-01T16:25:20.191Z"
   },
   {
    "duration": 2056,
    "start_time": "2023-05-01T16:25:22.246Z"
   },
   {
    "duration": 1250,
    "start_time": "2023-05-01T16:25:24.307Z"
   },
   {
    "duration": 2,
    "start_time": "2023-05-01T16:25:25.560Z"
   },
   {
    "duration": 11,
    "start_time": "2023-05-01T16:25:25.564Z"
   },
   {
    "duration": 15,
    "start_time": "2023-05-01T16:25:25.576Z"
   },
   {
    "duration": 8,
    "start_time": "2023-05-01T16:25:25.592Z"
   },
   {
    "duration": 25,
    "start_time": "2023-05-01T16:25:25.602Z"
   },
   {
    "duration": 137,
    "start_time": "2023-05-01T16:25:25.628Z"
   },
   {
    "duration": 111,
    "start_time": "2023-05-01T16:25:25.767Z"
   },
   {
    "duration": 111,
    "start_time": "2023-05-01T16:25:25.880Z"
   },
   {
    "duration": 109,
    "start_time": "2023-05-01T16:25:25.992Z"
   },
   {
    "duration": 2857,
    "start_time": "2023-05-01T16:25:26.104Z"
   },
   {
    "duration": 102,
    "start_time": "2023-05-01T16:25:28.962Z"
   },
   {
    "duration": 3142,
    "start_time": "2023-05-01T16:25:29.066Z"
   },
   {
    "duration": 110,
    "start_time": "2023-05-01T16:25:32.210Z"
   },
   {
    "duration": 3031,
    "start_time": "2023-05-01T16:25:32.334Z"
   },
   {
    "duration": 186,
    "start_time": "2023-05-01T16:25:35.367Z"
   },
   {
    "duration": 3,
    "start_time": "2023-05-01T16:25:35.555Z"
   },
   {
    "duration": 8,
    "start_time": "2023-05-01T16:25:35.560Z"
   },
   {
    "duration": 9,
    "start_time": "2023-05-01T16:25:35.569Z"
   },
   {
    "duration": 21,
    "start_time": "2023-05-01T16:25:35.580Z"
   },
   {
    "duration": 201,
    "start_time": "2023-05-01T16:25:35.603Z"
   },
   {
    "duration": 12,
    "start_time": "2023-05-01T16:25:35.805Z"
   },
   {
    "duration": 20,
    "start_time": "2023-05-01T16:25:35.818Z"
   },
   {
    "duration": 12,
    "start_time": "2023-05-01T16:25:35.839Z"
   },
   {
    "duration": 18,
    "start_time": "2023-05-01T16:25:35.852Z"
   },
   {
    "duration": 17,
    "start_time": "2023-05-01T16:25:35.872Z"
   },
   {
    "duration": 8,
    "start_time": "2023-05-01T16:25:35.891Z"
   },
   {
    "duration": 7,
    "start_time": "2023-05-01T16:25:35.901Z"
   },
   {
    "duration": 4,
    "start_time": "2023-05-01T16:25:35.910Z"
   },
   {
    "duration": 21,
    "start_time": "2023-05-01T16:25:35.915Z"
   },
   {
    "duration": 99003,
    "start_time": "2023-05-01T16:25:35.937Z"
   },
   {
    "duration": 118,
    "start_time": "2023-05-01T16:27:14.943Z"
   },
   {
    "duration": 63977,
    "start_time": "2023-05-01T16:27:15.062Z"
   },
   {
    "duration": 117,
    "start_time": "2023-05-01T16:28:19.041Z"
   },
   {
    "duration": 75382,
    "start_time": "2023-05-01T16:28:19.160Z"
   },
   {
    "duration": 38,
    "start_time": "2023-05-01T16:29:34.634Z"
   },
   {
    "duration": 8,
    "start_time": "2023-05-01T16:29:34.674Z"
   },
   {
    "duration": 2018,
    "start_time": "2023-05-01T16:33:27.708Z"
   },
   {
    "duration": 2135,
    "start_time": "2023-05-01T16:33:29.729Z"
   },
   {
    "duration": 1221,
    "start_time": "2023-05-01T16:33:31.866Z"
   },
   {
    "duration": 3,
    "start_time": "2023-05-01T16:33:33.089Z"
   },
   {
    "duration": 12,
    "start_time": "2023-05-01T16:33:33.095Z"
   },
   {
    "duration": 23,
    "start_time": "2023-05-01T16:33:33.108Z"
   },
   {
    "duration": 8,
    "start_time": "2023-05-01T16:33:33.133Z"
   },
   {
    "duration": 8,
    "start_time": "2023-05-01T16:33:33.143Z"
   },
   {
    "duration": 136,
    "start_time": "2023-05-01T16:33:33.153Z"
   },
   {
    "duration": 111,
    "start_time": "2023-05-01T16:33:33.291Z"
   },
   {
    "duration": 115,
    "start_time": "2023-05-01T16:33:33.404Z"
   },
   {
    "duration": 125,
    "start_time": "2023-05-01T16:33:33.521Z"
   },
   {
    "duration": 2832,
    "start_time": "2023-05-01T16:33:33.647Z"
   },
   {
    "duration": 137,
    "start_time": "2023-05-01T16:33:36.482Z"
   },
   {
    "duration": 2828,
    "start_time": "2023-05-01T16:33:36.621Z"
   },
   {
    "duration": 107,
    "start_time": "2023-05-01T16:33:39.450Z"
   },
   {
    "duration": 2960,
    "start_time": "2023-05-01T16:33:39.558Z"
   },
   {
    "duration": 275,
    "start_time": "2023-05-01T16:33:42.521Z"
   },
   {
    "duration": 4,
    "start_time": "2023-05-01T16:33:42.798Z"
   },
   {
    "duration": 18,
    "start_time": "2023-05-01T16:33:42.804Z"
   },
   {
    "duration": 9,
    "start_time": "2023-05-01T16:33:42.824Z"
   },
   {
    "duration": 27,
    "start_time": "2023-05-01T16:33:42.835Z"
   },
   {
    "duration": 308,
    "start_time": "2023-05-01T16:33:42.864Z"
   },
   {
    "duration": 15,
    "start_time": "2023-05-01T16:33:43.174Z"
   },
   {
    "duration": 16,
    "start_time": "2023-05-01T16:33:43.191Z"
   },
   {
    "duration": 24,
    "start_time": "2023-05-01T16:33:43.210Z"
   },
   {
    "duration": 7,
    "start_time": "2023-05-01T16:33:43.237Z"
   },
   {
    "duration": 16,
    "start_time": "2023-05-01T16:33:43.246Z"
   },
   {
    "duration": 11,
    "start_time": "2023-05-01T16:33:43.263Z"
   },
   {
    "duration": 20,
    "start_time": "2023-05-01T16:33:43.275Z"
   },
   {
    "duration": 10,
    "start_time": "2023-05-01T16:33:43.297Z"
   },
   {
    "duration": 30,
    "start_time": "2023-05-01T16:33:43.309Z"
   },
   {
    "duration": 108012,
    "start_time": "2023-05-01T16:33:43.340Z"
   },
   {
    "duration": 29,
    "start_time": "2023-05-01T16:35:31.435Z"
   },
   {
    "duration": 61171,
    "start_time": "2023-05-01T16:35:31.465Z"
   },
   {
    "duration": 28,
    "start_time": "2023-05-01T16:36:32.638Z"
   },
   {
    "duration": 73376,
    "start_time": "2023-05-01T16:36:32.668Z"
   },
   {
    "duration": 125,
    "start_time": "2023-05-01T16:37:46.046Z"
   },
   {
    "duration": 7,
    "start_time": "2023-05-01T16:37:46.172Z"
   },
   {
    "duration": 72,
    "start_time": "2023-05-01T17:33:18.464Z"
   },
   {
    "duration": 116,
    "start_time": "2023-05-01T17:35:52.263Z"
   },
   {
    "duration": 4,
    "start_time": "2023-05-01T17:36:56.625Z"
   },
   {
    "duration": 4,
    "start_time": "2023-05-01T17:37:46.854Z"
   },
   {
    "duration": 4,
    "start_time": "2023-05-01T17:38:39.434Z"
   },
   {
    "duration": 4,
    "start_time": "2023-05-01T17:38:41.421Z"
   },
   {
    "duration": 3,
    "start_time": "2023-05-01T18:05:47.531Z"
   },
   {
    "duration": 5,
    "start_time": "2023-05-01T18:05:54.890Z"
   },
   {
    "duration": 4,
    "start_time": "2023-05-01T18:07:48.102Z"
   },
   {
    "duration": 120,
    "start_time": "2023-05-01T18:19:38.624Z"
   },
   {
    "duration": 4,
    "start_time": "2023-05-01T18:19:41.580Z"
   },
   {
    "duration": 3,
    "start_time": "2023-05-01T18:19:41.949Z"
   },
   {
    "duration": 4,
    "start_time": "2023-05-01T18:19:52.658Z"
   },
   {
    "duration": 4,
    "start_time": "2023-05-01T18:22:35.555Z"
   },
   {
    "duration": 3,
    "start_time": "2023-05-01T18:23:34.459Z"
   },
   {
    "duration": 4,
    "start_time": "2023-05-01T18:24:22.625Z"
   },
   {
    "duration": 3,
    "start_time": "2023-05-01T18:24:31.179Z"
   },
   {
    "duration": 4,
    "start_time": "2023-05-01T18:24:31.693Z"
   },
   {
    "duration": 4,
    "start_time": "2023-05-01T18:52:05.461Z"
   },
   {
    "duration": 9,
    "start_time": "2023-05-01T18:55:34.949Z"
   },
   {
    "duration": 4,
    "start_time": "2023-05-01T18:55:39.919Z"
   },
   {
    "duration": 3,
    "start_time": "2023-05-01T18:55:40.709Z"
   },
   {
    "duration": 3,
    "start_time": "2023-05-01T18:55:41.040Z"
   },
   {
    "duration": 3,
    "start_time": "2023-05-01T18:55:48.639Z"
   },
   {
    "duration": 3,
    "start_time": "2023-05-01T18:55:49.099Z"
   },
   {
    "duration": 3,
    "start_time": "2023-05-01T18:55:52.018Z"
   },
   {
    "duration": 4,
    "start_time": "2023-05-01T18:55:56.125Z"
   },
   {
    "duration": 13,
    "start_time": "2023-05-01T18:55:56.856Z"
   },
   {
    "duration": 4,
    "start_time": "2023-05-01T18:56:15.033Z"
   },
   {
    "duration": 20,
    "start_time": "2023-05-01T18:56:16.502Z"
   },
   {
    "duration": 11,
    "start_time": "2023-05-01T18:58:26.276Z"
   },
   {
    "duration": 4,
    "start_time": "2023-05-01T18:58:29.150Z"
   },
   {
    "duration": 9,
    "start_time": "2023-05-01T18:58:34.702Z"
   },
   {
    "duration": 8,
    "start_time": "2023-05-01T18:58:41.719Z"
   },
   {
    "duration": 4,
    "start_time": "2023-05-01T18:58:45.657Z"
   },
   {
    "duration": 4,
    "start_time": "2023-05-01T19:01:52.805Z"
   },
   {
    "duration": 19,
    "start_time": "2023-05-01T19:01:54.482Z"
   },
   {
    "duration": 19,
    "start_time": "2023-05-01T19:02:48.724Z"
   },
   {
    "duration": 4,
    "start_time": "2023-05-01T19:02:52.050Z"
   },
   {
    "duration": 18,
    "start_time": "2023-05-01T19:02:52.487Z"
   },
   {
    "duration": 4,
    "start_time": "2023-05-01T19:03:09.122Z"
   },
   {
    "duration": 20,
    "start_time": "2023-05-01T19:03:09.494Z"
   },
   {
    "duration": 5,
    "start_time": "2023-05-01T19:05:43.639Z"
   },
   {
    "duration": 21,
    "start_time": "2023-05-01T19:05:44.085Z"
   },
   {
    "duration": 4,
    "start_time": "2023-05-01T19:06:09.040Z"
   },
   {
    "duration": 22,
    "start_time": "2023-05-01T19:06:11.645Z"
   },
   {
    "duration": 4,
    "start_time": "2023-05-01T19:06:24.924Z"
   },
   {
    "duration": 24,
    "start_time": "2023-05-01T19:06:25.309Z"
   },
   {
    "duration": 4,
    "start_time": "2023-05-01T19:06:49.287Z"
   },
   {
    "duration": 22,
    "start_time": "2023-05-01T19:06:50.952Z"
   },
   {
    "duration": 10,
    "start_time": "2023-05-01T19:18:30.378Z"
   },
   {
    "duration": 9,
    "start_time": "2023-05-01T19:18:35.912Z"
   },
   {
    "duration": 10,
    "start_time": "2023-05-01T19:19:15.872Z"
   },
   {
    "duration": 4,
    "start_time": "2023-05-01T19:19:25.533Z"
   },
   {
    "duration": 6,
    "start_time": "2023-05-01T19:19:25.856Z"
   },
   {
    "duration": 35,
    "start_time": "2023-05-01T19:19:26.530Z"
   },
   {
    "duration": 25,
    "start_time": "2023-05-01T19:20:08.641Z"
   },
   {
    "duration": 6,
    "start_time": "2023-05-01T19:20:20.983Z"
   },
   {
    "duration": 8,
    "start_time": "2023-05-01T19:20:21.337Z"
   },
   {
    "duration": 31,
    "start_time": "2023-05-01T19:20:22.027Z"
   },
   {
    "duration": 8,
    "start_time": "2023-05-01T19:20:35.748Z"
   },
   {
    "duration": 8,
    "start_time": "2023-05-01T19:20:36.426Z"
   },
   {
    "duration": 4,
    "start_time": "2023-05-01T19:22:28.864Z"
   },
   {
    "duration": 6,
    "start_time": "2023-05-01T19:22:29.583Z"
   },
   {
    "duration": 2020,
    "start_time": "2023-05-01T19:22:32.171Z"
   },
   {
    "duration": 3,
    "start_time": "2023-05-01T19:22:55.721Z"
   },
   {
    "duration": 6,
    "start_time": "2023-05-01T19:22:56.063Z"
   },
   {
    "duration": 1534,
    "start_time": "2023-05-01T19:22:56.413Z"
   },
   {
    "duration": 4,
    "start_time": "2023-05-01T19:23:32.611Z"
   },
   {
    "duration": 4,
    "start_time": "2023-05-01T19:23:32.898Z"
   },
   {
    "duration": 1544,
    "start_time": "2023-05-01T19:23:33.851Z"
   },
   {
    "duration": 1516,
    "start_time": "2023-05-01T19:23:38.199Z"
   },
   {
    "duration": 4,
    "start_time": "2023-05-01T19:24:01.654Z"
   },
   {
    "duration": 291,
    "start_time": "2023-05-01T19:24:03.820Z"
   },
   {
    "duration": 5,
    "start_time": "2023-05-01T19:24:41.255Z"
   },
   {
    "duration": 1393,
    "start_time": "2023-05-01T19:24:41.624Z"
   },
   {
    "duration": 1616,
    "start_time": "2023-05-01T19:24:45.853Z"
   },
   {
    "duration": 1388,
    "start_time": "2023-05-01T19:25:35.042Z"
   },
   {
    "duration": 1445,
    "start_time": "2023-05-01T19:25:38.137Z"
   },
   {
    "duration": 6816,
    "start_time": "2023-05-02T03:53:38.371Z"
   },
   {
    "duration": 2107,
    "start_time": "2023-05-02T03:53:45.189Z"
   },
   {
    "duration": 1368,
    "start_time": "2023-05-02T03:53:47.298Z"
   },
   {
    "duration": 4,
    "start_time": "2023-05-02T03:53:48.668Z"
   },
   {
    "duration": 18,
    "start_time": "2023-05-02T03:53:48.682Z"
   },
   {
    "duration": 34,
    "start_time": "2023-05-02T03:53:48.701Z"
   },
   {
    "duration": 65,
    "start_time": "2023-05-02T03:53:48.738Z"
   },
   {
    "duration": 44,
    "start_time": "2023-05-02T03:53:48.805Z"
   },
   {
    "duration": 376,
    "start_time": "2023-05-02T03:53:48.851Z"
   },
   {
    "duration": 541,
    "start_time": "2023-05-02T03:53:49.229Z"
   },
   {
    "duration": 527,
    "start_time": "2023-05-02T03:53:49.772Z"
   },
   {
    "duration": 106,
    "start_time": "2023-05-02T03:53:50.301Z"
   },
   {
    "duration": 2923,
    "start_time": "2023-05-02T03:53:50.409Z"
   },
   {
    "duration": 114,
    "start_time": "2023-05-02T03:53:53.334Z"
   },
   {
    "duration": 2901,
    "start_time": "2023-05-02T03:53:53.450Z"
   },
   {
    "duration": 112,
    "start_time": "2023-05-02T03:53:56.353Z"
   },
   {
    "duration": 3173,
    "start_time": "2023-05-02T03:53:56.467Z"
   },
   {
    "duration": 227,
    "start_time": "2023-05-02T03:53:59.642Z"
   },
   {
    "duration": 14,
    "start_time": "2023-05-02T03:53:59.871Z"
   },
   {
    "duration": 25,
    "start_time": "2023-05-02T03:53:59.887Z"
   },
   {
    "duration": 10,
    "start_time": "2023-05-02T03:53:59.914Z"
   },
   {
    "duration": 21,
    "start_time": "2023-05-02T03:53:59.926Z"
   },
   {
    "duration": 217,
    "start_time": "2023-05-02T03:53:59.949Z"
   },
   {
    "duration": 26,
    "start_time": "2023-05-02T03:54:00.168Z"
   },
   {
    "duration": 49,
    "start_time": "2023-05-02T03:54:00.195Z"
   },
   {
    "duration": 26,
    "start_time": "2023-05-02T03:54:00.245Z"
   },
   {
    "duration": 45,
    "start_time": "2023-05-02T03:54:00.273Z"
   },
   {
    "duration": 71,
    "start_time": "2023-05-02T03:54:00.323Z"
   },
   {
    "duration": 34,
    "start_time": "2023-05-02T03:54:00.395Z"
   },
   {
    "duration": 27,
    "start_time": "2023-05-02T03:54:00.430Z"
   },
   {
    "duration": 32,
    "start_time": "2023-05-02T03:54:00.459Z"
   },
   {
    "duration": 55,
    "start_time": "2023-05-02T03:54:00.492Z"
   },
   {
    "duration": 103045,
    "start_time": "2023-05-02T03:54:00.548Z"
   },
   {
    "duration": 33,
    "start_time": "2023-05-02T03:55:43.684Z"
   },
   {
    "duration": 58864,
    "start_time": "2023-05-02T03:55:43.719Z"
   },
   {
    "duration": 111,
    "start_time": "2023-05-02T03:56:42.586Z"
   },
   {
    "duration": 75087,
    "start_time": "2023-05-02T03:56:42.698Z"
   },
   {
    "duration": 129,
    "start_time": "2023-05-02T03:57:57.788Z"
   },
   {
    "duration": 3,
    "start_time": "2023-05-02T03:57:57.919Z"
   },
   {
    "duration": 34,
    "start_time": "2023-05-02T03:57:57.923Z"
   },
   {
    "duration": 27,
    "start_time": "2023-05-02T03:57:57.958Z"
   },
   {
    "duration": 24,
    "start_time": "2023-05-02T03:57:57.986Z"
   },
   {
    "duration": 18,
    "start_time": "2023-05-02T03:57:58.012Z"
   },
   {
    "duration": 13,
    "start_time": "2023-05-02T03:57:58.032Z"
   },
   {
    "duration": 19,
    "start_time": "2023-05-02T03:57:58.047Z"
   },
   {
    "duration": 9,
    "start_time": "2023-05-02T03:57:58.067Z"
   },
   {
    "duration": 8,
    "start_time": "2023-05-02T03:57:58.078Z"
   },
   {
    "duration": 4,
    "start_time": "2023-05-02T03:57:58.087Z"
   },
   {
    "duration": 29,
    "start_time": "2023-05-02T03:57:58.093Z"
   },
   {
    "duration": 1529,
    "start_time": "2023-05-02T03:57:58.124Z"
   },
   {
    "duration": 5,
    "start_time": "2023-05-02T03:57:59.655Z"
   },
   {
    "duration": 8,
    "start_time": "2023-05-02T03:57:59.662Z"
   },
   {
    "duration": 3,
    "start_time": "2023-05-02T04:03:17.489Z"
   },
   {
    "duration": 5,
    "start_time": "2023-05-02T04:03:20.863Z"
   },
   {
    "duration": 1466,
    "start_time": "2023-05-02T04:03:21.641Z"
   },
   {
    "duration": 3,
    "start_time": "2023-05-02T04:08:42.117Z"
   },
   {
    "duration": 5,
    "start_time": "2023-05-02T04:08:42.413Z"
   },
   {
    "duration": 1108,
    "start_time": "2023-05-02T04:08:42.854Z"
   },
   {
    "duration": 1584,
    "start_time": "2023-05-02T04:10:29.299Z"
   },
   {
    "duration": 4,
    "start_time": "2023-05-02T04:12:21.041Z"
   },
   {
    "duration": 4,
    "start_time": "2023-05-02T04:12:21.356Z"
   },
   {
    "duration": 1724,
    "start_time": "2023-05-02T04:12:22.010Z"
   },
   {
    "duration": 4,
    "start_time": "2023-05-02T04:15:51.957Z"
   },
   {
    "duration": 4,
    "start_time": "2023-05-02T04:15:52.268Z"
   },
   {
    "duration": 1705,
    "start_time": "2023-05-02T04:15:52.751Z"
   },
   {
    "duration": 6,
    "start_time": "2023-05-02T04:16:24.980Z"
   },
   {
    "duration": 5,
    "start_time": "2023-05-02T04:16:25.196Z"
   },
   {
    "duration": 1574,
    "start_time": "2023-05-02T04:16:25.496Z"
   },
   {
    "duration": 2227,
    "start_time": "2023-05-02T04:16:57.132Z"
   },
   {
    "duration": 2311,
    "start_time": "2023-05-02T04:16:59.361Z"
   },
   {
    "duration": 1356,
    "start_time": "2023-05-02T04:17:01.674Z"
   },
   {
    "duration": 3,
    "start_time": "2023-05-02T04:17:03.031Z"
   },
   {
    "duration": 19,
    "start_time": "2023-05-02T04:17:03.037Z"
   },
   {
    "duration": 41,
    "start_time": "2023-05-02T04:17:03.058Z"
   },
   {
    "duration": 44,
    "start_time": "2023-05-02T04:17:03.101Z"
   },
   {
    "duration": 32,
    "start_time": "2023-05-02T04:17:03.146Z"
   },
   {
    "duration": 171,
    "start_time": "2023-05-02T04:17:03.180Z"
   },
   {
    "duration": 135,
    "start_time": "2023-05-02T04:17:03.353Z"
   },
   {
    "duration": 135,
    "start_time": "2023-05-02T04:17:03.491Z"
   },
   {
    "duration": 130,
    "start_time": "2023-05-02T04:17:03.628Z"
   },
   {
    "duration": 993,
    "start_time": "2023-05-02T04:17:03.760Z"
   },
   {
    "duration": 0,
    "start_time": "2023-05-02T04:17:04.756Z"
   },
   {
    "duration": 0,
    "start_time": "2023-05-02T04:17:04.759Z"
   },
   {
    "duration": 0,
    "start_time": "2023-05-02T04:17:04.760Z"
   },
   {
    "duration": 0,
    "start_time": "2023-05-02T04:17:04.762Z"
   },
   {
    "duration": 0,
    "start_time": "2023-05-02T04:17:04.763Z"
   },
   {
    "duration": 0,
    "start_time": "2023-05-02T04:17:04.785Z"
   },
   {
    "duration": 0,
    "start_time": "2023-05-02T04:17:04.786Z"
   },
   {
    "duration": 0,
    "start_time": "2023-05-02T04:17:04.788Z"
   },
   {
    "duration": 0,
    "start_time": "2023-05-02T04:17:04.789Z"
   },
   {
    "duration": 0,
    "start_time": "2023-05-02T04:17:04.791Z"
   },
   {
    "duration": 0,
    "start_time": "2023-05-02T04:17:04.793Z"
   },
   {
    "duration": 0,
    "start_time": "2023-05-02T04:17:04.795Z"
   },
   {
    "duration": 0,
    "start_time": "2023-05-02T04:17:04.796Z"
   },
   {
    "duration": 0,
    "start_time": "2023-05-02T04:17:04.798Z"
   },
   {
    "duration": 0,
    "start_time": "2023-05-02T04:17:04.799Z"
   },
   {
    "duration": 0,
    "start_time": "2023-05-02T04:17:04.801Z"
   },
   {
    "duration": 0,
    "start_time": "2023-05-02T04:17:04.803Z"
   },
   {
    "duration": 0,
    "start_time": "2023-05-02T04:17:04.804Z"
   },
   {
    "duration": 0,
    "start_time": "2023-05-02T04:17:04.806Z"
   },
   {
    "duration": 0,
    "start_time": "2023-05-02T04:17:04.808Z"
   },
   {
    "duration": 0,
    "start_time": "2023-05-02T04:17:04.809Z"
   },
   {
    "duration": 0,
    "start_time": "2023-05-02T04:17:04.811Z"
   },
   {
    "duration": 0,
    "start_time": "2023-05-02T04:17:04.813Z"
   },
   {
    "duration": 0,
    "start_time": "2023-05-02T04:17:04.814Z"
   },
   {
    "duration": 0,
    "start_time": "2023-05-02T04:17:04.816Z"
   },
   {
    "duration": 0,
    "start_time": "2023-05-02T04:17:04.817Z"
   },
   {
    "duration": 0,
    "start_time": "2023-05-02T04:17:04.819Z"
   },
   {
    "duration": 0,
    "start_time": "2023-05-02T04:17:04.820Z"
   },
   {
    "duration": 0,
    "start_time": "2023-05-02T04:17:04.822Z"
   },
   {
    "duration": 0,
    "start_time": "2023-05-02T04:17:04.823Z"
   },
   {
    "duration": 0,
    "start_time": "2023-05-02T04:17:04.825Z"
   },
   {
    "duration": 0,
    "start_time": "2023-05-02T04:17:04.827Z"
   },
   {
    "duration": 0,
    "start_time": "2023-05-02T04:17:04.828Z"
   },
   {
    "duration": 0,
    "start_time": "2023-05-02T04:17:04.830Z"
   },
   {
    "duration": 0,
    "start_time": "2023-05-02T04:17:04.831Z"
   },
   {
    "duration": 0,
    "start_time": "2023-05-02T04:17:04.831Z"
   },
   {
    "duration": 0,
    "start_time": "2023-05-02T04:17:04.832Z"
   },
   {
    "duration": 0,
    "start_time": "2023-05-02T04:17:04.833Z"
   },
   {
    "duration": 0,
    "start_time": "2023-05-02T04:17:04.833Z"
   },
   {
    "duration": 2310,
    "start_time": "2023-05-02T04:17:58.241Z"
   },
   {
    "duration": 2400,
    "start_time": "2023-05-02T04:18:00.554Z"
   },
   {
    "duration": 1324,
    "start_time": "2023-05-02T04:18:02.956Z"
   },
   {
    "duration": 3,
    "start_time": "2023-05-02T04:18:04.285Z"
   },
   {
    "duration": 42,
    "start_time": "2023-05-02T04:18:04.291Z"
   },
   {
    "duration": 24,
    "start_time": "2023-05-02T04:18:04.334Z"
   },
   {
    "duration": 10,
    "start_time": "2023-05-02T04:18:04.359Z"
   },
   {
    "duration": 18,
    "start_time": "2023-05-02T04:18:04.370Z"
   },
   {
    "duration": 177,
    "start_time": "2023-05-02T04:18:04.390Z"
   },
   {
    "duration": 136,
    "start_time": "2023-05-02T04:18:04.569Z"
   },
   {
    "duration": 136,
    "start_time": "2023-05-02T04:18:04.707Z"
   },
   {
    "duration": 159,
    "start_time": "2023-05-02T04:18:04.846Z"
   },
   {
    "duration": 3112,
    "start_time": "2023-05-02T04:18:05.007Z"
   },
   {
    "duration": 122,
    "start_time": "2023-05-02T04:18:08.121Z"
   },
   {
    "duration": 3378,
    "start_time": "2023-05-02T04:18:08.244Z"
   },
   {
    "duration": 127,
    "start_time": "2023-05-02T04:18:11.623Z"
   },
   {
    "duration": 3610,
    "start_time": "2023-05-02T04:18:11.752Z"
   },
   {
    "duration": 240,
    "start_time": "2023-05-02T04:18:15.364Z"
   },
   {
    "duration": 4,
    "start_time": "2023-05-02T04:18:15.605Z"
   },
   {
    "duration": 12,
    "start_time": "2023-05-02T04:18:15.611Z"
   },
   {
    "duration": 12,
    "start_time": "2023-05-02T04:18:15.625Z"
   },
   {
    "duration": 27,
    "start_time": "2023-05-02T04:18:15.638Z"
   },
   {
    "duration": 221,
    "start_time": "2023-05-02T04:18:15.667Z"
   },
   {
    "duration": 14,
    "start_time": "2023-05-02T04:18:15.892Z"
   },
   {
    "duration": 5,
    "start_time": "2023-05-02T04:18:15.908Z"
   },
   {
    "duration": 11,
    "start_time": "2023-05-02T04:18:15.915Z"
   },
   {
    "duration": 9,
    "start_time": "2023-05-02T04:18:15.928Z"
   },
   {
    "duration": 23,
    "start_time": "2023-05-02T04:18:15.939Z"
   },
   {
    "duration": 29,
    "start_time": "2023-05-02T04:18:15.964Z"
   },
   {
    "duration": 11,
    "start_time": "2023-05-02T04:18:15.995Z"
   },
   {
    "duration": 4,
    "start_time": "2023-05-02T04:18:16.008Z"
   },
   {
    "duration": 16,
    "start_time": "2023-05-02T04:18:16.013Z"
   },
   {
    "duration": 131058,
    "start_time": "2023-05-02T04:18:16.031Z"
   },
   {
    "duration": 111,
    "start_time": "2023-05-02T04:20:27.092Z"
   },
   {
    "duration": 28087,
    "start_time": "2023-05-02T04:20:27.205Z"
   },
   {
    "duration": 21,
    "start_time": "2023-05-02T04:20:55.298Z"
   },
   {
    "duration": 41065,
    "start_time": "2023-05-02T04:20:55.320Z"
   },
   {
    "duration": 120,
    "start_time": "2023-05-02T04:21:36.388Z"
   },
   {
    "duration": 3,
    "start_time": "2023-05-02T04:21:36.510Z"
   },
   {
    "duration": 7,
    "start_time": "2023-05-02T04:21:36.515Z"
   },
   {
    "duration": 4,
    "start_time": "2023-05-02T04:21:36.526Z"
   },
   {
    "duration": 12,
    "start_time": "2023-05-02T04:21:36.531Z"
   },
   {
    "duration": 10,
    "start_time": "2023-05-02T04:21:36.545Z"
   },
   {
    "duration": 29,
    "start_time": "2023-05-02T04:21:36.557Z"
   },
   {
    "duration": 15,
    "start_time": "2023-05-02T04:21:36.589Z"
   },
   {
    "duration": 9,
    "start_time": "2023-05-02T04:21:36.606Z"
   },
   {
    "duration": 6,
    "start_time": "2023-05-02T04:21:36.616Z"
   },
   {
    "duration": 4,
    "start_time": "2023-05-02T04:21:36.624Z"
   },
   {
    "duration": 5,
    "start_time": "2023-05-02T04:21:36.630Z"
   },
   {
    "duration": 1714,
    "start_time": "2023-05-02T04:21:36.636Z"
   },
   {
    "duration": 5,
    "start_time": "2023-05-02T04:21:38.352Z"
   },
   {
    "duration": 12,
    "start_time": "2023-05-02T04:21:38.358Z"
   },
   {
    "duration": 10,
    "start_time": "2023-05-02T04:30:40.933Z"
   },
   {
    "duration": 13,
    "start_time": "2023-05-02T04:31:29.412Z"
   },
   {
    "duration": 7,
    "start_time": "2023-05-02T04:31:31.369Z"
   },
   {
    "duration": 4,
    "start_time": "2023-05-02T04:31:36.859Z"
   },
   {
    "duration": 4,
    "start_time": "2023-05-02T04:31:37.412Z"
   },
   {
    "duration": 5,
    "start_time": "2023-05-02T04:31:39.413Z"
   },
   {
    "duration": 4,
    "start_time": "2023-05-02T04:31:39.846Z"
   },
   {
    "duration": 4,
    "start_time": "2023-05-02T04:31:48.213Z"
   },
   {
    "duration": 4,
    "start_time": "2023-05-02T04:31:49.817Z"
   },
   {
    "duration": 2011,
    "start_time": "2023-05-02T04:31:54.547Z"
   },
   {
    "duration": 4,
    "start_time": "2023-05-02T04:34:55.083Z"
   },
   {
    "duration": 4,
    "start_time": "2023-05-02T04:35:11.098Z"
   },
   {
    "duration": 1709,
    "start_time": "2023-05-02T04:35:11.896Z"
   },
   {
    "duration": 7,
    "start_time": "2023-05-02T04:36:00.733Z"
   },
   {
    "duration": 2995,
    "start_time": "2023-05-02T04:36:01.534Z"
   },
   {
    "duration": 5,
    "start_time": "2023-05-02T04:36:36.455Z"
   },
   {
    "duration": 2803,
    "start_time": "2023-05-02T04:36:36.817Z"
   },
   {
    "duration": 5,
    "start_time": "2023-05-02T04:36:56.516Z"
   },
   {
    "duration": 1688,
    "start_time": "2023-05-02T04:36:56.781Z"
   },
   {
    "duration": 5,
    "start_time": "2023-05-02T04:37:03.828Z"
   },
   {
    "duration": 2208,
    "start_time": "2023-05-02T04:37:04.300Z"
   },
   {
    "duration": 5,
    "start_time": "2023-05-02T04:37:37.921Z"
   },
   {
    "duration": 1938,
    "start_time": "2023-05-02T04:37:38.308Z"
   },
   {
    "duration": 4,
    "start_time": "2023-05-02T04:37:41.307Z"
   },
   {
    "duration": 7,
    "start_time": "2023-05-02T04:37:41.604Z"
   },
   {
    "duration": 2644,
    "start_time": "2023-05-02T04:37:42.007Z"
   },
   {
    "duration": 3,
    "start_time": "2023-05-02T04:38:39.732Z"
   },
   {
    "duration": 10,
    "start_time": "2023-05-02T04:38:54.685Z"
   },
   {
    "duration": 4,
    "start_time": "2023-05-02T04:38:55.807Z"
   },
   {
    "duration": 1521,
    "start_time": "2023-05-02T04:38:59.021Z"
   },
   {
    "duration": 4,
    "start_time": "2023-05-02T04:39:08.354Z"
   },
   {
    "duration": 1569,
    "start_time": "2023-05-02T04:39:08.644Z"
   },
   {
    "duration": 3,
    "start_time": "2023-05-02T04:39:15.208Z"
   },
   {
    "duration": 4,
    "start_time": "2023-05-02T04:39:15.409Z"
   },
   {
    "duration": 1797,
    "start_time": "2023-05-02T04:39:15.803Z"
   },
   {
    "duration": 1588,
    "start_time": "2023-05-02T04:39:18.878Z"
   },
   {
    "duration": 1521,
    "start_time": "2023-05-02T04:39:23.325Z"
   },
   {
    "duration": 1476,
    "start_time": "2023-05-02T04:39:26.825Z"
   },
   {
    "duration": 1539,
    "start_time": "2023-05-02T04:39:30.230Z"
   },
   {
    "duration": 4,
    "start_time": "2023-05-02T04:40:50.127Z"
   },
   {
    "duration": 4,
    "start_time": "2023-05-02T04:40:50.711Z"
   },
   {
    "duration": 5,
    "start_time": "2023-05-02T04:40:51.329Z"
   },
   {
    "duration": 1505,
    "start_time": "2023-05-02T04:40:51.920Z"
   },
   {
    "duration": 1558,
    "start_time": "2023-05-02T04:40:54.917Z"
   },
   {
    "duration": 3,
    "start_time": "2023-05-02T04:43:03.050Z"
   },
   {
    "duration": 4,
    "start_time": "2023-05-02T04:43:03.243Z"
   },
   {
    "duration": 1994,
    "start_time": "2023-05-02T04:43:03.548Z"
   },
   {
    "duration": 7,
    "start_time": "2023-05-02T04:43:16.101Z"
   },
   {
    "duration": 5,
    "start_time": "2023-05-02T04:43:17.037Z"
   },
   {
    "duration": 1675,
    "start_time": "2023-05-02T04:43:17.044Z"
   },
   {
    "duration": 1546,
    "start_time": "2023-05-02T04:43:22.612Z"
   },
   {
    "duration": 1611,
    "start_time": "2023-05-02T04:43:25.613Z"
   },
   {
    "duration": 1580,
    "start_time": "2023-05-02T04:43:28.840Z"
   },
   {
    "duration": 1587,
    "start_time": "2023-05-02T04:43:32.462Z"
   },
   {
    "duration": 1672,
    "start_time": "2023-05-02T04:43:37.804Z"
   },
   {
    "duration": 1590,
    "start_time": "2023-05-02T04:43:45.616Z"
   },
   {
    "duration": 1567,
    "start_time": "2023-05-02T04:43:55.545Z"
   },
   {
    "duration": 1509,
    "start_time": "2023-05-02T04:44:13.208Z"
   },
   {
    "duration": 1531,
    "start_time": "2023-05-02T04:44:20.713Z"
   },
   {
    "duration": 1613,
    "start_time": "2023-05-02T04:44:34.336Z"
   },
   {
    "duration": 1551,
    "start_time": "2023-05-02T04:44:40.313Z"
   },
   {
    "duration": 1627,
    "start_time": "2023-05-02T04:46:52.008Z"
   },
   {
    "duration": 1634,
    "start_time": "2023-05-02T04:46:53.636Z"
   },
   {
    "duration": 1580,
    "start_time": "2023-05-02T04:46:55.272Z"
   },
   {
    "duration": 2424,
    "start_time": "2023-05-02T04:48:49.320Z"
   },
   {
    "duration": 2387,
    "start_time": "2023-05-02T04:48:51.746Z"
   },
   {
    "duration": 1484,
    "start_time": "2023-05-02T04:48:54.135Z"
   },
   {
    "duration": 4,
    "start_time": "2023-05-02T04:48:55.620Z"
   },
   {
    "duration": 8,
    "start_time": "2023-05-02T04:48:55.628Z"
   },
   {
    "duration": 11,
    "start_time": "2023-05-02T04:48:55.638Z"
   },
   {
    "duration": 13,
    "start_time": "2023-05-02T04:48:55.651Z"
   },
   {
    "duration": 17,
    "start_time": "2023-05-02T04:48:55.666Z"
   },
   {
    "duration": 171,
    "start_time": "2023-05-02T04:48:55.686Z"
   },
   {
    "duration": 157,
    "start_time": "2023-05-02T04:48:55.859Z"
   },
   {
    "duration": 161,
    "start_time": "2023-05-02T04:48:56.018Z"
   },
   {
    "duration": 148,
    "start_time": "2023-05-02T04:48:56.181Z"
   },
   {
    "duration": 3444,
    "start_time": "2023-05-02T04:48:56.330Z"
   },
   {
    "duration": 146,
    "start_time": "2023-05-02T04:48:59.791Z"
   },
   {
    "duration": 3491,
    "start_time": "2023-05-02T04:48:59.939Z"
   },
   {
    "duration": 126,
    "start_time": "2023-05-02T04:49:03.432Z"
   },
   {
    "duration": 3684,
    "start_time": "2023-05-02T04:49:03.562Z"
   },
   {
    "duration": 311,
    "start_time": "2023-05-02T04:49:07.248Z"
   },
   {
    "duration": 5,
    "start_time": "2023-05-02T04:49:07.561Z"
   },
   {
    "duration": 63,
    "start_time": "2023-05-02T04:49:07.569Z"
   },
   {
    "duration": 29,
    "start_time": "2023-05-02T04:49:07.634Z"
   },
   {
    "duration": 57,
    "start_time": "2023-05-02T04:49:07.664Z"
   },
   {
    "duration": 266,
    "start_time": "2023-05-02T04:49:07.724Z"
   },
   {
    "duration": 17,
    "start_time": "2023-05-02T04:49:07.991Z"
   },
   {
    "duration": 69,
    "start_time": "2023-05-02T04:49:08.010Z"
   },
   {
    "duration": 53,
    "start_time": "2023-05-02T04:49:08.081Z"
   },
   {
    "duration": 90,
    "start_time": "2023-05-02T04:49:08.136Z"
   },
   {
    "duration": 89,
    "start_time": "2023-05-02T04:49:08.228Z"
   },
   {
    "duration": 43,
    "start_time": "2023-05-02T04:49:08.319Z"
   },
   {
    "duration": 57,
    "start_time": "2023-05-02T04:49:08.364Z"
   },
   {
    "duration": 37,
    "start_time": "2023-05-02T04:49:08.423Z"
   },
   {
    "duration": 74,
    "start_time": "2023-05-02T04:49:08.462Z"
   },
   {
    "duration": 2583,
    "start_time": "2023-05-02T04:54:33.459Z"
   },
   {
    "duration": 2644,
    "start_time": "2023-05-02T04:54:36.045Z"
   },
   {
    "duration": 1449,
    "start_time": "2023-05-02T04:54:38.691Z"
   },
   {
    "duration": 3,
    "start_time": "2023-05-02T04:54:40.142Z"
   },
   {
    "duration": 13,
    "start_time": "2023-05-02T04:54:40.146Z"
   },
   {
    "duration": 15,
    "start_time": "2023-05-02T04:54:40.160Z"
   },
   {
    "duration": 40,
    "start_time": "2023-05-02T04:54:40.177Z"
   },
   {
    "duration": 14,
    "start_time": "2023-05-02T04:54:40.219Z"
   },
   {
    "duration": 168,
    "start_time": "2023-05-02T04:54:40.234Z"
   },
   {
    "duration": 128,
    "start_time": "2023-05-02T04:54:40.405Z"
   },
   {
    "duration": 128,
    "start_time": "2023-05-02T04:54:40.535Z"
   },
   {
    "duration": 156,
    "start_time": "2023-05-02T04:54:40.664Z"
   },
   {
    "duration": 3584,
    "start_time": "2023-05-02T04:54:40.822Z"
   },
   {
    "duration": 128,
    "start_time": "2023-05-02T04:54:44.408Z"
   },
   {
    "duration": 3579,
    "start_time": "2023-05-02T04:54:44.538Z"
   },
   {
    "duration": 119,
    "start_time": "2023-05-02T04:54:48.119Z"
   },
   {
    "duration": 3595,
    "start_time": "2023-05-02T04:54:48.239Z"
   },
   {
    "duration": 240,
    "start_time": "2023-05-02T04:54:51.836Z"
   },
   {
    "duration": 9,
    "start_time": "2023-05-02T04:54:52.088Z"
   },
   {
    "duration": 36,
    "start_time": "2023-05-02T04:54:52.103Z"
   },
   {
    "duration": 42,
    "start_time": "2023-05-02T04:54:52.140Z"
   },
   {
    "duration": 46,
    "start_time": "2023-05-02T04:54:52.190Z"
   },
   {
    "duration": 289,
    "start_time": "2023-05-02T04:54:52.238Z"
   },
   {
    "duration": 12,
    "start_time": "2023-05-02T04:54:52.528Z"
   },
   {
    "duration": 34,
    "start_time": "2023-05-02T04:54:52.541Z"
   },
   {
    "duration": 59,
    "start_time": "2023-05-02T04:54:52.576Z"
   },
   {
    "duration": 18,
    "start_time": "2023-05-02T04:54:52.636Z"
   },
   {
    "duration": 41,
    "start_time": "2023-05-02T04:54:52.658Z"
   },
   {
    "duration": 37,
    "start_time": "2023-05-02T04:54:52.708Z"
   },
   {
    "duration": 46,
    "start_time": "2023-05-02T04:54:52.746Z"
   },
   {
    "duration": 39,
    "start_time": "2023-05-02T04:54:52.795Z"
   },
   {
    "duration": 27,
    "start_time": "2023-05-02T04:54:52.835Z"
   },
   {
    "duration": 2652,
    "start_time": "2023-05-02T05:00:25.716Z"
   },
   {
    "duration": 2410,
    "start_time": "2023-05-02T05:00:28.371Z"
   },
   {
    "duration": 1473,
    "start_time": "2023-05-02T05:00:30.784Z"
   },
   {
    "duration": 3,
    "start_time": "2023-05-02T05:00:32.259Z"
   },
   {
    "duration": 51,
    "start_time": "2023-05-02T05:00:32.264Z"
   },
   {
    "duration": 12,
    "start_time": "2023-05-02T05:00:32.317Z"
   },
   {
    "duration": 37,
    "start_time": "2023-05-02T05:00:32.330Z"
   },
   {
    "duration": 56,
    "start_time": "2023-05-02T05:00:32.369Z"
   },
   {
    "duration": 175,
    "start_time": "2023-05-02T05:00:32.427Z"
   },
   {
    "duration": 135,
    "start_time": "2023-05-02T05:00:32.604Z"
   },
   {
    "duration": 138,
    "start_time": "2023-05-02T05:00:32.741Z"
   },
   {
    "duration": 144,
    "start_time": "2023-05-02T05:00:32.881Z"
   },
   {
    "duration": 3393,
    "start_time": "2023-05-02T05:00:33.027Z"
   },
   {
    "duration": 124,
    "start_time": "2023-05-02T05:00:36.422Z"
   },
   {
    "duration": 3605,
    "start_time": "2023-05-02T05:00:36.548Z"
   },
   {
    "duration": 149,
    "start_time": "2023-05-02T05:00:40.155Z"
   },
   {
    "duration": 3524,
    "start_time": "2023-05-02T05:00:40.310Z"
   },
   {
    "duration": 241,
    "start_time": "2023-05-02T05:00:43.836Z"
   },
   {
    "duration": 14,
    "start_time": "2023-05-02T05:00:44.087Z"
   },
   {
    "duration": 19,
    "start_time": "2023-05-02T05:00:44.103Z"
   },
   {
    "duration": 27,
    "start_time": "2023-05-02T05:00:44.124Z"
   },
   {
    "duration": 68,
    "start_time": "2023-05-02T05:00:44.153Z"
   },
   {
    "duration": 227,
    "start_time": "2023-05-02T05:00:44.223Z"
   },
   {
    "duration": 12,
    "start_time": "2023-05-02T05:00:44.451Z"
   },
   {
    "duration": 94,
    "start_time": "2023-05-02T05:00:44.465Z"
   },
   {
    "duration": 102,
    "start_time": "2023-05-02T05:00:44.561Z"
   },
   {
    "duration": 28,
    "start_time": "2023-05-02T05:00:44.665Z"
   },
   {
    "duration": 52,
    "start_time": "2023-05-02T05:00:44.695Z"
   },
   {
    "duration": 20,
    "start_time": "2023-05-02T05:00:44.749Z"
   },
   {
    "duration": 28,
    "start_time": "2023-05-02T05:00:44.772Z"
   },
   {
    "duration": 21,
    "start_time": "2023-05-02T05:00:44.802Z"
   },
   {
    "duration": 21,
    "start_time": "2023-05-02T05:00:44.826Z"
   },
   {
    "duration": 451972,
    "start_time": "2023-05-02T05:00:44.849Z"
   },
   {
    "duration": 97,
    "start_time": "2023-05-02T05:08:16.830Z"
   },
   {
    "duration": 37061,
    "start_time": "2023-05-02T05:08:16.929Z"
   },
   {
    "duration": 85,
    "start_time": "2023-05-02T05:08:54.000Z"
   },
   {
    "duration": 45621,
    "start_time": "2023-05-02T05:08:54.086Z"
   },
   {
    "duration": 124,
    "start_time": "2023-05-02T05:09:39.709Z"
   },
   {
    "duration": 9,
    "start_time": "2023-05-02T05:09:39.836Z"
   },
   {
    "duration": 16,
    "start_time": "2023-05-02T05:09:39.847Z"
   },
   {
    "duration": 5,
    "start_time": "2023-05-02T05:09:39.868Z"
   },
   {
    "duration": 59,
    "start_time": "2023-05-02T05:09:39.875Z"
   },
   {
    "duration": 26,
    "start_time": "2023-05-02T05:09:39.936Z"
   },
   {
    "duration": 23,
    "start_time": "2023-05-02T05:09:39.964Z"
   },
   {
    "duration": 38,
    "start_time": "2023-05-02T05:09:39.989Z"
   },
   {
    "duration": 19,
    "start_time": "2023-05-02T05:09:40.029Z"
   },
   {
    "duration": 12,
    "start_time": "2023-05-02T05:09:40.049Z"
   },
   {
    "duration": 46,
    "start_time": "2023-05-02T05:09:40.063Z"
   },
   {
    "duration": 15,
    "start_time": "2023-05-02T05:09:40.112Z"
   },
   {
    "duration": 14,
    "start_time": "2023-05-02T05:09:40.129Z"
   },
   {
    "duration": 1688,
    "start_time": "2023-05-02T05:09:40.145Z"
   },
   {
    "duration": 1709,
    "start_time": "2023-05-02T05:09:41.836Z"
   },
   {
    "duration": 1795,
    "start_time": "2023-05-02T05:09:43.547Z"
   },
   {
    "duration": 5,
    "start_time": "2023-05-02T05:09:45.344Z"
   },
   {
    "duration": 2810,
    "start_time": "2023-05-02T05:19:10.842Z"
   },
   {
    "duration": 2654,
    "start_time": "2023-05-02T05:19:13.656Z"
   },
   {
    "duration": 1412,
    "start_time": "2023-05-02T05:19:16.313Z"
   },
   {
    "duration": 3,
    "start_time": "2023-05-02T05:19:17.727Z"
   },
   {
    "duration": 13,
    "start_time": "2023-05-02T05:19:17.732Z"
   },
   {
    "duration": 19,
    "start_time": "2023-05-02T05:19:17.747Z"
   },
   {
    "duration": 47,
    "start_time": "2023-05-02T05:19:17.768Z"
   },
   {
    "duration": 39,
    "start_time": "2023-05-02T05:19:17.817Z"
   },
   {
    "duration": 198,
    "start_time": "2023-05-02T05:19:17.863Z"
   },
   {
    "duration": 138,
    "start_time": "2023-05-02T05:19:18.063Z"
   },
   {
    "duration": 132,
    "start_time": "2023-05-02T05:19:18.204Z"
   },
   {
    "duration": 146,
    "start_time": "2023-05-02T05:19:18.337Z"
   },
   {
    "duration": 3479,
    "start_time": "2023-05-02T05:19:18.487Z"
   },
   {
    "duration": 152,
    "start_time": "2023-05-02T05:19:21.970Z"
   },
   {
    "duration": 3450,
    "start_time": "2023-05-02T05:19:22.124Z"
   },
   {
    "duration": 137,
    "start_time": "2023-05-02T05:19:25.575Z"
   },
   {
    "duration": 3521,
    "start_time": "2023-05-02T05:19:25.716Z"
   },
   {
    "duration": 227,
    "start_time": "2023-05-02T05:19:29.239Z"
   },
   {
    "duration": 5,
    "start_time": "2023-05-02T05:19:29.467Z"
   },
   {
    "duration": 8,
    "start_time": "2023-05-02T05:19:29.482Z"
   },
   {
    "duration": 32,
    "start_time": "2023-05-02T05:19:29.492Z"
   },
   {
    "duration": 28,
    "start_time": "2023-05-02T05:19:29.526Z"
   },
   {
    "duration": 210,
    "start_time": "2023-05-02T05:19:29.556Z"
   },
   {
    "duration": 27,
    "start_time": "2023-05-02T05:19:29.767Z"
   },
   {
    "duration": 37,
    "start_time": "2023-05-02T05:19:29.796Z"
   },
   {
    "duration": 10,
    "start_time": "2023-05-02T05:19:29.836Z"
   },
   {
    "duration": 8,
    "start_time": "2023-05-02T05:19:29.848Z"
   },
   {
    "duration": 13,
    "start_time": "2023-05-02T05:19:29.857Z"
   },
   {
    "duration": 10,
    "start_time": "2023-05-02T05:19:29.872Z"
   },
   {
    "duration": 44,
    "start_time": "2023-05-02T05:19:29.885Z"
   },
   {
    "duration": 4,
    "start_time": "2023-05-02T05:19:29.931Z"
   },
   {
    "duration": 8,
    "start_time": "2023-05-02T05:19:29.937Z"
   },
   {
    "duration": 791844,
    "start_time": "2023-05-02T05:19:29.946Z"
   },
   {
    "duration": 124,
    "start_time": "2023-05-02T05:32:41.792Z"
   },
   {
    "duration": 31383,
    "start_time": "2023-05-02T05:32:41.918Z"
   },
   {
    "duration": 111,
    "start_time": "2023-05-02T05:33:13.304Z"
   },
   {
    "duration": 41574,
    "start_time": "2023-05-02T05:33:13.417Z"
   },
   {
    "duration": 122,
    "start_time": "2023-05-02T05:33:54.993Z"
   },
   {
    "duration": 16,
    "start_time": "2023-05-02T05:33:55.116Z"
   },
   {
    "duration": 10,
    "start_time": "2023-05-02T05:33:55.133Z"
   },
   {
    "duration": 6,
    "start_time": "2023-05-02T05:33:55.147Z"
   },
   {
    "duration": 16,
    "start_time": "2023-05-02T05:33:55.154Z"
   },
   {
    "duration": 8,
    "start_time": "2023-05-02T05:33:55.172Z"
   },
   {
    "duration": 39,
    "start_time": "2023-05-02T05:33:55.182Z"
   },
   {
    "duration": 7,
    "start_time": "2023-05-02T05:33:55.223Z"
   },
   {
    "duration": 6,
    "start_time": "2023-05-02T05:33:55.232Z"
   },
   {
    "duration": 7,
    "start_time": "2023-05-02T05:33:55.239Z"
   },
   {
    "duration": 4,
    "start_time": "2023-05-02T05:33:55.248Z"
   },
   {
    "duration": 8,
    "start_time": "2023-05-02T05:33:55.253Z"
   },
   {
    "duration": 7,
    "start_time": "2023-05-02T05:33:55.262Z"
   },
   {
    "duration": 1494,
    "start_time": "2023-05-02T05:33:55.271Z"
   },
   {
    "duration": 1501,
    "start_time": "2023-05-02T05:33:56.767Z"
   },
   {
    "duration": 1436,
    "start_time": "2023-05-02T05:33:58.269Z"
   },
   {
    "duration": 6,
    "start_time": "2023-05-02T05:33:59.706Z"
   },
   {
    "duration": 6707,
    "start_time": "2023-05-02T07:16:10.551Z"
   },
   {
    "duration": 2220,
    "start_time": "2023-05-02T07:16:17.261Z"
   },
   {
    "duration": 1485,
    "start_time": "2023-05-02T07:16:19.483Z"
   },
   {
    "duration": 3,
    "start_time": "2023-05-02T07:16:20.970Z"
   },
   {
    "duration": 9,
    "start_time": "2023-05-02T07:16:20.976Z"
   },
   {
    "duration": 10,
    "start_time": "2023-05-02T07:16:20.987Z"
   },
   {
    "duration": 9,
    "start_time": "2023-05-02T07:16:21.011Z"
   },
   {
    "duration": 10,
    "start_time": "2023-05-02T07:16:21.022Z"
   },
   {
    "duration": 529,
    "start_time": "2023-05-02T07:16:21.034Z"
   },
   {
    "duration": 222,
    "start_time": "2023-05-02T07:16:21.565Z"
   },
   {
    "duration": 216,
    "start_time": "2023-05-02T07:16:21.788Z"
   },
   {
    "duration": 123,
    "start_time": "2023-05-02T07:16:22.005Z"
   },
   {
    "duration": 3080,
    "start_time": "2023-05-02T07:16:22.129Z"
   },
   {
    "duration": 114,
    "start_time": "2023-05-02T07:16:25.213Z"
   },
   {
    "duration": 3270,
    "start_time": "2023-05-02T07:16:25.329Z"
   },
   {
    "duration": 129,
    "start_time": "2023-05-02T07:16:28.600Z"
   },
   {
    "duration": 3276,
    "start_time": "2023-05-02T07:16:28.731Z"
   },
   {
    "duration": 223,
    "start_time": "2023-05-02T07:16:32.009Z"
   },
   {
    "duration": 3,
    "start_time": "2023-05-02T07:16:32.234Z"
   },
   {
    "duration": 24,
    "start_time": "2023-05-02T07:16:32.239Z"
   },
   {
    "duration": 26,
    "start_time": "2023-05-02T07:16:32.265Z"
   },
   {
    "duration": 34,
    "start_time": "2023-05-02T07:16:32.293Z"
   },
   {
    "duration": 239,
    "start_time": "2023-05-02T07:16:32.328Z"
   },
   {
    "duration": 12,
    "start_time": "2023-05-02T07:16:32.569Z"
   },
   {
    "duration": 32,
    "start_time": "2023-05-02T07:16:32.583Z"
   },
   {
    "duration": 34,
    "start_time": "2023-05-02T07:16:32.617Z"
   },
   {
    "duration": 29,
    "start_time": "2023-05-02T07:16:32.653Z"
   },
   {
    "duration": 29,
    "start_time": "2023-05-02T07:16:32.684Z"
   },
   {
    "duration": 26,
    "start_time": "2023-05-02T07:16:32.715Z"
   },
   {
    "duration": 10,
    "start_time": "2023-05-02T07:16:32.744Z"
   },
   {
    "duration": 25,
    "start_time": "2023-05-02T07:16:32.756Z"
   },
   {
    "duration": 21,
    "start_time": "2023-05-02T07:16:32.783Z"
   },
   {
    "duration": 124410,
    "start_time": "2023-05-02T07:16:32.805Z"
   },
   {
    "duration": 109,
    "start_time": "2023-05-02T07:18:37.218Z"
   },
   {
    "duration": 27890,
    "start_time": "2023-05-02T07:18:37.329Z"
   },
   {
    "duration": 21,
    "start_time": "2023-05-02T07:19:05.221Z"
   },
   {
    "duration": 43277,
    "start_time": "2023-05-02T07:19:05.243Z"
   },
   {
    "duration": 118,
    "start_time": "2023-05-02T07:19:48.523Z"
   },
   {
    "duration": 7,
    "start_time": "2023-05-02T07:19:48.643Z"
   },
   {
    "duration": 33,
    "start_time": "2023-05-02T07:19:48.651Z"
   },
   {
    "duration": 9,
    "start_time": "2023-05-02T07:19:48.688Z"
   },
   {
    "duration": 25,
    "start_time": "2023-05-02T07:19:48.699Z"
   },
   {
    "duration": 12,
    "start_time": "2023-05-02T07:19:48.726Z"
   },
   {
    "duration": 9,
    "start_time": "2023-05-02T07:19:48.740Z"
   },
   {
    "duration": 6,
    "start_time": "2023-05-02T07:19:48.751Z"
   },
   {
    "duration": 6,
    "start_time": "2023-05-02T07:19:48.759Z"
   },
   {
    "duration": 6,
    "start_time": "2023-05-02T07:19:48.766Z"
   },
   {
    "duration": 4,
    "start_time": "2023-05-02T07:19:48.774Z"
   },
   {
    "duration": 4,
    "start_time": "2023-05-02T07:19:48.779Z"
   },
   {
    "duration": 5,
    "start_time": "2023-05-02T07:19:48.785Z"
   },
   {
    "duration": 1651,
    "start_time": "2023-05-02T07:19:48.791Z"
   },
   {
    "duration": 1404,
    "start_time": "2023-05-02T07:19:50.444Z"
   },
   {
    "duration": 1429,
    "start_time": "2023-05-02T07:19:51.850Z"
   },
   {
    "duration": 5,
    "start_time": "2023-05-02T07:19:53.281Z"
   },
   {
    "duration": 3,
    "start_time": "2023-05-02T07:24:18.308Z"
   },
   {
    "duration": 5,
    "start_time": "2023-05-02T07:24:18.460Z"
   },
   {
    "duration": 1449,
    "start_time": "2023-05-02T07:24:18.853Z"
   },
   {
    "duration": 1454,
    "start_time": "2023-05-02T07:24:21.018Z"
   },
   {
    "duration": 1498,
    "start_time": "2023-05-02T07:24:23.118Z"
   }
  ],
  "kernelspec": {
   "display_name": "Python 3 (ipykernel)",
   "language": "python",
   "name": "python3"
  },
  "language_info": {
   "codemirror_mode": {
    "name": "ipython",
    "version": 3
   },
   "file_extension": ".py",
   "mimetype": "text/x-python",
   "name": "python",
   "nbconvert_exporter": "python",
   "pygments_lexer": "ipython3",
   "version": "3.11.5"
  },
  "toc": {
   "base_numbering": 1,
   "nav_menu": {},
   "number_sections": true,
   "sideBar": true,
   "skip_h1_title": true,
   "title_cell": "Table of Contents",
   "title_sidebar": "Contents",
   "toc_cell": false,
   "toc_position": {
    "height": "calc(100% - 180px)",
    "left": "10px",
    "top": "150px",
    "width": "361.391px"
   },
   "toc_section_display": true,
   "toc_window_display": true
  }
 },
 "nbformat": 4,
 "nbformat_minor": 2
}
