{
 "cells": [
  {
   "cell_type": "markdown",
   "metadata": {
    "toc": true
   },
   "source": [
    "<h1>Содержание<span class=\"tocSkip\"></span></h1>\n",
    "<div class=\"toc\"><ul class=\"toc-item\"><li><span><a href=\"#Загрузка-данных\" data-toc-modified-id=\"Загрузка-данных-1\"><span class=\"toc-item-num\">1&nbsp;&nbsp;</span>Загрузка данных</a></span></li><li><span><a href=\"#Умножение-матриц\" data-toc-modified-id=\"Умножение-матриц-2\"><span class=\"toc-item-num\">2&nbsp;&nbsp;</span>Умножение матриц</a></span></li><li><span><a href=\"#Алгоритм-преобразования\" data-toc-modified-id=\"Алгоритм-преобразования-3\"><span class=\"toc-item-num\">3&nbsp;&nbsp;</span>Алгоритм преобразования</a></span></li><li><span><a href=\"#Проверка-алгоритма\" data-toc-modified-id=\"Проверка-алгоритма-4\"><span class=\"toc-item-num\">4&nbsp;&nbsp;</span>Проверка алгоритма</a></span></li><li><span><a href=\"#Чек-лист-проверки\" data-toc-modified-id=\"Чек-лист-проверки-5\"><span class=\"toc-item-num\">5&nbsp;&nbsp;</span>Чек-лист проверки</a></span></li></ul></div>"
   ]
  },
  {
   "cell_type": "markdown",
   "metadata": {},
   "source": [
    "# Защита персональных данных клиентов"
   ]
  },
  {
   "cell_type": "markdown",
   "metadata": {},
   "source": [
    "Вам нужно защитить данные клиентов страховой компании «Хоть потоп». Разработайте такой метод преобразования данных, чтобы по ним было сложно восстановить персональную информацию. Обоснуйте корректность его работы.\n",
    "\n",
    "Нужно защитить данные, чтобы при преобразовании качество моделей машинного обучения не ухудшилось. Подбирать наилучшую модель не требуется."
   ]
  },
  {
   "cell_type": "code",
   "execution_count": 1,
   "metadata": {},
   "outputs": [],
   "source": [
    "import random\n",
    "import pandas as pd\n",
    "import numpy as np\n",
    "import seaborn as sns\n",
    "import matplotlib.pyplot as plt\n",
    "from sklearn.linear_model import LinearRegression\n",
    "from sklearn.model_selection import train_test_split\n",
    "from sklearn.metrics import r2_score\n",
    "\n"
   ]
  },
  {
   "cell_type": "markdown",
   "metadata": {},
   "source": [
    "## Загрузка данных"
   ]
  },
  {
   "cell_type": "code",
   "execution_count": 2,
   "metadata": {},
   "outputs": [],
   "source": [
    "def explore_dataframe_text(df):\n",
    "    # выводим первые 5 строк датафрейма\n",
    "    # выводим первые 5 строк датафрейма\n",
    "    print(\"*\" * 50)\n",
    "    print(\"Первые 5 строк датафрейма:\")\n",
    "    print(\"*\" * 50)\n",
    "    display(df.head())\n",
    "    print()\n",
    "    \n",
    "    # выводим информацию о типах данных и количестве пропущенных значений\n",
    "    print(\"*\" * 50)\n",
    "    print(\"Информация о данных:\")\n",
    "    print(\"*\" * 50)\n",
    "    print()\n",
    "    print(df.info())\n",
    "    print()\n",
    "    \n",
    "    # выводим описание статистических характеристик числовых столбцов\n",
    "    print(\"*\" * 50)\n",
    "    print(\"Статистические характеристики числовых столбцов:\")\n",
    "    print(\"*\" * 50)\n",
    "    print()\n",
    "\n",
    "    display(df.describe())\n",
    "    print()\n",
    "    \n",
    "    \n",
    "    \n",
    "    #выводим корреляцию между признаками \n",
    "    print(\"*\" * 50)\n",
    "    print(\"Корреляция между признаками \")\n",
    "    print(\"*\" * 50)\n",
    "    display(df.corr())\n",
    "    print()"
   ]
  },
  {
   "cell_type": "code",
   "execution_count": 3,
   "metadata": {},
   "outputs": [],
   "source": [
    "df = pd.read_csv('/datasets/insurance.csv')"
   ]
  },
  {
   "cell_type": "code",
   "execution_count": 4,
   "metadata": {
    "scrolled": true
   },
   "outputs": [
    {
     "name": "stdout",
     "output_type": "stream",
     "text": [
      "**************************************************\n",
      "Первые 5 строк датафрейма:\n",
      "**************************************************\n"
     ]
    },
    {
     "data": {
      "text/html": [
       "<div>\n",
       "<style scoped>\n",
       "    .dataframe tbody tr th:only-of-type {\n",
       "        vertical-align: middle;\n",
       "    }\n",
       "\n",
       "    .dataframe tbody tr th {\n",
       "        vertical-align: top;\n",
       "    }\n",
       "\n",
       "    .dataframe thead th {\n",
       "        text-align: right;\n",
       "    }\n",
       "</style>\n",
       "<table border=\"1\" class=\"dataframe\">\n",
       "  <thead>\n",
       "    <tr style=\"text-align: right;\">\n",
       "      <th></th>\n",
       "      <th>Пол</th>\n",
       "      <th>Возраст</th>\n",
       "      <th>Зарплата</th>\n",
       "      <th>Члены семьи</th>\n",
       "      <th>Страховые выплаты</th>\n",
       "    </tr>\n",
       "  </thead>\n",
       "  <tbody>\n",
       "    <tr>\n",
       "      <th>0</th>\n",
       "      <td>1</td>\n",
       "      <td>41.0</td>\n",
       "      <td>49600.0</td>\n",
       "      <td>1</td>\n",
       "      <td>0</td>\n",
       "    </tr>\n",
       "    <tr>\n",
       "      <th>1</th>\n",
       "      <td>0</td>\n",
       "      <td>46.0</td>\n",
       "      <td>38000.0</td>\n",
       "      <td>1</td>\n",
       "      <td>1</td>\n",
       "    </tr>\n",
       "    <tr>\n",
       "      <th>2</th>\n",
       "      <td>0</td>\n",
       "      <td>29.0</td>\n",
       "      <td>21000.0</td>\n",
       "      <td>0</td>\n",
       "      <td>0</td>\n",
       "    </tr>\n",
       "    <tr>\n",
       "      <th>3</th>\n",
       "      <td>0</td>\n",
       "      <td>21.0</td>\n",
       "      <td>41700.0</td>\n",
       "      <td>2</td>\n",
       "      <td>0</td>\n",
       "    </tr>\n",
       "    <tr>\n",
       "      <th>4</th>\n",
       "      <td>1</td>\n",
       "      <td>28.0</td>\n",
       "      <td>26100.0</td>\n",
       "      <td>0</td>\n",
       "      <td>0</td>\n",
       "    </tr>\n",
       "  </tbody>\n",
       "</table>\n",
       "</div>"
      ],
      "text/plain": [
       "   Пол  Возраст  Зарплата  Члены семьи  Страховые выплаты\n",
       "0    1     41.0   49600.0            1                  0\n",
       "1    0     46.0   38000.0            1                  1\n",
       "2    0     29.0   21000.0            0                  0\n",
       "3    0     21.0   41700.0            2                  0\n",
       "4    1     28.0   26100.0            0                  0"
      ]
     },
     "metadata": {},
     "output_type": "display_data"
    },
    {
     "name": "stdout",
     "output_type": "stream",
     "text": [
      "\n",
      "**************************************************\n",
      "Информация о данных:\n",
      "**************************************************\n",
      "\n",
      "<class 'pandas.core.frame.DataFrame'>\n",
      "RangeIndex: 5000 entries, 0 to 4999\n",
      "Data columns (total 5 columns):\n",
      " #   Column             Non-Null Count  Dtype  \n",
      "---  ------             --------------  -----  \n",
      " 0   Пол                5000 non-null   int64  \n",
      " 1   Возраст            5000 non-null   float64\n",
      " 2   Зарплата           5000 non-null   float64\n",
      " 3   Члены семьи        5000 non-null   int64  \n",
      " 4   Страховые выплаты  5000 non-null   int64  \n",
      "dtypes: float64(2), int64(3)\n",
      "memory usage: 195.4 KB\n",
      "None\n",
      "\n",
      "**************************************************\n",
      "Статистические характеристики числовых столбцов:\n",
      "**************************************************\n",
      "\n"
     ]
    },
    {
     "data": {
      "text/html": [
       "<div>\n",
       "<style scoped>\n",
       "    .dataframe tbody tr th:only-of-type {\n",
       "        vertical-align: middle;\n",
       "    }\n",
       "\n",
       "    .dataframe tbody tr th {\n",
       "        vertical-align: top;\n",
       "    }\n",
       "\n",
       "    .dataframe thead th {\n",
       "        text-align: right;\n",
       "    }\n",
       "</style>\n",
       "<table border=\"1\" class=\"dataframe\">\n",
       "  <thead>\n",
       "    <tr style=\"text-align: right;\">\n",
       "      <th></th>\n",
       "      <th>Пол</th>\n",
       "      <th>Возраст</th>\n",
       "      <th>Зарплата</th>\n",
       "      <th>Члены семьи</th>\n",
       "      <th>Страховые выплаты</th>\n",
       "    </tr>\n",
       "  </thead>\n",
       "  <tbody>\n",
       "    <tr>\n",
       "      <th>count</th>\n",
       "      <td>5000.000000</td>\n",
       "      <td>5000.000000</td>\n",
       "      <td>5000.000000</td>\n",
       "      <td>5000.000000</td>\n",
       "      <td>5000.000000</td>\n",
       "    </tr>\n",
       "    <tr>\n",
       "      <th>mean</th>\n",
       "      <td>0.499000</td>\n",
       "      <td>30.952800</td>\n",
       "      <td>39916.360000</td>\n",
       "      <td>1.194200</td>\n",
       "      <td>0.148000</td>\n",
       "    </tr>\n",
       "    <tr>\n",
       "      <th>std</th>\n",
       "      <td>0.500049</td>\n",
       "      <td>8.440807</td>\n",
       "      <td>9900.083569</td>\n",
       "      <td>1.091387</td>\n",
       "      <td>0.463183</td>\n",
       "    </tr>\n",
       "    <tr>\n",
       "      <th>min</th>\n",
       "      <td>0.000000</td>\n",
       "      <td>18.000000</td>\n",
       "      <td>5300.000000</td>\n",
       "      <td>0.000000</td>\n",
       "      <td>0.000000</td>\n",
       "    </tr>\n",
       "    <tr>\n",
       "      <th>25%</th>\n",
       "      <td>0.000000</td>\n",
       "      <td>24.000000</td>\n",
       "      <td>33300.000000</td>\n",
       "      <td>0.000000</td>\n",
       "      <td>0.000000</td>\n",
       "    </tr>\n",
       "    <tr>\n",
       "      <th>50%</th>\n",
       "      <td>0.000000</td>\n",
       "      <td>30.000000</td>\n",
       "      <td>40200.000000</td>\n",
       "      <td>1.000000</td>\n",
       "      <td>0.000000</td>\n",
       "    </tr>\n",
       "    <tr>\n",
       "      <th>75%</th>\n",
       "      <td>1.000000</td>\n",
       "      <td>37.000000</td>\n",
       "      <td>46600.000000</td>\n",
       "      <td>2.000000</td>\n",
       "      <td>0.000000</td>\n",
       "    </tr>\n",
       "    <tr>\n",
       "      <th>max</th>\n",
       "      <td>1.000000</td>\n",
       "      <td>65.000000</td>\n",
       "      <td>79000.000000</td>\n",
       "      <td>6.000000</td>\n",
       "      <td>5.000000</td>\n",
       "    </tr>\n",
       "  </tbody>\n",
       "</table>\n",
       "</div>"
      ],
      "text/plain": [
       "               Пол      Возраст      Зарплата  Члены семьи  Страховые выплаты\n",
       "count  5000.000000  5000.000000   5000.000000  5000.000000        5000.000000\n",
       "mean      0.499000    30.952800  39916.360000     1.194200           0.148000\n",
       "std       0.500049     8.440807   9900.083569     1.091387           0.463183\n",
       "min       0.000000    18.000000   5300.000000     0.000000           0.000000\n",
       "25%       0.000000    24.000000  33300.000000     0.000000           0.000000\n",
       "50%       0.000000    30.000000  40200.000000     1.000000           0.000000\n",
       "75%       1.000000    37.000000  46600.000000     2.000000           0.000000\n",
       "max       1.000000    65.000000  79000.000000     6.000000           5.000000"
      ]
     },
     "metadata": {},
     "output_type": "display_data"
    },
    {
     "name": "stdout",
     "output_type": "stream",
     "text": [
      "\n",
      "**************************************************\n",
      "Корреляция между признаками \n",
      "**************************************************\n"
     ]
    },
    {
     "data": {
      "text/html": [
       "<div>\n",
       "<style scoped>\n",
       "    .dataframe tbody tr th:only-of-type {\n",
       "        vertical-align: middle;\n",
       "    }\n",
       "\n",
       "    .dataframe tbody tr th {\n",
       "        vertical-align: top;\n",
       "    }\n",
       "\n",
       "    .dataframe thead th {\n",
       "        text-align: right;\n",
       "    }\n",
       "</style>\n",
       "<table border=\"1\" class=\"dataframe\">\n",
       "  <thead>\n",
       "    <tr style=\"text-align: right;\">\n",
       "      <th></th>\n",
       "      <th>Пол</th>\n",
       "      <th>Возраст</th>\n",
       "      <th>Зарплата</th>\n",
       "      <th>Члены семьи</th>\n",
       "      <th>Страховые выплаты</th>\n",
       "    </tr>\n",
       "  </thead>\n",
       "  <tbody>\n",
       "    <tr>\n",
       "      <th>Пол</th>\n",
       "      <td>1.000000</td>\n",
       "      <td>0.002074</td>\n",
       "      <td>0.014910</td>\n",
       "      <td>-0.008991</td>\n",
       "      <td>0.010140</td>\n",
       "    </tr>\n",
       "    <tr>\n",
       "      <th>Возраст</th>\n",
       "      <td>0.002074</td>\n",
       "      <td>1.000000</td>\n",
       "      <td>-0.019093</td>\n",
       "      <td>-0.006692</td>\n",
       "      <td>0.651030</td>\n",
       "    </tr>\n",
       "    <tr>\n",
       "      <th>Зарплата</th>\n",
       "      <td>0.014910</td>\n",
       "      <td>-0.019093</td>\n",
       "      <td>1.000000</td>\n",
       "      <td>-0.030296</td>\n",
       "      <td>-0.014963</td>\n",
       "    </tr>\n",
       "    <tr>\n",
       "      <th>Члены семьи</th>\n",
       "      <td>-0.008991</td>\n",
       "      <td>-0.006692</td>\n",
       "      <td>-0.030296</td>\n",
       "      <td>1.000000</td>\n",
       "      <td>-0.036290</td>\n",
       "    </tr>\n",
       "    <tr>\n",
       "      <th>Страховые выплаты</th>\n",
       "      <td>0.010140</td>\n",
       "      <td>0.651030</td>\n",
       "      <td>-0.014963</td>\n",
       "      <td>-0.036290</td>\n",
       "      <td>1.000000</td>\n",
       "    </tr>\n",
       "  </tbody>\n",
       "</table>\n",
       "</div>"
      ],
      "text/plain": [
       "                        Пол   Возраст  Зарплата  Члены семьи  \\\n",
       "Пол                1.000000  0.002074  0.014910    -0.008991   \n",
       "Возраст            0.002074  1.000000 -0.019093    -0.006692   \n",
       "Зарплата           0.014910 -0.019093  1.000000    -0.030296   \n",
       "Члены семьи       -0.008991 -0.006692 -0.030296     1.000000   \n",
       "Страховые выплаты  0.010140  0.651030 -0.014963    -0.036290   \n",
       "\n",
       "                   Страховые выплаты  \n",
       "Пол                         0.010140  \n",
       "Возраст                     0.651030  \n",
       "Зарплата                   -0.014963  \n",
       "Члены семьи                -0.036290  \n",
       "Страховые выплаты           1.000000  "
      ]
     },
     "metadata": {},
     "output_type": "display_data"
    },
    {
     "name": "stdout",
     "output_type": "stream",
     "text": [
      "\n"
     ]
    }
   ],
   "source": [
    "explore_dataframe_text(df)"
   ]
  },
  {
   "cell_type": "markdown",
   "metadata": {},
   "source": [
    "- Возраст в годах записан в вещественном типе -> было бы правильно изменить   \n",
    "- Можно заметить что таргет - дискретная кол-ая переменная  0...5  \n",
    "- Зарплата, странная, но учитывая задачу, будем считать, что все ок  \n",
    "- Возраст имеют положительную среднюю корреляцию со страховыми выплатами, что говорит о росте выплат с возрастом  \n",
    "- Остальные признаки не коррелируют  \n",
    "\n",
    "\n"
   ]
  },
  {
   "cell_type": "code",
   "execution_count": 5,
   "metadata": {},
   "outputs": [],
   "source": [
    "#Исправим тип возраста\n",
    "df['Возраст'] = df['Возраст'].astype('int')"
   ]
  },
  {
   "cell_type": "code",
   "execution_count": 6,
   "metadata": {},
   "outputs": [
    {
     "data": {
      "text/plain": [
       "Пол                    int64\n",
       "Возраст                int64\n",
       "Зарплата             float64\n",
       "Члены семьи            int64\n",
       "Страховые выплаты      int64\n",
       "dtype: object"
      ]
     },
     "execution_count": 6,
     "metadata": {},
     "output_type": "execute_result"
    }
   ],
   "source": [
    "df.dtypes"
   ]
  },
  {
   "cell_type": "code",
   "execution_count": 7,
   "metadata": {
    "scrolled": false
   },
   "outputs": [
    {
     "data": {
      "image/png": "[encoded data removed]",
      "text/plain": [
       "<Figure size 906.375x864 with 20 Axes>"
      ]
     },
     "metadata": {
      "needs_background": "light"
     },
     "output_type": "display_data"
    }
   ],
   "source": [
    "sns.pairplot(df, hue=\"Пол\", diag_kind=\"hist\",height=3);\n"
   ]
  },
  {
   "cell_type": "markdown",
   "metadata": {},
   "source": [
    "- почти все страховые выплаты - 0 \n",
    "- страховые выпалты начинают повышаться с достижением ~40 лет и дальше примерно каждые 5-10лет  \n",
    "- зарплата распределена ~ нормально "
   ]
  },
  {
   "cell_type": "markdown",
   "metadata": {},
   "source": [
    "----\n",
    "Посмотрим на некторые графики поближе"
   ]
  },
  {
   "cell_type": "code",
   "execution_count": 8,
   "metadata": {
    "scrolled": false
   },
   "outputs": [
    {
     "data": {
      "image/png": "[encoded data removed]",
      "text/plain": [
       "<Figure size 720x720 with 3 Axes>"
      ]
     },
     "metadata": {
      "needs_background": "light"
     },
     "output_type": "display_data"
    }
   ],
   "source": [
    "sns.jointplot(data=df, x=\"Возраст\", y=\"Зарплата\", kind=\"hex\",height=10, ratio=3)\n",
    "plt.show()"
   ]
  },
  {
   "cell_type": "markdown",
   "metadata": {},
   "source": [
    "- видим, что выборка по возрастам уменьшается  \n",
    "- пиковые значения находятся на пересечении больших плотностей, т.е. 30..50 тысяч и возраста до 40 лет  "
   ]
  },
  {
   "cell_type": "code",
   "execution_count": 9,
   "metadata": {
    "scrolled": false
   },
   "outputs": [
    {
     "data": {
      "image/png": "[encoded data removed]",
      "text/plain": [
       "<Figure size 1080x720 with 1 Axes>"
      ]
     },
     "metadata": {
      "needs_background": "light"
     },
     "output_type": "display_data"
    }
   ],
   "source": [
    "plt.figure(figsize=(15,10))\n",
    "plt.grid()\n",
    "sns.histplot(df, x ='Члены семьи')\n",
    "plt.title('Распределение по кол-ву членов семьи')\n",
    "plt.show()"
   ]
  },
  {
   "cell_type": "markdown",
   "metadata": {},
   "source": [
    "- видно, что большинство людей из выборки имеют от 0 до 2 "
   ]
  },
  {
   "cell_type": "code",
   "execution_count": 10,
   "metadata": {
    "scrolled": false
   },
   "outputs": [
    {
     "data": {
      "image/png": "[encoded data removed]",
      "text/plain": [
       "<Figure size 1080x720 with 2 Axes>"
      ]
     },
     "metadata": {
      "needs_background": "light"
     },
     "output_type": "display_data"
    }
   ],
   "source": [
    "plt.figure(figsize=(15,10))\n",
    "plt.grid()\n",
    "plt.title('Кол-во выплат по кол-ву членов семьи, ')\n",
    "plt.xlim(-0.1,5.2)\n",
    "sns.histplot(df, x ='Члены семьи', y = 'Страховые выплаты',cbar=True)\n",
    "plt.show()"
   ]
  },
  {
   "cell_type": "code",
   "execution_count": 11,
   "metadata": {},
   "outputs": [
    {
     "data": {
      "image/png": "[encoded data removed]",
      "text/plain": [
       "<Figure size 1080x720 with 2 Axes>"
      ]
     },
     "metadata": {
      "needs_background": "light"
     },
     "output_type": "display_data"
    }
   ],
   "source": [
    "plt.figure(figsize=(15,10))\n",
    "plt.grid()\n",
    "plt.title('Кол-во выплат по кол-ву членов семьи, по первому полу')\n",
    "plt.xlim(-0.1,5.2)\n",
    "sns.histplot(df[df['Пол'] == 1], x ='Члены семьи', y = 'Страховые выплаты',cbar=True)\n",
    "plt.show()"
   ]
  },
  {
   "cell_type": "code",
   "execution_count": 12,
   "metadata": {
    "scrolled": true
   },
   "outputs": [
    {
     "data": {
      "image/png": "[encoded data removed]",
      "text/plain": [
       "<Figure size 1080x720 with 2 Axes>"
      ]
     },
     "metadata": {
      "needs_background": "light"
     },
     "output_type": "display_data"
    }
   ],
   "source": [
    "plt.figure(figsize=(15,10))\n",
    "plt.grid()\n",
    "plt.title('Кол-во выплат по кол-ву членов семьи, по нулевому полу')\n",
    "plt.xlim(-0.1,5.2)\n",
    "sns.histplot(df[df['Пол']==0], x ='Члены семьи', y = 'Страховые выплаты',cbar=True)\n",
    "plt.show()"
   ]
  },
  {
   "cell_type": "markdown",
   "metadata": {},
   "source": []
  },
  {
   "cell_type": "code",
   "execution_count": 13,
   "metadata": {},
   "outputs": [
    {
     "data": {
      "image/png": "[encoded data removed]",
      "text/plain": [
       "<Figure size 1080x720 with 2 Axes>"
      ]
     },
     "metadata": {
      "needs_background": "light"
     },
     "output_type": "display_data"
    }
   ],
   "source": [
    "plt.figure(figsize=(15,10))\n",
    "plt.grid()\n",
    "plt.title('')\n",
    "sns.histplot(df[df['Пол']==0], x ='Возраст', y = 'Страховые выплаты',cbar=True)\n",
    "plt.show()"
   ]
  },
  {
   "cell_type": "code",
   "execution_count": 14,
   "metadata": {
    "scrolled": true
   },
   "outputs": [
    {
     "data": {
      "image/png": "[encoded data removed]",
      "text/plain": [
       "<Figure size 1080x720 with 2 Axes>"
      ]
     },
     "metadata": {
      "needs_background": "light"
     },
     "output_type": "display_data"
    }
   ],
   "source": [
    "plt.figure(figsize=(15,10))\n",
    "plt.grid()\n",
    "plt.title('')\n",
    "sns.histplot(df[df['Пол']==1], x ='Возраст', y = 'Страховые выплаты',cbar=True)\n",
    "plt.show()"
   ]
  },
  {
   "cell_type": "markdown",
   "metadata": {},
   "source": [
    "- тут видно более подробно когда происходят переходы"
   ]
  },
  {
   "cell_type": "markdown",
   "metadata": {},
   "source": [
    " **Вывод:**  \n",
    "1. Был изменен тип переменных в столбце возраста\n",
    "\n",
    "2. Таргет - дискретная количественная переменная, которая может принимать значения от 0 до 5.\n",
    "\n",
    "\n",
    "3. Существует положительная средняя корреляция между возрастом и страховыми выплатами, что может указывать на то, что страховые выплаты увеличиваются с возрастом.\n",
    "\n",
    "4. Остальные признаки не имеют существенной корреляции с таргетом.\n",
    "\n",
    "5. Большинство страховых выплат равны 0.\n",
    "\n",
    "6. Страховые выплаты начинают повышаться примерно с 40 лет следующий подъем около 50, далее около 55, далее ~ каждые три года\n",
    "\n",
    "8. Распределение зарплаты приближено к нормальному.\n",
    "\n",
    "9. Выборка клиентов снижается с возрастом.\n",
    "\n",
    "10. Большинство клиентов имеют от 0 до 2 членов семьи."
   ]
  },
  {
   "cell_type": "markdown",
   "metadata": {},
   "source": [
    "## Умножение матриц"
   ]
  },
  {
   "cell_type": "markdown",
   "metadata": {},
   "source": [
    "В этом задании вы можете записывать формулы в *Jupyter Notebook.*\n",
    "\n",
    "Чтобы записать формулу внутри текста, окружите её символами доллара \\\\$; если снаружи —  двойными символами \\\\$\\\\$. Эти формулы записываются на языке вёрстки *LaTeX.* \n",
    "\n",
    "Для примера мы записали формулы линейной регрессии. Можете их скопировать и отредактировать, чтобы решить задачу.\n",
    "\n",
    "Работать в *LaTeX* необязательно."
   ]
  },
  {
   "cell_type": "markdown",
   "metadata": {},
   "source": [
    "Обозначения:\n",
    "\n",
    "- $X$ — матрица признаков (нулевой столбец состоит из единиц)\n",
    "\n",
    "- $y$ — вектор целевого признака\n",
    "\n",
    "- $P$ — матрица, на которую умножаются признаки\n",
    "\n",
    "- $w$ — вектор весов линейной регрессии (нулевой элемент равен сдвигу)"
   ]
  },
  {
   "cell_type": "markdown",
   "metadata": {},
   "source": [
    "Предсказания:\n",
    "\n",
    "$$\n",
    "a = Xw\n",
    "$$\n",
    "\n",
    "Задача обучения:\n",
    "\n",
    "$$\n",
    "w = \\arg\\min_w MSE(Xw, y)\n",
    "$$\n",
    "\n",
    "Формула обучения:\n",
    "\n",
    "$$\n",
    "w = (X^T X)^{-1} X^T y\n",
    "$$"
   ]
  },
  {
   "cell_type": "markdown",
   "metadata": {},
   "source": [
    "**Ответ:** не изменится\n",
    "\n",
    "**Обоснование:**   \n",
    "Пусть :  \n",
    "$A$ - обратимая матрица (m,m),   \n",
    "$X$ - матрица (n,m)  \n",
    "\n",
    "$ \\begin{cases}\n",
    "{\\vec y=X*\t\\vec\\omega + \\vec\\epsilon}\\\\\n",
    "{\\vec y=X*A *\t\\vec\\omega_0 + \\vec\\epsilon}\n",
    "\\end{cases} \\Rightarrow  \n",
    "X *\t\\vec\\omega + \\vec\\epsilon = X*A *\t\\vec\\omega_0 + \\vec\\epsilon \\Leftrightarrow \n",
    "X *\t\\vec\\omega  = X*A *\t\\vec\\omega_0 \\Leftrightarrow \n",
    "X *\t\\vec\\omega  - X*A *\t\\vec\\omega_0 = 0 \\Leftrightarrow \\\\ \n",
    "\\Leftrightarrow X*(\\vec\\omega - A*\\vec\\omega_0) = 0 \\Leftrightarrow$\n",
    "  \n",
    "\n",
    "$\\Leftrightarrow\\left[\n",
    "  \\begin{array}\n",
    "      xX = 0  \\\\\n",
    "     (\\vec\\omega - A*\\vec\\omega_0) = 0 \\\\\n",
    "  \\end{array}\n",
    "\\right.$  \n",
    "\n",
    "$\\vec\\omega = A*\\vec\\omega_0 \\Rightarrow \\vec\\omega_0 = A^{-1}\\vec\\omega$  \n",
    "Из этого следует, что качество линейной регрессии не изменится при умножении признаков на обратимую матрицу $A$, так как мы можем просто пересчитать вектор весов, используя формулу $\\vec{\\omega} = A*\\vec{\\omega_0}$, и получить такой же результат, какой был бы при использовании исходной матрицы признаков $X$."
   ]
  },
  {
   "cell_type": "markdown",
   "metadata": {},
   "source": [
    "## Алгоритм преобразования"
   ]
  },
  {
   "cell_type": "markdown",
   "metadata": {},
   "source": [
    "**Алгоритм**\n",
    "1) Создание обратной матрицы   \n",
    "----1.1) Создаем матрицу размерностью (кол-во столбцов минус 1)    \n",
    "----1.2) Проверяем на вырожденность   \n",
    "----1.3) Если вырожденная - генерируем заново пока не будет вырожденной   \n",
    "----1.4) Сохраняем обратную матрицу в файл с именем key_centr.txt  \n",
    "2) Центрирование    \n",
    "----2.1) Вычисляем среднее значение каждого столбца из каждого столбца (за исключением таргета)  \n",
    "----2.2) Сохраняем вектор-столбец со средними значениями в файл с именем key_centr.txt  \n",
    "----2.3) Вычитаем из матрицы признаков  \n",
    "      \n",
    "3) Умножаем на обратную матрицу справа  [(кол-во строк, кол-во столбцов - 1) @ (кол-во столбцов - 1, кол-во столбцов - 1)]\n",
    "    "
   ]
  },
  {
   "cell_type": "markdown",
   "metadata": {},
   "source": [
    "**Обоснование**\n",
    "1) При центрировании, вычитаем из признака его среднее значение $X_{(n,m)}\\longrightarrow X_{(n,m)}^{'}\\\\ \\omega = (X^T*X)^{-1}*X^т*y$  \n",
    "2) При центрировании: $\\forall \\vec x_j \\hookrightarrow mean(\\vec x_j) = 0$  \n",
    "    2.1) Докажем это:  \n",
    "        $\\blacksquare \\space 1.\\space X_{:,\\space j}=( x_{1j}, x_{2j},..., x_{nj})\\\\\n",
    "         mean(\\vec x_j) = \\frac{1}{n}\\sum_{i=1}^{n}x_{(i,j)}\\\\\n",
    "      \\\\\n",
    "        2. j-ый\\space столбец\\space примет\\space вид: \\\\ \n",
    "        \\space X_{:,\\space j}^{'}= X_{:,\\space j} - mean(\\vec x_j)\\\\ \n",
    "        \\space X_{:,\\space j}^{'}=(x_{1j} - mean(\\vec x_j), ..., x_{nj} - mean(\\vec x_j))\\\\ \n",
    "        3. Среднее\\space значение\\space столбца\\space j\\space для\\space X^{'} \\\\ \n",
    "        mean(X^{'}_{(:, j)}) = \\frac{1}{n} * \\sum_{i=1}^{n}X^{'}_{(i,j)} \\\\ \n",
    "         mean(X^{'}_{(:, j)}) = \\frac{1}{n} * \\sum X_{:,\\space j} - mean(\\vec x_j) \\\\ \n",
    "         mean(X^{'}_{(:, j)}) = \\frac{1}{n} \\sum(x_{1j} - mean(\\vec x_j), ..., x_{nj} - mean(\\vec x_j)) \\\\ \n",
    "          mean(X^{'}_{(:, j)}) = \\frac{1}{n}((x_{1j} - mean(\\vec x_j)) + ...+ (x_{nj} - mean(\\vec x_j))) \\\\ \n",
    "          mean(X^{'}_{(:, j)}) =  \\frac{1}{n}\\sum(x_{ij}) - mean(\\vec x_j) \\\\ \n",
    "          так\\space как\\space \\frac{1}{n}\\sum(x_{ij}) = mean(\\vec x_j)\\space получаем: \\\\ \n",
    "          mean(X^{'}_{(:, j)}) = 0\\space\\blacksquare$ \n",
    "            \n",
    "              \n",
    " Пусть $\\Gamma$ - вектор из единиц размером (n,1).  2 $(X^{'})^{T} * \\Gamma = 0 $ (тут из-за суммы)  \n",
    " \n",
    "3) $(X^{'})^{T} X^{'} = \\big(X - \\frac{\\Gamma_n(\\Gamma_n^T*X)}{n}\\big)^T * \\big(X - \\frac{\\Gamma_n(\\Gamma_n^T*X)}{n}\\big) = \\\\\n",
    "= X^TX - \\frac{1}{n}(X^T*\\Gamma_n)*(\\Gamma^T_n*X) - \\frac{1}{n}(X^TX)*\\Gamma_n*\\Gamma_n^T + \\frac{1}{n^2}(\\Gamma^T_n * X)*(X^T*\\Gamma_n)*\\Gamma_n*\\Gamma_n^T$\n",
    "\n",
    "Первое слагаемое является обычным произведением матриц X^T и X, второе и третье слагаемые связаны с центрированием матрицы X.\n",
    "\n",
    "Затем, для вычисления вектора весов w', достаточно решить систему линейных уравнений:\n",
    "\n",
    "$(X')^T X' w' = (X')^T y$\n",
    "\n",
    "или, подставляя выражение для $(X')^T X'$:\n",
    "\n",
    "$(X^T X -\\frac{1}{n} (X^T \\Gamma_n) (\\Gamma_n^T X) - \\frac{1}{n} (X^T X) \\Gamma_n \\Gamma_n^T + \\frac{1}{n^2} (\\Gamma_n^T X) (X^T \\Gamma_n) \\Gamma_n \\Gamma_n^T) w' = X^T y - \\frac{1}{n} (X^T \\Gamma_n) y$  \n",
    "и имеем ввиду формулу $w' = inv((X')^T X') (X')^T y$"
   ]
  },
  {
   "cell_type": "markdown",
   "metadata": {},
   "source": [
    "4)  Покажем что вектор весов $w$ в задаче без центрирования признаков может быть выражен через вектор весов $w'$ в задаче с центрированием признаков. \n",
    "\n",
    "Для этого рассмотрим линейную модель для задачи без центрирования признаков:\n",
    "\n",
    "$$y = Xw + \\epsilon$$\n",
    "\n",
    "где $y$ - вектор целевой переменной,  \n",
    "$X$ - матрица признаков,   \n",
    "$w$ - вектор весов,   \n",
    "$\\epsilon$ - случайная ошибка.  \n",
    "  \n",
    "Выражение для центрированной матрицы $X'$:\n",
    "\n",
    "$$y = (X' + \\Gamma_n \\bar{x}) w + \\epsilon = X'w + \\Gamma_n \\bar{x} w + \\epsilon$$\n",
    "$\\bar{x}$ - вектор средних значений признаков.\n",
    "\n",
    "Выразим $w$ через $w'$:\n",
    "\n",
    "$w = (X^T X)^{-1} X^T y = (X^T X)^{-1} X^T (X'w' + \\Gamma_n \\bar{x} w + \\epsilon)$\n",
    "\n",
    "$w = (X^T X)^{-1} X^T X'w' + (X^T X)^{-1} X^T \\Gamma_n \\bar{x} w + (X^T X)^{-1} X^T \\epsilon$\n",
    "\n",
    "Здесь первое слагаемое $w'$ может быть выражено через $w$ и другие фиксированные величины с помощью формулы для $w'$ из предыдущих выкладок. Второе слагаемое равно $0$, так как $\\bar{x}$ центрировано и равно нулю. Третье слагаемое является случайной ошибкой, которая не зависит от признаков и не изменится при центрировании признаков.  \n",
    "$w$ в задаче без центрирования признаков может быть выражен через $w'$ и  фиксированные величины. Это означает, что линейная зависимость между признаками и целевой переменной не меняется при центрировании признаков."
   ]
  },
  {
   "cell_type": "markdown",
   "metadata": {},
   "source": [
    "Умножение на обратимую матрицу доказали в прошлом пункте."
   ]
  },
  {
   "cell_type": "markdown",
   "metadata": {},
   "source": [
    "## Проверка алгоритма"
   ]
  },
  {
   "cell_type": "code",
   "execution_count": 15,
   "metadata": {},
   "outputs": [],
   "source": [
    "#функция принимающая измененный дф и преобразовывающая этот дф в первоначальный вид\n",
    "def decrypt(df):\n",
    "    try:\n",
    "        key_marix = np.loadtxt('key_inv.txt')\n",
    "        key_vector = np.loadtxt('key_centr.txt')\n",
    "        encrypted_df = df@np.linalg.inv(key_marix) + key_vector\n",
    "        encrypted_df = encrypted_df.rename({i: col for i, col in enumerate(df.columns)}, axis=1)\n",
    "        encrypted_df[['Пол', 'Члены семьи', 'Возраст']] = np.round(abs(encrypted_df[['Пол', 'Члены семьи', 'Возраст']]))\n",
    "        return encrypted_df\n",
    "    except: \n",
    "        print(\"Нет ключа\")\n",
    "      \n",
    "    "
   ]
  },
  {
   "cell_type": "code",
   "execution_count": 16,
   "metadata": {},
   "outputs": [
    {
     "name": "stdout",
     "output_type": "stream",
     "text": [
      "[[ 0.49671415 -0.1382643   0.64768854  1.52302986]\n",
      " [-0.23415337 -0.23413696  1.57921282  0.76743473]\n",
      " [-0.46947439  0.54256004 -0.46341769 -0.46572975]\n",
      " [ 0.24196227 -1.91328024 -1.72491783 -0.56228753]]\n",
      "[[-0.33124857 -1.0333483  -2.21070923 -0.47651024]\n",
      " [ 0.12864778 -0.47781825  0.15271687 -0.43017975]\n",
      " [-0.51338817  0.33588835 -0.8347692  -0.24072429]\n",
      " [ 0.99462192  0.15079316  1.08985145  0.21872535]]\n"
     ]
    }
   ],
   "source": [
    "np.random.seed(42)\n",
    "A = np.random.randn(len(df.columns)-1, len(df.columns)-1) # сгенерили матрицу по кол-ву признаков\n",
    "while np.linalg.det(A) == 0:\n",
    "    A = np.random.randn(len(df.columns)-1, len(df.columns)-1) # проверяем на вырожденность\n",
    "\n",
    "\n",
    "print(A)\n",
    "A = np.linalg.inv(A)\n",
    "np.savetxt('key_inv.txt', A) # сохранили в файл обратную матрицу\n",
    "print(A)"
   ]
  },
  {
   "cell_type": "code",
   "execution_count": 17,
   "metadata": {},
   "outputs": [],
   "source": [
    "B = np.mean(df.drop('Страховые выплаты', axis=1), axis=0)\n",
    "np.savetxt('key_centr.txt', B) # тут сохранили вектор средних значений для каждого столбца"
   ]
  },
  {
   "cell_type": "code",
   "execution_count": 18,
   "metadata": {},
   "outputs": [],
   "source": [
    "df_dec = pd.DataFrame(( \n",
    "    (df.drop('Страховые выплаты', axis=1) - np.mean(df.drop('Страховые выплаты', axis=1), axis=0) ).values @ A), \n",
    "    columns = df.drop('Страховые выплаты', axis=1).columns)"
   ]
  },
  {
   "cell_type": "code",
   "execution_count": 19,
   "metadata": {},
   "outputs": [],
   "source": [
    "df_dec['Страховые выплаты'] = df['Страховые выплаты'] # разделил для проверки"
   ]
  },
  {
   "cell_type": "code",
   "execution_count": 20,
   "metadata": {},
   "outputs": [
    {
     "data": {
      "text/html": [
       "<div>\n",
       "<style scoped>\n",
       "    .dataframe tbody tr th:only-of-type {\n",
       "        vertical-align: middle;\n",
       "    }\n",
       "\n",
       "    .dataframe tbody tr th {\n",
       "        vertical-align: top;\n",
       "    }\n",
       "\n",
       "    .dataframe thead th {\n",
       "        text-align: right;\n",
       "    }\n",
       "</style>\n",
       "<table border=\"1\" class=\"dataframe\">\n",
       "  <thead>\n",
       "    <tr style=\"text-align: right;\">\n",
       "      <th></th>\n",
       "      <th>Пол</th>\n",
       "      <th>Возраст</th>\n",
       "      <th>Зарплата</th>\n",
       "      <th>Члены семьи</th>\n",
       "      <th>Страховые выплаты</th>\n",
       "    </tr>\n",
       "  </thead>\n",
       "  <tbody>\n",
       "    <tr>\n",
       "      <th>0</th>\n",
       "      <td>-4970.532760</td>\n",
       "      <td>3247.274160</td>\n",
       "      <td>-8083.389241</td>\n",
       "      <td>-2335.690698</td>\n",
       "      <td>0</td>\n",
       "    </tr>\n",
       "    <tr>\n",
       "      <th>1</th>\n",
       "      <td>985.744476</td>\n",
       "      <td>-650.386473</td>\n",
       "      <td>1602.907758</td>\n",
       "      <td>455.036707</td>\n",
       "      <td>1</td>\n",
       "    </tr>\n",
       "    <tr>\n",
       "      <th>2</th>\n",
       "      <td>9710.161698</td>\n",
       "      <td>-6352.516350</td>\n",
       "      <td>15790.298098</td>\n",
       "      <td>4554.444010</td>\n",
       "      <td>0</td>\n",
       "    </tr>\n",
       "    <tr>\n",
       "      <th>3</th>\n",
       "      <td>-916.013318</td>\n",
       "      <td>604.496681</td>\n",
       "      <td>-1488.466348</td>\n",
       "      <td>-424.669957</td>\n",
       "      <td>0</td>\n",
       "    </tr>\n",
       "    <tr>\n",
       "      <th>4</th>\n",
       "      <td>7091.422145</td>\n",
       "      <td>-4640.041282</td>\n",
       "      <td>11530.611758</td>\n",
       "      <td>3326.703788</td>\n",
       "      <td>0</td>\n",
       "    </tr>\n",
       "  </tbody>\n",
       "</table>\n",
       "</div>"
      ],
      "text/plain": [
       "           Пол      Возраст      Зарплата  Члены семьи  Страховые выплаты\n",
       "0 -4970.532760  3247.274160  -8083.389241 -2335.690698                  0\n",
       "1   985.744476  -650.386473   1602.907758   455.036707                  1\n",
       "2  9710.161698 -6352.516350  15790.298098  4554.444010                  0\n",
       "3  -916.013318   604.496681  -1488.466348  -424.669957                  0\n",
       "4  7091.422145 -4640.041282  11530.611758  3326.703788                  0"
      ]
     },
     "execution_count": 20,
     "metadata": {},
     "output_type": "execute_result"
    }
   ],
   "source": [
    "df_dec.head()"
   ]
  },
  {
   "cell_type": "code",
   "execution_count": 21,
   "metadata": {},
   "outputs": [],
   "source": [
    "X_train, X_test, y_train, y_test = train_test_split(df_dec.drop('Страховые выплаты', axis=1), \n",
    "                                                    df_dec['Страховые выплаты'],\n",
    "                                                    test_size=0.25, \n",
    "                                                    random_state=42)\n",
    "model = LinearRegression()"
   ]
  },
  {
   "cell_type": "code",
   "execution_count": 22,
   "metadata": {},
   "outputs": [
    {
     "data": {
      "text/plain": [
       "LinearRegression()"
      ]
     },
     "execution_count": 22,
     "metadata": {},
     "output_type": "execute_result"
    }
   ],
   "source": [
    "model.fit(X_train,y_train)"
   ]
  },
  {
   "cell_type": "code",
   "execution_count": 23,
   "metadata": {},
   "outputs": [],
   "source": [
    "pr = np.round(model.predict(X_test))"
   ]
  },
  {
   "cell_type": "code",
   "execution_count": 24,
   "metadata": {},
   "outputs": [
    {
     "name": "stdout",
     "output_type": "stream",
     "text": [
      "Качество для преобразованных данных : 0.6087792586698495\n"
     ]
    }
   ],
   "source": [
    "print(f'Качество для преобразованных данных : {r2_score(y_test, pr)}')"
   ]
  },
  {
   "cell_type": "code",
   "execution_count": 25,
   "metadata": {},
   "outputs": [],
   "source": [
    "X_train, X_test, y_train, y_test = train_test_split(df.drop('Страховые выплаты', axis=1), \n",
    "                                                    df['Страховые выплаты'],\n",
    "                                                    test_size=0.25, \n",
    "                                                    random_state=42)\n",
    "model = LinearRegression()"
   ]
  },
  {
   "cell_type": "code",
   "execution_count": 26,
   "metadata": {},
   "outputs": [
    {
     "data": {
      "text/plain": [
       "LinearRegression()"
      ]
     },
     "execution_count": 26,
     "metadata": {},
     "output_type": "execute_result"
    }
   ],
   "source": [
    "model.fit(X_train,y_train)"
   ]
  },
  {
   "cell_type": "code",
   "execution_count": 27,
   "metadata": {},
   "outputs": [],
   "source": [
    "pr1 = np.round(model.predict(X_test))"
   ]
  },
  {
   "cell_type": "code",
   "execution_count": 28,
   "metadata": {
    "scrolled": true
   },
   "outputs": [
    {
     "name": "stdout",
     "output_type": "stream",
     "text": [
      "Качество для изначальных данных : 0.6087792586698495\n"
     ]
    }
   ],
   "source": [
    "print(f'Качество для изначальных данных : {r2_score(y_test, pr1)}')"
   ]
  },
  {
   "cell_type": "code",
   "execution_count": 29,
   "metadata": {
    "scrolled": true
   },
   "outputs": [],
   "source": [
    "decrypted_df = decrypt(df_dec.drop('Страховые выплаты', axis=1))"
   ]
  },
  {
   "cell_type": "code",
   "execution_count": 30,
   "metadata": {},
   "outputs": [],
   "source": [
    "diff = df.drop('Страховые выплаты', axis=1).compare(decrypted_df)"
   ]
  },
  {
   "cell_type": "code",
   "execution_count": 31,
   "metadata": {},
   "outputs": [
    {
     "data": {
      "text/html": [
       "<div>\n",
       "<style scoped>\n",
       "    .dataframe tbody tr th:only-of-type {\n",
       "        vertical-align: middle;\n",
       "    }\n",
       "\n",
       "    .dataframe tbody tr th {\n",
       "        vertical-align: top;\n",
       "    }\n",
       "\n",
       "    .dataframe thead tr th {\n",
       "        text-align: left;\n",
       "    }\n",
       "</style>\n",
       "<table border=\"1\" class=\"dataframe\">\n",
       "  <thead>\n",
       "    <tr>\n",
       "      <th></th>\n",
       "      <th colspan=\"2\" halign=\"left\">Зарплата</th>\n",
       "    </tr>\n",
       "    <tr>\n",
       "      <th></th>\n",
       "      <th>self</th>\n",
       "      <th>other</th>\n",
       "    </tr>\n",
       "  </thead>\n",
       "  <tbody>\n",
       "    <tr>\n",
       "      <th>2</th>\n",
       "      <td>21000.0</td>\n",
       "      <td>21000.0</td>\n",
       "    </tr>\n",
       "    <tr>\n",
       "      <th>420</th>\n",
       "      <td>13800.0</td>\n",
       "      <td>13800.0</td>\n",
       "    </tr>\n",
       "    <tr>\n",
       "      <th>437</th>\n",
       "      <td>8900.0</td>\n",
       "      <td>8900.0</td>\n",
       "    </tr>\n",
       "    <tr>\n",
       "      <th>440</th>\n",
       "      <td>14600.0</td>\n",
       "      <td>14600.0</td>\n",
       "    </tr>\n",
       "    <tr>\n",
       "      <th>630</th>\n",
       "      <td>19400.0</td>\n",
       "      <td>19400.0</td>\n",
       "    </tr>\n",
       "    <tr>\n",
       "      <th>...</th>\n",
       "      <td>...</td>\n",
       "      <td>...</td>\n",
       "    </tr>\n",
       "    <tr>\n",
       "      <th>4410</th>\n",
       "      <td>16000.0</td>\n",
       "      <td>16000.0</td>\n",
       "    </tr>\n",
       "    <tr>\n",
       "      <th>4623</th>\n",
       "      <td>7400.0</td>\n",
       "      <td>7400.0</td>\n",
       "    </tr>\n",
       "    <tr>\n",
       "      <th>4735</th>\n",
       "      <td>18700.0</td>\n",
       "      <td>18700.0</td>\n",
       "    </tr>\n",
       "    <tr>\n",
       "      <th>4834</th>\n",
       "      <td>22000.0</td>\n",
       "      <td>22000.0</td>\n",
       "    </tr>\n",
       "    <tr>\n",
       "      <th>4866</th>\n",
       "      <td>20400.0</td>\n",
       "      <td>20400.0</td>\n",
       "    </tr>\n",
       "  </tbody>\n",
       "</table>\n",
       "<p>75 rows × 2 columns</p>\n",
       "</div>"
      ],
      "text/plain": [
       "     Зарплата         \n",
       "         self    other\n",
       "2     21000.0  21000.0\n",
       "420   13800.0  13800.0\n",
       "437    8900.0   8900.0\n",
       "440   14600.0  14600.0\n",
       "630   19400.0  19400.0\n",
       "...       ...      ...\n",
       "4410  16000.0  16000.0\n",
       "4623   7400.0   7400.0\n",
       "4735  18700.0  18700.0\n",
       "4834  22000.0  22000.0\n",
       "4866  20400.0  20400.0\n",
       "\n",
       "[75 rows x 2 columns]"
      ]
     },
     "execution_count": 31,
     "metadata": {},
     "output_type": "execute_result"
    }
   ],
   "source": [
    "diff"
   ]
  },
  {
   "cell_type": "code",
   "execution_count": 32,
   "metadata": {
    "scrolled": true
   },
   "outputs": [
    {
     "data": {
      "text/plain": [
       "7.275957614183426e-12"
      ]
     },
     "execution_count": 32,
     "metadata": {},
     "output_type": "execute_result"
    }
   ],
   "source": [
    "max(diff[('Зарплата',  'self')] - diff[( 'Зарплата',  'other')])"
   ]
  },
  {
   "cell_type": "markdown",
   "metadata": {},
   "source": [
    "**Вывод:** \n",
    "В результате работы были загружены и изучены данные, был дан ответ, что качество не изменится, указаны связи параметров линейной регрессии в исходной и преобразованной задаче. Также был предложен и реализован алгоритм преобразования данных, основанный на центрировании и умножении на обратимую матрицу, который был успешно проверен на качество линейной регрессии. Кроме того, была реализована функция для дешифровки данных с погрешностью не более 10^(-12). \n",
    "\n",
    "Качество для изначальных данных : 0.6087792586698495  \n",
    "Качество для преобразованных данных : 0.6087792586698495\n",
    "\n",
    "Проведенные действия позволяют сделать вывод о том, что использование преобразования данных, основанного на центрировании и умножении на обратимую матрицу, может быть эффективным методом для решении задачи скрытия данных, не меняющей качества работы модели линейной регрессии."
   ]
  }
 ],
 "metadata": {
  "ExecuteTimeLog": [
   {
    "duration": 50,
    "start_time": "2023-05-13T22:40:55.406Z"
   },
   {
    "duration": 421,
    "start_time": "2023-05-13T22:41:06.608Z"
   },
   {
    "duration": 85,
    "start_time": "2023-05-13T22:41:07.753Z"
   },
   {
    "duration": 17,
    "start_time": "2023-05-13T22:41:13.678Z"
   },
   {
    "duration": 12,
    "start_time": "2023-05-13T22:41:39.521Z"
   },
   {
    "duration": 208,
    "start_time": "2023-05-14T15:30:50.143Z"
   },
   {
    "duration": 59,
    "start_time": "2023-05-14T15:30:52.396Z"
   },
   {
    "duration": 3,
    "start_time": "2023-05-14T15:30:59.429Z"
   },
   {
    "duration": 306,
    "start_time": "2023-05-14T15:31:00.290Z"
   },
   {
    "duration": 38,
    "start_time": "2023-05-14T15:31:27.689Z"
   },
   {
    "duration": 13,
    "start_time": "2023-05-14T15:31:34.145Z"
   },
   {
    "duration": 1420,
    "start_time": "2023-05-16T13:19:18.454Z"
   },
   {
    "duration": 6,
    "start_time": "2023-05-16T13:19:19.876Z"
   },
   {
    "duration": 170,
    "start_time": "2023-05-16T13:19:19.883Z"
   },
   {
    "duration": 0,
    "start_time": "2023-05-16T13:19:20.055Z"
   },
   {
    "duration": 0,
    "start_time": "2023-05-16T13:19:20.056Z"
   },
   {
    "duration": 0,
    "start_time": "2023-05-16T13:19:20.057Z"
   },
   {
    "duration": 0,
    "start_time": "2023-05-16T13:19:20.058Z"
   },
   {
    "duration": 0,
    "start_time": "2023-05-16T13:19:20.059Z"
   },
   {
    "duration": 0,
    "start_time": "2023-05-16T13:19:20.060Z"
   },
   {
    "duration": 0,
    "start_time": "2023-05-16T13:19:20.061Z"
   },
   {
    "duration": 0,
    "start_time": "2023-05-16T13:19:20.061Z"
   },
   {
    "duration": 0,
    "start_time": "2023-05-16T13:19:20.062Z"
   },
   {
    "duration": 0,
    "start_time": "2023-05-16T13:19:20.063Z"
   },
   {
    "duration": 0,
    "start_time": "2023-05-16T13:19:20.064Z"
   },
   {
    "duration": 0,
    "start_time": "2023-05-16T13:19:20.064Z"
   },
   {
    "duration": 0,
    "start_time": "2023-05-16T13:19:20.065Z"
   },
   {
    "duration": 0,
    "start_time": "2023-05-16T13:19:20.066Z"
   },
   {
    "duration": 0,
    "start_time": "2023-05-16T13:19:20.067Z"
   },
   {
    "duration": 1347,
    "start_time": "2023-05-16T13:19:46.288Z"
   },
   {
    "duration": 5,
    "start_time": "2023-05-16T13:19:47.637Z"
   },
   {
    "duration": 80,
    "start_time": "2023-05-16T13:19:47.645Z"
   },
   {
    "duration": 11,
    "start_time": "2023-05-16T13:19:47.727Z"
   },
   {
    "duration": 45,
    "start_time": "2023-05-16T13:19:47.740Z"
   },
   {
    "duration": 5489,
    "start_time": "2023-05-16T13:19:47.787Z"
   },
   {
    "duration": 475,
    "start_time": "2023-05-16T13:19:53.277Z"
   },
   {
    "duration": 150,
    "start_time": "2023-05-16T13:19:53.754Z"
   },
   {
    "duration": 186,
    "start_time": "2023-05-16T13:19:53.905Z"
   },
   {
    "duration": 180,
    "start_time": "2023-05-16T13:19:54.094Z"
   },
   {
    "duration": 196,
    "start_time": "2023-05-16T13:19:54.275Z"
   },
   {
    "duration": 334,
    "start_time": "2023-05-16T13:19:54.472Z"
   },
   {
    "duration": 169,
    "start_time": "2023-05-16T13:19:54.808Z"
   },
   {
    "duration": 2,
    "start_time": "2023-05-16T13:19:54.979Z"
   },
   {
    "duration": 18,
    "start_time": "2023-05-16T13:19:54.983Z"
   },
   {
    "duration": 89,
    "start_time": "2023-05-16T13:19:55.003Z"
   },
   {
    "duration": 34,
    "start_time": "2023-05-16T13:19:55.093Z"
   },
   {
    "duration": 4,
    "start_time": "2023-05-16T13:19:55.129Z"
   },
   {
    "duration": 5558,
    "start_time": "2023-05-16T13:20:35.947Z"
   },
   {
    "duration": 495,
    "start_time": "2023-05-16T13:20:50.191Z"
   },
   {
    "duration": 500,
    "start_time": "2023-05-16T13:21:03.699Z"
   },
   {
    "duration": 498,
    "start_time": "2023-05-16T13:21:18.703Z"
   },
   {
    "duration": 473,
    "start_time": "2023-05-16T13:21:23.391Z"
   },
   {
    "duration": 188,
    "start_time": "2023-05-16T13:21:33.045Z"
   },
   {
    "duration": 195,
    "start_time": "2023-05-16T13:21:37.952Z"
   },
   {
    "duration": 210,
    "start_time": "2023-05-16T13:21:42.807Z"
   },
   {
    "duration": 208,
    "start_time": "2023-05-16T13:21:48.048Z"
   },
   {
    "duration": 410,
    "start_time": "2023-05-16T13:21:52.452Z"
   },
   {
    "duration": 217,
    "start_time": "2023-05-16T13:21:56.823Z"
   },
   {
    "duration": 226,
    "start_time": "2023-05-16T13:22:01.351Z"
   },
   {
    "duration": 212,
    "start_time": "2023-05-16T13:22:05.088Z"
   },
   {
    "duration": 506,
    "start_time": "2023-05-16T13:23:55.589Z"
   },
   {
    "duration": 593,
    "start_time": "2023-05-16T13:24:03.751Z"
   },
   {
    "duration": 106,
    "start_time": "2023-05-16T13:24:10.553Z"
   },
   {
    "duration": 567,
    "start_time": "2023-05-16T13:24:14.982Z"
   },
   {
    "duration": 549,
    "start_time": "2023-05-16T13:24:19.287Z"
   },
   {
    "duration": 3,
    "start_time": "2023-05-16T13:24:42.056Z"
   },
   {
    "duration": 13,
    "start_time": "2023-05-16T13:24:47.451Z"
   },
   {
    "duration": 6454,
    "start_time": "2023-05-16T13:24:52.856Z"
   },
   {
    "duration": 7202,
    "start_time": "2023-05-16T13:25:09.149Z"
   },
   {
    "duration": 6743,
    "start_time": "2023-05-16T13:25:18.457Z"
   },
   {
    "duration": 5836,
    "start_time": "2023-05-16T13:25:42.486Z"
   },
   {
    "duration": 554,
    "start_time": "2023-05-16T13:25:48.324Z"
   },
   {
    "duration": 479,
    "start_time": "2023-05-16T13:27:21.352Z"
   },
   {
    "duration": 254,
    "start_time": "2023-05-16T13:27:31.690Z"
   },
   {
    "duration": 230,
    "start_time": "2023-05-16T13:27:35.152Z"
   },
   {
    "duration": 229,
    "start_time": "2023-05-16T13:27:40.154Z"
   },
   {
    "duration": 241,
    "start_time": "2023-05-16T13:27:43.578Z"
   },
   {
    "duration": 199,
    "start_time": "2023-05-16T13:27:48.214Z"
   },
   {
    "duration": 6,
    "start_time": "2023-05-16T15:28:38.253Z"
   },
   {
    "duration": 5,
    "start_time": "2023-05-16T15:28:49.149Z"
   },
   {
    "duration": 4,
    "start_time": "2023-05-16T15:33:47.547Z"
   },
   {
    "duration": 14,
    "start_time": "2023-05-16T15:34:04.563Z"
   },
   {
    "duration": 5,
    "start_time": "2023-05-16T15:34:08.749Z"
   },
   {
    "duration": 5,
    "start_time": "2023-05-16T15:34:27.651Z"
   },
   {
    "duration": 3,
    "start_time": "2023-05-16T15:35:08.994Z"
   },
   {
    "duration": 5,
    "start_time": "2023-05-16T15:35:09.419Z"
   },
   {
    "duration": 6042,
    "start_time": "2023-05-16T15:46:12.179Z"
   },
   {
    "duration": 5811,
    "start_time": "2023-05-16T15:46:27.933Z"
   },
   {
    "duration": 756,
    "start_time": "2023-05-16T15:56:38.279Z"
   },
   {
    "duration": 561,
    "start_time": "2023-05-16T15:56:42.002Z"
   },
   {
    "duration": 730,
    "start_time": "2023-05-16T15:57:41.802Z"
   },
   {
    "duration": 578,
    "start_time": "2023-05-16T15:57:46.143Z"
   },
   {
    "duration": 189,
    "start_time": "2023-05-16T15:58:38.601Z"
   },
   {
    "duration": 246,
    "start_time": "2023-05-16T16:04:48.398Z"
   },
   {
    "duration": 233,
    "start_time": "2023-05-16T16:04:56.549Z"
   },
   {
    "duration": 224,
    "start_time": "2023-05-16T16:05:18.510Z"
   },
   {
    "duration": 1548,
    "start_time": "2023-05-16T16:18:35.403Z"
   },
   {
    "duration": 5,
    "start_time": "2023-05-16T16:18:36.953Z"
   },
   {
    "duration": 37,
    "start_time": "2023-05-16T16:18:36.960Z"
   },
   {
    "duration": 43,
    "start_time": "2023-05-16T16:18:36.999Z"
   },
   {
    "duration": 3,
    "start_time": "2023-05-16T16:18:37.044Z"
   },
   {
    "duration": 13,
    "start_time": "2023-05-16T16:18:37.048Z"
   },
   {
    "duration": 5612,
    "start_time": "2023-05-16T16:18:37.063Z"
   },
   {
    "duration": 529,
    "start_time": "2023-05-16T16:18:42.677Z"
   },
   {
    "duration": 202,
    "start_time": "2023-05-16T16:18:43.208Z"
   },
   {
    "duration": 236,
    "start_time": "2023-05-16T16:18:43.412Z"
   },
   {
    "duration": 350,
    "start_time": "2023-05-16T16:18:43.649Z"
   },
   {
    "duration": 289,
    "start_time": "2023-05-16T16:18:44.001Z"
   },
   {
    "duration": 270,
    "start_time": "2023-05-16T16:18:44.295Z"
   },
   {
    "duration": 289,
    "start_time": "2023-05-16T16:18:44.568Z"
   },
   {
    "duration": 4,
    "start_time": "2023-05-16T16:18:44.859Z"
   },
   {
    "duration": 9,
    "start_time": "2023-05-16T16:18:44.864Z"
   },
   {
    "duration": 112,
    "start_time": "2023-05-16T16:18:44.874Z"
   },
   {
    "duration": 80,
    "start_time": "2023-05-16T16:18:44.987Z"
   },
   {
    "duration": 4,
    "start_time": "2023-05-16T16:18:45.069Z"
   },
   {
    "duration": 3,
    "start_time": "2023-05-16T16:23:48.574Z"
   },
   {
    "duration": 1460,
    "start_time": "2023-05-16T16:25:45.518Z"
   },
   {
    "duration": 6,
    "start_time": "2023-05-16T16:25:46.979Z"
   },
   {
    "duration": 37,
    "start_time": "2023-05-16T16:25:46.987Z"
   },
   {
    "duration": 48,
    "start_time": "2023-05-16T16:25:47.026Z"
   },
   {
    "duration": 3,
    "start_time": "2023-05-16T16:25:47.077Z"
   },
   {
    "duration": 12,
    "start_time": "2023-05-16T16:25:47.082Z"
   },
   {
    "duration": 5741,
    "start_time": "2023-05-16T16:25:47.095Z"
   },
   {
    "duration": 531,
    "start_time": "2023-05-16T16:25:52.837Z"
   },
   {
    "duration": 202,
    "start_time": "2023-05-16T16:25:53.370Z"
   },
   {
    "duration": 233,
    "start_time": "2023-05-16T16:25:53.574Z"
   },
   {
    "duration": 342,
    "start_time": "2023-05-16T16:25:53.808Z"
   },
   {
    "duration": 248,
    "start_time": "2023-05-16T16:25:54.151Z"
   },
   {
    "duration": 271,
    "start_time": "2023-05-16T16:25:54.400Z"
   },
   {
    "duration": 228,
    "start_time": "2023-05-16T16:25:54.674Z"
   },
   {
    "duration": 5,
    "start_time": "2023-05-16T16:25:54.903Z"
   },
   {
    "duration": 7,
    "start_time": "2023-05-16T16:25:54.910Z"
   },
   {
    "duration": 79,
    "start_time": "2023-05-16T16:25:54.919Z"
   },
   {
    "duration": 4,
    "start_time": "2023-05-16T16:25:55.000Z"
   },
   {
    "duration": 93,
    "start_time": "2023-05-16T16:25:55.006Z"
   },
   {
    "duration": 17,
    "start_time": "2023-05-16T16:25:55.101Z"
   },
   {
    "duration": 9,
    "start_time": "2023-05-16T16:25:55.119Z"
   },
   {
    "duration": 6,
    "start_time": "2023-05-16T16:25:55.129Z"
   },
   {
    "duration": 9,
    "start_time": "2023-05-16T16:25:55.136Z"
   },
   {
    "duration": 7,
    "start_time": "2023-05-16T16:25:55.146Z"
   },
   {
    "duration": 7,
    "start_time": "2023-05-16T16:25:55.154Z"
   },
   {
    "duration": 5,
    "start_time": "2023-05-16T16:25:55.162Z"
   },
   {
    "duration": 6,
    "start_time": "2023-05-16T16:25:55.168Z"
   },
   {
    "duration": 5,
    "start_time": "2023-05-16T16:26:13.598Z"
   },
   {
    "duration": 1360,
    "start_time": "2023-05-16T16:26:23.077Z"
   },
   {
    "duration": 5,
    "start_time": "2023-05-16T16:26:24.439Z"
   },
   {
    "duration": 73,
    "start_time": "2023-05-16T16:26:24.446Z"
   },
   {
    "duration": 84,
    "start_time": "2023-05-16T16:26:24.520Z"
   },
   {
    "duration": 4,
    "start_time": "2023-05-16T16:26:24.605Z"
   },
   {
    "duration": 50,
    "start_time": "2023-05-16T16:26:24.611Z"
   },
   {
    "duration": 5721,
    "start_time": "2023-05-16T16:26:24.663Z"
   },
   {
    "duration": 588,
    "start_time": "2023-05-16T16:26:30.386Z"
   },
   {
    "duration": 204,
    "start_time": "2023-05-16T16:26:30.976Z"
   },
   {
    "duration": 237,
    "start_time": "2023-05-16T16:26:31.182Z"
   },
   {
    "duration": 349,
    "start_time": "2023-05-16T16:26:31.421Z"
   },
   {
    "duration": 255,
    "start_time": "2023-05-16T16:26:31.772Z"
   },
   {
    "duration": 254,
    "start_time": "2023-05-16T16:26:32.029Z"
   },
   {
    "duration": 232,
    "start_time": "2023-05-16T16:26:32.294Z"
   },
   {
    "duration": 6,
    "start_time": "2023-05-16T16:26:32.527Z"
   },
   {
    "duration": 63,
    "start_time": "2023-05-16T16:26:32.535Z"
   },
   {
    "duration": 13,
    "start_time": "2023-05-16T16:26:32.600Z"
   },
   {
    "duration": 81,
    "start_time": "2023-05-16T16:26:32.615Z"
   },
   {
    "duration": 11,
    "start_time": "2023-05-16T16:26:32.698Z"
   },
   {
    "duration": 8,
    "start_time": "2023-05-16T16:26:32.710Z"
   },
   {
    "duration": 9,
    "start_time": "2023-05-16T16:26:32.719Z"
   },
   {
    "duration": 4,
    "start_time": "2023-05-16T16:26:32.729Z"
   },
   {
    "duration": 6,
    "start_time": "2023-05-16T16:26:32.734Z"
   },
   {
    "duration": 6,
    "start_time": "2023-05-16T16:26:32.742Z"
   },
   {
    "duration": 7,
    "start_time": "2023-05-16T16:26:32.749Z"
   },
   {
    "duration": 4,
    "start_time": "2023-05-16T16:26:32.758Z"
   },
   {
    "duration": 34,
    "start_time": "2023-05-16T16:26:32.763Z"
   },
   {
    "duration": 3,
    "start_time": "2023-05-16T16:58:02.509Z"
   },
   {
    "duration": 1592,
    "start_time": "2023-05-16T17:03:15.018Z"
   },
   {
    "duration": 6,
    "start_time": "2023-05-16T17:03:16.612Z"
   },
   {
    "duration": 51,
    "start_time": "2023-05-16T17:03:16.619Z"
   },
   {
    "duration": 48,
    "start_time": "2023-05-16T17:03:16.671Z"
   },
   {
    "duration": 4,
    "start_time": "2023-05-16T17:03:16.721Z"
   },
   {
    "duration": 13,
    "start_time": "2023-05-16T17:03:16.726Z"
   },
   {
    "duration": 5767,
    "start_time": "2023-05-16T17:03:16.740Z"
   },
   {
    "duration": 566,
    "start_time": "2023-05-16T17:03:22.509Z"
   },
   {
    "duration": 203,
    "start_time": "2023-05-16T17:03:23.076Z"
   },
   {
    "duration": 225,
    "start_time": "2023-05-16T17:03:23.280Z"
   },
   {
    "duration": 366,
    "start_time": "2023-05-16T17:03:23.507Z"
   },
   {
    "duration": 243,
    "start_time": "2023-05-16T17:03:23.874Z"
   },
   {
    "duration": 228,
    "start_time": "2023-05-16T17:03:24.118Z"
   },
   {
    "duration": 247,
    "start_time": "2023-05-16T17:03:24.348Z"
   },
   {
    "duration": 4,
    "start_time": "2023-05-16T17:03:24.596Z"
   },
   {
    "duration": 285,
    "start_time": "2023-05-16T17:03:24.602Z"
   },
   {
    "duration": 307,
    "start_time": "2023-05-16T17:03:24.889Z"
   },
   {
    "duration": 9,
    "start_time": "2023-05-16T17:03:25.198Z"
   },
   {
    "duration": 16,
    "start_time": "2023-05-16T17:03:25.209Z"
   },
   {
    "duration": 20,
    "start_time": "2023-05-16T17:03:25.227Z"
   },
   {
    "duration": 13,
    "start_time": "2023-05-16T17:03:25.248Z"
   },
   {
    "duration": 24,
    "start_time": "2023-05-16T17:03:25.262Z"
   },
   {
    "duration": 12,
    "start_time": "2023-05-16T17:03:25.288Z"
   },
   {
    "duration": 11,
    "start_time": "2023-05-16T17:03:25.302Z"
   },
   {
    "duration": 9,
    "start_time": "2023-05-16T17:03:25.315Z"
   },
   {
    "duration": 9,
    "start_time": "2023-05-16T17:03:25.326Z"
   },
   {
    "duration": 9,
    "start_time": "2023-05-16T17:03:25.336Z"
   },
   {
    "duration": 12,
    "start_time": "2023-05-16T17:03:25.346Z"
   },
   {
    "duration": 167,
    "start_time": "2023-05-16T17:03:25.359Z"
   },
   {
    "duration": 25,
    "start_time": "2023-05-16T17:03:52.745Z"
   },
   {
    "duration": 35,
    "start_time": "2023-05-16T17:04:08.152Z"
   },
   {
    "duration": 4,
    "start_time": "2023-05-16T17:04:53.020Z"
   },
   {
    "duration": 603,
    "start_time": "2023-05-16T17:05:02.347Z"
   },
   {
    "duration": 94,
    "start_time": "2023-05-16T17:05:28.951Z"
   },
   {
    "duration": 14,
    "start_time": "2023-05-16T17:05:34.255Z"
   },
   {
    "duration": 57,
    "start_time": "2023-05-16T17:05:48.007Z"
   },
   {
    "duration": 3,
    "start_time": "2023-05-16T17:08:10.348Z"
   },
   {
    "duration": 70,
    "start_time": "2023-05-16T17:08:16.488Z"
   },
   {
    "duration": 11,
    "start_time": "2023-05-16T17:08:34.320Z"
   },
   {
    "duration": 3,
    "start_time": "2023-05-16T17:09:04.456Z"
   },
   {
    "duration": 93,
    "start_time": "2023-05-16T17:09:15.217Z"
   },
   {
    "duration": 212,
    "start_time": "2023-05-16T17:10:12.101Z"
   },
   {
    "duration": 1314,
    "start_time": "2023-05-16T17:11:07.955Z"
   },
   {
    "duration": 6,
    "start_time": "2023-05-16T17:11:09.271Z"
   },
   {
    "duration": 47,
    "start_time": "2023-05-16T17:11:09.279Z"
   },
   {
    "duration": 49,
    "start_time": "2023-05-16T17:11:09.327Z"
   },
   {
    "duration": 4,
    "start_time": "2023-05-16T17:11:09.378Z"
   },
   {
    "duration": 30,
    "start_time": "2023-05-16T17:11:09.384Z"
   },
   {
    "duration": 6092,
    "start_time": "2023-05-16T17:11:09.416Z"
   },
   {
    "duration": 600,
    "start_time": "2023-05-16T17:11:15.510Z"
   },
   {
    "duration": 242,
    "start_time": "2023-05-16T17:11:16.112Z"
   },
   {
    "duration": 261,
    "start_time": "2023-05-16T17:11:16.356Z"
   },
   {
    "duration": 366,
    "start_time": "2023-05-16T17:11:16.619Z"
   },
   {
    "duration": 272,
    "start_time": "2023-05-16T17:11:16.986Z"
   },
   {
    "duration": 243,
    "start_time": "2023-05-16T17:11:17.260Z"
   },
   {
    "duration": 236,
    "start_time": "2023-05-16T17:11:17.506Z"
   },
   {
    "duration": 3,
    "start_time": "2023-05-16T17:11:17.744Z"
   },
   {
    "duration": 147,
    "start_time": "2023-05-16T17:11:17.749Z"
   },
   {
    "duration": 80,
    "start_time": "2023-05-16T17:11:17.898Z"
   },
   {
    "duration": 7,
    "start_time": "2023-05-16T17:11:17.980Z"
   },
   {
    "duration": 6,
    "start_time": "2023-05-16T17:11:17.988Z"
   },
   {
    "duration": 11,
    "start_time": "2023-05-16T17:11:17.996Z"
   },
   {
    "duration": 6,
    "start_time": "2023-05-16T17:11:18.009Z"
   },
   {
    "duration": 9,
    "start_time": "2023-05-16T17:11:18.016Z"
   },
   {
    "duration": 3,
    "start_time": "2023-05-16T17:11:18.027Z"
   },
   {
    "duration": 7,
    "start_time": "2023-05-16T17:11:18.032Z"
   },
   {
    "duration": 6,
    "start_time": "2023-05-16T17:11:18.041Z"
   },
   {
    "duration": 11,
    "start_time": "2023-05-16T17:11:18.049Z"
   },
   {
    "duration": 4,
    "start_time": "2023-05-16T17:11:18.062Z"
   },
   {
    "duration": 28,
    "start_time": "2023-05-16T17:11:18.067Z"
   },
   {
    "duration": 179,
    "start_time": "2023-05-16T17:11:18.097Z"
   },
   {
    "duration": 3,
    "start_time": "2023-05-16T17:12:55.249Z"
   },
   {
    "duration": 3,
    "start_time": "2023-05-16T17:13:02.292Z"
   },
   {
    "duration": 3,
    "start_time": "2023-05-16T17:13:05.545Z"
   },
   {
    "duration": 54,
    "start_time": "2023-05-16T17:13:08.275Z"
   },
   {
    "duration": 1543,
    "start_time": "2023-05-16T17:13:34.688Z"
   },
   {
    "duration": 6,
    "start_time": "2023-05-16T17:13:36.233Z"
   },
   {
    "duration": 39,
    "start_time": "2023-05-16T17:13:36.240Z"
   },
   {
    "duration": 48,
    "start_time": "2023-05-16T17:13:36.281Z"
   },
   {
    "duration": 3,
    "start_time": "2023-05-16T17:13:36.331Z"
   },
   {
    "duration": 7,
    "start_time": "2023-05-16T17:13:36.336Z"
   },
   {
    "duration": 6192,
    "start_time": "2023-05-16T17:13:36.344Z"
   },
   {
    "duration": 545,
    "start_time": "2023-05-16T17:13:42.538Z"
   },
   {
    "duration": 207,
    "start_time": "2023-05-16T17:13:43.085Z"
   },
   {
    "duration": 244,
    "start_time": "2023-05-16T17:13:43.295Z"
   },
   {
    "duration": 349,
    "start_time": "2023-05-16T17:13:43.541Z"
   },
   {
    "duration": 243,
    "start_time": "2023-05-16T17:13:43.894Z"
   },
   {
    "duration": 236,
    "start_time": "2023-05-16T17:13:44.138Z"
   },
   {
    "duration": 286,
    "start_time": "2023-05-16T17:13:44.376Z"
   },
   {
    "duration": 6,
    "start_time": "2023-05-16T17:13:44.664Z"
   },
   {
    "duration": 271,
    "start_time": "2023-05-16T17:13:44.674Z"
   },
   {
    "duration": 141,
    "start_time": "2023-05-16T17:13:44.947Z"
   },
   {
    "duration": 8,
    "start_time": "2023-05-16T17:13:45.090Z"
   },
   {
    "duration": 5,
    "start_time": "2023-05-16T17:13:45.100Z"
   },
   {
    "duration": 18,
    "start_time": "2023-05-16T17:13:45.106Z"
   },
   {
    "duration": 15,
    "start_time": "2023-05-16T17:13:45.125Z"
   },
   {
    "duration": 13,
    "start_time": "2023-05-16T17:13:45.141Z"
   },
   {
    "duration": 6,
    "start_time": "2023-05-16T17:13:45.155Z"
   },
   {
    "duration": 8,
    "start_time": "2023-05-16T17:13:45.162Z"
   },
   {
    "duration": 8,
    "start_time": "2023-05-16T17:13:45.171Z"
   },
   {
    "duration": 10,
    "start_time": "2023-05-16T17:13:45.180Z"
   },
   {
    "duration": 6,
    "start_time": "2023-05-16T17:13:45.191Z"
   },
   {
    "duration": 6,
    "start_time": "2023-05-16T17:13:45.200Z"
   },
   {
    "duration": 83,
    "start_time": "2023-05-16T17:13:45.207Z"
   },
   {
    "duration": 4,
    "start_time": "2023-05-16T17:14:18.736Z"
   },
   {
    "duration": 92,
    "start_time": "2023-05-16T17:14:21.095Z"
   },
   {
    "duration": 7,
    "start_time": "2023-05-16T17:16:14.757Z"
   },
   {
    "duration": 95,
    "start_time": "2023-05-16T17:16:17.851Z"
   },
   {
    "duration": 4,
    "start_time": "2023-05-16T17:16:29.295Z"
   },
   {
    "duration": 122,
    "start_time": "2023-05-16T17:16:32.711Z"
   },
   {
    "duration": 3,
    "start_time": "2023-05-16T17:16:49.555Z"
   },
   {
    "duration": 59,
    "start_time": "2023-05-16T17:17:43.120Z"
   },
   {
    "duration": 14,
    "start_time": "2023-05-16T17:17:50.084Z"
   },
   {
    "duration": 14,
    "start_time": "2023-05-16T17:17:58.787Z"
   },
   {
    "duration": 13,
    "start_time": "2023-05-16T17:18:11.314Z"
   },
   {
    "duration": 15,
    "start_time": "2023-05-16T17:18:16.112Z"
   },
   {
    "duration": 4,
    "start_time": "2023-05-16T17:19:01.741Z"
   },
   {
    "duration": 4,
    "start_time": "2023-05-16T17:19:04.920Z"
   },
   {
    "duration": 5,
    "start_time": "2023-05-16T17:19:23.248Z"
   },
   {
    "duration": 4,
    "start_time": "2023-05-16T17:19:35.096Z"
   },
   {
    "duration": 104,
    "start_time": "2023-05-16T17:20:21.424Z"
   },
   {
    "duration": 12,
    "start_time": "2023-05-16T17:20:34.471Z"
   },
   {
    "duration": 4,
    "start_time": "2023-05-16T17:22:05.740Z"
   },
   {
    "duration": 4,
    "start_time": "2023-05-16T17:22:22.598Z"
   },
   {
    "duration": 4,
    "start_time": "2023-05-16T17:22:44.345Z"
   },
   {
    "duration": 75,
    "start_time": "2023-05-16T17:22:48.941Z"
   },
   {
    "duration": 4,
    "start_time": "2023-05-16T17:23:29.319Z"
   },
   {
    "duration": 236,
    "start_time": "2023-05-16T17:23:32.395Z"
   },
   {
    "duration": 5,
    "start_time": "2023-05-16T17:24:06.607Z"
   },
   {
    "duration": 63,
    "start_time": "2023-05-16T17:24:08.735Z"
   },
   {
    "duration": 3,
    "start_time": "2023-05-16T17:24:39.148Z"
   },
   {
    "duration": 64,
    "start_time": "2023-05-16T17:24:42.200Z"
   },
   {
    "duration": 4,
    "start_time": "2023-05-16T17:25:42.090Z"
   },
   {
    "duration": 61,
    "start_time": "2023-05-16T17:25:45.502Z"
   },
   {
    "duration": 10,
    "start_time": "2023-05-16T17:25:53.887Z"
   },
   {
    "duration": 10,
    "start_time": "2023-05-16T17:26:18.979Z"
   },
   {
    "duration": 15,
    "start_time": "2023-05-16T17:36:53.800Z"
   },
   {
    "duration": 15,
    "start_time": "2023-05-16T17:37:22.483Z"
   },
   {
    "duration": 105,
    "start_time": "2023-05-16T17:38:01.241Z"
   },
   {
    "duration": 14,
    "start_time": "2023-05-16T17:38:01.735Z"
   },
   {
    "duration": 14,
    "start_time": "2023-05-16T17:38:11.204Z"
   },
   {
    "duration": 10,
    "start_time": "2023-05-16T17:38:40.934Z"
   },
   {
    "duration": 10,
    "start_time": "2023-05-16T17:39:09.606Z"
   },
   {
    "duration": 11,
    "start_time": "2023-05-16T17:39:21.457Z"
   },
   {
    "duration": 6,
    "start_time": "2023-05-16T17:41:47.779Z"
   },
   {
    "duration": 9,
    "start_time": "2023-05-16T17:41:51.587Z"
   },
   {
    "duration": 13,
    "start_time": "2023-05-16T17:41:54.843Z"
   },
   {
    "duration": 12,
    "start_time": "2023-05-16T17:41:55.207Z"
   },
   {
    "duration": 4,
    "start_time": "2023-05-16T17:42:52.873Z"
   },
   {
    "duration": 78,
    "start_time": "2023-05-16T17:42:57.652Z"
   },
   {
    "duration": 4,
    "start_time": "2023-05-16T17:43:08.500Z"
   },
   {
    "duration": 60,
    "start_time": "2023-05-16T17:43:15.847Z"
   },
   {
    "duration": 4,
    "start_time": "2023-05-16T17:43:41.818Z"
   },
   {
    "duration": 50,
    "start_time": "2023-05-16T17:43:48.090Z"
   },
   {
    "duration": 10,
    "start_time": "2023-05-16T17:43:56.524Z"
   },
   {
    "duration": 12,
    "start_time": "2023-05-16T17:44:01.689Z"
   },
   {
    "duration": 4,
    "start_time": "2023-05-16T17:48:25.181Z"
   },
   {
    "duration": 5,
    "start_time": "2023-05-16T17:48:57.177Z"
   },
   {
    "duration": 4,
    "start_time": "2023-05-16T17:59:00.323Z"
   },
   {
    "duration": 105,
    "start_time": "2023-05-16T17:59:05.490Z"
   },
   {
    "duration": 13,
    "start_time": "2023-05-16T17:59:10.240Z"
   },
   {
    "duration": 16,
    "start_time": "2023-05-16T17:59:20.436Z"
   },
   {
    "duration": 5,
    "start_time": "2023-05-16T17:59:34.363Z"
   },
   {
    "duration": 5,
    "start_time": "2023-05-16T17:59:57.225Z"
   },
   {
    "duration": 303,
    "start_time": "2023-05-16T18:00:02.945Z"
   },
   {
    "duration": 6,
    "start_time": "2023-05-16T18:00:04.497Z"
   },
   {
    "duration": 13,
    "start_time": "2023-05-16T18:00:08.004Z"
   },
   {
    "duration": 13,
    "start_time": "2023-05-16T18:00:08.499Z"
   },
   {
    "duration": 161,
    "start_time": "2023-05-16T18:00:21.901Z"
   },
   {
    "duration": 13,
    "start_time": "2023-05-16T18:00:24.316Z"
   },
   {
    "duration": 13,
    "start_time": "2023-05-16T18:00:24.916Z"
   },
   {
    "duration": 11,
    "start_time": "2023-05-16T18:00:53.791Z"
   },
   {
    "duration": 161,
    "start_time": "2023-05-16T18:01:00.383Z"
   },
   {
    "duration": 11,
    "start_time": "2023-05-16T18:01:03.163Z"
   },
   {
    "duration": 4,
    "start_time": "2023-05-16T18:01:22.375Z"
   },
   {
    "duration": 4,
    "start_time": "2023-05-16T18:02:03.087Z"
   },
   {
    "duration": 15,
    "start_time": "2023-05-16T18:02:15.216Z"
   },
   {
    "duration": 4,
    "start_time": "2023-05-16T18:03:22.545Z"
   },
   {
    "duration": 55,
    "start_time": "2023-05-16T18:03:25.932Z"
   },
   {
    "duration": 5,
    "start_time": "2023-05-16T18:03:36.887Z"
   },
   {
    "duration": 6,
    "start_time": "2023-05-16T18:03:38.482Z"
   },
   {
    "duration": 11,
    "start_time": "2023-05-16T18:03:42.202Z"
   },
   {
    "duration": 13,
    "start_time": "2023-05-16T18:03:42.919Z"
   },
   {
    "duration": 3,
    "start_time": "2023-05-16T18:04:04.779Z"
   },
   {
    "duration": 70,
    "start_time": "2023-05-16T18:04:23.421Z"
   },
   {
    "duration": 4,
    "start_time": "2023-05-16T18:04:23.985Z"
   },
   {
    "duration": 6,
    "start_time": "2023-05-16T18:04:24.720Z"
   },
   {
    "duration": 11,
    "start_time": "2023-05-16T18:04:26.208Z"
   },
   {
    "duration": 13,
    "start_time": "2023-05-16T18:04:27.008Z"
   },
   {
    "duration": 5461,
    "start_time": "2023-05-16T18:05:02.145Z"
   },
   {
    "duration": 5,
    "start_time": "2023-05-16T18:05:17.639Z"
   },
   {
    "duration": 5,
    "start_time": "2023-05-16T18:05:48.879Z"
   },
   {
    "duration": 64,
    "start_time": "2023-05-16T18:05:59.147Z"
   },
   {
    "duration": 5,
    "start_time": "2023-05-16T18:05:59.413Z"
   },
   {
    "duration": 5,
    "start_time": "2023-05-16T18:06:00.036Z"
   },
   {
    "duration": 12,
    "start_time": "2023-05-16T18:06:01.202Z"
   },
   {
    "duration": 13,
    "start_time": "2023-05-16T18:06:01.537Z"
   },
   {
    "duration": 5,
    "start_time": "2023-05-16T18:06:03.634Z"
   },
   {
    "duration": 1345,
    "start_time": "2023-05-16T18:06:38.087Z"
   },
   {
    "duration": 5,
    "start_time": "2023-05-16T18:06:39.433Z"
   },
   {
    "duration": 37,
    "start_time": "2023-05-16T18:06:39.440Z"
   },
   {
    "duration": 46,
    "start_time": "2023-05-16T18:06:39.478Z"
   },
   {
    "duration": 3,
    "start_time": "2023-05-16T18:06:39.526Z"
   },
   {
    "duration": 6,
    "start_time": "2023-05-16T18:06:39.531Z"
   },
   {
    "duration": 5766,
    "start_time": "2023-05-16T18:06:39.538Z"
   },
   {
    "duration": 545,
    "start_time": "2023-05-16T18:06:45.305Z"
   },
   {
    "duration": 233,
    "start_time": "2023-05-16T18:06:45.852Z"
   },
   {
    "duration": 237,
    "start_time": "2023-05-16T18:06:46.087Z"
   },
   {
    "duration": 353,
    "start_time": "2023-05-16T18:06:46.325Z"
   },
   {
    "duration": 237,
    "start_time": "2023-05-16T18:06:46.679Z"
   },
   {
    "duration": 240,
    "start_time": "2023-05-16T18:06:46.918Z"
   },
   {
    "duration": 220,
    "start_time": "2023-05-16T18:06:47.161Z"
   },
   {
    "duration": 3,
    "start_time": "2023-05-16T18:06:47.383Z"
   },
   {
    "duration": 202,
    "start_time": "2023-05-16T18:06:47.394Z"
   },
   {
    "duration": 66,
    "start_time": "2023-05-16T18:06:47.598Z"
   },
   {
    "duration": 7,
    "start_time": "2023-05-16T18:06:47.666Z"
   },
   {
    "duration": 5,
    "start_time": "2023-05-16T18:06:47.675Z"
   },
   {
    "duration": 12,
    "start_time": "2023-05-16T18:06:47.681Z"
   },
   {
    "duration": 8,
    "start_time": "2023-05-16T18:06:47.694Z"
   },
   {
    "duration": 8,
    "start_time": "2023-05-16T18:06:47.703Z"
   },
   {
    "duration": 4,
    "start_time": "2023-05-16T18:06:47.712Z"
   },
   {
    "duration": 7,
    "start_time": "2023-05-16T18:06:47.717Z"
   },
   {
    "duration": 26,
    "start_time": "2023-05-16T18:06:47.725Z"
   },
   {
    "duration": 10,
    "start_time": "2023-05-16T18:06:47.753Z"
   },
   {
    "duration": 12,
    "start_time": "2023-05-16T18:06:47.765Z"
   },
   {
    "duration": 5,
    "start_time": "2023-05-16T18:06:47.779Z"
   },
   {
    "duration": 12,
    "start_time": "2023-05-16T18:06:47.785Z"
   },
   {
    "duration": 78,
    "start_time": "2023-05-16T18:06:47.798Z"
   },
   {
    "duration": 5,
    "start_time": "2023-05-16T18:06:47.877Z"
   },
   {
    "duration": 13,
    "start_time": "2023-05-16T18:06:47.884Z"
   },
   {
    "duration": 16,
    "start_time": "2023-05-16T18:06:47.898Z"
   },
   {
    "duration": 12,
    "start_time": "2023-05-16T18:06:47.997Z"
   },
   {
    "duration": 6,
    "start_time": "2023-05-16T18:06:48.011Z"
   },
   {
    "duration": 4,
    "start_time": "2023-05-16T18:07:41.249Z"
   },
   {
    "duration": 66,
    "start_time": "2023-05-16T18:07:44.792Z"
   },
   {
    "duration": 5,
    "start_time": "2023-05-16T18:07:45.079Z"
   },
   {
    "duration": 4,
    "start_time": "2023-05-16T18:07:45.639Z"
   },
   {
    "duration": 13,
    "start_time": "2023-05-16T18:07:46.803Z"
   },
   {
    "duration": 11,
    "start_time": "2023-05-16T18:07:47.047Z"
   },
   {
    "duration": 5,
    "start_time": "2023-05-16T18:07:50.963Z"
   },
   {
    "duration": 87,
    "start_time": "2023-05-16T18:26:35.153Z"
   },
   {
    "duration": 169,
    "start_time": "2023-05-16T18:26:46.339Z"
   },
   {
    "duration": 101,
    "start_time": "2023-05-16T18:27:04.591Z"
   },
   {
    "duration": 103,
    "start_time": "2023-05-16T18:27:34.611Z"
   },
   {
    "duration": 1344,
    "start_time": "2023-05-16T18:27:53.996Z"
   },
   {
    "duration": 5,
    "start_time": "2023-05-16T18:27:55.344Z"
   },
   {
    "duration": 36,
    "start_time": "2023-05-16T18:27:55.351Z"
   },
   {
    "duration": 44,
    "start_time": "2023-05-16T18:27:55.388Z"
   },
   {
    "duration": 3,
    "start_time": "2023-05-16T18:27:55.434Z"
   },
   {
    "duration": 8,
    "start_time": "2023-05-16T18:27:55.439Z"
   },
   {
    "duration": 6104,
    "start_time": "2023-05-16T18:27:55.448Z"
   },
   {
    "duration": 676,
    "start_time": "2023-05-16T18:28:01.554Z"
   },
   {
    "duration": 243,
    "start_time": "2023-05-16T18:28:02.231Z"
   },
   {
    "duration": 254,
    "start_time": "2023-05-16T18:28:02.476Z"
   },
   {
    "duration": 358,
    "start_time": "2023-05-16T18:28:02.731Z"
   },
   {
    "duration": 266,
    "start_time": "2023-05-16T18:28:03.094Z"
   },
   {
    "duration": 235,
    "start_time": "2023-05-16T18:28:03.362Z"
   },
   {
    "duration": 223,
    "start_time": "2023-05-16T18:28:03.600Z"
   },
   {
    "duration": 4,
    "start_time": "2023-05-16T18:28:03.825Z"
   },
   {
    "duration": 165,
    "start_time": "2023-05-16T18:28:03.830Z"
   },
   {
    "duration": 179,
    "start_time": "2023-05-16T18:28:03.996Z"
   },
   {
    "duration": 8,
    "start_time": "2023-05-16T18:28:04.176Z"
   },
   {
    "duration": 16,
    "start_time": "2023-05-16T18:28:04.186Z"
   },
   {
    "duration": 11,
    "start_time": "2023-05-16T18:28:04.203Z"
   },
   {
    "duration": 12,
    "start_time": "2023-05-16T18:28:04.216Z"
   },
   {
    "duration": 8,
    "start_time": "2023-05-16T18:28:04.230Z"
   },
   {
    "duration": 7,
    "start_time": "2023-05-16T18:28:04.240Z"
   },
   {
    "duration": 12,
    "start_time": "2023-05-16T18:28:04.248Z"
   },
   {
    "duration": 7,
    "start_time": "2023-05-16T18:28:04.261Z"
   },
   {
    "duration": 9,
    "start_time": "2023-05-16T18:28:04.269Z"
   },
   {
    "duration": 17,
    "start_time": "2023-05-16T18:28:04.279Z"
   },
   {
    "duration": 4,
    "start_time": "2023-05-16T18:28:04.298Z"
   },
   {
    "duration": 99,
    "start_time": "2023-05-16T18:28:04.304Z"
   },
   {
    "duration": 321,
    "start_time": "2023-05-16T18:28:04.404Z"
   },
   {
    "duration": 0,
    "start_time": "2023-05-16T18:28:04.727Z"
   },
   {
    "duration": 0,
    "start_time": "2023-05-16T18:28:04.728Z"
   },
   {
    "duration": 13,
    "start_time": "2023-05-16T18:28:40.508Z"
   },
   {
    "duration": 13,
    "start_time": "2023-05-16T18:28:41.644Z"
   },
   {
    "duration": 73,
    "start_time": "2023-05-16T18:28:42.936Z"
   },
   {
    "duration": 6,
    "start_time": "2023-05-16T18:29:05.011Z"
   },
   {
    "duration": 98,
    "start_time": "2023-05-16T18:29:25.587Z"
   },
   {
    "duration": 151,
    "start_time": "2023-05-16T18:29:33.013Z"
   },
   {
    "duration": 99,
    "start_time": "2023-05-16T18:29:40.458Z"
   },
   {
    "duration": 6,
    "start_time": "2023-05-16T18:29:59.909Z"
   },
   {
    "duration": 1290,
    "start_time": "2023-05-16T18:38:15.442Z"
   },
   {
    "duration": 5,
    "start_time": "2023-05-16T18:38:16.733Z"
   },
   {
    "duration": 39,
    "start_time": "2023-05-16T18:38:16.740Z"
   },
   {
    "duration": 46,
    "start_time": "2023-05-16T18:38:16.780Z"
   },
   {
    "duration": 3,
    "start_time": "2023-05-16T18:38:16.828Z"
   },
   {
    "duration": 9,
    "start_time": "2023-05-16T18:38:16.832Z"
   },
   {
    "duration": 5781,
    "start_time": "2023-05-16T18:38:16.843Z"
   },
   {
    "duration": 542,
    "start_time": "2023-05-16T18:38:22.625Z"
   },
   {
    "duration": 202,
    "start_time": "2023-05-16T18:38:23.169Z"
   },
   {
    "duration": 226,
    "start_time": "2023-05-16T18:38:23.373Z"
   },
   {
    "duration": 340,
    "start_time": "2023-05-16T18:38:23.600Z"
   },
   {
    "duration": 235,
    "start_time": "2023-05-16T18:38:23.942Z"
   },
   {
    "duration": 228,
    "start_time": "2023-05-16T18:38:24.179Z"
   },
   {
    "duration": 260,
    "start_time": "2023-05-16T18:38:24.411Z"
   },
   {
    "duration": 5,
    "start_time": "2023-05-16T18:38:24.673Z"
   },
   {
    "duration": 216,
    "start_time": "2023-05-16T18:38:24.679Z"
   },
   {
    "duration": 96,
    "start_time": "2023-05-16T18:38:24.897Z"
   },
   {
    "duration": 8,
    "start_time": "2023-05-16T18:38:24.995Z"
   },
   {
    "duration": 10,
    "start_time": "2023-05-16T18:38:25.004Z"
   },
   {
    "duration": 11,
    "start_time": "2023-05-16T18:38:25.015Z"
   },
   {
    "duration": 7,
    "start_time": "2023-05-16T18:38:25.028Z"
   },
   {
    "duration": 8,
    "start_time": "2023-05-16T18:38:25.037Z"
   },
   {
    "duration": 5,
    "start_time": "2023-05-16T18:38:25.046Z"
   },
   {
    "duration": 7,
    "start_time": "2023-05-16T18:38:25.052Z"
   },
   {
    "duration": 10,
    "start_time": "2023-05-16T18:38:25.060Z"
   },
   {
    "duration": 12,
    "start_time": "2023-05-16T18:38:25.071Z"
   },
   {
    "duration": 12,
    "start_time": "2023-05-16T18:38:25.084Z"
   },
   {
    "duration": 5,
    "start_time": "2023-05-16T18:38:25.098Z"
   },
   {
    "duration": 141,
    "start_time": "2023-05-16T18:38:25.105Z"
   },
   {
    "duration": 13,
    "start_time": "2023-05-16T18:38:25.247Z"
   },
   {
    "duration": 11,
    "start_time": "2023-05-16T18:38:25.294Z"
   },
   {
    "duration": 89,
    "start_time": "2023-05-16T18:38:25.307Z"
   },
   {
    "duration": 1291,
    "start_time": "2023-05-16T18:43:49.822Z"
   },
   {
    "duration": 6,
    "start_time": "2023-05-16T18:43:51.115Z"
   },
   {
    "duration": 32,
    "start_time": "2023-05-16T18:43:51.123Z"
   },
   {
    "duration": 46,
    "start_time": "2023-05-16T18:43:51.157Z"
   },
   {
    "duration": 3,
    "start_time": "2023-05-16T18:43:51.205Z"
   },
   {
    "duration": 10,
    "start_time": "2023-05-16T18:43:51.209Z"
   },
   {
    "duration": 5663,
    "start_time": "2023-05-16T18:43:51.220Z"
   },
   {
    "duration": 513,
    "start_time": "2023-05-16T18:43:56.885Z"
   },
   {
    "duration": 205,
    "start_time": "2023-05-16T18:43:57.399Z"
   },
   {
    "duration": 231,
    "start_time": "2023-05-16T18:43:57.606Z"
   },
   {
    "duration": 333,
    "start_time": "2023-05-16T18:43:57.839Z"
   },
   {
    "duration": 239,
    "start_time": "2023-05-16T18:43:58.174Z"
   },
   {
    "duration": 240,
    "start_time": "2023-05-16T18:43:58.414Z"
   },
   {
    "duration": 216,
    "start_time": "2023-05-16T18:43:58.656Z"
   },
   {
    "duration": 4,
    "start_time": "2023-05-16T18:43:58.874Z"
   },
   {
    "duration": 143,
    "start_time": "2023-05-16T18:43:58.879Z"
   },
   {
    "duration": 76,
    "start_time": "2023-05-16T18:43:59.024Z"
   },
   {
    "duration": 9,
    "start_time": "2023-05-16T18:43:59.101Z"
   },
   {
    "duration": 6,
    "start_time": "2023-05-16T18:43:59.111Z"
   },
   {
    "duration": 17,
    "start_time": "2023-05-16T18:43:59.119Z"
   },
   {
    "duration": 9,
    "start_time": "2023-05-16T18:43:59.138Z"
   },
   {
    "duration": 10,
    "start_time": "2023-05-16T18:43:59.148Z"
   },
   {
    "duration": 5,
    "start_time": "2023-05-16T18:43:59.159Z"
   },
   {
    "duration": 8,
    "start_time": "2023-05-16T18:43:59.166Z"
   },
   {
    "duration": 8,
    "start_time": "2023-05-16T18:43:59.175Z"
   },
   {
    "duration": 12,
    "start_time": "2023-05-16T18:43:59.185Z"
   },
   {
    "duration": 5,
    "start_time": "2023-05-16T18:43:59.199Z"
   },
   {
    "duration": 7,
    "start_time": "2023-05-16T18:43:59.206Z"
   },
   {
    "duration": 145,
    "start_time": "2023-05-16T18:43:59.214Z"
   },
   {
    "duration": 34,
    "start_time": "2023-05-16T18:43:59.362Z"
   },
   {
    "duration": 13,
    "start_time": "2023-05-16T18:43:59.398Z"
   },
   {
    "duration": 86,
    "start_time": "2023-05-16T18:43:59.412Z"
   },
   {
    "duration": 1378,
    "start_time": "2023-05-16T18:45:44.157Z"
   },
   {
    "duration": 6,
    "start_time": "2023-05-16T18:45:45.536Z"
   },
   {
    "duration": 59,
    "start_time": "2023-05-16T18:45:45.546Z"
   },
   {
    "duration": 50,
    "start_time": "2023-05-16T18:45:45.607Z"
   },
   {
    "duration": 3,
    "start_time": "2023-05-16T18:45:45.659Z"
   },
   {
    "duration": 24,
    "start_time": "2023-05-16T18:45:45.664Z"
   },
   {
    "duration": 5906,
    "start_time": "2023-05-16T18:45:45.690Z"
   },
   {
    "duration": 625,
    "start_time": "2023-05-16T18:45:51.597Z"
   },
   {
    "duration": 211,
    "start_time": "2023-05-16T18:45:52.225Z"
   },
   {
    "duration": 241,
    "start_time": "2023-05-16T18:45:52.439Z"
   },
   {
    "duration": 351,
    "start_time": "2023-05-16T18:45:52.682Z"
   },
   {
    "duration": 238,
    "start_time": "2023-05-16T18:45:53.034Z"
   },
   {
    "duration": 237,
    "start_time": "2023-05-16T18:45:53.273Z"
   },
   {
    "duration": 216,
    "start_time": "2023-05-16T18:45:53.511Z"
   },
   {
    "duration": 4,
    "start_time": "2023-05-16T18:45:53.728Z"
   },
   {
    "duration": 78,
    "start_time": "2023-05-16T18:45:53.733Z"
   },
   {
    "duration": 114,
    "start_time": "2023-05-16T18:45:53.813Z"
   },
   {
    "duration": 8,
    "start_time": "2023-05-16T18:45:53.929Z"
   },
   {
    "duration": 6,
    "start_time": "2023-05-16T18:45:53.938Z"
   },
   {
    "duration": 11,
    "start_time": "2023-05-16T18:45:53.945Z"
   },
   {
    "duration": 11,
    "start_time": "2023-05-16T18:45:53.958Z"
   },
   {
    "duration": 10,
    "start_time": "2023-05-16T18:45:53.971Z"
   },
   {
    "duration": 5,
    "start_time": "2023-05-16T18:45:53.982Z"
   },
   {
    "duration": 7,
    "start_time": "2023-05-16T18:45:53.989Z"
   },
   {
    "duration": 8,
    "start_time": "2023-05-16T18:45:53.998Z"
   },
   {
    "duration": 6,
    "start_time": "2023-05-16T18:45:54.008Z"
   },
   {
    "duration": 5,
    "start_time": "2023-05-16T18:45:54.017Z"
   },
   {
    "duration": 5,
    "start_time": "2023-05-16T18:45:54.024Z"
   },
   {
    "duration": 97,
    "start_time": "2023-05-16T18:45:54.030Z"
   },
   {
    "duration": 13,
    "start_time": "2023-05-16T18:45:54.129Z"
   },
   {
    "duration": 17,
    "start_time": "2023-05-16T18:45:54.195Z"
   },
   {
    "duration": 83,
    "start_time": "2023-05-16T18:45:54.215Z"
   },
   {
    "duration": 2833,
    "start_time": "2023-05-17T13:22:04.455Z"
   },
   {
    "duration": 5,
    "start_time": "2023-05-17T13:22:07.291Z"
   },
   {
    "duration": 41,
    "start_time": "2023-05-17T13:22:07.298Z"
   },
   {
    "duration": 69,
    "start_time": "2023-05-17T13:22:07.341Z"
   },
   {
    "duration": 4,
    "start_time": "2023-05-17T13:22:07.412Z"
   },
   {
    "duration": 10,
    "start_time": "2023-05-17T13:22:07.417Z"
   },
   {
    "duration": 6860,
    "start_time": "2023-05-17T13:22:07.428Z"
   },
   {
    "duration": 628,
    "start_time": "2023-05-17T13:22:14.290Z"
   },
   {
    "duration": 263,
    "start_time": "2023-05-17T13:22:14.920Z"
   },
   {
    "duration": 271,
    "start_time": "2023-05-17T13:22:15.185Z"
   },
   {
    "duration": 430,
    "start_time": "2023-05-17T13:22:15.459Z"
   },
   {
    "duration": 307,
    "start_time": "2023-05-17T13:22:15.890Z"
   },
   {
    "duration": 295,
    "start_time": "2023-05-17T13:22:16.199Z"
   },
   {
    "duration": 275,
    "start_time": "2023-05-17T13:22:16.497Z"
   },
   {
    "duration": 5,
    "start_time": "2023-05-17T13:22:16.775Z"
   },
   {
    "duration": 232,
    "start_time": "2023-05-17T13:22:16.782Z"
   },
   {
    "duration": 200,
    "start_time": "2023-05-17T13:22:17.016Z"
   },
   {
    "duration": 11,
    "start_time": "2023-05-17T13:22:17.218Z"
   },
   {
    "duration": 11,
    "start_time": "2023-05-17T13:22:17.231Z"
   },
   {
    "duration": 30,
    "start_time": "2023-05-17T13:22:17.244Z"
   },
   {
    "duration": 8,
    "start_time": "2023-05-17T13:22:17.277Z"
   },
   {
    "duration": 21,
    "start_time": "2023-05-17T13:22:17.288Z"
   },
   {
    "duration": 5,
    "start_time": "2023-05-17T13:22:17.312Z"
   },
   {
    "duration": 12,
    "start_time": "2023-05-17T13:22:17.318Z"
   },
   {
    "duration": 9,
    "start_time": "2023-05-17T13:22:17.333Z"
   },
   {
    "duration": 20,
    "start_time": "2023-05-17T13:22:17.344Z"
   },
   {
    "duration": 23,
    "start_time": "2023-05-17T13:22:17.366Z"
   },
   {
    "duration": 6,
    "start_time": "2023-05-17T13:22:17.391Z"
   },
   {
    "duration": 137,
    "start_time": "2023-05-17T13:22:17.399Z"
   },
   {
    "duration": 18,
    "start_time": "2023-05-17T13:22:17.538Z"
   },
   {
    "duration": 23,
    "start_time": "2023-05-17T13:22:17.558Z"
   },
   {
    "duration": 79,
    "start_time": "2023-05-17T13:22:17.583Z"
   },
   {
    "duration": 138,
    "start_time": "2023-05-17T17:01:46.086Z"
   },
   {
    "duration": 1322,
    "start_time": "2023-05-17T17:38:53.298Z"
   },
   {
    "duration": 5,
    "start_time": "2023-05-17T17:38:54.622Z"
   },
   {
    "duration": 66,
    "start_time": "2023-05-17T17:38:54.629Z"
   },
   {
    "duration": 54,
    "start_time": "2023-05-17T17:38:54.697Z"
   },
   {
    "duration": 4,
    "start_time": "2023-05-17T17:38:54.754Z"
   },
   {
    "duration": 35,
    "start_time": "2023-05-17T17:38:54.760Z"
   },
   {
    "duration": 5830,
    "start_time": "2023-05-17T17:38:54.798Z"
   },
   {
    "duration": 577,
    "start_time": "2023-05-17T17:39:00.629Z"
   },
   {
    "duration": 224,
    "start_time": "2023-05-17T17:39:01.208Z"
   },
   {
    "duration": 254,
    "start_time": "2023-05-17T17:39:01.433Z"
   },
   {
    "duration": 398,
    "start_time": "2023-05-17T17:39:01.695Z"
   },
   {
    "duration": 267,
    "start_time": "2023-05-17T17:39:02.095Z"
   },
   {
    "duration": 250,
    "start_time": "2023-05-17T17:39:02.364Z"
   },
   {
    "duration": 222,
    "start_time": "2023-05-17T17:39:02.617Z"
   },
   {
    "duration": 4,
    "start_time": "2023-05-17T17:39:02.841Z"
   },
   {
    "duration": 148,
    "start_time": "2023-05-17T17:39:02.847Z"
   },
   {
    "duration": 63,
    "start_time": "2023-05-17T17:39:02.997Z"
   },
   {
    "duration": 8,
    "start_time": "2023-05-17T17:39:03.061Z"
   },
   {
    "duration": 11,
    "start_time": "2023-05-17T17:39:03.071Z"
   },
   {
    "duration": 14,
    "start_time": "2023-05-17T17:39:03.083Z"
   },
   {
    "duration": 11,
    "start_time": "2023-05-17T17:39:03.098Z"
   },
   {
    "duration": 9,
    "start_time": "2023-05-17T17:39:03.111Z"
   },
   {
    "duration": 9,
    "start_time": "2023-05-17T17:39:03.121Z"
   },
   {
    "duration": 9,
    "start_time": "2023-05-17T17:39:03.131Z"
   },
   {
    "duration": 7,
    "start_time": "2023-05-17T17:39:03.142Z"
   },
   {
    "duration": 8,
    "start_time": "2023-05-17T17:39:03.151Z"
   },
   {
    "duration": 10,
    "start_time": "2023-05-17T17:39:03.160Z"
   },
   {
    "duration": 8,
    "start_time": "2023-05-17T17:39:03.171Z"
   },
   {
    "duration": 85,
    "start_time": "2023-05-17T17:39:03.181Z"
   },
   {
    "duration": 30,
    "start_time": "2023-05-17T17:39:03.268Z"
   },
   {
    "duration": 96,
    "start_time": "2023-05-17T17:39:03.300Z"
   },
   {
    "duration": 9,
    "start_time": "2023-05-17T17:39:03.398Z"
   }
  ],
  "kernelspec": {
   "display_name": "Python 3 (ipykernel)",
   "language": "python",
   "name": "python3"
  },
  "language_info": {
   "codemirror_mode": {
    "name": "ipython",
    "version": 3
   },
   "file_extension": ".py",
   "mimetype": "text/x-python",
   "name": "python",
   "nbconvert_exporter": "python",
   "pygments_lexer": "ipython3",
   "version": "3.11.5"
  },
  "toc": {
   "base_numbering": 1,
   "nav_menu": {},
   "number_sections": true,
   "sideBar": true,
   "skip_h1_title": true,
   "title_cell": "Содержание",
   "title_sidebar": "Contents",
   "toc_cell": true,
   "toc_position": {},
   "toc_section_display": true,
   "toc_window_display": false
  }
 },
 "nbformat": 4,
 "nbformat_minor": 2
}
